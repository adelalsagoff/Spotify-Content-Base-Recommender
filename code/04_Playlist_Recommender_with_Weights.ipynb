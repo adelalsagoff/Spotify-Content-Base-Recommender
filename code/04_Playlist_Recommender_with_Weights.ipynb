{
 "cells": [
  {
   "cell_type": "markdown",
   "metadata": {},
   "source": [
    "This notebook focuses on writing code that simulates what recommendations would look like for songs in a playlist. This is recommender is working with the generic (kaggle) dataset and is not using the personalised one made in notebook 03_Personalized_Recommender."
   ]
  },
  {
   "cell_type": "markdown",
   "metadata": {},
   "source": [
    "## Import Libraries"
   ]
  },
  {
   "cell_type": "code",
   "execution_count": 1,
   "metadata": {},
   "outputs": [],
   "source": [
    "import pandas as pd\n",
    "import numpy as np\n",
    "import matplotlib.pyplot as plt\n",
    "\n",
    "from numpy import dot\n",
    "from numpy.linalg import norm\n",
    "\n",
    "from sklearn.preprocessing import StandardScaler"
   ]
  },
  {
   "cell_type": "markdown",
   "metadata": {},
   "source": [
    "Functions from first recommeder notebook will be used. As well as importing the necessary dataframe as it is required for the functions to work."
   ]
  },
  {
   "cell_type": "markdown",
   "metadata": {},
   "source": [
    "## Import Datasets"
   ]
  },
  {
   "cell_type": "code",
   "execution_count": 2,
   "metadata": {},
   "outputs": [],
   "source": [
    "#import data\n",
    "data_df = pd.read_csv('../data/spotify_songs_1922/cleaned_data.csv')"
   ]
  },
  {
   "cell_type": "markdown",
   "metadata": {},
   "source": [
    "### create neccesary dataframes"
   ]
  },
  {
   "cell_type": "code",
   "execution_count": 3,
   "metadata": {},
   "outputs": [],
   "source": [
    "#create dataframe only used to apply cosine similarity calculation on\n",
    "# only take the numerical columns and drop the numerical ones that do not represent audio features\n",
    "data_df_cosim = data_df.select_dtypes(include=['int64','float64']).drop(columns=['year','popularity','explicit'])\n",
    "\n",
    "#concat with id so that we can use the grouby function on it\n",
    "data_df_cosim = pd.concat([data_df_cosim,data_df.id], axis =1)\n"
   ]
  },
  {
   "cell_type": "code",
   "execution_count": 4,
   "metadata": {},
   "outputs": [
    {
     "data": {
      "text/html": [
       "<div>\n",
       "<style scoped>\n",
       "    .dataframe tbody tr th:only-of-type {\n",
       "        vertical-align: middle;\n",
       "    }\n",
       "\n",
       "    .dataframe tbody tr th {\n",
       "        vertical-align: top;\n",
       "    }\n",
       "\n",
       "    .dataframe thead th {\n",
       "        text-align: right;\n",
       "    }\n",
       "</style>\n",
       "<table border=\"1\" class=\"dataframe\">\n",
       "  <thead>\n",
       "    <tr style=\"text-align: right;\">\n",
       "      <th></th>\n",
       "      <th>valence</th>\n",
       "      <th>acousticness</th>\n",
       "      <th>danceability</th>\n",
       "      <th>duration_ms</th>\n",
       "      <th>energy</th>\n",
       "      <th>instrumentalness</th>\n",
       "      <th>key</th>\n",
       "      <th>liveness</th>\n",
       "      <th>loudness</th>\n",
       "      <th>mode</th>\n",
       "      <th>speechiness</th>\n",
       "      <th>tempo</th>\n",
       "    </tr>\n",
       "    <tr>\n",
       "      <th>id</th>\n",
       "      <th></th>\n",
       "      <th></th>\n",
       "      <th></th>\n",
       "      <th></th>\n",
       "      <th></th>\n",
       "      <th></th>\n",
       "      <th></th>\n",
       "      <th></th>\n",
       "      <th></th>\n",
       "      <th></th>\n",
       "      <th></th>\n",
       "      <th></th>\n",
       "    </tr>\n",
       "  </thead>\n",
       "  <tbody>\n",
       "    <tr>\n",
       "      <th>000G1xMMuwxNHmwVsBdtj1</th>\n",
       "      <td>0.555</td>\n",
       "      <td>0.0131</td>\n",
       "      <td>0.256</td>\n",
       "      <td>182347</td>\n",
       "      <td>0.895</td>\n",
       "      <td>0.000106</td>\n",
       "      <td>2</td>\n",
       "      <td>0.0821</td>\n",
       "      <td>-4.860</td>\n",
       "      <td>1</td>\n",
       "      <td>0.0707</td>\n",
       "      <td>191.307</td>\n",
       "    </tr>\n",
       "    <tr>\n",
       "      <th>000GyYHG4uWmlXieKLij8u</th>\n",
       "      <td>0.146</td>\n",
       "      <td>0.4690</td>\n",
       "      <td>0.797</td>\n",
       "      <td>180160</td>\n",
       "      <td>0.898</td>\n",
       "      <td>0.000000</td>\n",
       "      <td>1</td>\n",
       "      <td>0.0824</td>\n",
       "      <td>-5.922</td>\n",
       "      <td>0</td>\n",
       "      <td>0.5200</td>\n",
       "      <td>89.926</td>\n",
       "    </tr>\n",
       "    <tr>\n",
       "      <th>000Npgk5e2SgwGaIsN3ztv</th>\n",
       "      <td>0.494</td>\n",
       "      <td>0.9800</td>\n",
       "      <td>0.277</td>\n",
       "      <td>206972</td>\n",
       "      <td>0.145</td>\n",
       "      <td>0.879000</td>\n",
       "      <td>3</td>\n",
       "      <td>0.1110</td>\n",
       "      <td>-19.898</td>\n",
       "      <td>1</td>\n",
       "      <td>0.0845</td>\n",
       "      <td>75.644</td>\n",
       "    </tr>\n",
       "    <tr>\n",
       "      <th>000ZxLGm7jDlWCHtcXSeBe</th>\n",
       "      <td>0.854</td>\n",
       "      <td>0.7950</td>\n",
       "      <td>0.685</td>\n",
       "      <td>314667</td>\n",
       "      <td>0.483</td>\n",
       "      <td>0.878000</td>\n",
       "      <td>2</td>\n",
       "      <td>0.1130</td>\n",
       "      <td>-10.202</td>\n",
       "      <td>0</td>\n",
       "      <td>0.0337</td>\n",
       "      <td>97.694</td>\n",
       "    </tr>\n",
       "    <tr>\n",
       "      <th>000jBcNljWTnyjB4YO7ojf</th>\n",
       "      <td>0.969</td>\n",
       "      <td>0.6560</td>\n",
       "      <td>0.788</td>\n",
       "      <td>179747</td>\n",
       "      <td>0.808</td>\n",
       "      <td>0.000000</td>\n",
       "      <td>5</td>\n",
       "      <td>0.1540</td>\n",
       "      <td>-6.590</td>\n",
       "      <td>1</td>\n",
       "      <td>0.0395</td>\n",
       "      <td>113.046</td>\n",
       "    </tr>\n",
       "  </tbody>\n",
       "</table>\n",
       "</div>"
      ],
      "text/plain": [
       "                        valence  acousticness  danceability  duration_ms  \\\n",
       "id                                                                         \n",
       "000G1xMMuwxNHmwVsBdtj1    0.555        0.0131         0.256       182347   \n",
       "000GyYHG4uWmlXieKLij8u    0.146        0.4690         0.797       180160   \n",
       "000Npgk5e2SgwGaIsN3ztv    0.494        0.9800         0.277       206972   \n",
       "000ZxLGm7jDlWCHtcXSeBe    0.854        0.7950         0.685       314667   \n",
       "000jBcNljWTnyjB4YO7ojf    0.969        0.6560         0.788       179747   \n",
       "\n",
       "                        energy  instrumentalness  key  liveness  loudness  \\\n",
       "id                                                                          \n",
       "000G1xMMuwxNHmwVsBdtj1   0.895          0.000106    2    0.0821    -4.860   \n",
       "000GyYHG4uWmlXieKLij8u   0.898          0.000000    1    0.0824    -5.922   \n",
       "000Npgk5e2SgwGaIsN3ztv   0.145          0.879000    3    0.1110   -19.898   \n",
       "000ZxLGm7jDlWCHtcXSeBe   0.483          0.878000    2    0.1130   -10.202   \n",
       "000jBcNljWTnyjB4YO7ojf   0.808          0.000000    5    0.1540    -6.590   \n",
       "\n",
       "                        mode  speechiness    tempo  \n",
       "id                                                  \n",
       "000G1xMMuwxNHmwVsBdtj1     1       0.0707  191.307  \n",
       "000GyYHG4uWmlXieKLij8u     0       0.5200   89.926  \n",
       "000Npgk5e2SgwGaIsN3ztv     1       0.0845   75.644  \n",
       "000ZxLGm7jDlWCHtcXSeBe     0       0.0337   97.694  \n",
       "000jBcNljWTnyjB4YO7ojf     1       0.0395  113.046  "
      ]
     },
     "execution_count": 4,
     "metadata": {},
     "output_type": "execute_result"
    }
   ],
   "source": [
    "#this puts the dataset into a matrix and indexed by the id\n",
    "song_sim_matrix = data_df_cosim.groupby('id').sum()\n",
    "\n",
    "song_sim_matrix.head()"
   ]
  },
  {
   "cell_type": "code",
   "execution_count": 5,
   "metadata": {},
   "outputs": [],
   "source": [
    "#creating scaling function\n",
    "def scaler(data):\n",
    "    ss = StandardScaler()\n",
    "    return ss.fit_transform(data)\n",
    "\n",
    "#scale our dataframe\n",
    "song_sim_matrix_scaled = scaler(song_sim_matrix)\n",
    "\n",
    "#convert our numpy matrix into dataframe\n",
    "song_sim_matrix_df = pd.DataFrame(song_sim_matrix_scaled, index=song_sim_matrix.index,columns=song_sim_matrix.columns)"
   ]
  },
  {
   "cell_type": "code",
   "execution_count": 6,
   "metadata": {},
   "outputs": [],
   "source": [
    "# these dataframe is to print the results\n",
    "data_df_show = data_df.copy()\n",
    "song_sim_matrix_df_print = song_sim_matrix_df.copy()"
   ]
  },
  {
   "cell_type": "markdown",
   "metadata": {},
   "source": [
    "## First Recomender Functions"
   ]
  },
  {
   "cell_type": "code",
   "execution_count": 7,
   "metadata": {},
   "outputs": [],
   "source": [
    "# Use code from first recommender system\n",
    "#getting the score \n",
    "\n",
    "def sim_score_generator(song,artist,number_of_recommedations):\n",
    "    \n",
    "    \"\"\"takes in song and artist to return list of similar songs\"\"\"\n",
    "    \n",
    "    #takes artist and song name to find song id\n",
    "    song_id = data_df[(data_df.main_artist == artist)&(data_df.name == song)]['id'].values[0]\n",
    "    \n",
    "    song_array = song_sim_matrix_df.loc[song_id].to_numpy()\n",
    "    \n",
    "    #tuple of sim score with song_index\n",
    "    sim_score = []\n",
    "    #counting the index\n",
    "    song_index = -1\n",
    "    \n",
    "    #iterate through all songs in dataset\n",
    "    for song in range(len(data_df)):\n",
    "        \n",
    "        song_index += 1\n",
    "\n",
    "        # convert in to array\n",
    "        other_song_array = song_sim_matrix_df.iloc[song].to_numpy()\n",
    "        # sim score calculation\n",
    "        score = dot(song_array,other_song_array)/(norm(song_array)*norm(other_song_array))\n",
    "        \n",
    "        #get other song id\n",
    "        other_song_id = song_sim_matrix_df.iloc[song].name\n",
    "        \n",
    "        # append to list\n",
    "        song_score_and_id = (score,song_index, other_song_id)\n",
    "    \n",
    "        # assign the position index of the song with the score\n",
    "        sim_score.append(song_score_and_id)\n",
    "    \n",
    "    \n",
    "    #list of N recommendations based on highest sim score and corresponding index\n",
    "    return(sorted(sim_score,reverse=True)[1:number_of_recommedations+1])\n",
    "\n",
    "def show_recommendations(top_recomendations):\n",
    "    #unpack tuples in list of recommendation\n",
    "    for score,song_idx,other_song_id in top_recomendations:\n",
    "        #find the id of the from the sim matrix \n",
    "        \n",
    "        sim_song_id = song_sim_matrix_df_print.iloc[song_idx].name\n",
    "        \n",
    "        \n",
    "        #print the corresponding artist and song to that matches the id from the data_df\n",
    "        print(f\"Artist: {data_df_show[data_df_show.id.str.match(sim_song_id)]['main_artist'].values[0]}\")\n",
    "        print(f\"Song: {data_df_show[data_df_show.id.str.match(sim_song_id)]['name'].values[0]}\")\n",
    "        print(f\"Year & Popularity: {data_df_show[data_df_show.id.str.match(sim_song_id)]['year'].values[0]}, {data_df[data_df.id.str.match(sim_song_id)]['popularity'].values[0]}\\n\") \n"
   ]
  },
  {
   "cell_type": "markdown",
   "metadata": {},
   "source": [
    "## Playlist Functions"
   ]
  },
  {
   "cell_type": "code",
   "execution_count": 8,
   "metadata": {},
   "outputs": [],
   "source": [
    "def create_playlist(song,artist):\n",
    "    \n",
    "    \n",
    "    \n",
    "    #find the first song id\n",
    "    first_song_id = data_df[(data_df.main_artist == artist)&(data_df.name == song)]['id'].values[0]\n",
    "    \n",
    "    #append the song attributes to the playlist df\n",
    "    playlist_df = (song_sim_matrix_df.loc[[first_song_id]])\n",
    "    \n",
    "    #drop the first song from the dataframes to prevent repeat recommendation\n",
    "    #as this is a shortcut way method, the song_sim_matrix_df and data_df would need to be retransformed each time a new playlist is created to ensure songs are not missing\n",
    "    song_sim_matrix_df.drop(first_song_id,inplace=True)\n",
    "    data_df.drop(data_df[data_df.id.str.match(first_song_id)].index,inplace=True)\n",
    "    data_df.reset_index(inplace=True,drop = True)\n",
    "    \n",
    "    return playlist_df\n",
    "\n",
    "def add_song_playlist(song, playlist_df):\n",
    "    \n",
    "    \"\"\"take in song from recommendations\n",
    "    put into dataframe\"\"\"\n",
    "    \n",
    "    sim_score, song_idx, song_id = song\n",
    "    \n",
    "    #get pandas row of song\n",
    "    song_row = song_sim_matrix_df.loc[[song_id]]\n",
    "    \n",
    "    #append to playlist dataframe\n",
    "    playlist_df = playlist_df.append(song_row)\n",
    "    \n",
    "    \n",
    "    #drop songs from dataframes if songs are in playlist to prevent repeat recommendation\n",
    "    #as this is a shortcut way method, the song_sim_matrix_df and data_df would need to be retransformed to its original before dropping of songs\n",
    "    song_sim_matrix_df.drop(song_id,inplace=True)\n",
    "    data_df.drop(data_df[data_df.id.str.match(song_id)].index,inplace=True)\n",
    "    data_df.reset_index(inplace=True,drop = True)\n",
    "    \n",
    "    return playlist_df\n",
    "\n",
    "\n",
    "def playlist_reccomendations(playlist_df, number_of_recommedations):\n",
    "    \n",
    "    \"\"\"takes in playlist dataframe and recommends n songs\"\"\"\n",
    "    \n",
    "    #create weights between 0.3 to 1\n",
    "    if len(playlist_df) == 1:\n",
    "        weights = np.array([1])\n",
    "    else:\n",
    "        weights = np.linspace(0.3,1,len(playlist_df))\n",
    "    #reshape weight to be 2D\n",
    "    weights = weights.reshape((len(weights),1))\n",
    "    \n",
    "    #convert playlist to an array\n",
    "    playlist_array = playlist_df.to_numpy()\n",
    "    \n",
    "    #apply weights to playlist array\n",
    "    adjusted_playlist_array = playlist_array*weights\n",
    "    \n",
    "    #sum all the song vectors and get average to be compared with other song vectors\n",
    "    \n",
    "    playlist_vector = sum(adjusted_playlist_array)/len(adjusted_playlist_array)\n",
    "    \n",
    "    #tuple of sim score with song_index\n",
    "    sim_score = []\n",
    "    #counting the index\n",
    "    song_index = -1\n",
    "    \n",
    "    for song in range(len(data_df)):\n",
    "        \n",
    "        song_index += 1\n",
    "\n",
    "        # convert in to array\n",
    "        other_song_array = song_sim_matrix_df.iloc[song].to_numpy()\n",
    "        # sim score calculation\n",
    "        score = dot(playlist_vector,other_song_array)/(norm(playlist_vector)*norm(other_song_array))\n",
    "        \n",
    "        #get other song id\n",
    "        other_song_id = song_sim_matrix_df.iloc[song].name\n",
    "        \n",
    "        # append to list\n",
    "        song_score_and_id = (score,song_index, other_song_id)\n",
    "    \n",
    "        # assign the position index of the song with the score\n",
    "        sim_score.append(song_score_and_id)\n",
    "        \n",
    "    \n",
    "    \n",
    "    #list of N recommendations based on highest sim score and corresponding index\n",
    "    return(sorted(sim_score,reverse=True)[1:number_of_recommedations+1])\n",
    "\n",
    "def show_current_playlist(playlist_df):\n",
    "    \n",
    "    \"\"\"takes in playlist_df, and returns what is in the current playlist\"\"\"\n",
    "    \n",
    "    for song in playlist_df.index.to_list():\n",
    "        \n",
    "        #print the corresponding artist and song to that matches the id from the data_df\n",
    "        print(f\"Artist: {data_df_show[data_df_show.id.str.match(song)]['main_artist'].values[0]}\")\n",
    "        print(f\"Song: {data_df_show[data_df_show.id.str.match(song)]['name'].values[0]}\\n\")"
   ]
  },
  {
   "cell_type": "markdown",
   "metadata": {},
   "source": [
    "## Generating a Playlist for Survey"
   ]
  },
  {
   "cell_type": "markdown",
   "metadata": {},
   "source": [
    "I'd like to make a playlist where I can conduct a survey to see if people do feel like the songs are similar from a user point of view. Up until now, we only know that the songs are statistically similar. "
   ]
  },
  {
   "cell_type": "markdown",
   "metadata": {},
   "source": [
    "### Survey version 1"
   ]
  },
  {
   "cell_type": "code",
   "execution_count": 9,
   "metadata": {},
   "outputs": [],
   "source": [
    "#get Drake song ID (most of my friends like Drake)\n",
    "song = \"Look Alive (feat. Drake)\"\n",
    "artist = \"BlocBoy JB\""
   ]
  },
  {
   "cell_type": "code",
   "execution_count": 10,
   "metadata": {},
   "outputs": [],
   "source": [
    "#create new playlist_df\n",
    "survey_playlist = create_playlist(song,artist)"
   ]
  },
  {
   "cell_type": "code",
   "execution_count": 11,
   "metadata": {},
   "outputs": [
    {
     "name": "stdout",
     "output_type": "stream",
     "text": [
      "Artist: Craig Morgan\n",
      "Song: Almost Home\n",
      "Year & Popularity: 2003, 60\n",
      "\n",
      "Artist: Future\n",
      "Song: Sleeping On The Floor\n",
      "Year & Popularity: 2020, 73\n",
      "\n",
      "Artist: Claude Debussy\n",
      "Song: Children's Corner, L. 113: II. Jimbo's Lullaby. Assez modéré\n",
      "Year & Popularity: 1946, 0\n",
      "\n",
      "Artist: Paul McCartney\n",
      "Song: Every Night - Live At Glasgow / 1979 / Remastered 2011\n",
      "Year & Popularity: 1970, 27\n",
      "\n",
      "Artist: NAV\n",
      "Song: Trains (with Lil Keed)\n",
      "Year & Popularity: 2020, 48\n",
      "\n",
      "Artist: Killumantii\n",
      "Song: Single (feat.Omeretta The Great)\n",
      "Year & Popularity: 2018, 58\n",
      "\n",
      "Artist: Chapterhouse\n",
      "Song: Breather\n",
      "Year & Popularity: 1990, 36\n",
      "\n",
      "Artist: Los inquietos del vallenato\n",
      "Song: Perdóname la Vida\n",
      "Year & Popularity: 2000, 34\n",
      "\n",
      "Artist: Bruce Springsteen\n",
      "Song: Valentine's Day\n",
      "Year & Popularity: 1987, 38\n",
      "\n",
      "Artist: \"Los Players\"\n",
      "Song: Destino\n",
      "Year & Popularity: 2007, 46\n",
      "\n"
     ]
    }
   ],
   "source": [
    "#get recommendation for song Look Alive by BlocBoy\n",
    "\n",
    "#return 10 similar song with raw similiarity scores and assign into list \n",
    "recommendations = playlist_reccomendations(survey_playlist,10)\n",
    "\n",
    "#print similar songs with corresponding artist and song name\n",
    "show_recommendations(recommendations)"
   ]
  },
  {
   "cell_type": "code",
   "execution_count": 12,
   "metadata": {},
   "outputs": [
    {
     "name": "stdout",
     "output_type": "stream",
     "text": [
      "Artist: BlocBoy JB\n",
      "Song: Look Alive (feat. Drake)\n",
      "\n",
      "Artist: Lil Baby\n",
      "Song: Woah\n",
      "\n"
     ]
    }
   ],
   "source": [
    "#add song into playlist after looking at recommendation\n",
    "\n",
    "survey_playlist = add_song_playlist(recommendations[2],survey_playlist)\n",
    "\n",
    "#show survey_playlist\n",
    "show_current_playlist(survey_playlist)"
   ]
  },
  {
   "cell_type": "code",
   "execution_count": 13,
   "metadata": {},
   "outputs": [
    {
     "name": "stdout",
     "output_type": "stream",
     "text": [
      "Artist: Future\n",
      "Song: Sleeping On The Floor\n",
      "Year & Popularity: 2020, 73\n",
      "\n",
      "Artist: The Larks\n",
      "Song: Eyesight To the Blind\n",
      "Year & Popularity: 1955, 3\n",
      "\n",
      "Artist: NAV\n",
      "Song: Trains (with Lil Keed)\n",
      "Year & Popularity: 2020, 48\n",
      "\n",
      "Artist: Los inquietos del vallenato\n",
      "Song: Perdóname la Vida\n",
      "Year & Popularity: 2000, 34\n",
      "\n",
      "Artist: Эрих Мария Ремарк\n",
      "Song: Часть 71.2 - На Западном фронте без перемен\n",
      "Year & Popularity: 1929, 0\n",
      "\n",
      "Artist: 21 Savage\n",
      "Song: Snitches & Rats (feat. Young Nudy)\n",
      "Year & Popularity: 2020, 71\n",
      "\n",
      "Artist: Gucci Mane\n",
      "Song: I Get the Bag (feat. Migos)\n",
      "Year & Popularity: 2017, 73\n",
      "\n",
      "Artist: 3OH!3\n",
      "Song: STARSTRUKK\n",
      "Year & Popularity: 2008, 46\n",
      "\n",
      "Artist: Al Green\n",
      "Song: For the Good Times\n",
      "Year & Popularity: 1972, 48\n",
      "\n",
      "Artist: Machine Gun Kelly\n",
      "Song: LOCO\n",
      "Year & Popularity: 2018, 62\n",
      "\n"
     ]
    }
   ],
   "source": [
    "#return 10 similar song with raw similiarity scores and assign into list \n",
    "recommendations = playlist_reccomendations(survey_playlist,10)\n",
    "\n",
    "#print similar songs with corresponding artist and song name\n",
    "show_recommendations(recommendations)"
   ]
  },
  {
   "cell_type": "code",
   "execution_count": 14,
   "metadata": {},
   "outputs": [
    {
     "name": "stdout",
     "output_type": "stream",
     "text": [
      "Artist: BlocBoy JB\n",
      "Song: Look Alive (feat. Drake)\n",
      "\n",
      "Artist: Lil Baby\n",
      "Song: Woah\n",
      "\n",
      "Artist: 3OH!3\n",
      "Song: STARSTRUKK\n",
      "\n"
     ]
    }
   ],
   "source": [
    "#add song into playlist after looking at recommendation\n",
    "\n",
    "survey_playlist = add_song_playlist(recommendations[7],survey_playlist)\n",
    "\n",
    "#show survey_playlist\n",
    "show_current_playlist(survey_playlist)"
   ]
  },
  {
   "cell_type": "code",
   "execution_count": 15,
   "metadata": {},
   "outputs": [
    {
     "name": "stdout",
     "output_type": "stream",
     "text": [
      "Artist: Future\n",
      "Song: Tic Tac\n",
      "Year & Popularity: 2020, 67\n",
      "\n",
      "Artist: Gucci Mane\n",
      "Song: I Get the Bag (feat. Migos)\n",
      "Year & Popularity: 2017, 73\n",
      "\n",
      "Artist: Saadettin Kaynak\n",
      "Song: Gam Seni Terk Eylemez\n",
      "Year & Popularity: 1927, 0\n",
      "\n",
      "Artist: Astrud Gilberto\n",
      "Song: Bim Bom\n",
      "Year & Popularity: 1966, 30\n",
      "\n",
      "Artist: Yo Gotti\n",
      "Song: King Sh*t (feat. T.I.)\n",
      "Year & Popularity: 2013, 54\n",
      "\n",
      "Artist: The Four Lads\n",
      "Song: Why Can't You Behave\n",
      "Year & Popularity: 1953, 4\n",
      "\n",
      "Artist: Kodak Black\n",
      "Song: Coolin and Booted\n",
      "Year & Popularity: 2017, 54\n",
      "\n",
      "Artist: Mild High Club\n",
      "Song: Note to Self\n",
      "Year & Popularity: 2015, 56\n",
      "\n",
      "Artist: NAV\n",
      "Song: Trains (with Lil Keed)\n",
      "Year & Popularity: 2020, 48\n",
      "\n",
      "Artist: Los Baron De Apodaca\n",
      "Song: La Culpa Fue Tuya\n",
      "Year & Popularity: 1981, 25\n",
      "\n"
     ]
    }
   ],
   "source": [
    "#return 10 similar song with raw similiarity scores and assign into list \n",
    "recommendations = playlist_reccomendations(survey_playlist,10)\n",
    "\n",
    "#print similar songs with corresponding artist and song name\n",
    "show_recommendations(recommendations)"
   ]
  },
  {
   "cell_type": "code",
   "execution_count": 16,
   "metadata": {},
   "outputs": [
    {
     "name": "stdout",
     "output_type": "stream",
     "text": [
      "Artist: BlocBoy JB\n",
      "Song: Look Alive (feat. Drake)\n",
      "\n",
      "Artist: Lil Baby\n",
      "Song: Woah\n",
      "\n",
      "Artist: 3OH!3\n",
      "Song: STARSTRUKK\n",
      "\n",
      "Artist: Charli XCX\n",
      "Song: Vroom Vroom\n",
      "\n"
     ]
    }
   ],
   "source": [
    "#add song into playlist after looking at recommendation\n",
    "\n",
    "survey_playlist = add_song_playlist(recommendations[3],survey_playlist)\n",
    "\n",
    "#show survey_playlist\n",
    "show_current_playlist(survey_playlist)"
   ]
  },
  {
   "cell_type": "code",
   "execution_count": 17,
   "metadata": {},
   "outputs": [
    {
     "name": "stdout",
     "output_type": "stream",
     "text": [
      "Artist: Future\n",
      "Song: Tic Tac\n",
      "Year & Popularity: 2020, 67\n",
      "\n",
      "Artist: Yo Gotti\n",
      "Song: King Sh*t (feat. T.I.)\n",
      "Year & Popularity: 2013, 54\n",
      "\n",
      "Artist: Ian & Sylvia\n",
      "Song: Darcy Farrow\n",
      "Year & Popularity: 1965, 17\n",
      "\n",
      "Artist: Gucci Mane\n",
      "Song: I Get the Bag (feat. Migos)\n",
      "Year & Popularity: 2017, 73\n",
      "\n",
      "Artist: A$AP Ferg\n",
      "Song: Jet Lag\n",
      "Year & Popularity: 2019, 65\n",
      "\n",
      "Artist: Lil Uzi Vert\n",
      "Song: Venetia\n",
      "Year & Popularity: 2020, 66\n",
      "\n",
      "Artist: Future\n",
      "Song: Sleeping On The Floor\n",
      "Year & Popularity: 2020, 73\n",
      "\n",
      "Artist: YoungBoy Never Broke Again\n",
      "Song: Around\n",
      "Year & Popularity: 2020, 64\n",
      "\n",
      "Artist: The Four Lads\n",
      "Song: Why Can't You Behave\n",
      "Year & Popularity: 1953, 4\n",
      "\n",
      "Artist: Mild High Club\n",
      "Song: Note to Self\n",
      "Year & Popularity: 2015, 56\n",
      "\n",
      "Artist: NAV\n",
      "Song: Trains (with Lil Keed)\n",
      "Year & Popularity: 2020, 48\n",
      "\n",
      "Artist: Avenged Sevenfold\n",
      "Song: Beast and the Harlot\n",
      "Year & Popularity: 2005, 62\n",
      "\n",
      "Artist: Rodney Carrington\n",
      "Song: Don't Look Now\n",
      "Year & Popularity: 2003, 44\n",
      "\n",
      "Artist: ОТВАЛ БАWKN\n",
      "Song: Trap\n",
      "Year & Popularity: 1941, 0\n",
      "\n",
      "Artist: 21 Savage\n",
      "Song: Said N Done\n",
      "Year & Popularity: 2020, 72\n",
      "\n"
     ]
    }
   ],
   "source": [
    "#return 15 similar song with raw similiarity scores and assign into list \n",
    "recommendations = playlist_reccomendations(survey_playlist,15)\n",
    "\n",
    "#print similar songs with corresponding artist and song name\n",
    "show_recommendations(recommendations)"
   ]
  },
  {
   "cell_type": "markdown",
   "metadata": {},
   "source": [
    "Comments: I had to generate 15 recommendations instead as they dont seem to be recommending any niche content"
   ]
  },
  {
   "cell_type": "code",
   "execution_count": 18,
   "metadata": {},
   "outputs": [
    {
     "name": "stdout",
     "output_type": "stream",
     "text": [
      "Artist: BlocBoy JB\n",
      "Song: Look Alive (feat. Drake)\n",
      "\n",
      "Artist: Lil Baby\n",
      "Song: Woah\n",
      "\n",
      "Artist: 3OH!3\n",
      "Song: STARSTRUKK\n",
      "\n",
      "Artist: Charli XCX\n",
      "Song: Vroom Vroom\n",
      "\n",
      "Artist: ОТВАЛ БАWKN\n",
      "Song: Trap\n",
      "\n"
     ]
    }
   ],
   "source": [
    "#add song into playlist after looking at recommendation\n",
    "\n",
    "survey_playlist = add_song_playlist(recommendations[13],survey_playlist)\n",
    "\n",
    "#show survey_playlist\n",
    "show_current_playlist(survey_playlist)"
   ]
  },
  {
   "cell_type": "code",
   "execution_count": 19,
   "metadata": {},
   "outputs": [
    {
     "name": "stdout",
     "output_type": "stream",
     "text": [
      "Artist: Future\n",
      "Song: Tic Tac\n",
      "Year & Popularity: 2020, 67\n",
      "\n",
      "Artist: Yo Gotti\n",
      "Song: King Sh*t (feat. T.I.)\n",
      "Year & Popularity: 2013, 54\n",
      "\n",
      "Artist: Dan Fogelberg\n",
      "Song: Nexus\n",
      "Year & Popularity: 1981, 25\n",
      "\n",
      "Artist: Type O Negative\n",
      "Song: Red Water (Christmas Mourning)\n",
      "Year & Popularity: 1996, 38\n",
      "\n",
      "Artist: Wreckx-N-Effect\n",
      "Song: Rump Shaker - Radio Edit\n",
      "Year & Popularity: 2002, 40\n",
      "\n",
      "Artist: Ronan Hardiman\n",
      "Song: Lord Of The Dance\n",
      "Year & Popularity: 1996, 48\n",
      "\n",
      "Artist: George Winston\n",
      "Song: (Love Echoes in the) Pine Hills\n",
      "Year & Popularity: 1981, 21\n",
      "\n",
      "Artist: Adolescents\n",
      "Song: Creatures\n",
      "Year & Popularity: 1981, 32\n",
      "\n",
      "Artist: Love\n",
      "Song: ¡Que Vida!\n",
      "Year & Popularity: 1966, 28\n",
      "\n",
      "Artist: Blake Shelton\n",
      "Song: Home (feat. Michael Bublé)\n",
      "Year & Popularity: 2012, 54\n",
      "\n",
      "Artist: Future\n",
      "Song: Sleeping On The Floor\n",
      "Year & Popularity: 2020, 73\n",
      "\n",
      "Artist: Alejandro Escovedo\n",
      "Song: Castanets\n",
      "Year & Popularity: 2001, 41\n",
      "\n",
      "Artist: Colm Wilkinson\n",
      "Song: Who Am I?\n",
      "Year & Popularity: 1987, 36\n",
      "\n",
      "Artist: Meenakshi\n",
      "Song: Balam Brahmachari\n",
      "Year & Popularity: 1938, 0\n",
      "\n",
      "Artist: Bon Jovi\n",
      "Song: Born To Be My Baby\n",
      "Year & Popularity: 1988, 61\n",
      "\n"
     ]
    }
   ],
   "source": [
    "#return 10 similar song with raw similiarity scores and assign into list \n",
    "recommendations = playlist_reccomendations(survey_playlist,15)\n",
    "\n",
    "#print similar songs with corresponding artist and song name\n",
    "show_recommendations(recommendations)"
   ]
  },
  {
   "cell_type": "code",
   "execution_count": 20,
   "metadata": {},
   "outputs": [
    {
     "name": "stdout",
     "output_type": "stream",
     "text": [
      "Artist: BlocBoy JB\n",
      "Song: Look Alive (feat. Drake)\n",
      "\n",
      "Artist: Lil Baby\n",
      "Song: Woah\n",
      "\n",
      "Artist: 3OH!3\n",
      "Song: STARSTRUKK\n",
      "\n",
      "Artist: Charli XCX\n",
      "Song: Vroom Vroom\n",
      "\n",
      "Artist: ОТВАЛ БАWKN\n",
      "Song: Trap\n",
      "\n",
      "Artist: $uicideBoy$\n",
      "Song: Aliens Are Ghosts ($UICIDEBOY$ X TRAVIS BARKER)\n",
      "\n"
     ]
    }
   ],
   "source": [
    "#add song into playlist after looking at recommendation\n",
    "\n",
    "survey_playlist = add_song_playlist(recommendations[5],survey_playlist)\n",
    "\n",
    "#show survey_playlist\n",
    "show_current_playlist(survey_playlist)"
   ]
  },
  {
   "cell_type": "code",
   "execution_count": 21,
   "metadata": {},
   "outputs": [
    {
     "name": "stdout",
     "output_type": "stream",
     "text": [
      "Artist: John Farnham\n",
      "Song: Break The Ice\n",
      "Year & Popularity: 1986, 41\n",
      "\n",
      "Artist: Future\n",
      "Song: Tic Tac\n",
      "Year & Popularity: 2020, 67\n",
      "\n",
      "Artist: Yo Gotti\n",
      "Song: King Sh*t (feat. T.I.)\n",
      "Year & Popularity: 2013, 54\n",
      "\n",
      "Artist: Blake Shelton\n",
      "Song: Home (feat. Michael Bublé)\n",
      "Year & Popularity: 2012, 54\n",
      "\n",
      "Artist: Future\n",
      "Song: Sleeping On The Floor\n",
      "Year & Popularity: 2020, 73\n",
      "\n",
      "Artist: Sugar Chile Robinson\n",
      "Song: Yancey Special\n",
      "Year & Popularity: 1955, 2\n",
      "\n",
      "Artist: Capital Cities\n",
      "Song: Safe And Sound\n",
      "Year & Popularity: 2013, 80\n",
      "\n",
      "Artist: Sharpay Evans\n",
      "Song: Fabulous\n",
      "Year & Popularity: 2007, 59\n",
      "\n",
      "Artist: The Rolling Stones\n",
      "Song: Susie Q\n",
      "Year & Popularity: 1964, 32\n",
      "\n",
      "Artist: T-Wayne\n",
      "Song: Nasty Freestyle\n",
      "Year & Popularity: 2015, 64\n",
      "\n",
      "Artist: Mitch Hedberg\n",
      "Song: Sandwiches\n",
      "Year & Popularity: 2003, 46\n",
      "\n",
      "Artist: Wreckx-N-Effect\n",
      "Song: Rump Shaker - Radio Edit\n",
      "Year & Popularity: 2002, 40\n",
      "\n",
      "Artist: Alejandro Escovedo\n",
      "Song: Castanets\n",
      "Year & Popularity: 2001, 41\n",
      "\n",
      "Artist: Colm Wilkinson\n",
      "Song: Who Am I?\n",
      "Year & Popularity: 1987, 36\n",
      "\n",
      "Artist: Peach Tree Rascals\n",
      "Song: Mariposa\n",
      "Year & Popularity: 2019, 83\n",
      "\n"
     ]
    }
   ],
   "source": [
    "#return 10 similar song with raw similiarity scores and assign into list \n",
    "recommendations = playlist_reccomendations(survey_playlist,15)\n",
    "\n",
    "#print similar songs with corresponding artist and song name\n",
    "show_recommendations(recommendations)"
   ]
  },
  {
   "cell_type": "code",
   "execution_count": 22,
   "metadata": {},
   "outputs": [
    {
     "name": "stdout",
     "output_type": "stream",
     "text": [
      "Artist: BlocBoy JB\n",
      "Song: Look Alive (feat. Drake)\n",
      "\n",
      "Artist: Lil Baby\n",
      "Song: Woah\n",
      "\n",
      "Artist: 3OH!3\n",
      "Song: STARSTRUKK\n",
      "\n",
      "Artist: Charli XCX\n",
      "Song: Vroom Vroom\n",
      "\n",
      "Artist: ОТВАЛ БАWKN\n",
      "Song: Trap\n",
      "\n",
      "Artist: $uicideBoy$\n",
      "Song: Aliens Are Ghosts ($UICIDEBOY$ X TRAVIS BARKER)\n",
      "\n",
      "Artist: Tyga\n",
      "Song: Ice Cream Man\n",
      "\n"
     ]
    }
   ],
   "source": [
    "#add song into playlist after looking at recommendation\n",
    "\n",
    "survey_playlist = add_song_playlist(recommendations[6],survey_playlist)\n",
    "\n",
    "#show survey_playlist\n",
    "show_current_playlist(survey_playlist)"
   ]
  },
  {
   "cell_type": "code",
   "execution_count": 23,
   "metadata": {},
   "outputs": [
    {
     "name": "stdout",
     "output_type": "stream",
     "text": [
      "Artist: Future\n",
      "Song: Tic Tac\n",
      "Year & Popularity: 2020, 67\n",
      "\n",
      "Artist: Yo Gotti\n",
      "Song: King Sh*t (feat. T.I.)\n",
      "Year & Popularity: 2013, 54\n",
      "\n",
      "Artist: Wreckx-N-Effect\n",
      "Song: Rump Shaker - Radio Edit\n",
      "Year & Popularity: 2002, 40\n",
      "\n",
      "Artist: John Farnham\n",
      "Song: Break The Ice\n",
      "Year & Popularity: 1986, 41\n",
      "\n",
      "Artist: The Rolling Stones\n",
      "Song: Susie Q\n",
      "Year & Popularity: 1964, 32\n",
      "\n",
      "Artist: Blake Shelton\n",
      "Song: Home (feat. Michael Bublé)\n",
      "Year & Popularity: 2012, 54\n",
      "\n",
      "Artist: Peach Tree Rascals\n",
      "Song: Mariposa\n",
      "Year & Popularity: 2019, 83\n",
      "\n",
      "Artist: Future\n",
      "Song: Sleeping On The Floor\n",
      "Year & Popularity: 2020, 73\n",
      "\n",
      "Artist: Alejandro Escovedo\n",
      "Song: Castanets\n",
      "Year & Popularity: 2001, 41\n",
      "\n",
      "Artist: Colm Wilkinson\n",
      "Song: Who Am I?\n",
      "Year & Popularity: 1987, 36\n",
      "\n",
      "Artist: Sugar Chile Robinson\n",
      "Song: Yancey Special\n",
      "Year & Popularity: 1955, 2\n",
      "\n",
      "Artist: Cal Tjader\n",
      "Song: China Nights (Shina No Yoru) - 2nd Take\n",
      "Year & Popularity: 1964, 14\n",
      "\n",
      "Artist: T-Wayne\n",
      "Song: Nasty Freestyle\n",
      "Year & Popularity: 2015, 64\n",
      "\n",
      "Artist: Pop Evil\n",
      "Song: Monster You Made\n",
      "Year & Popularity: 2011, 47\n",
      "\n",
      "Artist: Mitch Hedberg\n",
      "Song: Sandwiches\n",
      "Year & Popularity: 2003, 46\n",
      "\n"
     ]
    }
   ],
   "source": [
    "#return 15 similar song with raw similiarity scores and assign into list \n",
    "recommendations = playlist_reccomendations(survey_playlist,15)\n",
    "\n",
    "#print similar songs with corresponding artist and song name\n",
    "show_recommendations(recommendations)"
   ]
  },
  {
   "cell_type": "markdown",
   "metadata": {},
   "source": [
    "comments: After generating recommendations 7 times, the recommendations start to repeat themselves. Programatically, its possible to remove repeated recommendations after appearing a certain number of times. However this may be time consuming give the time constraint. This is something highlight as a limitation. \n",
    "\n",
    "Additionally, observing that most reccomendations tend to converge around 1 genre this may prove that a content based recommender will still lead you into a filter bubble, unless the user deliberately selects a genre that is new to them.\n",
    "\n",
    "Trap songs generally have similar features. I will try to generate a playlist that have more variation of genres and have a potential to recommend a larger variation of genres. \n",
    "\n",
    "Irregardless, in order to validate that the music the recommender recommends is not only statistically similar, but also subjectively similar, this playlist will be sent out as a survey. The survey will also find out if there is general interest in a recommender that would POTENTIALLY recommend niche songs. "
   ]
  },
  {
   "cell_type": "markdown",
   "metadata": {},
   "source": [
    "### Survey Version 2"
   ]
  },
  {
   "cell_type": "code",
   "execution_count": 24,
   "metadata": {},
   "outputs": [],
   "source": [
    "#get Drake song ID (most of my friends like Drake)\n",
    "song = \"Redbone\"\n",
    "artist = \"Childish Gambino\""
   ]
  },
  {
   "cell_type": "code",
   "execution_count": 25,
   "metadata": {},
   "outputs": [],
   "source": [
    "#create new playlist_df\n",
    "survey_playlist = create_playlist(song,artist)"
   ]
  },
  {
   "cell_type": "code",
   "execution_count": 26,
   "metadata": {},
   "outputs": [
    {
     "name": "stdout",
     "output_type": "stream",
     "text": [
      "Artist: R.E.M.\n",
      "Song: Driver 8\n",
      "Year & Popularity: 1985, 36\n",
      "\n",
      "Artist: Sade\n",
      "Song: Kiss of Life\n",
      "Year & Popularity: 1994, 60\n",
      "\n",
      "Artist: Joan Baez\n",
      "Song: Three Horses\n",
      "Year & Popularity: 1971, 31\n",
      "\n",
      "Artist: Los Alegres De Teran\n",
      "Song: Los Tequileros\n",
      "Year & Popularity: 1999, 45\n",
      "\n",
      "Artist: The Band\n",
      "Song: Long Black Veil - Remixed 2018\n",
      "Year & Popularity: 1968, 20\n",
      "\n",
      "Artist: The Shadows\n",
      "Song: The Theme from 'The Deer Hunter' (Cavatina)\n",
      "Year & Popularity: 1979, 46\n",
      "\n",
      "Artist: Helen Forrest\n",
      "Song: Taking A Chance On Love\n",
      "Year & Popularity: 1956, 10\n",
      "\n",
      "Artist: Frédéric Chopin\n",
      "Song: Chopin: Nocturne No. 10 in A-Flat Major, Op. 32 No. 2\n",
      "Year & Popularity: 1928, 12\n",
      "\n",
      "Artist: Tindersticks\n",
      "Song: Tiny Tears\n",
      "Year & Popularity: 1995, 48\n",
      "\n",
      "Artist: Francisco Canaro\n",
      "Song: Que Sapa, Señor? - Remasterizado\n",
      "Year & Popularity: 1931, 0\n",
      "\n"
     ]
    }
   ],
   "source": [
    "#return 10 similar song with raw similiarity scores and assign into list \n",
    "recommendations = playlist_reccomendations(survey_playlist,10)\n",
    "\n",
    "#print similar songs with corresponding artist and song name\n",
    "show_recommendations(recommendations)"
   ]
  },
  {
   "cell_type": "code",
   "execution_count": 27,
   "metadata": {},
   "outputs": [
    {
     "name": "stdout",
     "output_type": "stream",
     "text": [
      "Artist: Childish Gambino\n",
      "Song: Redbone\n",
      "\n",
      "Artist: Lil Wayne\n",
      "Song: Lollipop\n",
      "\n"
     ]
    }
   ],
   "source": [
    "#add song into playlist after looking at recommendation\n",
    "\n",
    "survey_playlist = add_song_playlist(recommendations[0],survey_playlist)\n",
    "\n",
    "#show survey_playlist\n",
    "show_current_playlist(survey_playlist)"
   ]
  },
  {
   "cell_type": "code",
   "execution_count": 28,
   "metadata": {},
   "outputs": [
    {
     "name": "stdout",
     "output_type": "stream",
     "text": [
      "Artist: $atori Zoom\n",
      "Song: Buster\n",
      "Year & Popularity: 2019, 67\n",
      "\n",
      "Artist: Эрих Мария Ремарк\n",
      "Song: Часть 147.2 & Часть 148.1 - Триумфальная арка\n",
      "Year & Popularity: 1945, 0\n",
      "\n",
      "Artist: Stan Getz\n",
      "Song: Jordu\n",
      "Year & Popularity: 1958, 23\n",
      "\n",
      "Artist: Paul Kantner\n",
      "Song: Sketches of China - 2020 Remaster\n",
      "Year & Popularity: 1973, 34\n",
      "\n",
      "Artist: Exhorder\n",
      "Song: Desecrator\n",
      "Year & Popularity: 1990, 39\n",
      "\n",
      "Artist: The Clovers\n",
      "Song: Don't You Know I Love You\n",
      "Year & Popularity: 1956, 13\n",
      "\n",
      "Artist: The Shadows\n",
      "Song: The Theme from 'The Deer Hunter' (Cavatina)\n",
      "Year & Popularity: 1979, 46\n",
      "\n",
      "Artist: Louis Hardin\n",
      "Song: Symphonique #6 (Good For Goodie) - Instrumental\n",
      "Year & Popularity: 1969, 23\n",
      "\n",
      "Artist: Mehmet Kemiksiz\n",
      "Song: Şu Boğaz Harbi Nedir\n",
      "Year & Popularity: 1921, 0\n",
      "\n",
      "Artist: \"Booker T. & the M.G.s\"\n",
      "Song: Winter Wonderland\n",
      "Year & Popularity: 1966, 15\n",
      "\n"
     ]
    }
   ],
   "source": [
    "#return 10 similar song with raw similiarity scores and assign into list \n",
    "recommendations = playlist_reccomendations(survey_playlist,10)\n",
    "\n",
    "#print similar songs with corresponding artist and song name\n",
    "show_recommendations(recommendations)"
   ]
  },
  {
   "cell_type": "code",
   "execution_count": 29,
   "metadata": {},
   "outputs": [
    {
     "name": "stdout",
     "output_type": "stream",
     "text": [
      "Artist: Childish Gambino\n",
      "Song: Redbone\n",
      "\n",
      "Artist: Lil Wayne\n",
      "Song: Lollipop\n",
      "\n",
      "Artist: Jill Scott\n",
      "Song: The Way\n",
      "\n"
     ]
    }
   ],
   "source": [
    "#add song into playlist after looking at recommendation\n",
    "\n",
    "survey_playlist = add_song_playlist(recommendations[2],survey_playlist)\n",
    "\n",
    "#show survey_playlist\n",
    "show_current_playlist(survey_playlist)"
   ]
  },
  {
   "cell_type": "code",
   "execution_count": 30,
   "metadata": {},
   "outputs": [
    {
     "name": "stdout",
     "output_type": "stream",
     "text": [
      "Artist: Эрих Мария Ремарк\n",
      "Song: Часть 147.2 & Часть 148.1 - Триумфальная арка\n",
      "Year & Popularity: 1945, 0\n",
      "\n",
      "Artist: Delegation\n",
      "Song: Love Is Like a Fire\n",
      "Year & Popularity: 1978, 32\n",
      "\n",
      "Artist: Mehmet Kemiksiz\n",
      "Song: Şu Boğaz Harbi Nedir\n",
      "Year & Popularity: 1921, 0\n",
      "\n",
      "Artist: Dave Matthews Band\n",
      "Song: Dancing Nancies\n",
      "Year & Popularity: 1994, 44\n",
      "\n",
      "Artist: Exhorder\n",
      "Song: Desecrator\n",
      "Year & Popularity: 1990, 39\n",
      "\n",
      "Artist: \"Booker T. & the M.G.s\"\n",
      "Song: Winter Wonderland\n",
      "Year & Popularity: 1966, 15\n",
      "\n",
      "Artist: Miles Davis\n",
      "Song: 'Round Midnight\n",
      "Year & Popularity: 1957, 57\n",
      "\n",
      "Artist: Frank Sinatra\n",
      "Song: Begin the Beguine\n",
      "Year & Popularity: 1944, 14\n",
      "\n",
      "Artist: Geeta Dutt\n",
      "Song: O Mazam Raat Ni Tarli\n",
      "Year & Popularity: 1948, 0\n",
      "\n",
      "Artist: The Clovers\n",
      "Song: Don't You Know I Love You\n",
      "Year & Popularity: 1956, 13\n",
      "\n"
     ]
    }
   ],
   "source": [
    "#return 10 similar song with raw similiarity scores and assign into list \n",
    "recommendations = playlist_reccomendations(survey_playlist,10)\n",
    "\n",
    "#print similar songs with corresponding artist and song name\n",
    "show_recommendations(recommendations)"
   ]
  },
  {
   "cell_type": "code",
   "execution_count": 31,
   "metadata": {},
   "outputs": [
    {
     "name": "stdout",
     "output_type": "stream",
     "text": [
      "Artist: Childish Gambino\n",
      "Song: Redbone\n",
      "\n",
      "Artist: Lil Wayne\n",
      "Song: Lollipop\n",
      "\n",
      "Artist: Jill Scott\n",
      "Song: The Way\n",
      "\n",
      "Artist: Fito y Fitipaldis\n",
      "Song: Soldadito marinero\n",
      "\n"
     ]
    }
   ],
   "source": [
    "#add song into playlist after looking at recommendation\n",
    "\n",
    "survey_playlist = add_song_playlist(recommendations[8],survey_playlist)\n",
    "\n",
    "#show survey_playlist\n",
    "show_current_playlist(survey_playlist)"
   ]
  },
  {
   "cell_type": "code",
   "execution_count": 32,
   "metadata": {},
   "outputs": [
    {
     "name": "stdout",
     "output_type": "stream",
     "text": [
      "Artist: Information Society\n",
      "Song: What's on Your Mind (Pure Energy)\n",
      "Year & Popularity: 1988, 55\n",
      "\n",
      "Artist: The Brobecks\n",
      "Song: Small Cuts\n",
      "Year & Popularity: 2009, 46\n",
      "\n",
      "Artist: Silvia De Grasse\n",
      "Song: La Morena Tumba Hombre\n",
      "Year & Popularity: 1945, 0\n",
      "\n",
      "Artist: Batmobile\n",
      "Song: Transsylvanian Express\n",
      "Year & Popularity: 1985, 33\n",
      "\n",
      "Artist: XXXTENTACION\n",
      "Song: Look At Me!\n",
      "Year & Popularity: 2017, 82\n",
      "\n",
      "Artist: Fred Waring\n",
      "Song: White Christmas\n",
      "Year & Popularity: 1957, 6\n",
      "\n",
      "Artist: Carlos Santana\n",
      "Song: A Love Supreme\n",
      "Year & Popularity: 1973, 28\n",
      "\n",
      "Artist: Head East\n",
      "Song: City Of Gold\n",
      "Year & Popularity: 1975, 22\n",
      "\n",
      "Artist: Fleetwood Mac\n",
      "Song: Doesn't Anything Last - Early Demo; 2004 Remaster\n",
      "Year & Popularity: 1977, 36\n",
      "\n",
      "Artist: Francisco Canaro\n",
      "Song: Tristes Horas - Instrumental (Remasterizado)\n",
      "Year & Popularity: 1929, 0\n",
      "\n"
     ]
    }
   ],
   "source": [
    "#return 10 similar song with raw similiarity scores and assign into list \n",
    "recommendations = playlist_reccomendations(survey_playlist,10)\n",
    "\n",
    "#print similar songs with corresponding artist and song name\n",
    "show_recommendations(recommendations)"
   ]
  },
  {
   "cell_type": "code",
   "execution_count": 33,
   "metadata": {},
   "outputs": [
    {
     "name": "stdout",
     "output_type": "stream",
     "text": [
      "Artist: Childish Gambino\n",
      "Song: Redbone\n",
      "\n",
      "Artist: Lil Wayne\n",
      "Song: Lollipop\n",
      "\n",
      "Artist: Jill Scott\n",
      "Song: The Way\n",
      "\n",
      "Artist: Fito y Fitipaldis\n",
      "Song: Soldadito marinero\n",
      "\n",
      "Artist: INOJ\n",
      "Song: Time After Time\n",
      "\n"
     ]
    }
   ],
   "source": [
    "#add song into playlist after looking at recommendation\n",
    "\n",
    "survey_playlist = add_song_playlist(recommendations[8],survey_playlist)\n",
    "\n",
    "#show survey_playlist\n",
    "show_current_playlist(survey_playlist)"
   ]
  },
  {
   "cell_type": "code",
   "execution_count": 34,
   "metadata": {},
   "outputs": [
    {
     "name": "stdout",
     "output_type": "stream",
     "text": [
      "Artist: Information Society\n",
      "Song: What's on Your Mind (Pure Energy)\n",
      "Year & Popularity: 1988, 55\n",
      "\n",
      "Artist: Carmen Miranda\n",
      "Song: Roda Pião\n",
      "Year & Popularity: 1941, 0\n",
      "\n",
      "Artist: Springtoifel\n",
      "Song: Mainz Geht Unter\n",
      "Year & Popularity: 1937, 0\n",
      "\n",
      "Artist: Luther Vandross\n",
      "Song: The Closer I Get to You (feat. Beyoncé Knowles)\n",
      "Year & Popularity: 2003, 49\n",
      "\n",
      "Artist: Francisco Canaro\n",
      "Song: Canto - Remasterizado\n",
      "Year & Popularity: 1934, 0\n",
      "\n",
      "Artist: Halestorm\n",
      "Song: I'm Not an Angel\n",
      "Year & Popularity: 2009, 43\n",
      "\n",
      "Artist: The Cleaners From Venus\n",
      "Song: Corridor of Dreams\n",
      "Year & Popularity: 1982, 44\n",
      "\n",
      "Artist: Gene Ammons\n",
      "Song: There Is No Greater Love\n",
      "Year & Popularity: 1961, 37\n",
      "\n",
      "Artist: Laura Ciffa\n",
      "Song: Scream & Shout\n",
      "Year & Popularity: 2013, 0\n",
      "\n",
      "Artist: Ellen McCown\n",
      "Song: Ode to Lola\n",
      "Year & Popularity: 1951, 0\n",
      "\n"
     ]
    }
   ],
   "source": [
    "#return 10 similar song with raw similiarity scores and assign into list \n",
    "recommendations = playlist_reccomendations(survey_playlist,10)\n",
    "\n",
    "#print similar songs with corresponding artist and song name\n",
    "show_recommendations(recommendations)"
   ]
  },
  {
   "cell_type": "code",
   "execution_count": 35,
   "metadata": {},
   "outputs": [
    {
     "name": "stdout",
     "output_type": "stream",
     "text": [
      "Artist: Childish Gambino\n",
      "Song: Redbone\n",
      "\n",
      "Artist: Lil Wayne\n",
      "Song: Lollipop\n",
      "\n",
      "Artist: Jill Scott\n",
      "Song: The Way\n",
      "\n",
      "Artist: Fito y Fitipaldis\n",
      "Song: Soldadito marinero\n",
      "\n",
      "Artist: INOJ\n",
      "Song: Time After Time\n",
      "\n",
      "Artist: The Police\n",
      "Song: Don't Stand So Close To Me\n",
      "\n"
     ]
    }
   ],
   "source": [
    "#add song into playlist after looking at recommendation\n",
    "\n",
    "survey_playlist = add_song_playlist(recommendations[3],survey_playlist)\n",
    "\n",
    "#show survey_playlist\n",
    "show_current_playlist(survey_playlist)"
   ]
  },
  {
   "cell_type": "code",
   "execution_count": 36,
   "metadata": {},
   "outputs": [
    {
     "name": "stdout",
     "output_type": "stream",
     "text": [
      "Artist: Grant Green\n",
      "Song: Green With Envy - Rudy Van Gelder Edition/24-Bit Mastering/2002 Digital Remaster\n",
      "Year & Popularity: 1961, 20\n",
      "\n",
      "Artist: Carmen Miranda\n",
      "Song: Roda Pião\n",
      "Year & Popularity: 1941, 0\n",
      "\n",
      "Artist: Information Society\n",
      "Song: What's on Your Mind (Pure Energy)\n",
      "Year & Popularity: 1988, 55\n",
      "\n",
      "Artist: Henry Mancini\n",
      "Song: Moon River Cha Cha - Remastered\n",
      "Year & Popularity: 1961, 11\n",
      "\n",
      "Artist: Laura Ciffa\n",
      "Song: Scream & Shout\n",
      "Year & Popularity: 2013, 0\n",
      "\n",
      "Artist: Barry Manilow\n",
      "Song: Copacabana - Remastered\n",
      "Year & Popularity: 1992, 44\n",
      "\n",
      "Artist: Banda Vallarta Show\n",
      "Song: Tu Pum Pum\n",
      "Year & Popularity: 1993, 35\n",
      "\n",
      "Artist: Ellen McCown\n",
      "Song: Ode to Lola\n",
      "Year & Popularity: 1951, 0\n",
      "\n",
      "Artist: Cher\n",
      "Song: Gypsys, Tramps & Thieves\n",
      "Year & Popularity: 1971, 57\n",
      "\n",
      "Artist: Iggy Pop\n",
      "Song: I'm Bored\n",
      "Year & Popularity: 1979, 38\n",
      "\n"
     ]
    }
   ],
   "source": [
    "#return 10 similar song with raw similiarity scores and assign into list \n",
    "recommendations = playlist_reccomendations(survey_playlist,10)\n",
    "\n",
    "#print similar songs with corresponding artist and song name\n",
    "show_recommendations(recommendations)"
   ]
  },
  {
   "cell_type": "code",
   "execution_count": 37,
   "metadata": {},
   "outputs": [
    {
     "name": "stdout",
     "output_type": "stream",
     "text": [
      "Artist: Childish Gambino\n",
      "Song: Redbone\n",
      "\n",
      "Artist: Lil Wayne\n",
      "Song: Lollipop\n",
      "\n",
      "Artist: Jill Scott\n",
      "Song: The Way\n",
      "\n",
      "Artist: Fito y Fitipaldis\n",
      "Song: Soldadito marinero\n",
      "\n",
      "Artist: INOJ\n",
      "Song: Time After Time\n",
      "\n",
      "Artist: The Police\n",
      "Song: Don't Stand So Close To Me\n",
      "\n",
      "Artist: Linda Ronstadt\n",
      "Song: Poor, Poor Pitiful Me\n",
      "\n"
     ]
    }
   ],
   "source": [
    "#add song into playlist after looking at recommendation\n",
    "\n",
    "survey_playlist = add_song_playlist(recommendations[9],survey_playlist)\n",
    "\n",
    "#show survey_playlist\n",
    "show_current_playlist(survey_playlist)"
   ]
  },
  {
   "cell_type": "markdown",
   "metadata": {},
   "source": [
    "The above playlist has enought varation of genres to test surveyees if thesongs are similar or not. Surveyees may have felt that the previous playlist natuarally sound the same because most of the songs fall in the same genre. \n",
    "\n",
    "Similarly, generating this playlist still ran in to the same problem where recommendations converged on the same songs. "
   ]
  },
  {
   "cell_type": "markdown",
   "metadata": {},
   "source": [
    "## Generating a Playlist for My Classmates"
   ]
  },
  {
   "cell_type": "markdown",
   "metadata": {},
   "source": [
    "I plan to make a playlist for my classmates as this project would be the last we work on. This playlist would start with the graduation song by Vitamin C."
   ]
  },
  {
   "cell_type": "code",
   "execution_count": 38,
   "metadata": {},
   "outputs": [],
   "source": [
    "#get Vitamin C song ID\n",
    "song = \"Graduation (Friends Forever)\"\n",
    "artist = \"Vitamin C\""
   ]
  },
  {
   "cell_type": "code",
   "execution_count": 39,
   "metadata": {},
   "outputs": [],
   "source": [
    "#create new playlist\n",
    "dsi_playlist = create_playlist(song,artist)"
   ]
  },
  {
   "cell_type": "code",
   "execution_count": 40,
   "metadata": {},
   "outputs": [
    {
     "name": "stdout",
     "output_type": "stream",
     "text": [
      "Artist: Orchestra Studio 7\n",
      "Song: Mamma mia che vò sapè - Instrument and base Version\n",
      "Year & Popularity: 1942, 0\n",
      "\n",
      "Artist: Led Zeppelin\n",
      "Song: Black Country Woman - 1993 Remaster\n",
      "Year & Popularity: 1975, 44\n",
      "\n",
      "Artist: Bryce Vine\n",
      "Song: La La Land\n",
      "Year & Popularity: 2019, 68\n",
      "\n",
      "Artist: Average White Band\n",
      "Song: Pick Up the Pieces\n",
      "Year & Popularity: 1974, 55\n",
      "\n",
      "Artist: Charles Givings\n",
      "Song: Easy (LIke Sunday Morning)\n",
      "Year & Popularity: 2003, 49\n",
      "\n",
      "Artist: Javier Solís\n",
      "Song: Las Mañanitas Tapatías\n",
      "Year & Popularity: 1961, 17\n",
      "\n",
      "Artist: Hüsker Dü\n",
      "Song: Hardly Getting over It\n",
      "Year & Popularity: 1986, 27\n",
      "\n",
      "Artist: Beastie Boys\n",
      "Song: B-Boys Makin' With The Freak Freak - Remastered 2009\n",
      "Year & Popularity: 1994, 43\n",
      "\n",
      "Artist: Hüsker Dü\n",
      "Song: I Don't Know for Sure\n",
      "Year & Popularity: 1986, 26\n",
      "\n",
      "Artist: La Fiera de Ojinaga\n",
      "Song: Te Vas a Acordar de Mi\n",
      "Year & Popularity: 2018, 58\n",
      "\n"
     ]
    }
   ],
   "source": [
    "#get recommendation for song Graduation (Friends Forever) by Vitamin C\n",
    "\n",
    "#return 10 similar song with raw similiarity scores and assign into list \n",
    "recommendations = playlist_reccomendations(dsi_playlist,10)\n",
    "\n",
    "#print similar songs with corresponding artist and song name\n",
    "show_recommendations(recommendations)"
   ]
  },
  {
   "cell_type": "code",
   "execution_count": 41,
   "metadata": {},
   "outputs": [],
   "source": [
    "#add song into playlist after looking at recommendation\n",
    "\n",
    "dsi_playlist = add_song_playlist(recommendations[7],dsi_playlist)"
   ]
  },
  {
   "cell_type": "code",
   "execution_count": 42,
   "metadata": {
    "scrolled": true
   },
   "outputs": [
    {
     "name": "stdout",
     "output_type": "stream",
     "text": [
      "Artist: Vitamin C\n",
      "Song: Graduation (Friends Forever)\n",
      "\n",
      "Artist: Chicago\n",
      "Song: Will You Still Love Me? - 2009 Remaster\n",
      "\n"
     ]
    }
   ],
   "source": [
    "show_current_playlist(dsi_playlist)"
   ]
  },
  {
   "cell_type": "code",
   "execution_count": 43,
   "metadata": {},
   "outputs": [
    {
     "name": "stdout",
     "output_type": "stream",
     "text": [
      "Artist: The Who\n",
      "Song: Love Reign O'er Me\n",
      "Year & Popularity: 1979, 31\n",
      "\n",
      "Artist: Taking Back Sunday\n",
      "Song: One-Eighty By Summer\n",
      "Year & Popularity: 2004, 44\n",
      "\n",
      "Artist: Falling In Reverse\n",
      "Song: Good Girls Bad Guys\n",
      "Year & Popularity: 2011, 65\n",
      "\n",
      "Artist: Wilco\n",
      "Song: Red-Eyed and Blue - 2017 Remaster\n",
      "Year & Popularity: 1996, 38\n",
      "\n",
      "Artist: Paul Whiteman\n",
      "Song: At Twilight\n",
      "Year & Popularity: 1928, 0\n",
      "\n",
      "Artist: Ludovico Sagese\n",
      "Song: Colors of the Wind\n",
      "Year & Popularity: 2019, 65\n",
      "\n",
      "Artist: Louis Armstrong\n",
      "Song: Bourbon Street Parade\n",
      "Year & Popularity: 1960, 12\n",
      "\n",
      "Artist: \"Circus DJs\"\n",
      "Song: Cotton Eyed Joe\n",
      "Year & Popularity: 2009, 49\n",
      "\n",
      "Artist: Bon Jovi\n",
      "Song: I'll Be There For You\n",
      "Year & Popularity: 1988, 68\n",
      "\n",
      "Artist: Ray Conniff\n",
      "Song: Temptation\n",
      "Year & Popularity: 1960, 36\n",
      "\n"
     ]
    }
   ],
   "source": [
    "recommendations = playlist_reccomendations(dsi_playlist,10)\n",
    "\n",
    "show_recommendations(recommendations)"
   ]
  },
  {
   "cell_type": "code",
   "execution_count": 44,
   "metadata": {},
   "outputs": [
    {
     "name": "stdout",
     "output_type": "stream",
     "text": [
      "Artist: Vitamin C\n",
      "Song: Graduation (Friends Forever)\n",
      "\n",
      "Artist: Chicago\n",
      "Song: Will You Still Love Me? - 2009 Remaster\n",
      "\n",
      "Artist: Porter Robinson\n",
      "Song: Divinity\n",
      "\n"
     ]
    }
   ],
   "source": [
    "#add song into playlist after looking at recommendation\n",
    "\n",
    "dsi_playlist = add_song_playlist(recommendations[4],dsi_playlist)\n",
    "\n",
    "show_current_playlist(dsi_playlist)"
   ]
  },
  {
   "cell_type": "code",
   "execution_count": 45,
   "metadata": {},
   "outputs": [
    {
     "name": "stdout",
     "output_type": "stream",
     "text": [
      "Artist: Grupo Ladron\n",
      "Song: Amor ausente\n",
      "Year & Popularity: 1990, 30\n",
      "\n",
      "Artist: Giasemi\n",
      "Song: Exeis fridia san gefiria\n",
      "Year & Popularity: 1950, 0\n",
      "\n",
      "Artist: Roy Jones Jr.\n",
      "Song: Body Head Anthem (feat. Mr. Magic & Choppa)\n",
      "Year & Popularity: 2004, 54\n",
      "\n",
      "Artist: Bon Jovi\n",
      "Song: I'll Be There For You\n",
      "Year & Popularity: 1988, 68\n",
      "\n",
      "Artist: The J. Geils Band\n",
      "Song: Homework - Live\n",
      "Year & Popularity: 1972, 23\n",
      "\n",
      "Artist: M. S. Subbulakshmi\n",
      "Song: Unnuravum\n",
      "Year & Popularity: 1939, 0\n",
      "\n",
      "Artist: Sonny Boy Williamson II\n",
      "Song: You Got To Give an Account\n",
      "Year & Popularity: 1938, 5\n",
      "\n",
      "Artist: Hlias Litos-Klarino\n",
      "Song: Zagorisio-Xoros Hpeiroy\n",
      "Year & Popularity: 1940, 0\n",
      "\n",
      "Artist: Roy Jones Jr.\n",
      "Song: Go Hard, Go Home (feat. Giz, Swellz & Choppa)\n",
      "Year & Popularity: 2004, 59\n",
      "\n",
      "Artist: The Royal Victoria Hotel Calypsos\n",
      "Song: Go Down Emmanuel Road, Lady Oh\n",
      "Year & Popularity: 1930, 1\n",
      "\n",
      "Artist: Asha Bhosle\n",
      "Song: Jadu Dale Hai Machal Machal\n",
      "Year & Popularity: 1937, 0\n",
      "\n",
      "Artist: Mr. Bungle\n",
      "Song: The Air-Conditioned Nightmare\n",
      "Year & Popularity: 1999, 40\n",
      "\n",
      "Artist: Gungor\n",
      "Song: Beautiful Things\n",
      "Year & Popularity: 2010, 53\n",
      "\n",
      "Artist: Lil Yachty\n",
      "Song: Pardon Me (Lil Yachty feat. Future & Mike WiLL Made-It)\n",
      "Year & Popularity: 2020, 65\n",
      "\n",
      "Artist: Lady Gaga\n",
      "Song: Born This Way\n",
      "Year & Popularity: 2011, 67\n",
      "\n"
     ]
    }
   ],
   "source": [
    "#return 15 similar song with raw similiarity scores and assign into list \n",
    "recommendations = playlist_reccomendations(dsi_playlist,15)\n",
    "\n",
    "#print similar songs with corresponding artist and song name\n",
    "show_recommendations(recommendations)"
   ]
  },
  {
   "cell_type": "code",
   "execution_count": 46,
   "metadata": {},
   "outputs": [
    {
     "name": "stdout",
     "output_type": "stream",
     "text": [
      "Artist: Vitamin C\n",
      "Song: Graduation (Friends Forever)\n",
      "\n",
      "Artist: Chicago\n",
      "Song: Will You Still Love Me? - 2009 Remaster\n",
      "\n",
      "Artist: Porter Robinson\n",
      "Song: Divinity\n",
      "\n",
      "Artist: Jhay Cortez\n",
      "Song: Kobe En LA 2.0\n",
      "\n"
     ]
    }
   ],
   "source": [
    "#add song into playlist after looking at recommendation\n",
    "\n",
    "dsi_playlist = add_song_playlist(recommendations[1],dsi_playlist)\n",
    "\n",
    "show_current_playlist(dsi_playlist)"
   ]
  },
  {
   "cell_type": "code",
   "execution_count": 47,
   "metadata": {},
   "outputs": [
    {
     "name": "stdout",
     "output_type": "stream",
     "text": [
      "Artist: K.C.Dey\n",
      "Song: Hari Ke Naam Bina Re\n",
      "Year & Popularity: 1945, 0\n",
      "\n",
      "Artist: DJ Luian\n",
      "Song: La Ocasión\n",
      "Year & Popularity: 2018, 67\n",
      "\n",
      "Artist: Mohantara Talpade\n",
      "Song: Gori Chunariya Ka Rang\n",
      "Year & Popularity: 1947, 0\n",
      "\n",
      "Artist: Bon Jovi\n",
      "Song: I'll Be There For You\n",
      "Year & Popularity: 1988, 68\n",
      "\n",
      "Artist: Kausion\n",
      "Song: Click, Click\n",
      "Year & Popularity: 1995, 31\n",
      "\n",
      "Artist: Smokie Norful\n",
      "Song: Still Say Thank You\n",
      "Year & Popularity: 2002, 36\n",
      "\n",
      "Artist: Sonic Youth\n",
      "Song: Sugar Kane\n",
      "Year & Popularity: 1992, 54\n",
      "\n",
      "Artist: Joan Sebastian\n",
      "Song: Qué No Te Asombre\n",
      "Year & Popularity: 1996, 47\n",
      "\n",
      "Artist: Judas Priest\n",
      "Song: A Touch of Evil\n",
      "Year & Popularity: 1990, 48\n",
      "\n",
      "Artist: Roy Jones Jr.\n",
      "Song: Go Hard, Go Home (feat. Giz, Swellz & Choppa)\n",
      "Year & Popularity: 2004, 59\n",
      "\n"
     ]
    }
   ],
   "source": [
    "#return 15 similar song with raw similiarity scores and assign into list \n",
    "recommendations = playlist_reccomendations(dsi_playlist,10)\n",
    "\n",
    "#print similar songs with corresponding artist and song name\n",
    "show_recommendations(recommendations)"
   ]
  },
  {
   "cell_type": "code",
   "execution_count": 48,
   "metadata": {},
   "outputs": [
    {
     "name": "stdout",
     "output_type": "stream",
     "text": [
      "Artist: Vitamin C\n",
      "Song: Graduation (Friends Forever)\n",
      "\n",
      "Artist: Chicago\n",
      "Song: Will You Still Love Me? - 2009 Remaster\n",
      "\n",
      "Artist: Porter Robinson\n",
      "Song: Divinity\n",
      "\n",
      "Artist: Jhay Cortez\n",
      "Song: Kobe En LA 2.0\n",
      "\n",
      "Artist: Ying Yang Twins\n",
      "Song: Get Low\n",
      "\n"
     ]
    }
   ],
   "source": [
    "#add song into playlist after looking at recommendation\n",
    "\n",
    "dsi_playlist = add_song_playlist(recommendations[0],dsi_playlist)\n",
    "\n",
    "show_current_playlist(dsi_playlist)"
   ]
  },
  {
   "cell_type": "code",
   "execution_count": 49,
   "metadata": {},
   "outputs": [
    {
     "name": "stdout",
     "output_type": "stream",
     "text": [
      "Artist: Nina Simone\n",
      "Song: Solitaire\n",
      "Year & Popularity: 1959, 8\n",
      "\n",
      "Artist: Los Inquietos Del Norte\n",
      "Song: Mi Amigo el de Arriba\n",
      "Year & Popularity: 2012, 63\n",
      "\n",
      "Artist: Roy Jones Jr.\n",
      "Song: Go Hard, Go Home (feat. Giz, Swellz & Choppa)\n",
      "Year & Popularity: 2004, 59\n",
      "\n",
      "Artist: Marcos Valle\n",
      "Song: So Nice (Summer Samba)\n",
      "Year & Popularity: 1968, 45\n",
      "\n",
      "Artist: Judas Priest\n",
      "Song: A Touch of Evil\n",
      "Year & Popularity: 1990, 48\n",
      "\n",
      "Artist: Bon Jovi\n",
      "Song: I'll Be There For You\n",
      "Year & Popularity: 1988, 68\n",
      "\n",
      "Artist: Aretha Franklin\n",
      "Song: Today I Sing the Blues - Mono Version\n",
      "Year & Popularity: 1961, 11\n",
      "\n",
      "Artist: Movie Sounds Unlimited\n",
      "Song: Now Or Never - From High School Musical 3: Senior Year\n",
      "Year & Popularity: 2009, 0\n",
      "\n",
      "Artist: Héctor Acosta \"El Torito\"\n",
      "Song: Sin Perdón\n",
      "Year & Popularity: 2008, 48\n",
      "\n",
      "Artist: Lil Uzi Vert\n",
      "Song: Early 20 Rager\n",
      "Year & Popularity: 2017, 55\n",
      "\n"
     ]
    }
   ],
   "source": [
    "#return 10 similar song with raw similiarity scores and assign into list \n",
    "recommendations = playlist_reccomendations(dsi_playlist,10)\n",
    "\n",
    "#print similar songs with corresponding artist and song name\n",
    "show_recommendations(recommendations)"
   ]
  },
  {
   "cell_type": "code",
   "execution_count": 50,
   "metadata": {},
   "outputs": [
    {
     "name": "stdout",
     "output_type": "stream",
     "text": [
      "Artist: Vitamin C\n",
      "Song: Graduation (Friends Forever)\n",
      "\n",
      "Artist: Chicago\n",
      "Song: Will You Still Love Me? - 2009 Remaster\n",
      "\n",
      "Artist: Porter Robinson\n",
      "Song: Divinity\n",
      "\n",
      "Artist: Jhay Cortez\n",
      "Song: Kobe En LA 2.0\n",
      "\n",
      "Artist: Ying Yang Twins\n",
      "Song: Get Low\n",
      "\n",
      "Artist: Gary Numan\n",
      "Song: M.E.\n",
      "\n"
     ]
    }
   ],
   "source": [
    "#add song into playlist after looking at recommendation\n",
    "\n",
    "dsi_playlist = add_song_playlist(recommendations[7],dsi_playlist)\n",
    "\n",
    "show_current_playlist(dsi_playlist)"
   ]
  },
  {
   "cell_type": "code",
   "execution_count": 51,
   "metadata": {},
   "outputs": [
    {
     "name": "stdout",
     "output_type": "stream",
     "text": [
      "Artist: Judas Priest\n",
      "Song: A Touch of Evil\n",
      "Year & Popularity: 1990, 48\n",
      "\n",
      "Artist: \"Billy Crash Craddock\"\n",
      "Song: Rub It In\n",
      "Year & Popularity: 1996, 39\n",
      "\n",
      "Artist: U2\n",
      "Song: Red Hill Mining Town - Steve Lillywhite 2017 Mix\n",
      "Year & Popularity: 1987, 36\n",
      "\n",
      "Artist: Marcos Valle\n",
      "Song: So Nice (Summer Samba)\n",
      "Year & Popularity: 1968, 45\n",
      "\n",
      "Artist: Shamshad Begum\n",
      "Song: Nainon Ke Baan Ki Reet Anokhi\n",
      "Year & Popularity: 1941, 0\n",
      "\n",
      "Artist: The Housemartins\n",
      "Song: Get up off Our Knees\n",
      "Year & Popularity: 1986, 24\n",
      "\n",
      "Artist: Santana\n",
      "Song: Treat\n",
      "Year & Popularity: 1969, 43\n",
      "\n",
      "Artist: Roy Jones Jr.\n",
      "Song: Go Hard, Go Home (feat. Giz, Swellz & Choppa)\n",
      "Year & Popularity: 2004, 59\n",
      "\n",
      "Artist: Chocolate Milk\n",
      "Song: Doc\n",
      "Year & Popularity: 1979, 41\n",
      "\n",
      "Artist: Doris Day\n",
      "Song: Zip-A-Dee-Doo-Dah (with Jimmy Joyce & His Children's Chorus)\n",
      "Year & Popularity: 1960, 10\n",
      "\n",
      "Artist: A Guy Called Gerald\n",
      "Song: Voodoo Ray\n",
      "Year & Popularity: 1988, 48\n",
      "\n",
      "Artist: Smokie Norful\n",
      "Song: Still Say Thank You\n",
      "Year & Popularity: 2002, 36\n",
      "\n",
      "Artist: Bon Jovi\n",
      "Song: I'll Be There For You\n",
      "Year & Popularity: 1988, 68\n",
      "\n",
      "Artist: Lil Uzi Vert\n",
      "Song: Early 20 Rager\n",
      "Year & Popularity: 2017, 55\n",
      "\n",
      "Artist: PJ Harvey\n",
      "Song: We Float\n",
      "Year & Popularity: 2000, 47\n",
      "\n"
     ]
    }
   ],
   "source": [
    "#return 15 similar song with raw similiarity scores and assign into list \n",
    "recommendations = playlist_reccomendations(dsi_playlist,15)\n",
    "\n",
    "#print similar songs with corresponding artist and song name\n",
    "show_recommendations(recommendations)"
   ]
  },
  {
   "cell_type": "code",
   "execution_count": 52,
   "metadata": {},
   "outputs": [
    {
     "name": "stdout",
     "output_type": "stream",
     "text": [
      "Artist: Vitamin C\n",
      "Song: Graduation (Friends Forever)\n",
      "\n",
      "Artist: Chicago\n",
      "Song: Will You Still Love Me? - 2009 Remaster\n",
      "\n",
      "Artist: Porter Robinson\n",
      "Song: Divinity\n",
      "\n",
      "Artist: Jhay Cortez\n",
      "Song: Kobe En LA 2.0\n",
      "\n",
      "Artist: Ying Yang Twins\n",
      "Song: Get Low\n",
      "\n",
      "Artist: Gary Numan\n",
      "Song: M.E.\n",
      "\n",
      "Artist: PJ Harvey\n",
      "Song: We Float\n",
      "\n"
     ]
    }
   ],
   "source": [
    "#add song into playlist after looking at recommendation\n",
    "\n",
    "dsi_playlist = add_song_playlist(recommendations[14],dsi_playlist)\n",
    "\n",
    "show_current_playlist(dsi_playlist)"
   ]
  },
  {
   "cell_type": "code",
   "execution_count": 53,
   "metadata": {},
   "outputs": [
    {
     "name": "stdout",
     "output_type": "stream",
     "text": [
      "Artist: Sandi Patty\n",
      "Song: Was It a Morning Like This\n",
      "Year & Popularity: 1986, 31\n",
      "\n",
      "Artist: Judas Priest\n",
      "Song: A Touch of Evil\n",
      "Year & Popularity: 1990, 48\n",
      "\n",
      "Artist: Sade\n",
      "Song: Paradise\n",
      "Year & Popularity: 1994, 58\n",
      "\n",
      "Artist: Rush\n",
      "Song: Anagram - 2004 Remaster\n",
      "Year & Popularity: 1989, 28\n",
      "\n",
      "Artist: Ivan Gough\n",
      "Song: In My Mind (feat. Georgi Kay) - Axwell Radio Edit\n",
      "Year & Popularity: 2012, 61\n",
      "\n",
      "Artist: Beastie Boys\n",
      "Song: Hey Ladies\n",
      "Year & Popularity: 1989, 53\n",
      "\n",
      "Artist: Los Bukis\n",
      "Song: A Aquella\n",
      "Year & Popularity: 1993, 44\n",
      "\n",
      "Artist: Blitz\n",
      "Song: Voice Of A Generation\n",
      "Year & Popularity: 1982, 31\n",
      "\n",
      "Artist: Pat Green\n",
      "Song: Texas On My Mind\n",
      "Year & Popularity: 2001, 42\n",
      "\n",
      "Artist: Roy Jones Jr.\n",
      "Song: Go Hard, Go Home (feat. Giz, Swellz & Choppa)\n",
      "Year & Popularity: 2004, 59\n",
      "\n",
      "Artist: Stelios Kazantzidis\n",
      "Song: Isos aurio\n",
      "Year & Popularity: 1950, 0\n",
      "\n",
      "Artist: Tribal Seeds\n",
      "Song: Island Girl\n",
      "Year & Popularity: 2008, 41\n",
      "\n",
      "Artist: Joan Sebastian\n",
      "Song: Como Tú Decidas\n",
      "Year & Popularity: 1998, 57\n",
      "\n",
      "Artist: Me First and the Gimme Gimmes\n",
      "Song: Danny's Song\n",
      "Year & Popularity: 1997, 48\n",
      "\n",
      "Artist: Igor Stravinsky\n",
      "Song: The Rake's Progress - Opera in 3 Acts: Act II, Scene 3: As I Was Saying - Come, Sweet, Come - Scorned! Abused! - My Heart Is Cold, I Cannot Weep - Fa la la - Oh, I Wish It Were True\n",
      "Year & Popularity: 1953, 0\n",
      "\n"
     ]
    }
   ],
   "source": [
    "#return 15 similar song with raw similiarity scores and assign into list \n",
    "recommendations = playlist_reccomendations(dsi_playlist,15)\n",
    "\n",
    "#print similar songs with corresponding artist and song name\n",
    "show_recommendations(recommendations)"
   ]
  },
  {
   "cell_type": "code",
   "execution_count": 54,
   "metadata": {},
   "outputs": [
    {
     "name": "stdout",
     "output_type": "stream",
     "text": [
      "Artist: Vitamin C\n",
      "Song: Graduation (Friends Forever)\n",
      "\n",
      "Artist: Chicago\n",
      "Song: Will You Still Love Me? - 2009 Remaster\n",
      "\n",
      "Artist: Porter Robinson\n",
      "Song: Divinity\n",
      "\n",
      "Artist: Jhay Cortez\n",
      "Song: Kobe En LA 2.0\n",
      "\n",
      "Artist: Ying Yang Twins\n",
      "Song: Get Low\n",
      "\n",
      "Artist: Gary Numan\n",
      "Song: M.E.\n",
      "\n",
      "Artist: PJ Harvey\n",
      "Song: We Float\n",
      "\n",
      "Artist: R.E.M.\n",
      "Song: Camera - Original Album Version\n",
      "\n"
     ]
    }
   ],
   "source": [
    "#add song into playlist after looking at recommendation\n",
    "\n",
    "dsi_playlist = add_song_playlist(recommendations[10],dsi_playlist)\n",
    "\n",
    "show_current_playlist(dsi_playlist)"
   ]
  },
  {
   "cell_type": "markdown",
   "metadata": {},
   "source": [
    "And thats it! This will be the 8 song in that I would base my DSI 21 Grad playlist on!!"
   ]
  }
 ],
 "metadata": {
  "kernelspec": {
   "display_name": "Python 3",
   "language": "python",
   "name": "python3"
  },
  "language_info": {
   "codemirror_mode": {
    "name": "ipython",
    "version": 3
   },
   "file_extension": ".py",
   "mimetype": "text/x-python",
   "name": "python",
   "nbconvert_exporter": "python",
   "pygments_lexer": "ipython3",
   "version": "3.8.5"
  }
 },
 "nbformat": 4,
 "nbformat_minor": 4
}
