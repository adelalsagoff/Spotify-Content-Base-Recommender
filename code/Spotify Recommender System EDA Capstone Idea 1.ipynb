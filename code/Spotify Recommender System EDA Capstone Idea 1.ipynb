{
 "cells": [
  {
   "cell_type": "markdown",
   "metadata": {},
   "source": [
    "## Problem Statement"
   ]
  },
  {
   "cell_type": "markdown",
   "metadata": {},
   "source": [
    "When engaging with content in our model world, corporations use recommender system to suggest future content we might like based on the attributes of the content. Be it movies or books that we may be interested in with the goal of keeping customer interested andf However this may cause an echo chamber effect.\n",
    "\n",
    "An extreme example of an echo chamber caused by recommender system is youtube's algorithm suggesting alt-right content which may lead to an individual developing extremist views. And this a problem of overtraining, because what is recommended is based on the data that is inputed to the system. \n",
    "\n",
    "Spotify uses a common method for producing recommendations known as collaborative filtering which generates recommendations based on the combined preferences of the consumer requesting recommendations and those of other consumers. The underlying issue with this method is that song recommendations are based on the 'crowd'.\n",
    "\n",
    "Furthermore, as the business model of Spotify is built in a way where artists are compensated by number of streams, the homegenization of new music become more prevalent. Such as making songs more catchier and shorter. \n",
    "\n",
    "The recommender system I would like to propose is for users to be recommended songs based on the 'DNA' of the music they have been listening to with the goal of potentially exposing the listener to songs form different genres and epochs. This is threfore a cluster or nearest neighbour recommendation system. This would broaden the horizon of music listeners and also bring attention to artists that create music as an artform as opposed to achieving the highest streaming numbers. "
   ]
  },
  {
   "cell_type": "markdown",
   "metadata": {},
   "source": [
    "## Import Libraries"
   ]
  },
  {
   "cell_type": "code",
   "execution_count": 1,
   "metadata": {},
   "outputs": [],
   "source": [
    "import pandas as pd\n",
    "import numpy as np\n",
    "import matplotlib.pyplot as plt\n",
    "import seaborn as sns\n",
    "import datetime\n",
    "\n",
    "from sklearn.preprocessing import StandardScaler\n",
    "from sklearn.cluster import KMeans\n",
    "from sklearn.pipeline import Pipeline\n",
    "\n",
    "from sklearn.manifold import TSNE\n",
    "\n",
    "plt.style.use('fivethirtyeight')"
   ]
  },
  {
   "cell_type": "markdown",
   "metadata": {},
   "source": [
    "# Datasets for Artist information (from Spotify Songs Kaggle dataset)"
   ]
  },
  {
   "cell_type": "code",
   "execution_count": 2,
   "metadata": {},
   "outputs": [],
   "source": [
    "artist_df = pd.read_csv('../data/spotify_songs_1922/artists.csv')\n",
    "data_by_artist_df = pd.read_csv('../data/spotify_songs_1922/data_by_artist_o.csv')\n",
    "tracks_df = pd.read_csv('../data/spotify_songs_1922/tracks.csv')\n",
    "data_df = pd.read_csv('../data/spotify_songs_1922/data_o.csv')\n",
    "data_by_year_df = pd.read_csv('../data/spotify_songs_1922/data_by_year_o.csv')\n",
    "data_by_genres_df = pd.read_csv('../data/spotify_songs_1922/data_by_genres_o.csv')"
   ]
  },
  {
   "cell_type": "markdown",
   "metadata": {},
   "source": [
    "## Decisions Moving Forward\n",
    "- Using non explicit songs as there are more \n",
    "- consider making a decade categorical feature\n",
    "- clustering genres together as genres are are not generalised\n"
   ]
  },
  {
   "cell_type": "markdown",
   "metadata": {},
   "source": [
    "## Modelling:\n",
    "\n",
    "### Feature Engineering\n",
    "\n",
    "- using K-means(or other clustering techniques) to cluster genre together \n",
    "- should also look into other clustering methods\n",
    "\n",
    "\n",
    "- what if you use TFIDF on genre feature considering that it is text data (tfidf gives more weight on words that are unique to a datapoint, if the word 'hiphop' is unique to a song's genre name, the model would 'clsuter' them together as it views it as similar. Less weight is given ). Countvectorizer would not be useful, in terms of application it would be better in looing for frequency of phrases etc.\n",
    "- in TFIDF you are calculating the inverse log freqeuncy of a word in a sentence divided by number sentences, times the the frequency of the word in its sentence. However in this context, sentences are the song genres in a given playlist.\n",
    "- if a genre is chinese pop, the word pop wouldnt have the most weight to it, but the word 'chinese' would have higher weight. This could potentially be a meta data of its own. \n",
    "\n",
    "\n",
    "- find a way for songs to not be suggested based on what's current. let songs that were decades old be be recommended. Decide how to manipulate that weight of the feature.\n",
    "\n",
    "\n",
    "\n",
    "### Diferent types of Feature Selection/Extraction\n",
    "\n",
    "- Using SVD (Singular Vector Decompostion) \"Matrix Decomposition\"\n",
    "- Using PCA to select the most important variables\n",
    "\n",
    "### Metrics\n",
    "\n",
    "- Unsure if the metric is subject to the listener\n",
    "\n",
    "\n",
    "### Building the Recommender System\n",
    "- Naive and non personalised way by recreating the Collab Filtering as a baseline\n",
    "- using distance to build a recommender system via clustered genres\n",
    "- Using CNN as a recommender system\n",
    "    - emulating this research paper https://www.sciencedirect.com/science/article/pii/S1877050919310646/pdf?md5=4f9a5242eb223b5c96c9ebf130855467&pid=1-s2.0-S1877050919310646-main.pd\n",
    "- using cosine similarity\n",
    "\n",
    "### Potential Limitations and Considerations\n",
    "\n",
    "- kaggle dataset does not have user engagement and only genre metadata\n",
    "\n",
    " - do i need to use the million dataset as i need a rating system to work on?\n",
    "     - current spotify dataset may not have enough features\n",
    "     - Source of dataset: http://millionsongdataset.com/\n",
    "     - This article uses it https://towardsdatascience.com/how-to-build-a-simple-song-recommender-296fcbc8c85\n",
    "    \n",
    "     \n",
    "     \n",
    " - Show why Collab filtering is not ideal due to the the cold start problem, also suggesting niche recommendation, requires reference from what may be a scare dataset. Generally why collab filtering would create an echo chamber because popularity of the music can be affected exogenous factors such as hype around the artist, your social group and so on. \n",
    " \n",
    " "
   ]
  },
  {
   "cell_type": "markdown",
   "metadata": {},
   "source": [
    "#### helpful research links\n",
    "\n",
    "- https://www.nytimes.com/2009/10/18/magazine/18Pandora-t.html\n",
    "- https://towardsdatascience.com/4-ways-to-supercharge-your-recommendation-system-aeac34678ce9\n",
    "- https://soundcharts.com/blog/music-industry-trends#the-democratization-of-music-creation"
   ]
  },
  {
   "cell_type": "markdown",
   "metadata": {},
   "source": [
    "## Data Dictionary"
   ]
  },
  {
   "cell_type": "code",
   "execution_count": null,
   "metadata": {},
   "outputs": [],
   "source": []
  },
  {
   "cell_type": "markdown",
   "metadata": {},
   "source": [
    "## Datasets Description"
   ]
  },
  {
   "cell_type": "markdown",
   "metadata": {},
   "source": [
    "#### artist_df\n",
    "- shows popularity\n",
    "- shows number of followers\n",
    "- shows genre\n",
    "\n",
    "#### data_by_artist_df\n",
    "- 28680 artists\n",
    "- gives average of the songs metadeta made by the artist. \n",
    "- Think of as the music DNA of the artist\n",
    "- Also provides a list of genre the artist is categorised in.\n",
    " \n",
    "#### tracks_df (songs)\n",
    "- 586672 songs\n",
    "- Does not have genre IMPORTANT\n",
    "- has repeats of the same song with the same specs, possibly rereleased.\n",
    "- does not have year or release date\n",
    "- has song metadata.\n",
    "\n",
    "#### data_df (songs)\n",
    "- 170653 songs\n",
    "- does not have genre\n",
    "- has release dates and year in the dataset\n",
    "- has song meta deta\n",
    "\n",
    "#### data_by_year\n",
    "- shows average of music data that year\n",
    "- Useful for EDA\n",
    "    - show trend of how music has evolved over the years\n",
    "    - plot graph"
   ]
  },
  {
   "cell_type": "markdown",
   "metadata": {},
   "source": [
    "## Data Cleaning"
   ]
  },
  {
   "cell_type": "markdown",
   "metadata": {},
   "source": [
    "## Check for duplicates"
   ]
  },
  {
   "cell_type": "code",
   "execution_count": 3,
   "metadata": {},
   "outputs": [
    {
     "data": {
      "text/html": [
       "<div>\n",
       "<style scoped>\n",
       "    .dataframe tbody tr th:only-of-type {\n",
       "        vertical-align: middle;\n",
       "    }\n",
       "\n",
       "    .dataframe tbody tr th {\n",
       "        vertical-align: top;\n",
       "    }\n",
       "\n",
       "    .dataframe thead th {\n",
       "        text-align: right;\n",
       "    }\n",
       "</style>\n",
       "<table border=\"1\" class=\"dataframe\">\n",
       "  <thead>\n",
       "    <tr style=\"text-align: right;\">\n",
       "      <th></th>\n",
       "      <th>valence</th>\n",
       "      <th>year</th>\n",
       "      <th>acousticness</th>\n",
       "      <th>artists</th>\n",
       "      <th>danceability</th>\n",
       "      <th>duration_ms</th>\n",
       "      <th>energy</th>\n",
       "      <th>explicit</th>\n",
       "      <th>id</th>\n",
       "      <th>instrumentalness</th>\n",
       "      <th>key</th>\n",
       "      <th>liveness</th>\n",
       "      <th>loudness</th>\n",
       "      <th>mode</th>\n",
       "      <th>name</th>\n",
       "      <th>popularity</th>\n",
       "      <th>release_date</th>\n",
       "      <th>speechiness</th>\n",
       "      <th>tempo</th>\n",
       "    </tr>\n",
       "  </thead>\n",
       "  <tbody>\n",
       "    <tr>\n",
       "      <th>19638</th>\n",
       "      <td>0.774</td>\n",
       "      <td>2020</td>\n",
       "      <td>0.235</td>\n",
       "      <td>['Ashnikko']</td>\n",
       "      <td>0.834</td>\n",
       "      <td>146523</td>\n",
       "      <td>0.663</td>\n",
       "      <td>1</td>\n",
       "      <td>0AUvWawuP0ibk4SQ3sIZjk</td>\n",
       "      <td>0.0</td>\n",
       "      <td>8</td>\n",
       "      <td>0.372</td>\n",
       "      <td>-6.143</td>\n",
       "      <td>1</td>\n",
       "      <td>Daisy</td>\n",
       "      <td>90</td>\n",
       "      <td>2020-07-09</td>\n",
       "      <td>0.133</td>\n",
       "      <td>121.876</td>\n",
       "    </tr>\n",
       "  </tbody>\n",
       "</table>\n",
       "</div>"
      ],
      "text/plain": [
       "       valence  year  acousticness       artists  danceability  duration_ms  \\\n",
       "19638    0.774  2020         0.235  ['Ashnikko']         0.834       146523   \n",
       "\n",
       "       energy  explicit                      id  instrumentalness  key  \\\n",
       "19638   0.663         1  0AUvWawuP0ibk4SQ3sIZjk               0.0    8   \n",
       "\n",
       "       liveness  loudness  mode   name  popularity release_date  speechiness  \\\n",
       "19638     0.372    -6.143     1  Daisy          90   2020-07-09        0.133   \n",
       "\n",
       "         tempo  \n",
       "19638  121.876  "
      ]
     },
     "execution_count": 3,
     "metadata": {},
     "output_type": "execute_result"
    }
   ],
   "source": [
    "# check for Ashnikko result for the Song 'Daisy' in data_df dataset\n",
    "data_df[(data_df.artists == \"['Ashnikko']\") & (data_df.name == \"Daisy\")]"
   ]
  },
  {
   "cell_type": "code",
   "execution_count": 4,
   "metadata": {},
   "outputs": [
    {
     "data": {
      "text/html": [
       "<div>\n",
       "<style scoped>\n",
       "    .dataframe tbody tr th:only-of-type {\n",
       "        vertical-align: middle;\n",
       "    }\n",
       "\n",
       "    .dataframe tbody tr th {\n",
       "        vertical-align: top;\n",
       "    }\n",
       "\n",
       "    .dataframe thead th {\n",
       "        text-align: right;\n",
       "    }\n",
       "</style>\n",
       "<table border=\"1\" class=\"dataframe\">\n",
       "  <thead>\n",
       "    <tr style=\"text-align: right;\">\n",
       "      <th></th>\n",
       "      <th>id</th>\n",
       "      <th>name</th>\n",
       "      <th>popularity</th>\n",
       "      <th>duration_ms</th>\n",
       "      <th>explicit</th>\n",
       "      <th>artists</th>\n",
       "      <th>id_artists</th>\n",
       "      <th>release_date</th>\n",
       "      <th>danceability</th>\n",
       "      <th>energy</th>\n",
       "      <th>key</th>\n",
       "      <th>loudness</th>\n",
       "      <th>mode</th>\n",
       "      <th>speechiness</th>\n",
       "      <th>acousticness</th>\n",
       "      <th>instrumentalness</th>\n",
       "      <th>liveness</th>\n",
       "      <th>valence</th>\n",
       "      <th>tempo</th>\n",
       "      <th>time_signature</th>\n",
       "    </tr>\n",
       "  </thead>\n",
       "  <tbody>\n",
       "    <tr>\n",
       "      <th>93137</th>\n",
       "      <td>0AUvWawuP0ibk4SQ3sIZjk</td>\n",
       "      <td>Daisy</td>\n",
       "      <td>82</td>\n",
       "      <td>146523</td>\n",
       "      <td>1</td>\n",
       "      <td>['Ashnikko']</td>\n",
       "      <td>['3PyJHH2wyfQK3WZrk9rpmP']</td>\n",
       "      <td>2020-07-09</td>\n",
       "      <td>0.834</td>\n",
       "      <td>0.663</td>\n",
       "      <td>8</td>\n",
       "      <td>-6.143</td>\n",
       "      <td>1</td>\n",
       "      <td>0.133</td>\n",
       "      <td>0.235</td>\n",
       "      <td>0.0</td>\n",
       "      <td>0.372</td>\n",
       "      <td>0.774</td>\n",
       "      <td>121.876</td>\n",
       "      <td>4</td>\n",
       "    </tr>\n",
       "    <tr>\n",
       "      <th>94181</th>\n",
       "      <td>2g1KggY9PKvsoEAOaiz4xx</td>\n",
       "      <td>Daisy</td>\n",
       "      <td>77</td>\n",
       "      <td>146523</td>\n",
       "      <td>1</td>\n",
       "      <td>['Ashnikko']</td>\n",
       "      <td>['3PyJHH2wyfQK3WZrk9rpmP']</td>\n",
       "      <td>2021-01-15</td>\n",
       "      <td>0.834</td>\n",
       "      <td>0.663</td>\n",
       "      <td>8</td>\n",
       "      <td>-6.143</td>\n",
       "      <td>1</td>\n",
       "      <td>0.133</td>\n",
       "      <td>0.235</td>\n",
       "      <td>0.0</td>\n",
       "      <td>0.372</td>\n",
       "      <td>0.774</td>\n",
       "      <td>121.876</td>\n",
       "      <td>4</td>\n",
       "    </tr>\n",
       "  </tbody>\n",
       "</table>\n",
       "</div>"
      ],
      "text/plain": [
       "                           id   name  popularity  duration_ms  explicit  \\\n",
       "93137  0AUvWawuP0ibk4SQ3sIZjk  Daisy          82       146523         1   \n",
       "94181  2g1KggY9PKvsoEAOaiz4xx  Daisy          77       146523         1   \n",
       "\n",
       "            artists                  id_artists release_date  danceability  \\\n",
       "93137  ['Ashnikko']  ['3PyJHH2wyfQK3WZrk9rpmP']   2020-07-09         0.834   \n",
       "94181  ['Ashnikko']  ['3PyJHH2wyfQK3WZrk9rpmP']   2021-01-15         0.834   \n",
       "\n",
       "       energy  key  loudness  mode  speechiness  acousticness  \\\n",
       "93137   0.663    8    -6.143     1        0.133         0.235   \n",
       "94181   0.663    8    -6.143     1        0.133         0.235   \n",
       "\n",
       "       instrumentalness  liveness  valence    tempo  time_signature  \n",
       "93137               0.0     0.372    0.774  121.876               4  \n",
       "94181               0.0     0.372    0.774  121.876               4  "
      ]
     },
     "execution_count": 4,
     "metadata": {},
     "output_type": "execute_result"
    }
   ],
   "source": [
    "# check for Ashnikko result for the Song 'Daisy' in track_df dataset\n",
    "tracks_df[(tracks_df.artists == \"['Ashnikko']\") & (tracks_df.name == \"Daisy\")]"
   ]
  },
  {
   "cell_type": "markdown",
   "metadata": {},
   "source": [
    "comments:\n",
    "tracks_df may have duplicates, one example thus far is difference in release dates. \n",
    "\n",
    "Comparing the same song between data_df and tracks_df, they share the same ID for one of them however certain attribute have different values, such as popularity."
   ]
  },
  {
   "cell_type": "code",
   "execution_count": 5,
   "metadata": {},
   "outputs": [
    {
     "data": {
      "text/html": [
       "<div>\n",
       "<style scoped>\n",
       "    .dataframe tbody tr th:only-of-type {\n",
       "        vertical-align: middle;\n",
       "    }\n",
       "\n",
       "    .dataframe tbody tr th {\n",
       "        vertical-align: top;\n",
       "    }\n",
       "\n",
       "    .dataframe thead th {\n",
       "        text-align: right;\n",
       "    }\n",
       "</style>\n",
       "<table border=\"1\" class=\"dataframe\">\n",
       "  <thead>\n",
       "    <tr style=\"text-align: right;\">\n",
       "      <th></th>\n",
       "      <th>valence</th>\n",
       "      <th>year</th>\n",
       "      <th>acousticness</th>\n",
       "      <th>artists</th>\n",
       "      <th>danceability</th>\n",
       "      <th>duration_ms</th>\n",
       "      <th>energy</th>\n",
       "      <th>explicit</th>\n",
       "      <th>id</th>\n",
       "      <th>instrumentalness</th>\n",
       "      <th>key</th>\n",
       "      <th>liveness</th>\n",
       "      <th>loudness</th>\n",
       "      <th>mode</th>\n",
       "      <th>name</th>\n",
       "      <th>popularity</th>\n",
       "      <th>release_date</th>\n",
       "      <th>speechiness</th>\n",
       "      <th>tempo</th>\n",
       "    </tr>\n",
       "  </thead>\n",
       "  <tbody>\n",
       "    <tr>\n",
       "      <th>17419</th>\n",
       "      <td>0.558</td>\n",
       "      <td>2009</td>\n",
       "      <td>0.1900</td>\n",
       "      <td>['Drake']</td>\n",
       "      <td>0.395</td>\n",
       "      <td>257690</td>\n",
       "      <td>0.922</td>\n",
       "      <td>1</td>\n",
       "      <td>3QLjDkgLh9AOEHlhQtDuhs</td>\n",
       "      <td>0.0</td>\n",
       "      <td>1</td>\n",
       "      <td>0.134</td>\n",
       "      <td>-2.176</td>\n",
       "      <td>1</td>\n",
       "      <td>Best I Ever Had</td>\n",
       "      <td>73</td>\n",
       "      <td>2009</td>\n",
       "      <td>0.375</td>\n",
       "      <td>162.361</td>\n",
       "    </tr>\n",
       "    <tr>\n",
       "      <th>17795</th>\n",
       "      <td>0.605</td>\n",
       "      <td>2010</td>\n",
       "      <td>0.0951</td>\n",
       "      <td>['Drake']</td>\n",
       "      <td>0.431</td>\n",
       "      <td>258760</td>\n",
       "      <td>0.894</td>\n",
       "      <td>1</td>\n",
       "      <td>1GxHeBvQ9935Dd3cSfsfBa</td>\n",
       "      <td>0.0</td>\n",
       "      <td>5</td>\n",
       "      <td>0.188</td>\n",
       "      <td>-2.673</td>\n",
       "      <td>0</td>\n",
       "      <td>Best I Ever Had</td>\n",
       "      <td>63</td>\n",
       "      <td>2010-01-01</td>\n",
       "      <td>0.330</td>\n",
       "      <td>162.161</td>\n",
       "    </tr>\n",
       "  </tbody>\n",
       "</table>\n",
       "</div>"
      ],
      "text/plain": [
       "       valence  year  acousticness    artists  danceability  duration_ms  \\\n",
       "17419    0.558  2009        0.1900  ['Drake']         0.395       257690   \n",
       "17795    0.605  2010        0.0951  ['Drake']         0.431       258760   \n",
       "\n",
       "       energy  explicit                      id  instrumentalness  key  \\\n",
       "17419   0.922         1  3QLjDkgLh9AOEHlhQtDuhs               0.0    1   \n",
       "17795   0.894         1  1GxHeBvQ9935Dd3cSfsfBa               0.0    5   \n",
       "\n",
       "       liveness  loudness  mode             name  popularity release_date  \\\n",
       "17419     0.134    -2.176     1  Best I Ever Had          73         2009   \n",
       "17795     0.188    -2.673     0  Best I Ever Had          63   2010-01-01   \n",
       "\n",
       "       speechiness    tempo  \n",
       "17419        0.375  162.361  \n",
       "17795        0.330  162.161  "
      ]
     },
     "execution_count": 5,
     "metadata": {},
     "output_type": "execute_result"
    }
   ],
   "source": [
    "# check for Drake result for the Song 'Daisy' in data_df dataset\n",
    "data_df[(data_df.artists == \"['Drake']\") & (data_df.name == \"Best I Ever Had\")]"
   ]
  },
  {
   "cell_type": "code",
   "execution_count": 6,
   "metadata": {},
   "outputs": [
    {
     "data": {
      "text/html": [
       "<div>\n",
       "<style scoped>\n",
       "    .dataframe tbody tr th:only-of-type {\n",
       "        vertical-align: middle;\n",
       "    }\n",
       "\n",
       "    .dataframe tbody tr th {\n",
       "        vertical-align: top;\n",
       "    }\n",
       "\n",
       "    .dataframe thead th {\n",
       "        text-align: right;\n",
       "    }\n",
       "</style>\n",
       "<table border=\"1\" class=\"dataframe\">\n",
       "  <thead>\n",
       "    <tr style=\"text-align: right;\">\n",
       "      <th></th>\n",
       "      <th>id</th>\n",
       "      <th>name</th>\n",
       "      <th>popularity</th>\n",
       "      <th>duration_ms</th>\n",
       "      <th>explicit</th>\n",
       "      <th>artists</th>\n",
       "      <th>id_artists</th>\n",
       "      <th>release_date</th>\n",
       "      <th>danceability</th>\n",
       "      <th>energy</th>\n",
       "      <th>key</th>\n",
       "      <th>loudness</th>\n",
       "      <th>mode</th>\n",
       "      <th>speechiness</th>\n",
       "      <th>acousticness</th>\n",
       "      <th>instrumentalness</th>\n",
       "      <th>liveness</th>\n",
       "      <th>valence</th>\n",
       "      <th>tempo</th>\n",
       "      <th>time_signature</th>\n",
       "    </tr>\n",
       "  </thead>\n",
       "  <tbody>\n",
       "    <tr>\n",
       "      <th>82191</th>\n",
       "      <td>3QLjDkgLh9AOEHlhQtDuhs</td>\n",
       "      <td>Best I Ever Had</td>\n",
       "      <td>76</td>\n",
       "      <td>257690</td>\n",
       "      <td>1</td>\n",
       "      <td>['Drake']</td>\n",
       "      <td>['3TVXtAsR1Inumwj472S9r4']</td>\n",
       "      <td>2009</td>\n",
       "      <td>0.395</td>\n",
       "      <td>0.922</td>\n",
       "      <td>1</td>\n",
       "      <td>-2.176</td>\n",
       "      <td>1</td>\n",
       "      <td>0.375</td>\n",
       "      <td>0.1900</td>\n",
       "      <td>0.0</td>\n",
       "      <td>0.134</td>\n",
       "      <td>0.558</td>\n",
       "      <td>162.361</td>\n",
       "      <td>4</td>\n",
       "    </tr>\n",
       "    <tr>\n",
       "      <th>83429</th>\n",
       "      <td>1GxHeBvQ9935Dd3cSfsfBa</td>\n",
       "      <td>Best I Ever Had</td>\n",
       "      <td>65</td>\n",
       "      <td>258760</td>\n",
       "      <td>1</td>\n",
       "      <td>['Drake']</td>\n",
       "      <td>['3TVXtAsR1Inumwj472S9r4']</td>\n",
       "      <td>2010-01-01</td>\n",
       "      <td>0.431</td>\n",
       "      <td>0.894</td>\n",
       "      <td>5</td>\n",
       "      <td>-2.673</td>\n",
       "      <td>0</td>\n",
       "      <td>0.330</td>\n",
       "      <td>0.0951</td>\n",
       "      <td>0.0</td>\n",
       "      <td>0.188</td>\n",
       "      <td>0.605</td>\n",
       "      <td>162.161</td>\n",
       "      <td>4</td>\n",
       "    </tr>\n",
       "    <tr>\n",
       "      <th>186615</th>\n",
       "      <td>1PWnjvzT5Jhpfnh96DRNDh</td>\n",
       "      <td>Best I Ever Had</td>\n",
       "      <td>51</td>\n",
       "      <td>258800</td>\n",
       "      <td>0</td>\n",
       "      <td>['Drake']</td>\n",
       "      <td>['3TVXtAsR1Inumwj472S9r4']</td>\n",
       "      <td>2009-01-01</td>\n",
       "      <td>0.441</td>\n",
       "      <td>0.904</td>\n",
       "      <td>1</td>\n",
       "      <td>-2.636</td>\n",
       "      <td>1</td>\n",
       "      <td>0.359</td>\n",
       "      <td>0.1020</td>\n",
       "      <td>0.0</td>\n",
       "      <td>0.196</td>\n",
       "      <td>0.529</td>\n",
       "      <td>161.740</td>\n",
       "      <td>4</td>\n",
       "    </tr>\n",
       "  </tbody>\n",
       "</table>\n",
       "</div>"
      ],
      "text/plain": [
       "                            id             name  popularity  duration_ms  \\\n",
       "82191   3QLjDkgLh9AOEHlhQtDuhs  Best I Ever Had          76       257690   \n",
       "83429   1GxHeBvQ9935Dd3cSfsfBa  Best I Ever Had          65       258760   \n",
       "186615  1PWnjvzT5Jhpfnh96DRNDh  Best I Ever Had          51       258800   \n",
       "\n",
       "        explicit    artists                  id_artists release_date  \\\n",
       "82191          1  ['Drake']  ['3TVXtAsR1Inumwj472S9r4']         2009   \n",
       "83429          1  ['Drake']  ['3TVXtAsR1Inumwj472S9r4']   2010-01-01   \n",
       "186615         0  ['Drake']  ['3TVXtAsR1Inumwj472S9r4']   2009-01-01   \n",
       "\n",
       "        danceability  energy  key  loudness  mode  speechiness  acousticness  \\\n",
       "82191          0.395   0.922    1    -2.176     1        0.375        0.1900   \n",
       "83429          0.431   0.894    5    -2.673     0        0.330        0.0951   \n",
       "186615         0.441   0.904    1    -2.636     1        0.359        0.1020   \n",
       "\n",
       "        instrumentalness  liveness  valence    tempo  time_signature  \n",
       "82191                0.0     0.134    0.558  162.361               4  \n",
       "83429                0.0     0.188    0.605  162.161               4  \n",
       "186615               0.0     0.196    0.529  161.740               4  "
      ]
     },
     "execution_count": 6,
     "metadata": {},
     "output_type": "execute_result"
    }
   ],
   "source": [
    "# check for Drake result for the Song 'Daisy' in tracks_df dataset\n",
    "tracks_df[(tracks_df.artists == \"['Drake']\") & (tracks_df.name == \"Best I Ever Had\")]"
   ]
  },
  {
   "cell_type": "markdown",
   "metadata": {},
   "source": [
    "comments: For the example above, the same song had more than 1 output. For Data_df their release year and date is different as well as some attributes such as 'danceability'. This may indicate that the song was release twice, perhaps the latter was remastered and released in an album and not just as a single like the first time. Tracks_df does not have release date that information. \n",
    "\n",
    "data_df seem to not have the song non-explicit version of the song as well. \n",
    "\n",
    "Will investigate on more time. With the classic song \"Here Comes the Sun\" by the Beatles."
   ]
  },
  {
   "cell_type": "code",
   "execution_count": 7,
   "metadata": {},
   "outputs": [
    {
     "data": {
      "text/html": [
       "<div>\n",
       "<style scoped>\n",
       "    .dataframe tbody tr th:only-of-type {\n",
       "        vertical-align: middle;\n",
       "    }\n",
       "\n",
       "    .dataframe tbody tr th {\n",
       "        vertical-align: top;\n",
       "    }\n",
       "\n",
       "    .dataframe thead th {\n",
       "        text-align: right;\n",
       "    }\n",
       "</style>\n",
       "<table border=\"1\" class=\"dataframe\">\n",
       "  <thead>\n",
       "    <tr style=\"text-align: right;\">\n",
       "      <th></th>\n",
       "      <th>id</th>\n",
       "      <th>name</th>\n",
       "      <th>popularity</th>\n",
       "      <th>duration_ms</th>\n",
       "      <th>explicit</th>\n",
       "      <th>artists</th>\n",
       "      <th>id_artists</th>\n",
       "      <th>release_date</th>\n",
       "      <th>danceability</th>\n",
       "      <th>energy</th>\n",
       "      <th>key</th>\n",
       "      <th>loudness</th>\n",
       "      <th>mode</th>\n",
       "      <th>speechiness</th>\n",
       "      <th>acousticness</th>\n",
       "      <th>instrumentalness</th>\n",
       "      <th>liveness</th>\n",
       "      <th>valence</th>\n",
       "      <th>tempo</th>\n",
       "      <th>time_signature</th>\n",
       "    </tr>\n",
       "  </thead>\n",
       "  <tbody>\n",
       "  </tbody>\n",
       "</table>\n",
       "</div>"
      ],
      "text/plain": [
       "Empty DataFrame\n",
       "Columns: [id, name, popularity, duration_ms, explicit, artists, id_artists, release_date, danceability, energy, key, loudness, mode, speechiness, acousticness, instrumentalness, liveness, valence, tempo, time_signature]\n",
       "Index: []"
      ]
     },
     "execution_count": 7,
     "metadata": {},
     "output_type": "execute_result"
    }
   ],
   "source": [
    "# check for Beatles result for the Song 'Here Comes the Sun' in tracks_df dataset\n",
    "tracks_df[(tracks_df.artists == \"['The Beatles']\") & (tracks_df.name == \"Here Comes The Sun\")]"
   ]
  },
  {
   "cell_type": "code",
   "execution_count": 8,
   "metadata": {},
   "outputs": [
    {
     "data": {
      "text/html": [
       "<div>\n",
       "<style scoped>\n",
       "    .dataframe tbody tr th:only-of-type {\n",
       "        vertical-align: middle;\n",
       "    }\n",
       "\n",
       "    .dataframe tbody tr th {\n",
       "        vertical-align: top;\n",
       "    }\n",
       "\n",
       "    .dataframe thead th {\n",
       "        text-align: right;\n",
       "    }\n",
       "</style>\n",
       "<table border=\"1\" class=\"dataframe\">\n",
       "  <thead>\n",
       "    <tr style=\"text-align: right;\">\n",
       "      <th></th>\n",
       "      <th>valence</th>\n",
       "      <th>year</th>\n",
       "      <th>acousticness</th>\n",
       "      <th>artists</th>\n",
       "      <th>danceability</th>\n",
       "      <th>duration_ms</th>\n",
       "      <th>energy</th>\n",
       "      <th>explicit</th>\n",
       "      <th>id</th>\n",
       "      <th>instrumentalness</th>\n",
       "      <th>key</th>\n",
       "      <th>liveness</th>\n",
       "      <th>loudness</th>\n",
       "      <th>mode</th>\n",
       "      <th>name</th>\n",
       "      <th>popularity</th>\n",
       "      <th>release_date</th>\n",
       "      <th>speechiness</th>\n",
       "      <th>tempo</th>\n",
       "    </tr>\n",
       "  </thead>\n",
       "  <tbody>\n",
       "  </tbody>\n",
       "</table>\n",
       "</div>"
      ],
      "text/plain": [
       "Empty DataFrame\n",
       "Columns: [valence, year, acousticness, artists, danceability, duration_ms, energy, explicit, id, instrumentalness, key, liveness, loudness, mode, name, popularity, release_date, speechiness, tempo]\n",
       "Index: []"
      ]
     },
     "execution_count": 8,
     "metadata": {},
     "output_type": "execute_result"
    }
   ],
   "source": [
    "# check for Beatles result for the Song 'Here Comes the Sun' in data_df dataset\n",
    "data_df[(data_df.artists == \"['The Beatles']\") & (data_df.name == \"Here Comes The Sun\")]"
   ]
  },
  {
   "cell_type": "markdown",
   "metadata": {},
   "source": [
    "comment: No song to be found, however the remastered version is available."
   ]
  },
  {
   "cell_type": "code",
   "execution_count": 9,
   "metadata": {},
   "outputs": [
    {
     "data": {
      "text/html": [
       "<div>\n",
       "<style scoped>\n",
       "    .dataframe tbody tr th:only-of-type {\n",
       "        vertical-align: middle;\n",
       "    }\n",
       "\n",
       "    .dataframe tbody tr th {\n",
       "        vertical-align: top;\n",
       "    }\n",
       "\n",
       "    .dataframe thead th {\n",
       "        text-align: right;\n",
       "    }\n",
       "</style>\n",
       "<table border=\"1\" class=\"dataframe\">\n",
       "  <thead>\n",
       "    <tr style=\"text-align: right;\">\n",
       "      <th></th>\n",
       "      <th>id</th>\n",
       "      <th>name</th>\n",
       "      <th>popularity</th>\n",
       "      <th>duration_ms</th>\n",
       "      <th>explicit</th>\n",
       "      <th>artists</th>\n",
       "      <th>id_artists</th>\n",
       "      <th>release_date</th>\n",
       "      <th>danceability</th>\n",
       "      <th>energy</th>\n",
       "      <th>key</th>\n",
       "      <th>loudness</th>\n",
       "      <th>mode</th>\n",
       "      <th>speechiness</th>\n",
       "      <th>acousticness</th>\n",
       "      <th>instrumentalness</th>\n",
       "      <th>liveness</th>\n",
       "      <th>valence</th>\n",
       "      <th>tempo</th>\n",
       "      <th>time_signature</th>\n",
       "    </tr>\n",
       "  </thead>\n",
       "  <tbody>\n",
       "    <tr>\n",
       "      <th>42488</th>\n",
       "      <td>6dGnYIeXmHdcikdzNNDMm2</td>\n",
       "      <td>Here Comes The Sun - Remastered 2009</td>\n",
       "      <td>83</td>\n",
       "      <td>185733</td>\n",
       "      <td>0</td>\n",
       "      <td>['The Beatles']</td>\n",
       "      <td>['3WrFJ7ztbogyGnTHbHJFl2']</td>\n",
       "      <td>1969-09-26</td>\n",
       "      <td>0.557</td>\n",
       "      <td>0.540</td>\n",
       "      <td>9</td>\n",
       "      <td>-10.484</td>\n",
       "      <td>1</td>\n",
       "      <td>0.0347</td>\n",
       "      <td>0.0339</td>\n",
       "      <td>0.00248</td>\n",
       "      <td>0.179</td>\n",
       "      <td>0.394</td>\n",
       "      <td>129.171</td>\n",
       "      <td>4</td>\n",
       "    </tr>\n",
       "    <tr>\n",
       "      <th>47141</th>\n",
       "      <td>5bIEpKwEFgJzB7U3gFaeKm</td>\n",
       "      <td>Here Comes The Sun - Remastered 2009</td>\n",
       "      <td>41</td>\n",
       "      <td>187373</td>\n",
       "      <td>0</td>\n",
       "      <td>['The Beatles']</td>\n",
       "      <td>['3WrFJ7ztbogyGnTHbHJFl2']</td>\n",
       "      <td>1973-04-02</td>\n",
       "      <td>0.557</td>\n",
       "      <td>0.519</td>\n",
       "      <td>9</td>\n",
       "      <td>-11.164</td>\n",
       "      <td>1</td>\n",
       "      <td>0.0357</td>\n",
       "      <td>0.0362</td>\n",
       "      <td>0.00126</td>\n",
       "      <td>0.105</td>\n",
       "      <td>0.371</td>\n",
       "      <td>129.157</td>\n",
       "      <td>4</td>\n",
       "    </tr>\n",
       "  </tbody>\n",
       "</table>\n",
       "</div>"
      ],
      "text/plain": [
       "                           id                                  name  \\\n",
       "42488  6dGnYIeXmHdcikdzNNDMm2  Here Comes The Sun - Remastered 2009   \n",
       "47141  5bIEpKwEFgJzB7U3gFaeKm  Here Comes The Sun - Remastered 2009   \n",
       "\n",
       "       popularity  duration_ms  explicit          artists  \\\n",
       "42488          83       185733         0  ['The Beatles']   \n",
       "47141          41       187373         0  ['The Beatles']   \n",
       "\n",
       "                       id_artists release_date  danceability  energy  key  \\\n",
       "42488  ['3WrFJ7ztbogyGnTHbHJFl2']   1969-09-26         0.557   0.540    9   \n",
       "47141  ['3WrFJ7ztbogyGnTHbHJFl2']   1973-04-02         0.557   0.519    9   \n",
       "\n",
       "       loudness  mode  speechiness  acousticness  instrumentalness  liveness  \\\n",
       "42488   -10.484     1       0.0347        0.0339           0.00248     0.179   \n",
       "47141   -11.164     1       0.0357        0.0362           0.00126     0.105   \n",
       "\n",
       "       valence    tempo  time_signature  \n",
       "42488    0.394  129.171               4  \n",
       "47141    0.371  129.157               4  "
      ]
     },
     "execution_count": 9,
     "metadata": {},
     "output_type": "execute_result"
    }
   ],
   "source": [
    "# check for Beatles result for the Song 'Here Comes the Sun' in tracks_df dataset\n",
    "tracks_df[(tracks_df.artists == \"['The Beatles']\") & (tracks_df.name == \"Here Comes The Sun - Remastered 2009\")]"
   ]
  },
  {
   "cell_type": "code",
   "execution_count": 10,
   "metadata": {},
   "outputs": [
    {
     "data": {
      "text/html": [
       "<div>\n",
       "<style scoped>\n",
       "    .dataframe tbody tr th:only-of-type {\n",
       "        vertical-align: middle;\n",
       "    }\n",
       "\n",
       "    .dataframe tbody tr th {\n",
       "        vertical-align: top;\n",
       "    }\n",
       "\n",
       "    .dataframe thead th {\n",
       "        text-align: right;\n",
       "    }\n",
       "</style>\n",
       "<table border=\"1\" class=\"dataframe\">\n",
       "  <thead>\n",
       "    <tr style=\"text-align: right;\">\n",
       "      <th></th>\n",
       "      <th>valence</th>\n",
       "      <th>year</th>\n",
       "      <th>acousticness</th>\n",
       "      <th>artists</th>\n",
       "      <th>danceability</th>\n",
       "      <th>duration_ms</th>\n",
       "      <th>energy</th>\n",
       "      <th>explicit</th>\n",
       "      <th>id</th>\n",
       "      <th>instrumentalness</th>\n",
       "      <th>key</th>\n",
       "      <th>liveness</th>\n",
       "      <th>loudness</th>\n",
       "      <th>mode</th>\n",
       "      <th>name</th>\n",
       "      <th>popularity</th>\n",
       "      <th>release_date</th>\n",
       "      <th>speechiness</th>\n",
       "      <th>tempo</th>\n",
       "    </tr>\n",
       "  </thead>\n",
       "  <tbody>\n",
       "    <tr>\n",
       "      <th>9407</th>\n",
       "      <td>0.394</td>\n",
       "      <td>1969</td>\n",
       "      <td>0.0339</td>\n",
       "      <td>['The Beatles']</td>\n",
       "      <td>0.557</td>\n",
       "      <td>185733</td>\n",
       "      <td>0.540</td>\n",
       "      <td>0</td>\n",
       "      <td>6dGnYIeXmHdcikdzNNDMm2</td>\n",
       "      <td>0.00248</td>\n",
       "      <td>9</td>\n",
       "      <td>0.179</td>\n",
       "      <td>-10.484</td>\n",
       "      <td>1</td>\n",
       "      <td>Here Comes The Sun - Remastered 2009</td>\n",
       "      <td>82</td>\n",
       "      <td>1969-09-26</td>\n",
       "      <td>0.0347</td>\n",
       "      <td>129.171</td>\n",
       "    </tr>\n",
       "    <tr>\n",
       "      <th>65653</th>\n",
       "      <td>0.371</td>\n",
       "      <td>1973</td>\n",
       "      <td>0.0362</td>\n",
       "      <td>['The Beatles']</td>\n",
       "      <td>0.557</td>\n",
       "      <td>187373</td>\n",
       "      <td>0.519</td>\n",
       "      <td>0</td>\n",
       "      <td>5bIEpKwEFgJzB7U3gFaeKm</td>\n",
       "      <td>0.00126</td>\n",
       "      <td>9</td>\n",
       "      <td>0.105</td>\n",
       "      <td>-11.164</td>\n",
       "      <td>1</td>\n",
       "      <td>Here Comes The Sun - Remastered 2009</td>\n",
       "      <td>40</td>\n",
       "      <td>1973-04-02</td>\n",
       "      <td>0.0357</td>\n",
       "      <td>129.157</td>\n",
       "    </tr>\n",
       "  </tbody>\n",
       "</table>\n",
       "</div>"
      ],
      "text/plain": [
       "       valence  year  acousticness          artists  danceability  \\\n",
       "9407     0.394  1969        0.0339  ['The Beatles']         0.557   \n",
       "65653    0.371  1973        0.0362  ['The Beatles']         0.557   \n",
       "\n",
       "       duration_ms  energy  explicit                      id  \\\n",
       "9407        185733   0.540         0  6dGnYIeXmHdcikdzNNDMm2   \n",
       "65653       187373   0.519         0  5bIEpKwEFgJzB7U3gFaeKm   \n",
       "\n",
       "       instrumentalness  key  liveness  loudness  mode  \\\n",
       "9407            0.00248    9     0.179   -10.484     1   \n",
       "65653           0.00126    9     0.105   -11.164     1   \n",
       "\n",
       "                                       name  popularity release_date  \\\n",
       "9407   Here Comes The Sun - Remastered 2009          82   1969-09-26   \n",
       "65653  Here Comes The Sun - Remastered 2009          40   1973-04-02   \n",
       "\n",
       "       speechiness    tempo  \n",
       "9407        0.0347  129.171  \n",
       "65653       0.0357  129.157  "
      ]
     },
     "execution_count": 10,
     "metadata": {},
     "output_type": "execute_result"
    }
   ],
   "source": [
    "# check for Beatles result for the Song 'Here Comes the Sun' in data_df dataset\n",
    "data_df[(data_df.artists == \"['The Beatles']\") & (data_df.name == \"Here Comes The Sun - Remastered 2009\")]"
   ]
  },
  {
   "cell_type": "markdown",
   "metadata": {},
   "source": [
    "Comments: For this song only the remastered version is available on spotify, and they still appear to have different characteristics, such as popularity, duration and energy.\n",
    "\n",
    "Difference in popularity can be explained by the song being in an alubm that may have not been marketed as well or listeners feel that that album does not have other songs they would enjoy. For example the song that had a lower popularity score belonged to the album 'The Beatles 1967-1970' whereas the song with the higher popularity had belonged to the album 'Abbey Road (remasted)' where its a bigger compliation of classic by the band. \n"
   ]
  },
  {
   "cell_type": "markdown",
   "metadata": {},
   "source": [
    "#### Conclusion\n",
    "\n",
    "Datasets that would be used for EDA would be data_by_year_df.\n",
    "\n",
    "Dataset that would be used would be used for modelling would be data_df as it has more information compared to track_df. During comparison, useful information had also reveal itself such as that non exact 'duplicate' of the same song, are rereleased or remastered. This may affect their popularity, but moving forward, I believe that the granualirity of the popularity does not matter and I would threfore bucket them, making this feature categorical. \n",
    "\n",
    "In terms of duplicates as one song is the remastered version of the other. By definition, remastering music is essentially improving on the quality of the original copy of a song or album. Removing flaws from the music, providing a cleaner, sharper and more refined listening experience whilst trying to bringing the music up to date with current standard. After remastering, certain attributes of the song would still generally remain the same, such as key, time signature, duration, tempo and speechiness. Nonetheless these duplicates, I would not remove them, as there are some music enthusiast that actually prefered 'non tampered' music.\n",
    "\n",
    "Also, there are some artist that generally do not make explicit music, and would therefore not have duplicates of the same song where they only differ in explicity. Removing duplciates by only keeping explicit songs would therefore result in removing many artists.\n"
   ]
  },
  {
   "cell_type": "code",
   "execution_count": 11,
   "metadata": {},
   "outputs": [],
   "source": [
    "## data"
   ]
  },
  {
   "cell_type": "code",
   "execution_count": 12,
   "metadata": {},
   "outputs": [
    {
     "data": {
      "text/plain": [
       "0    ['Sergei Rachmaninoff', 'James Levine', 'Berli...\n",
       "1                                       ['Dennis Day']\n",
       "2    ['KHP Kridhamardawa Karaton Ngayogyakarta Hadi...\n",
       "3                                     ['Frank Parker']\n",
       "4                                       ['Phil Regan']\n",
       "Name: artists, dtype: object"
      ]
     },
     "execution_count": 12,
     "metadata": {},
     "output_type": "execute_result"
    }
   ],
   "source": [
    "data_df.artists.head()"
   ]
  },
  {
   "cell_type": "code",
   "execution_count": 13,
   "metadata": {},
   "outputs": [
    {
     "data": {
      "text/plain": [
       "\"['Sergei Rachmaninoff', 'James Levine', 'Berliner Philharmoniker']\""
      ]
     },
     "execution_count": 13,
     "metadata": {},
     "output_type": "execute_result"
    }
   ],
   "source": [
    "data_df.artists[0] #show artist name positioned at index 1"
   ]
  },
  {
   "cell_type": "code",
   "execution_count": 14,
   "metadata": {},
   "outputs": [
    {
     "data": {
      "text/plain": [
       "'['"
      ]
     },
     "execution_count": 14,
     "metadata": {},
     "output_type": "execute_result"
    }
   ],
   "source": [
    "data_df.artists[0][0] #check to see if it is a list"
   ]
  },
  {
   "cell_type": "code",
   "execution_count": 15,
   "metadata": {},
   "outputs": [
    {
     "data": {
      "text/plain": [
       "valence                                                          0.53\n",
       "year                                                             2020\n",
       "acousticness                                                    0.189\n",
       "artists             ['Louis The Child', 'Quinn XCII', 'Chelsea Cut...\n",
       "danceability                                                    0.553\n",
       "duration_ms                                                    197453\n",
       "energy                                                          0.636\n",
       "explicit                                                            1\n",
       "id                                             52681Ivj8kgCi90Lu8B9fl\n",
       "instrumentalness                                                    0\n",
       "key                                                                 6\n",
       "liveness                                                       0.0779\n",
       "loudness                                                        -4.38\n",
       "mode                                                                1\n",
       "name                 Little Things (with Quinn XCII & Chelsea Cutler)\n",
       "popularity                                                         66\n",
       "release_date                                               2020-06-26\n",
       "speechiness                                                     0.152\n",
       "tempo                                                          81.969\n",
       "Name: 155464, dtype: object"
      ]
     },
     "execution_count": 15,
     "metadata": {},
     "output_type": "execute_result"
    }
   ],
   "source": [
    "data_df.loc[155464]"
   ]
  },
  {
   "cell_type": "markdown",
   "metadata": {},
   "source": [
    "As we can see from above, it was a list, 'Sergio Racmaninoff' would have been returned."
   ]
  },
  {
   "cell_type": "markdown",
   "metadata": {},
   "source": [
    "artist and genre columns, they are actually not list, but strings that look like list. \n",
    "Use regex to solve this problem. "
   ]
  },
  {
   "cell_type": "code",
   "execution_count": null,
   "metadata": {},
   "outputs": [],
   "source": []
  },
  {
   "cell_type": "markdown",
   "metadata": {},
   "source": [
    "## Exploratory Data Analysis"
   ]
  },
  {
   "cell_type": "code",
   "execution_count": null,
   "metadata": {},
   "outputs": [],
   "source": []
  },
  {
   "cell_type": "code",
   "execution_count": 16,
   "metadata": {},
   "outputs": [
    {
     "name": "stdout",
     "output_type": "stream",
     "text": [
      "<class 'pandas.core.frame.DataFrame'>\n",
      "RangeIndex: 170653 entries, 0 to 170652\n",
      "Data columns (total 19 columns):\n",
      " #   Column            Non-Null Count   Dtype  \n",
      "---  ------            --------------   -----  \n",
      " 0   valence           170653 non-null  float64\n",
      " 1   year              170653 non-null  int64  \n",
      " 2   acousticness      170653 non-null  float64\n",
      " 3   artists           170653 non-null  object \n",
      " 4   danceability      170653 non-null  float64\n",
      " 5   duration_ms       170653 non-null  int64  \n",
      " 6   energy            170653 non-null  float64\n",
      " 7   explicit          170653 non-null  int64  \n",
      " 8   id                170653 non-null  object \n",
      " 9   instrumentalness  170653 non-null  float64\n",
      " 10  key               170653 non-null  int64  \n",
      " 11  liveness          170653 non-null  float64\n",
      " 12  loudness          170653 non-null  float64\n",
      " 13  mode              170653 non-null  int64  \n",
      " 14  name              170653 non-null  object \n",
      " 15  popularity        170653 non-null  int64  \n",
      " 16  release_date      170653 non-null  object \n",
      " 17  speechiness       170653 non-null  float64\n",
      " 18  tempo             170653 non-null  float64\n",
      "dtypes: float64(9), int64(6), object(4)\n",
      "memory usage: 24.7+ MB\n"
     ]
    }
   ],
   "source": [
    "data_df.info()"
   ]
  },
  {
   "cell_type": "code",
   "execution_count": 17,
   "metadata": {},
   "outputs": [
    {
     "name": "stdout",
     "output_type": "stream",
     "text": [
      "<class 'pandas.core.frame.DataFrame'>\n",
      "RangeIndex: 586672 entries, 0 to 586671\n",
      "Data columns (total 20 columns):\n",
      " #   Column            Non-Null Count   Dtype  \n",
      "---  ------            --------------   -----  \n",
      " 0   id                586672 non-null  object \n",
      " 1   name              586601 non-null  object \n",
      " 2   popularity        586672 non-null  int64  \n",
      " 3   duration_ms       586672 non-null  int64  \n",
      " 4   explicit          586672 non-null  int64  \n",
      " 5   artists           586672 non-null  object \n",
      " 6   id_artists        586672 non-null  object \n",
      " 7   release_date      586672 non-null  object \n",
      " 8   danceability      586672 non-null  float64\n",
      " 9   energy            586672 non-null  float64\n",
      " 10  key               586672 non-null  int64  \n",
      " 11  loudness          586672 non-null  float64\n",
      " 12  mode              586672 non-null  int64  \n",
      " 13  speechiness       586672 non-null  float64\n",
      " 14  acousticness      586672 non-null  float64\n",
      " 15  instrumentalness  586672 non-null  float64\n",
      " 16  liveness          586672 non-null  float64\n",
      " 17  valence           586672 non-null  float64\n",
      " 18  tempo             586672 non-null  float64\n",
      " 19  time_signature    586672 non-null  int64  \n",
      "dtypes: float64(9), int64(6), object(5)\n",
      "memory usage: 89.5+ MB\n"
     ]
    }
   ],
   "source": [
    "tracks_df.info()"
   ]
  },
  {
   "cell_type": "code",
   "execution_count": 18,
   "metadata": {},
   "outputs": [
    {
     "data": {
      "text/plain": [
       "144481    100\n",
       "126338     98\n",
       "313676     98\n",
       "115489     98\n",
       "144484     96\n",
       "         ... \n",
       "619749      0\n",
       "619748      0\n",
       "619747      0\n",
       "619746      0\n",
       "0           0\n",
       "Name: popularity, Length: 1104349, dtype: int64"
      ]
     },
     "execution_count": 18,
     "metadata": {},
     "output_type": "execute_result"
    }
   ],
   "source": [
    "artist_df.popularity.sort_values(ascending=False)"
   ]
  },
  {
   "cell_type": "code",
   "execution_count": 19,
   "metadata": {},
   "outputs": [
    {
     "data": {
      "text/plain": [
       "id                              1uNFoZAHBGtllmzznpCI3s\n",
       "followers                                   4.4607e+07\n",
       "genres        ['canadian pop', 'pop', 'post-teen pop']\n",
       "name                                     Justin Bieber\n",
       "popularity                                         100\n",
       "Name: 144481, dtype: object"
      ]
     },
     "execution_count": 19,
     "metadata": {},
     "output_type": "execute_result"
    }
   ],
   "source": [
    "artist_df.iloc[144481,:]"
   ]
  },
  {
   "cell_type": "markdown",
   "metadata": {},
   "source": [
    "comment: Justin Bieber is the most popular artist"
   ]
  },
  {
   "cell_type": "code",
   "execution_count": 20,
   "metadata": {},
   "outputs": [
    {
     "name": "stdout",
     "output_type": "stream",
     "text": [
      "<class 'pandas.core.frame.DataFrame'>\n",
      "RangeIndex: 1104349 entries, 0 to 1104348\n",
      "Data columns (total 5 columns):\n",
      " #   Column      Non-Null Count    Dtype  \n",
      "---  ------      --------------    -----  \n",
      " 0   id          1104349 non-null  object \n",
      " 1   followers   1104336 non-null  float64\n",
      " 2   genres      1104349 non-null  object \n",
      " 3   name        1104349 non-null  object \n",
      " 4   popularity  1104349 non-null  int64  \n",
      "dtypes: float64(1), int64(1), object(3)\n",
      "memory usage: 42.1+ MB\n"
     ]
    }
   ],
   "source": [
    "artist_df.info()"
   ]
  },
  {
   "cell_type": "code",
   "execution_count": 21,
   "metadata": {},
   "outputs": [
    {
     "data": {
      "text/plain": [
       "(170653, 19)"
      ]
     },
     "execution_count": 21,
     "metadata": {},
     "output_type": "execute_result"
    }
   ],
   "source": [
    "data_df.shape"
   ]
  },
  {
   "cell_type": "code",
   "execution_count": 22,
   "metadata": {},
   "outputs": [
    {
     "data": {
      "text/html": [
       "<div>\n",
       "<style scoped>\n",
       "    .dataframe tbody tr th:only-of-type {\n",
       "        vertical-align: middle;\n",
       "    }\n",
       "\n",
       "    .dataframe tbody tr th {\n",
       "        vertical-align: top;\n",
       "    }\n",
       "\n",
       "    .dataframe thead th {\n",
       "        text-align: right;\n",
       "    }\n",
       "</style>\n",
       "<table border=\"1\" class=\"dataframe\">\n",
       "  <thead>\n",
       "    <tr style=\"text-align: right;\">\n",
       "      <th></th>\n",
       "      <th>valence</th>\n",
       "      <th>year</th>\n",
       "      <th>acousticness</th>\n",
       "      <th>artists</th>\n",
       "      <th>danceability</th>\n",
       "      <th>duration_ms</th>\n",
       "      <th>energy</th>\n",
       "      <th>explicit</th>\n",
       "      <th>id</th>\n",
       "      <th>instrumentalness</th>\n",
       "      <th>key</th>\n",
       "      <th>liveness</th>\n",
       "      <th>loudness</th>\n",
       "      <th>mode</th>\n",
       "      <th>name</th>\n",
       "      <th>popularity</th>\n",
       "      <th>release_date</th>\n",
       "      <th>speechiness</th>\n",
       "      <th>tempo</th>\n",
       "    </tr>\n",
       "  </thead>\n",
       "  <tbody>\n",
       "    <tr>\n",
       "      <th>0</th>\n",
       "      <td>0.0594</td>\n",
       "      <td>1921</td>\n",
       "      <td>0.982</td>\n",
       "      <td>['Sergei Rachmaninoff', 'James Levine', 'Berli...</td>\n",
       "      <td>0.279</td>\n",
       "      <td>831667</td>\n",
       "      <td>0.211</td>\n",
       "      <td>0</td>\n",
       "      <td>4BJqT0PrAfrxzMOxytFOIz</td>\n",
       "      <td>0.878000</td>\n",
       "      <td>10</td>\n",
       "      <td>0.665</td>\n",
       "      <td>-20.096</td>\n",
       "      <td>1</td>\n",
       "      <td>Piano Concerto No. 3 in D Minor, Op. 30: III. ...</td>\n",
       "      <td>4</td>\n",
       "      <td>1921</td>\n",
       "      <td>0.0366</td>\n",
       "      <td>80.954</td>\n",
       "    </tr>\n",
       "    <tr>\n",
       "      <th>1</th>\n",
       "      <td>0.9630</td>\n",
       "      <td>1921</td>\n",
       "      <td>0.732</td>\n",
       "      <td>['Dennis Day']</td>\n",
       "      <td>0.819</td>\n",
       "      <td>180533</td>\n",
       "      <td>0.341</td>\n",
       "      <td>0</td>\n",
       "      <td>7xPhfUan2yNtyFG0cUWkt8</td>\n",
       "      <td>0.000000</td>\n",
       "      <td>7</td>\n",
       "      <td>0.160</td>\n",
       "      <td>-12.441</td>\n",
       "      <td>1</td>\n",
       "      <td>Clancy Lowered the Boom</td>\n",
       "      <td>5</td>\n",
       "      <td>1921</td>\n",
       "      <td>0.4150</td>\n",
       "      <td>60.936</td>\n",
       "    </tr>\n",
       "    <tr>\n",
       "      <th>2</th>\n",
       "      <td>0.0394</td>\n",
       "      <td>1921</td>\n",
       "      <td>0.961</td>\n",
       "      <td>['KHP Kridhamardawa Karaton Ngayogyakarta Hadi...</td>\n",
       "      <td>0.328</td>\n",
       "      <td>500062</td>\n",
       "      <td>0.166</td>\n",
       "      <td>0</td>\n",
       "      <td>1o6I8BglA6ylDMrIELygv1</td>\n",
       "      <td>0.913000</td>\n",
       "      <td>3</td>\n",
       "      <td>0.101</td>\n",
       "      <td>-14.850</td>\n",
       "      <td>1</td>\n",
       "      <td>Gati Bali</td>\n",
       "      <td>5</td>\n",
       "      <td>1921</td>\n",
       "      <td>0.0339</td>\n",
       "      <td>110.339</td>\n",
       "    </tr>\n",
       "    <tr>\n",
       "      <th>3</th>\n",
       "      <td>0.1650</td>\n",
       "      <td>1921</td>\n",
       "      <td>0.967</td>\n",
       "      <td>['Frank Parker']</td>\n",
       "      <td>0.275</td>\n",
       "      <td>210000</td>\n",
       "      <td>0.309</td>\n",
       "      <td>0</td>\n",
       "      <td>3ftBPsC5vPBKxYSee08FDH</td>\n",
       "      <td>0.000028</td>\n",
       "      <td>5</td>\n",
       "      <td>0.381</td>\n",
       "      <td>-9.316</td>\n",
       "      <td>1</td>\n",
       "      <td>Danny Boy</td>\n",
       "      <td>3</td>\n",
       "      <td>1921</td>\n",
       "      <td>0.0354</td>\n",
       "      <td>100.109</td>\n",
       "    </tr>\n",
       "    <tr>\n",
       "      <th>4</th>\n",
       "      <td>0.2530</td>\n",
       "      <td>1921</td>\n",
       "      <td>0.957</td>\n",
       "      <td>['Phil Regan']</td>\n",
       "      <td>0.418</td>\n",
       "      <td>166693</td>\n",
       "      <td>0.193</td>\n",
       "      <td>0</td>\n",
       "      <td>4d6HGyGT8e121BsdKmw9v6</td>\n",
       "      <td>0.000002</td>\n",
       "      <td>3</td>\n",
       "      <td>0.229</td>\n",
       "      <td>-10.096</td>\n",
       "      <td>1</td>\n",
       "      <td>When Irish Eyes Are Smiling</td>\n",
       "      <td>2</td>\n",
       "      <td>1921</td>\n",
       "      <td>0.0380</td>\n",
       "      <td>101.665</td>\n",
       "    </tr>\n",
       "  </tbody>\n",
       "</table>\n",
       "</div>"
      ],
      "text/plain": [
       "   valence  year  acousticness  \\\n",
       "0   0.0594  1921         0.982   \n",
       "1   0.9630  1921         0.732   \n",
       "2   0.0394  1921         0.961   \n",
       "3   0.1650  1921         0.967   \n",
       "4   0.2530  1921         0.957   \n",
       "\n",
       "                                             artists  danceability  \\\n",
       "0  ['Sergei Rachmaninoff', 'James Levine', 'Berli...         0.279   \n",
       "1                                     ['Dennis Day']         0.819   \n",
       "2  ['KHP Kridhamardawa Karaton Ngayogyakarta Hadi...         0.328   \n",
       "3                                   ['Frank Parker']         0.275   \n",
       "4                                     ['Phil Regan']         0.418   \n",
       "\n",
       "   duration_ms  energy  explicit                      id  instrumentalness  \\\n",
       "0       831667   0.211         0  4BJqT0PrAfrxzMOxytFOIz          0.878000   \n",
       "1       180533   0.341         0  7xPhfUan2yNtyFG0cUWkt8          0.000000   \n",
       "2       500062   0.166         0  1o6I8BglA6ylDMrIELygv1          0.913000   \n",
       "3       210000   0.309         0  3ftBPsC5vPBKxYSee08FDH          0.000028   \n",
       "4       166693   0.193         0  4d6HGyGT8e121BsdKmw9v6          0.000002   \n",
       "\n",
       "   key  liveness  loudness  mode  \\\n",
       "0   10     0.665   -20.096     1   \n",
       "1    7     0.160   -12.441     1   \n",
       "2    3     0.101   -14.850     1   \n",
       "3    5     0.381    -9.316     1   \n",
       "4    3     0.229   -10.096     1   \n",
       "\n",
       "                                                name  popularity release_date  \\\n",
       "0  Piano Concerto No. 3 in D Minor, Op. 30: III. ...           4         1921   \n",
       "1                            Clancy Lowered the Boom           5         1921   \n",
       "2                                          Gati Bali           5         1921   \n",
       "3                                          Danny Boy           3         1921   \n",
       "4                        When Irish Eyes Are Smiling           2         1921   \n",
       "\n",
       "   speechiness    tempo  \n",
       "0       0.0366   80.954  \n",
       "1       0.4150   60.936  \n",
       "2       0.0339  110.339  \n",
       "3       0.0354  100.109  \n",
       "4       0.0380  101.665  "
      ]
     },
     "execution_count": 22,
     "metadata": {},
     "output_type": "execute_result"
    }
   ],
   "source": [
    "data_df.head()"
   ]
  },
  {
   "cell_type": "code",
   "execution_count": 23,
   "metadata": {},
   "outputs": [
    {
     "data": {
      "text/plain": [
       "(586672, 20)"
      ]
     },
     "execution_count": 23,
     "metadata": {},
     "output_type": "execute_result"
    }
   ],
   "source": [
    "tracks_df.shape"
   ]
  },
  {
   "cell_type": "code",
   "execution_count": 24,
   "metadata": {},
   "outputs": [
    {
     "name": "stdout",
     "output_type": "stream",
     "text": [
      "<class 'pandas.core.frame.DataFrame'>\n",
      "RangeIndex: 586672 entries, 0 to 586671\n",
      "Data columns (total 20 columns):\n",
      " #   Column            Non-Null Count   Dtype  \n",
      "---  ------            --------------   -----  \n",
      " 0   id                586672 non-null  object \n",
      " 1   name              586601 non-null  object \n",
      " 2   popularity        586672 non-null  int64  \n",
      " 3   duration_ms       586672 non-null  int64  \n",
      " 4   explicit          586672 non-null  int64  \n",
      " 5   artists           586672 non-null  object \n",
      " 6   id_artists        586672 non-null  object \n",
      " 7   release_date      586672 non-null  object \n",
      " 8   danceability      586672 non-null  float64\n",
      " 9   energy            586672 non-null  float64\n",
      " 10  key               586672 non-null  int64  \n",
      " 11  loudness          586672 non-null  float64\n",
      " 12  mode              586672 non-null  int64  \n",
      " 13  speechiness       586672 non-null  float64\n",
      " 14  acousticness      586672 non-null  float64\n",
      " 15  instrumentalness  586672 non-null  float64\n",
      " 16  liveness          586672 non-null  float64\n",
      " 17  valence           586672 non-null  float64\n",
      " 18  tempo             586672 non-null  float64\n",
      " 19  time_signature    586672 non-null  int64  \n",
      "dtypes: float64(9), int64(6), object(5)\n",
      "memory usage: 89.5+ MB\n"
     ]
    }
   ],
   "source": [
    "tracks_df.info()"
   ]
  },
  {
   "cell_type": "code",
   "execution_count": 25,
   "metadata": {},
   "outputs": [
    {
     "name": "stdout",
     "output_type": "stream",
     "text": [
      "<class 'pandas.core.frame.DataFrame'>\n",
      "RangeIndex: 170653 entries, 0 to 170652\n",
      "Data columns (total 19 columns):\n",
      " #   Column            Non-Null Count   Dtype  \n",
      "---  ------            --------------   -----  \n",
      " 0   valence           170653 non-null  float64\n",
      " 1   year              170653 non-null  int64  \n",
      " 2   acousticness      170653 non-null  float64\n",
      " 3   artists           170653 non-null  object \n",
      " 4   danceability      170653 non-null  float64\n",
      " 5   duration_ms       170653 non-null  int64  \n",
      " 6   energy            170653 non-null  float64\n",
      " 7   explicit          170653 non-null  int64  \n",
      " 8   id                170653 non-null  object \n",
      " 9   instrumentalness  170653 non-null  float64\n",
      " 10  key               170653 non-null  int64  \n",
      " 11  liveness          170653 non-null  float64\n",
      " 12  loudness          170653 non-null  float64\n",
      " 13  mode              170653 non-null  int64  \n",
      " 14  name              170653 non-null  object \n",
      " 15  popularity        170653 non-null  int64  \n",
      " 16  release_date      170653 non-null  object \n",
      " 17  speechiness       170653 non-null  float64\n",
      " 18  tempo             170653 non-null  float64\n",
      "dtypes: float64(9), int64(6), object(4)\n",
      "memory usage: 24.7+ MB\n"
     ]
    }
   ],
   "source": [
    "data_df.info()"
   ]
  },
  {
   "cell_type": "code",
   "execution_count": 26,
   "metadata": {},
   "outputs": [
    {
     "name": "stdout",
     "output_type": "stream",
     "text": [
      "year\n"
     ]
    }
   ],
   "source": [
    "for x in data_df.columns:\n",
    "    if x not in tracks_df.columns:\n",
    "        print (x)"
   ]
  },
  {
   "cell_type": "code",
   "execution_count": 27,
   "metadata": {},
   "outputs": [
    {
     "name": "stdout",
     "output_type": "stream",
     "text": [
      "<class 'pandas.core.frame.DataFrame'>\n",
      "RangeIndex: 586672 entries, 0 to 586671\n",
      "Data columns (total 20 columns):\n",
      " #   Column            Non-Null Count   Dtype  \n",
      "---  ------            --------------   -----  \n",
      " 0   id                586672 non-null  object \n",
      " 1   name              586601 non-null  object \n",
      " 2   popularity        586672 non-null  int64  \n",
      " 3   duration_ms       586672 non-null  int64  \n",
      " 4   explicit          586672 non-null  int64  \n",
      " 5   artists           586672 non-null  object \n",
      " 6   id_artists        586672 non-null  object \n",
      " 7   release_date      586672 non-null  object \n",
      " 8   danceability      586672 non-null  float64\n",
      " 9   energy            586672 non-null  float64\n",
      " 10  key               586672 non-null  int64  \n",
      " 11  loudness          586672 non-null  float64\n",
      " 12  mode              586672 non-null  int64  \n",
      " 13  speechiness       586672 non-null  float64\n",
      " 14  acousticness      586672 non-null  float64\n",
      " 15  instrumentalness  586672 non-null  float64\n",
      " 16  liveness          586672 non-null  float64\n",
      " 17  valence           586672 non-null  float64\n",
      " 18  tempo             586672 non-null  float64\n",
      " 19  time_signature    586672 non-null  int64  \n",
      "dtypes: float64(9), int64(6), object(5)\n",
      "memory usage: 89.5+ MB\n"
     ]
    }
   ],
   "source": [
    "tracks_df.info()"
   ]
  },
  {
   "cell_type": "markdown",
   "metadata": {},
   "source": [
    "### creating scaled dataframe for eda"
   ]
  },
  {
   "cell_type": "code",
   "execution_count": 28,
   "metadata": {},
   "outputs": [],
   "source": [
    "lin_graph = data_by_year_df.iloc[:,2:]\n",
    "ss = StandardScaler()\n",
    "lin_graph_data = ss.fit_transform(lin_graph)\n",
    "#lin_graph_data = pd.concat([lin_graph,data_by_year_df.year],axis=1)"
   ]
  },
  {
   "cell_type": "code",
   "execution_count": 29,
   "metadata": {},
   "outputs": [],
   "source": [
    "lin_graph_data = pd.DataFrame(data = lin_graph_data, columns=data_by_year_df.iloc[:,2:].columns.values)"
   ]
  },
  {
   "cell_type": "code",
   "execution_count": 30,
   "metadata": {},
   "outputs": [],
   "source": [
    "graph_data = pd.concat([lin_graph_data,data_by_year_df.year],axis=1)"
   ]
  },
  {
   "cell_type": "code",
   "execution_count": 31,
   "metadata": {},
   "outputs": [
    {
     "data": {
      "text/html": [
       "<div>\n",
       "<style scoped>\n",
       "    .dataframe tbody tr th:only-of-type {\n",
       "        vertical-align: middle;\n",
       "    }\n",
       "\n",
       "    .dataframe tbody tr th {\n",
       "        vertical-align: top;\n",
       "    }\n",
       "\n",
       "    .dataframe thead th {\n",
       "        text-align: right;\n",
       "    }\n",
       "</style>\n",
       "<table border=\"1\" class=\"dataframe\">\n",
       "  <thead>\n",
       "    <tr style=\"text-align: right;\">\n",
       "      <th></th>\n",
       "      <th>acousticness</th>\n",
       "      <th>danceability</th>\n",
       "      <th>duration_ms</th>\n",
       "      <th>energy</th>\n",
       "      <th>instrumentalness</th>\n",
       "      <th>liveness</th>\n",
       "      <th>loudness</th>\n",
       "      <th>speechiness</th>\n",
       "      <th>tempo</th>\n",
       "      <th>valence</th>\n",
       "      <th>popularity</th>\n",
       "      <th>key</th>\n",
       "      <th>year</th>\n",
       "    </tr>\n",
       "  </thead>\n",
       "  <tbody>\n",
       "    <tr>\n",
       "      <th>0</th>\n",
       "      <td>1.206593</td>\n",
       "      <td>-2.268729</td>\n",
       "      <td>1.303465</td>\n",
       "      <td>-1.372612</td>\n",
       "      <td>1.241416</td>\n",
       "      <td>-0.141117</td>\n",
       "      <td>-1.643865</td>\n",
       "      <td>-0.394037</td>\n",
       "      <td>-2.567559</td>\n",
       "      <td>-2.656372</td>\n",
       "      <td>-1.297256</td>\n",
       "      <td>-0.504959</td>\n",
       "      <td>1921</td>\n",
       "    </tr>\n",
       "    <tr>\n",
       "      <th>1</th>\n",
       "      <td>1.395278</td>\n",
       "      <td>-1.050819</td>\n",
       "      <td>-2.424439</td>\n",
       "      <td>-1.335327</td>\n",
       "      <td>1.974278</td>\n",
       "      <td>1.824215</td>\n",
       "      <td>-2.364442</td>\n",
       "      <td>0.132090</td>\n",
       "      <td>-2.682246</td>\n",
       "      <td>0.059618</td>\n",
       "      <td>-1.322135</td>\n",
       "      <td>1.751841</td>\n",
       "      <td>1922</td>\n",
       "    </tr>\n",
       "    <tr>\n",
       "      <th>2</th>\n",
       "      <td>1.463369</td>\n",
       "      <td>0.778558</td>\n",
       "      <td>-1.935347</td>\n",
       "      <td>-1.182517</td>\n",
       "      <td>1.461764</td>\n",
       "      <td>1.079979</td>\n",
       "      <td>-0.699070</td>\n",
       "      <td>-0.145779</td>\n",
       "      <td>-0.355409</td>\n",
       "      <td>1.623313</td>\n",
       "      <td>-1.067354</td>\n",
       "      <td>-1.069159</td>\n",
       "      <td>1923</td>\n",
       "    </tr>\n",
       "    <tr>\n",
       "      <th>3</th>\n",
       "      <td>1.401148</td>\n",
       "      <td>0.251686</td>\n",
       "      <td>-1.421483</td>\n",
       "      <td>-0.673342</td>\n",
       "      <td>3.184595</td>\n",
       "      <td>1.515427</td>\n",
       "      <td>-0.732122</td>\n",
       "      <td>-0.168531</td>\n",
       "      <td>0.828525</td>\n",
       "      <td>2.288008</td>\n",
       "      <td>-1.296883</td>\n",
       "      <td>1.751841</td>\n",
       "      <td>1924</td>\n",
       "    </tr>\n",
       "    <tr>\n",
       "      <th>4</th>\n",
       "      <td>1.482933</td>\n",
       "      <td>0.711808</td>\n",
       "      <td>-1.659106</td>\n",
       "      <td>-1.081931</td>\n",
       "      <td>1.843836</td>\n",
       "      <td>1.652901</td>\n",
       "      <td>-0.704637</td>\n",
       "      <td>0.074121</td>\n",
       "      <td>-0.087526</td>\n",
       "      <td>1.561357</td>\n",
       "      <td>-1.202546</td>\n",
       "      <td>0.341341</td>\n",
       "      <td>1925</td>\n",
       "    </tr>\n",
       "    <tr>\n",
       "      <th>...</th>\n",
       "      <td>...</td>\n",
       "      <td>...</td>\n",
       "      <td>...</td>\n",
       "      <td>...</td>\n",
       "      <td>...</td>\n",
       "      <td>...</td>\n",
       "      <td>...</td>\n",
       "      <td>...</td>\n",
       "      <td>...</td>\n",
       "      <td>...</td>\n",
       "      <td>...</td>\n",
       "      <td>...</td>\n",
       "      <td>...</td>\n",
       "    </tr>\n",
       "    <tr>\n",
       "      <th>95</th>\n",
       "      <td>-0.993316</td>\n",
       "      <td>1.217422</td>\n",
       "      <td>-0.231368</td>\n",
       "      <td>0.870891</td>\n",
       "      <td>-0.817217</td>\n",
       "      <td>-1.518719</td>\n",
       "      <td>1.264707</td>\n",
       "      <td>-0.018941</td>\n",
       "      <td>0.467444</td>\n",
       "      <td>-1.748761</td>\n",
       "      <td>1.566603</td>\n",
       "      <td>-1.069159</td>\n",
       "      <td>2016</td>\n",
       "    </tr>\n",
       "    <tr>\n",
       "      <th>96</th>\n",
       "      <td>-0.986279</td>\n",
       "      <td>1.448058</td>\n",
       "      <td>-0.634512</td>\n",
       "      <td>0.855765</td>\n",
       "      <td>-0.791730</td>\n",
       "      <td>-0.926886</td>\n",
       "      <td>1.183293</td>\n",
       "      <td>0.057215</td>\n",
       "      <td>0.210427</td>\n",
       "      <td>-2.010511</td>\n",
       "      <td>1.742160</td>\n",
       "      <td>-0.787059</td>\n",
       "      <td>2017</td>\n",
       "    </tr>\n",
       "    <tr>\n",
       "      <th>97</th>\n",
       "      <td>-1.053679</td>\n",
       "      <td>2.432513</td>\n",
       "      <td>-0.835076</td>\n",
       "      <td>0.930417</td>\n",
       "      <td>-1.143516</td>\n",
       "      <td>-1.790666</td>\n",
       "      <td>1.553464</td>\n",
       "      <td>0.260836</td>\n",
       "      <td>1.047048</td>\n",
       "      <td>-1.463828</td>\n",
       "      <td>1.743747</td>\n",
       "      <td>-0.787059</td>\n",
       "      <td>2018</td>\n",
       "    </tr>\n",
       "    <tr>\n",
       "      <th>98</th>\n",
       "      <td>-1.014750</td>\n",
       "      <td>2.073803</td>\n",
       "      <td>-1.030209</td>\n",
       "      <td>0.873183</td>\n",
       "      <td>-0.951324</td>\n",
       "      <td>-1.998883</td>\n",
       "      <td>1.374370</td>\n",
       "      <td>0.185793</td>\n",
       "      <td>0.748059</td>\n",
       "      <td>-1.274391</td>\n",
       "      <td>1.838910</td>\n",
       "      <td>-0.787059</td>\n",
       "      <td>2019</td>\n",
       "    </tr>\n",
       "    <tr>\n",
       "      <th>99</th>\n",
       "      <td>-1.227788</td>\n",
       "      <td>2.996959</td>\n",
       "      <td>-1.316325</td>\n",
       "      <td>1.109362</td>\n",
       "      <td>-1.454014</td>\n",
       "      <td>-1.666610</td>\n",
       "      <td>1.739130</td>\n",
       "      <td>0.434709</td>\n",
       "      <td>1.465542</td>\n",
       "      <td>-0.540204</td>\n",
       "      <td>1.792570</td>\n",
       "      <td>-0.787059</td>\n",
       "      <td>2020</td>\n",
       "    </tr>\n",
       "  </tbody>\n",
       "</table>\n",
       "<p>100 rows × 13 columns</p>\n",
       "</div>"
      ],
      "text/plain": [
       "    acousticness  danceability  duration_ms    energy  instrumentalness  \\\n",
       "0       1.206593     -2.268729     1.303465 -1.372612          1.241416   \n",
       "1       1.395278     -1.050819    -2.424439 -1.335327          1.974278   \n",
       "2       1.463369      0.778558    -1.935347 -1.182517          1.461764   \n",
       "3       1.401148      0.251686    -1.421483 -0.673342          3.184595   \n",
       "4       1.482933      0.711808    -1.659106 -1.081931          1.843836   \n",
       "..           ...           ...          ...       ...               ...   \n",
       "95     -0.993316      1.217422    -0.231368  0.870891         -0.817217   \n",
       "96     -0.986279      1.448058    -0.634512  0.855765         -0.791730   \n",
       "97     -1.053679      2.432513    -0.835076  0.930417         -1.143516   \n",
       "98     -1.014750      2.073803    -1.030209  0.873183         -0.951324   \n",
       "99     -1.227788      2.996959    -1.316325  1.109362         -1.454014   \n",
       "\n",
       "    liveness  loudness  speechiness     tempo   valence  popularity       key  \\\n",
       "0  -0.141117 -1.643865    -0.394037 -2.567559 -2.656372   -1.297256 -0.504959   \n",
       "1   1.824215 -2.364442     0.132090 -2.682246  0.059618   -1.322135  1.751841   \n",
       "2   1.079979 -0.699070    -0.145779 -0.355409  1.623313   -1.067354 -1.069159   \n",
       "3   1.515427 -0.732122    -0.168531  0.828525  2.288008   -1.296883  1.751841   \n",
       "4   1.652901 -0.704637     0.074121 -0.087526  1.561357   -1.202546  0.341341   \n",
       "..       ...       ...          ...       ...       ...         ...       ...   \n",
       "95 -1.518719  1.264707    -0.018941  0.467444 -1.748761    1.566603 -1.069159   \n",
       "96 -0.926886  1.183293     0.057215  0.210427 -2.010511    1.742160 -0.787059   \n",
       "97 -1.790666  1.553464     0.260836  1.047048 -1.463828    1.743747 -0.787059   \n",
       "98 -1.998883  1.374370     0.185793  0.748059 -1.274391    1.838910 -0.787059   \n",
       "99 -1.666610  1.739130     0.434709  1.465542 -0.540204    1.792570 -0.787059   \n",
       "\n",
       "    year  \n",
       "0   1921  \n",
       "1   1922  \n",
       "2   1923  \n",
       "3   1924  \n",
       "4   1925  \n",
       "..   ...  \n",
       "95  2016  \n",
       "96  2017  \n",
       "97  2018  \n",
       "98  2019  \n",
       "99  2020  \n",
       "\n",
       "[100 rows x 13 columns]"
      ]
     },
     "execution_count": 31,
     "metadata": {},
     "output_type": "execute_result"
    }
   ],
   "source": [
    "graph_data"
   ]
  },
  {
   "cell_type": "code",
   "execution_count": 32,
   "metadata": {},
   "outputs": [
    {
     "data": {
      "text/plain": [
       "<AxesSubplot:xlabel='year'>"
      ]
     },
     "execution_count": 32,
     "metadata": {},
     "output_type": "execute_result"
    },
    {
     "data": {
      "image/png": "[encoded data removed]",
      "text/plain": [
       "<Figure size 720x720 with 1 Axes>"
      ]
     },
     "metadata": {},
     "output_type": "display_data"
    }
   ],
   "source": [
    "graph_data[[\"acousticness\",\"danceability\",\"energy\", \n",
    "         \"instrumentalness\", \"liveness\", \"valence\",\"year\"]].set_index('year').plot(kind='line',figsize=(10,10))"
   ]
  },
  {
   "cell_type": "markdown",
   "metadata": {},
   "source": [
    "comments: General EDA, not very useful in producing meaningful insight. Moving forward, I will explore more trends related to the problem satement"
   ]
  },
  {
   "cell_type": "markdown",
   "metadata": {},
   "source": [
    "## More Ideas for EDA\n",
    "\n",
    "- show how duration of music has shorten over time\n",
    "- show relation to popular music and short duration, indicative of our shortened attention span\n",
    "- show how prevalence of genre has affected our music taste\n",
    "- show how genre populartiy has changed"
   ]
  },
  {
   "cell_type": "markdown",
   "metadata": {},
   "source": [
    "### show how duration of music has shorten over time"
   ]
  },
  {
   "cell_type": "code",
   "execution_count": 34,
   "metadata": {},
   "outputs": [
    {
     "data": {
      "image/png": "[encoded data removed]",
      "text/plain": [
       "<Figure size 576x576 with 1 Axes>"
      ]
     },
     "metadata": {},
     "output_type": "display_data"
    }
   ],
   "source": [
    "#plot the duration of songs in minute across time\n",
    "plt.figure(figsize=(8,8))\n",
    "(data_by_year_df.groupby('year')['duration_ms'].mean()/60000).plot() #group data by year, take the average duration per year and plot\n",
    "plt.title('Duration of Music Decline Overtime')\n",
    "plt.savefig('../images/duration-of-music-decline-overtime.png');"
   ]
  },
  {
   "cell_type": "code",
   "execution_count": 35,
   "metadata": {},
   "outputs": [
    {
     "data": {
      "text/plain": [
       "year\n",
       "1921    4.342286\n",
       "1922    2.757829\n",
       "1923    2.965706\n",
       "1924    3.184112\n",
       "1925    3.083115\n",
       "          ...   \n",
       "2016    3.689942\n",
       "2017    3.518595\n",
       "2018    3.433350\n",
       "2019    3.350413\n",
       "2020    3.228807\n",
       "Name: duration_ms, Length: 100, dtype: float64"
      ]
     },
     "execution_count": 35,
     "metadata": {},
     "output_type": "execute_result"
    }
   ],
   "source": [
    "(data_by_year_df.groupby('year')['duration_ms'].mean()/60000)"
   ]
  },
  {
   "cell_type": "code",
   "execution_count": 95,
   "metadata": {},
   "outputs": [
    {
     "data": {
      "image/png": "[encoded data removed]",
      "text/plain": [
       "<Figure size 576x576 with 1 Axes>"
      ]
     },
     "metadata": {},
     "output_type": "display_data"
    }
   ],
   "source": [
    "#plot the duration of songs relationship with popularity\n",
    "plt.figure(figsize=(8,8))\n",
    "sns.scatterplot(data =(data_df.groupby('popularity')['duration_ms'].mean()/60000))\n",
    "plt.title('Music Gain Popularity as Song Duration Decrease')\n",
    "plt.ylabel('song duration (minutes)')\n",
    "plt.savefig('../images/more-popular-as-song-duration-decrease');"
   ]
  },
  {
   "cell_type": "markdown",
   "metadata": {},
   "source": [
    "shorter duration in songs shows that artist or incentivised to make shorter songs for more plays as they are paid per stream. Can also reflect music listener's shortened attentions span. \n",
    "\n",
    "Furthermore songs tend to be more popular, past the 50 mark, with shorter duration. "
   ]
  },
  {
   "cell_type": "code",
   "execution_count": 41,
   "metadata": {},
   "outputs": [
    {
     "data": {
      "image/png": "[encoded data removed]",
      "text/plain": [
       "<Figure size 576x576 with 1 Axes>"
      ]
     },
     "metadata": {},
     "output_type": "display_data"
    }
   ],
   "source": [
    "plt.figure(figsize=(8,8))\n",
    "data_by_year_df.groupby('year')['loudness'].mean().plot() #group data by year, take the average duration per year and plot\n",
    "plt.title('Loudness Increase Overtime')\n",
    "plt.savefig('../images/loudness-increase-overtime');"
   ]
  },
  {
   "cell_type": "markdown",
   "metadata": {},
   "source": [
    "\n",
    "-  Loudness, the inherent volume of the music itself, before any adjustments by the listener.\n",
    "- dynamic range becomes much more restricted. As in, the contrast between the really soft stuff, and the really loud stuff shrinks, so the overall emotional impact of the music is reduced."
   ]
  },
  {
   "cell_type": "code",
   "execution_count": 42,
   "metadata": {},
   "outputs": [
    {
     "data": {
      "text/plain": [
       "array([ 2, 10,  0,  5,  9,  7,  1])"
      ]
     },
     "execution_count": 42,
     "metadata": {},
     "output_type": "execute_result"
    }
   ],
   "source": [
    "data_by_year_df.key.unique()"
   ]
  },
  {
   "cell_type": "code",
   "execution_count": 43,
   "metadata": {},
   "outputs": [
    {
     "name": "stdout",
     "output_type": "stream",
     "text": [
      "<class 'pandas.core.frame.DataFrame'>\n",
      "RangeIndex: 170653 entries, 0 to 170652\n",
      "Data columns (total 19 columns):\n",
      " #   Column            Non-Null Count   Dtype  \n",
      "---  ------            --------------   -----  \n",
      " 0   valence           170653 non-null  float64\n",
      " 1   year              170653 non-null  int64  \n",
      " 2   acousticness      170653 non-null  float64\n",
      " 3   artists           170653 non-null  object \n",
      " 4   danceability      170653 non-null  float64\n",
      " 5   duration_ms       170653 non-null  int64  \n",
      " 6   energy            170653 non-null  float64\n",
      " 7   explicit          170653 non-null  int64  \n",
      " 8   id                170653 non-null  object \n",
      " 9   instrumentalness  170653 non-null  float64\n",
      " 10  key               170653 non-null  int64  \n",
      " 11  liveness          170653 non-null  float64\n",
      " 12  loudness          170653 non-null  float64\n",
      " 13  mode              170653 non-null  int64  \n",
      " 14  name              170653 non-null  object \n",
      " 15  popularity        170653 non-null  int64  \n",
      " 16  release_date      170653 non-null  object \n",
      " 17  speechiness       170653 non-null  float64\n",
      " 18  tempo             170653 non-null  float64\n",
      "dtypes: float64(9), int64(6), object(4)\n",
      "memory usage: 24.7+ MB\n"
     ]
    }
   ],
   "source": [
    "data_df.info()"
   ]
  },
  {
   "cell_type": "code",
   "execution_count": 44,
   "metadata": {},
   "outputs": [],
   "source": [
    "#convert key data into string \n",
    "data_df.key = data_df.key.apply(lambda x: str(x))"
   ]
  },
  {
   "cell_type": "code",
   "execution_count": 45,
   "metadata": {},
   "outputs": [
    {
     "data": {
      "text/plain": [
       "year\n",
       "1921    [10, 7, 3, 5, 2, 0, 1, 8, 9, 4, 11, 6]\n",
       "1922    [0, 1, 7, 4, 6, 2, 5, 8, 10, 11, 9, 3]\n",
       "1923    [8, 4, 3, 0, 5, 10, 2, 7, 9, 1, 11, 6]\n",
       "1924    [2, 3, 8, 0, 10, 7, 5, 11, 9, 1, 6, 4]\n",
       "1925    [3, 8, 5, 9, 0, 2, 7, 10, 11, 6, 1, 4]\n",
       "                         ...                  \n",
       "2016    [6, 8, 0, 10, 1, 5, 7, 9, 4, 3, 11, 2]\n",
       "2017    [0, 8, 7, 11, 9, 6, 10, 5, 1, 4, 3, 2]\n",
       "2018    [0, 6, 3, 4, 7, 11, 8, 2, 1, 10, 5, 9]\n",
       "2019    [0, 2, 10, 8, 1, 7, 5, 4, 6, 11, 3, 9]\n",
       "2020    [7, 6, 1, 0, 4, 10, 9, 5, 11, 8, 2, 3]\n",
       "Name: key, Length: 100, dtype: object"
      ]
     },
     "execution_count": 45,
     "metadata": {},
     "output_type": "execute_result"
    }
   ],
   "source": [
    "data_df.groupby('year')['key'].unique()"
   ]
  },
  {
   "cell_type": "code",
   "execution_count": 46,
   "metadata": {},
   "outputs": [
    {
     "data": {
      "text/plain": [
       "1     0.138424\n",
       "0     0.104926\n",
       "7     0.101970\n",
       "11    0.099507\n",
       "5     0.092611\n",
       "2     0.082266\n",
       "6     0.081281\n",
       "10    0.073399\n",
       "8     0.072414\n",
       "9     0.069458\n",
       "4     0.062562\n",
       "3     0.021182\n",
       "Name: key, dtype: float64"
      ]
     },
     "execution_count": 46,
     "metadata": {},
     "output_type": "execute_result"
    }
   ],
   "source": [
    "#show value count of keys in proportion to overall count for spread of data\n",
    "data_df[data_df['year'] == 2020]['key'].value_counts(normalize =True)"
   ]
  },
  {
   "cell_type": "code",
   "execution_count": 47,
   "metadata": {},
   "outputs": [],
   "source": [
    "sample = data_df[data_df['year'] == 2020]['key'].value_counts(normalize =True)"
   ]
  },
  {
   "cell_type": "code",
   "execution_count": 48,
   "metadata": {},
   "outputs": [
    {
     "data": {
      "text/plain": [
       "12"
      ]
     },
     "execution_count": 48,
     "metadata": {},
     "output_type": "execute_result"
    }
   ],
   "source": [
    "len(sample)"
   ]
  },
  {
   "cell_type": "code",
   "execution_count": 49,
   "metadata": {},
   "outputs": [
    {
     "data": {
      "text/plain": [
       "0.0008096569078393436"
      ]
     },
     "execution_count": 49,
     "metadata": {},
     "output_type": "execute_result"
    }
   ],
   "source": [
    "#calculate the variance to return a single value\n",
    "((sample - sample.mean())**2).sum()/(len(sample)-1)"
   ]
  },
  {
   "cell_type": "code",
   "execution_count": 50,
   "metadata": {},
   "outputs": [],
   "source": [
    "#test for a different year\n",
    "sample2 = data_df[data_df['year'] == 2005]['key'].value_counts(normalize =True)"
   ]
  },
  {
   "cell_type": "code",
   "execution_count": 51,
   "metadata": {},
   "outputs": [
    {
     "data": {
      "text/plain": [
       "0.0006358257127487898"
      ]
     },
     "execution_count": 51,
     "metadata": {},
     "output_type": "execute_result"
    }
   ],
   "source": [
    "((sample2 - sample2.mean())**2).sum()/(len(sample2)-1)"
   ]
  },
  {
   "cell_type": "code",
   "execution_count": 52,
   "metadata": {},
   "outputs": [],
   "source": [
    "#list of variance per year\n",
    "variance = []\n",
    "\n",
    "for year in data_df.year.unique():\n",
    "    #create normalized value count\n",
    "    normal_data = data_df[data_df['year'] == year]['key'].value_counts(normalize =True)\n",
    "    # calculate variance\n",
    "    variance_val = ((normal_data - normal_data.mean())**2).sum()/(len(normal_data)-1)\n",
    "    #append cariance to list\n",
    "    variance.append(variance_val)\n",
    "        "
   ]
  },
  {
   "cell_type": "code",
   "execution_count": 54,
   "metadata": {},
   "outputs": [
    {
     "data": {
      "image/png": "[encoded data removed]",
      "text/plain": [
       "<Figure size 576x576 with 1 Axes>"
      ]
     },
     "metadata": {},
     "output_type": "display_data"
    }
   ],
   "source": [
    "plt.figure(figsize=(8,8))\n",
    "plt.title('Variance of Music (key) Decreaseing Over Time')\n",
    "sns.lineplot(y=variance, x=data_df.year.unique())\n",
    "plt.savefig('../images/variance-of-music-decreasing-over-time');"
   ]
  },
  {
   "cell_type": "markdown",
   "metadata": {},
   "source": [
    "Key or pitch includ details about harmony, melody, chords, and progressions – essentially how the notes were arranged and unfolded over the course of the song.\n",
    "\n",
    "Data suggested that the variety of pitch progressions used has shrunk over the years. In other words, musicians are becoming less inventive and adventurous in how they get from one note or chord to the next, and instead seem to be relying more and more on the same sequences and patterns that others have used successfully in the past."
   ]
  },
  {
   "cell_type": "markdown",
   "metadata": {},
   "source": [
    "### summary of EDA thus far\n",
    "\n",
    "#### music becoming more cookie cutter\n",
    "\n",
    "-  pitch\n",
    "    - the data suggested that the variety of pitch progressions used has shrunk over the years\n",
    "    \n",
    "\n",
    "- music getting louder \n",
    "    - everything is getting louder. Which might not seem like a big deal (just turn down the volume knob, right?), until you start to notice that when everything is louder, the dynamic range becomes much more restricted. As in, the contrast between the really soft stuff, and the really loud stuff shrinks, so the overall emotional impact of the music is reduced. "
   ]
  },
  {
   "cell_type": "markdown",
   "metadata": {},
   "source": [
    "### show the most popular month that music is released"
   ]
  },
  {
   "cell_type": "code",
   "execution_count": 55,
   "metadata": {},
   "outputs": [],
   "source": [
    "data_df['month'] = pd.DatetimeIndex(data_df['release_date']).month"
   ]
  },
  {
   "cell_type": "code",
   "execution_count": 56,
   "metadata": {},
   "outputs": [
    {
     "data": {
      "text/plain": [
       "0            1921\n",
       "1            1921\n",
       "2            1921\n",
       "3            1921\n",
       "4            1921\n",
       "          ...    \n",
       "995          1926\n",
       "996    1926-07-12\n",
       "997          1926\n",
       "998          1926\n",
       "999          1926\n",
       "Name: release_date, Length: 1000, dtype: object"
      ]
     },
     "execution_count": 56,
     "metadata": {},
     "output_type": "execute_result"
    }
   ],
   "source": [
    "data_df.release_date.head(1000)"
   ]
  },
  {
   "cell_type": "code",
   "execution_count": 57,
   "metadata": {},
   "outputs": [
    {
     "data": {
      "text/plain": [
       "4"
      ]
     },
     "execution_count": 57,
     "metadata": {},
     "output_type": "execute_result"
    }
   ],
   "source": [
    "len(data_df.loc[999]['release_date'])"
   ]
  },
  {
   "cell_type": "code",
   "execution_count": 58,
   "metadata": {},
   "outputs": [
    {
     "data": {
      "text/plain": [
       "10"
      ]
     },
     "execution_count": 58,
     "metadata": {},
     "output_type": "execute_result"
    }
   ],
   "source": [
    "len(data_df.loc[996]['release_date'])\n"
   ]
  },
  {
   "cell_type": "code",
   "execution_count": 59,
   "metadata": {},
   "outputs": [
    {
     "name": "stdout",
     "output_type": "stream",
     "text": [
      "<class 'pandas.core.frame.DataFrame'>\n",
      "RangeIndex: 170653 entries, 0 to 170652\n",
      "Data columns (total 20 columns):\n",
      " #   Column            Non-Null Count   Dtype  \n",
      "---  ------            --------------   -----  \n",
      " 0   valence           170653 non-null  float64\n",
      " 1   year              170653 non-null  int64  \n",
      " 2   acousticness      170653 non-null  float64\n",
      " 3   artists           170653 non-null  object \n",
      " 4   danceability      170653 non-null  float64\n",
      " 5   duration_ms       170653 non-null  int64  \n",
      " 6   energy            170653 non-null  float64\n",
      " 7   explicit          170653 non-null  int64  \n",
      " 8   id                170653 non-null  object \n",
      " 9   instrumentalness  170653 non-null  float64\n",
      " 10  key               170653 non-null  object \n",
      " 11  liveness          170653 non-null  float64\n",
      " 12  loudness          170653 non-null  float64\n",
      " 13  mode              170653 non-null  int64  \n",
      " 14  name              170653 non-null  object \n",
      " 15  popularity        170653 non-null  int64  \n",
      " 16  release_date      170653 non-null  object \n",
      " 17  speechiness       170653 non-null  float64\n",
      " 18  tempo             170653 non-null  float64\n",
      " 19  month             170653 non-null  int64  \n",
      "dtypes: float64(9), int64(6), object(5)\n",
      "memory usage: 26.0+ MB\n"
     ]
    }
   ],
   "source": [
    "data_df.info()"
   ]
  },
  {
   "cell_type": "code",
   "execution_count": 60,
   "metadata": {},
   "outputs": [],
   "source": [
    "data_df['month'] = None"
   ]
  },
  {
   "cell_type": "code",
   "execution_count": 61,
   "metadata": {},
   "outputs": [],
   "source": [
    "\n",
    "for row in range(len(data_df)):\n",
    "    if len(data_df.iat[row,16]) == 4:\n",
    "        data_df.iat[row,19] = np.nan\n",
    "    elif len(data_df.iat[row,16]) == 7:\n",
    "        date = data_df.iat[row,16]\n",
    "        date = datetime.datetime.strptime(date, \"%Y-%m\")\n",
    "        data_df.iat[row,19] = date.month\n",
    "    else:\n",
    "        date = data_df.iat[row,16]\n",
    "        date = datetime.datetime.strptime(date, \"%Y-%m-%d\")\n",
    "        data_df.iat[row,19] = date.month\n"
   ]
  },
  {
   "cell_type": "code",
   "execution_count": 62,
   "metadata": {},
   "outputs": [
    {
     "data": {
      "text/plain": [
       "1     38363\n",
       "11    10047\n",
       "12     9652\n",
       "10     9089\n",
       "9      8318\n",
       "6      7545\n",
       "5      6765\n",
       "3      6651\n",
       "8      6460\n",
       "7      6106\n",
       "4      5851\n",
       "2      4951\n",
       "Name: month, dtype: int64"
      ]
     },
     "execution_count": 62,
     "metadata": {},
     "output_type": "execute_result"
    }
   ],
   "source": [
    "data_df.month.value_counts()"
   ]
  },
  {
   "cell_type": "code",
   "execution_count": 63,
   "metadata": {},
   "outputs": [
    {
     "data": {
      "text/plain": [
       "1     38363\n",
       "11    10047\n",
       "12     9652\n",
       "10     9089\n",
       "9      8318\n",
       "6      7545\n",
       "5      6765\n",
       "3      6651\n",
       "8      6460\n",
       "7      6106\n",
       "4      5851\n",
       "2      4951\n",
       "Name: month, dtype: int64"
      ]
     },
     "execution_count": 63,
     "metadata": {},
     "output_type": "execute_result"
    }
   ],
   "source": [
    "data_df.month.value_counts()"
   ]
  },
  {
   "cell_type": "code",
   "execution_count": 84,
   "metadata": {},
   "outputs": [
    {
     "data": {
      "image/png": "[encoded data removed]",
      "text/plain": [
       "<Figure size 576x576 with 1 Axes>"
      ]
     },
     "metadata": {},
     "output_type": "display_data"
    }
   ],
   "source": [
    "plt.figure(figsize=(8,8))\n",
    "sns.lineplot(data=data_df.month.value_counts())\n",
    "plt.title('Music Released in January the Highest')\n",
    "plt.savefig('../images/music-released-in-january-the-highest');"
   ]
  },
  {
   "cell_type": "markdown",
   "metadata": {},
   "source": [
    "Generally, the first two months of the year are a great time to release new music. Why? The market isn't as saturated as later on in the year, and the minds of listeners are open to new things."
   ]
  },
  {
   "cell_type": "markdown",
   "metadata": {},
   "source": [
    "## Clustering Genres Together"
   ]
  },
  {
   "cell_type": "markdown",
   "metadata": {},
   "source": [
    "In this section, data_by_genres_df is used for clustering to see how the different genres would be clustered together based on their average song attributes, using differnt clustering methods. \n",
    "\n",
    "By using this dataset, we can see the different kinds of genre you could expect from a given cluster."
   ]
  },
  {
   "cell_type": "code",
   "execution_count": 65,
   "metadata": {},
   "outputs": [
    {
     "data": {
      "text/html": [
       "<div>\n",
       "<style scoped>\n",
       "    .dataframe tbody tr th:only-of-type {\n",
       "        vertical-align: middle;\n",
       "    }\n",
       "\n",
       "    .dataframe tbody tr th {\n",
       "        vertical-align: top;\n",
       "    }\n",
       "\n",
       "    .dataframe thead th {\n",
       "        text-align: right;\n",
       "    }\n",
       "</style>\n",
       "<table border=\"1\" class=\"dataframe\">\n",
       "  <thead>\n",
       "    <tr style=\"text-align: right;\">\n",
       "      <th></th>\n",
       "      <th>mode</th>\n",
       "      <th>genres</th>\n",
       "      <th>acousticness</th>\n",
       "      <th>danceability</th>\n",
       "      <th>duration_ms</th>\n",
       "      <th>energy</th>\n",
       "      <th>instrumentalness</th>\n",
       "      <th>liveness</th>\n",
       "      <th>loudness</th>\n",
       "      <th>speechiness</th>\n",
       "      <th>tempo</th>\n",
       "      <th>valence</th>\n",
       "      <th>popularity</th>\n",
       "      <th>key</th>\n",
       "    </tr>\n",
       "  </thead>\n",
       "  <tbody>\n",
       "    <tr>\n",
       "      <th>237</th>\n",
       "      <td>1</td>\n",
       "      <td>basshall</td>\n",
       "      <td>0.213167</td>\n",
       "      <td>0.818000</td>\n",
       "      <td>169799.166667</td>\n",
       "      <td>0.630167</td>\n",
       "      <td>2.000000e-05</td>\n",
       "      <td>0.081067</td>\n",
       "      <td>-6.627833</td>\n",
       "      <td>0.134833</td>\n",
       "      <td>115.092500</td>\n",
       "      <td>0.588667</td>\n",
       "      <td>80.666667</td>\n",
       "      <td>2</td>\n",
       "    </tr>\n",
       "    <tr>\n",
       "      <th>2778</th>\n",
       "      <td>0</td>\n",
       "      <td>turkish edm</td>\n",
       "      <td>0.008290</td>\n",
       "      <td>0.698000</td>\n",
       "      <td>186700.000000</td>\n",
       "      <td>0.719000</td>\n",
       "      <td>4.010000e-06</td>\n",
       "      <td>0.326000</td>\n",
       "      <td>-4.923000</td>\n",
       "      <td>0.045500</td>\n",
       "      <td>120.062000</td>\n",
       "      <td>0.364000</td>\n",
       "      <td>80.000000</td>\n",
       "      <td>0</td>\n",
       "    </tr>\n",
       "    <tr>\n",
       "      <th>2533</th>\n",
       "      <td>1</td>\n",
       "      <td>south african house</td>\n",
       "      <td>0.043833</td>\n",
       "      <td>0.847000</td>\n",
       "      <td>311854.333333</td>\n",
       "      <td>0.562333</td>\n",
       "      <td>1.303392e-01</td>\n",
       "      <td>0.075133</td>\n",
       "      <td>-7.719000</td>\n",
       "      <td>0.050733</td>\n",
       "      <td>123.676333</td>\n",
       "      <td>0.834333</td>\n",
       "      <td>80.000000</td>\n",
       "      <td>1</td>\n",
       "    </tr>\n",
       "    <tr>\n",
       "      <th>2755</th>\n",
       "      <td>1</td>\n",
       "      <td>trap venezolano</td>\n",
       "      <td>0.044600</td>\n",
       "      <td>0.877000</td>\n",
       "      <td>231848.000000</td>\n",
       "      <td>0.777000</td>\n",
       "      <td>3.460000e-05</td>\n",
       "      <td>0.086300</td>\n",
       "      <td>-4.246000</td>\n",
       "      <td>0.117000</td>\n",
       "      <td>102.020000</td>\n",
       "      <td>0.706000</td>\n",
       "      <td>80.000000</td>\n",
       "      <td>1</td>\n",
       "    </tr>\n",
       "    <tr>\n",
       "      <th>46</th>\n",
       "      <td>0</td>\n",
       "      <td>alberta hip hop</td>\n",
       "      <td>0.330000</td>\n",
       "      <td>0.885000</td>\n",
       "      <td>144000.000000</td>\n",
       "      <td>0.685000</td>\n",
       "      <td>0.000000e+00</td>\n",
       "      <td>0.148000</td>\n",
       "      <td>-6.429000</td>\n",
       "      <td>0.062700</td>\n",
       "      <td>99.954000</td>\n",
       "      <td>0.937000</td>\n",
       "      <td>78.500000</td>\n",
       "      <td>11</td>\n",
       "    </tr>\n",
       "    <tr>\n",
       "      <th>536</th>\n",
       "      <td>0</td>\n",
       "      <td>chinese electropop</td>\n",
       "      <td>0.002570</td>\n",
       "      <td>0.660000</td>\n",
       "      <td>217088.000000</td>\n",
       "      <td>0.787000</td>\n",
       "      <td>0.000000e+00</td>\n",
       "      <td>0.323000</td>\n",
       "      <td>-4.592000</td>\n",
       "      <td>0.032000</td>\n",
       "      <td>142.018000</td>\n",
       "      <td>0.199000</td>\n",
       "      <td>78.500000</td>\n",
       "      <td>1</td>\n",
       "    </tr>\n",
       "    <tr>\n",
       "      <th>37</th>\n",
       "      <td>0</td>\n",
       "      <td>afroswing</td>\n",
       "      <td>0.318450</td>\n",
       "      <td>0.711750</td>\n",
       "      <td>179995.375000</td>\n",
       "      <td>0.580187</td>\n",
       "      <td>2.578950e-04</td>\n",
       "      <td>0.189950</td>\n",
       "      <td>-7.016687</td>\n",
       "      <td>0.195563</td>\n",
       "      <td>83.250125</td>\n",
       "      <td>0.676625</td>\n",
       "      <td>77.312500</td>\n",
       "      <td>11</td>\n",
       "    </tr>\n",
       "    <tr>\n",
       "      <th>31</th>\n",
       "      <td>0</td>\n",
       "      <td>afro soul</td>\n",
       "      <td>0.006270</td>\n",
       "      <td>0.766000</td>\n",
       "      <td>202627.000000</td>\n",
       "      <td>0.873000</td>\n",
       "      <td>0.000000e+00</td>\n",
       "      <td>0.076400</td>\n",
       "      <td>-6.381000</td>\n",
       "      <td>0.143000</td>\n",
       "      <td>126.988000</td>\n",
       "      <td>0.743000</td>\n",
       "      <td>77.000000</td>\n",
       "      <td>11</td>\n",
       "    </tr>\n",
       "    <tr>\n",
       "      <th>2383</th>\n",
       "      <td>1</td>\n",
       "      <td>russian dance</td>\n",
       "      <td>0.005610</td>\n",
       "      <td>0.653000</td>\n",
       "      <td>198095.000000</td>\n",
       "      <td>0.945000</td>\n",
       "      <td>9.150000e-01</td>\n",
       "      <td>0.439000</td>\n",
       "      <td>-2.634000</td>\n",
       "      <td>0.096000</td>\n",
       "      <td>126.093000</td>\n",
       "      <td>0.326000</td>\n",
       "      <td>77.000000</td>\n",
       "      <td>5</td>\n",
       "    </tr>\n",
       "    <tr>\n",
       "      <th>1239</th>\n",
       "      <td>1</td>\n",
       "      <td>guaracha</td>\n",
       "      <td>0.009030</td>\n",
       "      <td>0.745000</td>\n",
       "      <td>189818.000000</td>\n",
       "      <td>0.972000</td>\n",
       "      <td>4.650000e-01</td>\n",
       "      <td>0.297000</td>\n",
       "      <td>-3.506000</td>\n",
       "      <td>0.077400</td>\n",
       "      <td>128.031000</td>\n",
       "      <td>0.556000</td>\n",
       "      <td>77.000000</td>\n",
       "      <td>7</td>\n",
       "    </tr>\n",
       "    <tr>\n",
       "      <th>1381</th>\n",
       "      <td>1</td>\n",
       "      <td>indie triste</td>\n",
       "      <td>0.946000</td>\n",
       "      <td>0.830000</td>\n",
       "      <td>207400.000000</td>\n",
       "      <td>0.159000</td>\n",
       "      <td>2.020000e-05</td>\n",
       "      <td>0.362000</td>\n",
       "      <td>-14.461000</td>\n",
       "      <td>0.038300</td>\n",
       "      <td>104.950000</td>\n",
       "      <td>0.189000</td>\n",
       "      <td>77.000000</td>\n",
       "      <td>1</td>\n",
       "    </tr>\n",
       "    <tr>\n",
       "      <th>575</th>\n",
       "      <td>1</td>\n",
       "      <td>circuit</td>\n",
       "      <td>0.009030</td>\n",
       "      <td>0.745000</td>\n",
       "      <td>189818.000000</td>\n",
       "      <td>0.972000</td>\n",
       "      <td>4.650000e-01</td>\n",
       "      <td>0.297000</td>\n",
       "      <td>-3.506000</td>\n",
       "      <td>0.077400</td>\n",
       "      <td>128.031000</td>\n",
       "      <td>0.556000</td>\n",
       "      <td>77.000000</td>\n",
       "      <td>7</td>\n",
       "    </tr>\n",
       "    <tr>\n",
       "      <th>2800</th>\n",
       "      <td>0</td>\n",
       "      <td>uk diy punk</td>\n",
       "      <td>0.000209</td>\n",
       "      <td>0.452000</td>\n",
       "      <td>209598.000000</td>\n",
       "      <td>0.937000</td>\n",
       "      <td>3.610000e-06</td>\n",
       "      <td>0.606000</td>\n",
       "      <td>-3.346000</td>\n",
       "      <td>0.161000</td>\n",
       "      <td>164.032000</td>\n",
       "      <td>0.604000</td>\n",
       "      <td>77.000000</td>\n",
       "      <td>1</td>\n",
       "    </tr>\n",
       "    <tr>\n",
       "      <th>2102</th>\n",
       "      <td>0</td>\n",
       "      <td>pagode baiano</td>\n",
       "      <td>0.256333</td>\n",
       "      <td>0.826667</td>\n",
       "      <td>226325.666667</td>\n",
       "      <td>0.666000</td>\n",
       "      <td>2.490667e-05</td>\n",
       "      <td>0.111100</td>\n",
       "      <td>-4.319667</td>\n",
       "      <td>0.100267</td>\n",
       "      <td>147.341333</td>\n",
       "      <td>0.728000</td>\n",
       "      <td>76.666667</td>\n",
       "      <td>6</td>\n",
       "    </tr>\n",
       "    <tr>\n",
       "      <th>2337</th>\n",
       "      <td>0</td>\n",
       "      <td>ritmo kombina</td>\n",
       "      <td>0.251333</td>\n",
       "      <td>0.845000</td>\n",
       "      <td>172747.333333</td>\n",
       "      <td>0.578333</td>\n",
       "      <td>4.000000e-05</td>\n",
       "      <td>0.069533</td>\n",
       "      <td>-5.927667</td>\n",
       "      <td>0.111667</td>\n",
       "      <td>132.154000</td>\n",
       "      <td>0.505333</td>\n",
       "      <td>76.333333</td>\n",
       "      <td>2</td>\n",
       "    </tr>\n",
       "    <tr>\n",
       "      <th>2754</th>\n",
       "      <td>1</td>\n",
       "      <td>trap triste</td>\n",
       "      <td>0.329975</td>\n",
       "      <td>0.742000</td>\n",
       "      <td>299041.583333</td>\n",
       "      <td>0.704833</td>\n",
       "      <td>8.866667e-07</td>\n",
       "      <td>0.132575</td>\n",
       "      <td>-4.854250</td>\n",
       "      <td>0.081933</td>\n",
       "      <td>133.938167</td>\n",
       "      <td>0.565583</td>\n",
       "      <td>76.083333</td>\n",
       "      <td>11</td>\n",
       "    </tr>\n",
       "    <tr>\n",
       "      <th>2002</th>\n",
       "      <td>0</td>\n",
       "      <td>norwegian pop rap</td>\n",
       "      <td>0.131000</td>\n",
       "      <td>0.430000</td>\n",
       "      <td>211680.000000</td>\n",
       "      <td>0.606000</td>\n",
       "      <td>0.000000e+00</td>\n",
       "      <td>0.173000</td>\n",
       "      <td>-5.115000</td>\n",
       "      <td>0.043100</td>\n",
       "      <td>169.988000</td>\n",
       "      <td>0.123000</td>\n",
       "      <td>76.000000</td>\n",
       "      <td>4</td>\n",
       "    </tr>\n",
       "    <tr>\n",
       "      <th>2834</th>\n",
       "      <td>1</td>\n",
       "      <td>urbano espanol</td>\n",
       "      <td>0.175225</td>\n",
       "      <td>0.789000</td>\n",
       "      <td>206417.750000</td>\n",
       "      <td>0.630750</td>\n",
       "      <td>1.783088e-02</td>\n",
       "      <td>0.071650</td>\n",
       "      <td>-6.939250</td>\n",
       "      <td>0.135625</td>\n",
       "      <td>114.005750</td>\n",
       "      <td>0.559250</td>\n",
       "      <td>75.250000</td>\n",
       "      <td>1</td>\n",
       "    </tr>\n",
       "    <tr>\n",
       "      <th>1850</th>\n",
       "      <td>1</td>\n",
       "      <td>musica canaria</td>\n",
       "      <td>0.491167</td>\n",
       "      <td>0.785167</td>\n",
       "      <td>187229.166667</td>\n",
       "      <td>0.625500</td>\n",
       "      <td>2.166667e-03</td>\n",
       "      <td>0.075667</td>\n",
       "      <td>-5.258667</td>\n",
       "      <td>0.105983</td>\n",
       "      <td>107.362167</td>\n",
       "      <td>0.675667</td>\n",
       "      <td>75.166667</td>\n",
       "      <td>6</td>\n",
       "    </tr>\n",
       "    <tr>\n",
       "      <th>110</th>\n",
       "      <td>1</td>\n",
       "      <td>argentine hip hop</td>\n",
       "      <td>0.344988</td>\n",
       "      <td>0.737125</td>\n",
       "      <td>303028.041667</td>\n",
       "      <td>0.690479</td>\n",
       "      <td>7.758333e-07</td>\n",
       "      <td>0.109488</td>\n",
       "      <td>-4.955438</td>\n",
       "      <td>0.155342</td>\n",
       "      <td>139.724646</td>\n",
       "      <td>0.598354</td>\n",
       "      <td>74.979167</td>\n",
       "      <td>1</td>\n",
       "    </tr>\n",
       "  </tbody>\n",
       "</table>\n",
       "</div>"
      ],
      "text/plain": [
       "      mode               genres  acousticness  danceability    duration_ms  \\\n",
       "237      1             basshall      0.213167      0.818000  169799.166667   \n",
       "2778     0          turkish edm      0.008290      0.698000  186700.000000   \n",
       "2533     1  south african house      0.043833      0.847000  311854.333333   \n",
       "2755     1      trap venezolano      0.044600      0.877000  231848.000000   \n",
       "46       0      alberta hip hop      0.330000      0.885000  144000.000000   \n",
       "536      0   chinese electropop      0.002570      0.660000  217088.000000   \n",
       "37       0            afroswing      0.318450      0.711750  179995.375000   \n",
       "31       0            afro soul      0.006270      0.766000  202627.000000   \n",
       "2383     1        russian dance      0.005610      0.653000  198095.000000   \n",
       "1239     1             guaracha      0.009030      0.745000  189818.000000   \n",
       "1381     1         indie triste      0.946000      0.830000  207400.000000   \n",
       "575      1              circuit      0.009030      0.745000  189818.000000   \n",
       "2800     0          uk diy punk      0.000209      0.452000  209598.000000   \n",
       "2102     0        pagode baiano      0.256333      0.826667  226325.666667   \n",
       "2337     0        ritmo kombina      0.251333      0.845000  172747.333333   \n",
       "2754     1          trap triste      0.329975      0.742000  299041.583333   \n",
       "2002     0    norwegian pop rap      0.131000      0.430000  211680.000000   \n",
       "2834     1       urbano espanol      0.175225      0.789000  206417.750000   \n",
       "1850     1       musica canaria      0.491167      0.785167  187229.166667   \n",
       "110      1    argentine hip hop      0.344988      0.737125  303028.041667   \n",
       "\n",
       "        energy  instrumentalness  liveness   loudness  speechiness  \\\n",
       "237   0.630167      2.000000e-05  0.081067  -6.627833     0.134833   \n",
       "2778  0.719000      4.010000e-06  0.326000  -4.923000     0.045500   \n",
       "2533  0.562333      1.303392e-01  0.075133  -7.719000     0.050733   \n",
       "2755  0.777000      3.460000e-05  0.086300  -4.246000     0.117000   \n",
       "46    0.685000      0.000000e+00  0.148000  -6.429000     0.062700   \n",
       "536   0.787000      0.000000e+00  0.323000  -4.592000     0.032000   \n",
       "37    0.580187      2.578950e-04  0.189950  -7.016687     0.195563   \n",
       "31    0.873000      0.000000e+00  0.076400  -6.381000     0.143000   \n",
       "2383  0.945000      9.150000e-01  0.439000  -2.634000     0.096000   \n",
       "1239  0.972000      4.650000e-01  0.297000  -3.506000     0.077400   \n",
       "1381  0.159000      2.020000e-05  0.362000 -14.461000     0.038300   \n",
       "575   0.972000      4.650000e-01  0.297000  -3.506000     0.077400   \n",
       "2800  0.937000      3.610000e-06  0.606000  -3.346000     0.161000   \n",
       "2102  0.666000      2.490667e-05  0.111100  -4.319667     0.100267   \n",
       "2337  0.578333      4.000000e-05  0.069533  -5.927667     0.111667   \n",
       "2754  0.704833      8.866667e-07  0.132575  -4.854250     0.081933   \n",
       "2002  0.606000      0.000000e+00  0.173000  -5.115000     0.043100   \n",
       "2834  0.630750      1.783088e-02  0.071650  -6.939250     0.135625   \n",
       "1850  0.625500      2.166667e-03  0.075667  -5.258667     0.105983   \n",
       "110   0.690479      7.758333e-07  0.109488  -4.955438     0.155342   \n",
       "\n",
       "           tempo   valence  popularity  key  \n",
       "237   115.092500  0.588667   80.666667    2  \n",
       "2778  120.062000  0.364000   80.000000    0  \n",
       "2533  123.676333  0.834333   80.000000    1  \n",
       "2755  102.020000  0.706000   80.000000    1  \n",
       "46     99.954000  0.937000   78.500000   11  \n",
       "536   142.018000  0.199000   78.500000    1  \n",
       "37     83.250125  0.676625   77.312500   11  \n",
       "31    126.988000  0.743000   77.000000   11  \n",
       "2383  126.093000  0.326000   77.000000    5  \n",
       "1239  128.031000  0.556000   77.000000    7  \n",
       "1381  104.950000  0.189000   77.000000    1  \n",
       "575   128.031000  0.556000   77.000000    7  \n",
       "2800  164.032000  0.604000   77.000000    1  \n",
       "2102  147.341333  0.728000   76.666667    6  \n",
       "2337  132.154000  0.505333   76.333333    2  \n",
       "2754  133.938167  0.565583   76.083333   11  \n",
       "2002  169.988000  0.123000   76.000000    4  \n",
       "2834  114.005750  0.559250   75.250000    1  \n",
       "1850  107.362167  0.675667   75.166667    6  \n",
       "110   139.724646  0.598354   74.979167    1  "
      ]
     },
     "execution_count": 65,
     "metadata": {},
     "output_type": "execute_result"
    }
   ],
   "source": [
    "data_by_genres_df.sort_values(by='popularity',ascending=False).head(20)"
   ]
  },
  {
   "cell_type": "code",
   "execution_count": 66,
   "metadata": {},
   "outputs": [
    {
     "data": {
      "text/plain": [
       "2973"
      ]
     },
     "execution_count": 66,
     "metadata": {},
     "output_type": "execute_result"
    }
   ],
   "source": [
    "data_by_genres_df[\"genres\"].nunique()"
   ]
  },
  {
   "cell_type": "code",
   "execution_count": 67,
   "metadata": {},
   "outputs": [
    {
     "name": "stdout",
     "output_type": "stream",
     "text": [
      "<class 'pandas.core.frame.DataFrame'>\n",
      "RangeIndex: 2973 entries, 0 to 2972\n",
      "Data columns (total 14 columns):\n",
      " #   Column            Non-Null Count  Dtype  \n",
      "---  ------            --------------  -----  \n",
      " 0   mode              2973 non-null   int64  \n",
      " 1   genres            2973 non-null   object \n",
      " 2   acousticness      2973 non-null   float64\n",
      " 3   danceability      2973 non-null   float64\n",
      " 4   duration_ms       2973 non-null   float64\n",
      " 5   energy            2973 non-null   float64\n",
      " 6   instrumentalness  2973 non-null   float64\n",
      " 7   liveness          2973 non-null   float64\n",
      " 8   loudness          2973 non-null   float64\n",
      " 9   speechiness       2973 non-null   float64\n",
      " 10  tempo             2973 non-null   float64\n",
      " 11  valence           2973 non-null   float64\n",
      " 12  popularity        2973 non-null   float64\n",
      " 13  key               2973 non-null   int64  \n",
      "dtypes: float64(11), int64(2), object(1)\n",
      "memory usage: 325.3+ KB\n"
     ]
    }
   ],
   "source": [
    "data_by_genres_df.info()"
   ]
  },
  {
   "cell_type": "code",
   "execution_count": 68,
   "metadata": {},
   "outputs": [
    {
     "data": {
      "text/html": [
       "<div>\n",
       "<style scoped>\n",
       "    .dataframe tbody tr th:only-of-type {\n",
       "        vertical-align: middle;\n",
       "    }\n",
       "\n",
       "    .dataframe tbody tr th {\n",
       "        vertical-align: top;\n",
       "    }\n",
       "\n",
       "    .dataframe thead th {\n",
       "        text-align: right;\n",
       "    }\n",
       "</style>\n",
       "<table border=\"1\" class=\"dataframe\">\n",
       "  <thead>\n",
       "    <tr style=\"text-align: right;\">\n",
       "      <th></th>\n",
       "      <th>mode</th>\n",
       "      <th>acousticness</th>\n",
       "      <th>danceability</th>\n",
       "      <th>duration_ms</th>\n",
       "      <th>energy</th>\n",
       "      <th>instrumentalness</th>\n",
       "      <th>liveness</th>\n",
       "      <th>loudness</th>\n",
       "      <th>speechiness</th>\n",
       "      <th>tempo</th>\n",
       "      <th>valence</th>\n",
       "      <th>popularity</th>\n",
       "      <th>key</th>\n",
       "    </tr>\n",
       "  </thead>\n",
       "  <tbody>\n",
       "    <tr>\n",
       "      <th>0</th>\n",
       "      <td>1</td>\n",
       "      <td>0.979333</td>\n",
       "      <td>0.162883</td>\n",
       "      <td>1.602977e+05</td>\n",
       "      <td>0.071317</td>\n",
       "      <td>0.606834</td>\n",
       "      <td>0.361600</td>\n",
       "      <td>-31.514333</td>\n",
       "      <td>0.040567</td>\n",
       "      <td>75.336500</td>\n",
       "      <td>0.103783</td>\n",
       "      <td>27.833333</td>\n",
       "      <td>6</td>\n",
       "    </tr>\n",
       "    <tr>\n",
       "      <th>1</th>\n",
       "      <td>1</td>\n",
       "      <td>0.494780</td>\n",
       "      <td>0.299333</td>\n",
       "      <td>1.048887e+06</td>\n",
       "      <td>0.450678</td>\n",
       "      <td>0.477762</td>\n",
       "      <td>0.131000</td>\n",
       "      <td>-16.854000</td>\n",
       "      <td>0.076817</td>\n",
       "      <td>120.285667</td>\n",
       "      <td>0.221750</td>\n",
       "      <td>52.500000</td>\n",
       "      <td>5</td>\n",
       "    </tr>\n",
       "    <tr>\n",
       "      <th>2</th>\n",
       "      <td>1</td>\n",
       "      <td>0.762000</td>\n",
       "      <td>0.712000</td>\n",
       "      <td>1.151770e+05</td>\n",
       "      <td>0.818000</td>\n",
       "      <td>0.876000</td>\n",
       "      <td>0.126000</td>\n",
       "      <td>-9.180000</td>\n",
       "      <td>0.047000</td>\n",
       "      <td>133.444000</td>\n",
       "      <td>0.975000</td>\n",
       "      <td>48.000000</td>\n",
       "      <td>7</td>\n",
       "    </tr>\n",
       "    <tr>\n",
       "      <th>3</th>\n",
       "      <td>1</td>\n",
       "      <td>0.651417</td>\n",
       "      <td>0.529093</td>\n",
       "      <td>2.328809e+05</td>\n",
       "      <td>0.419146</td>\n",
       "      <td>0.205309</td>\n",
       "      <td>0.218696</td>\n",
       "      <td>-12.288965</td>\n",
       "      <td>0.107872</td>\n",
       "      <td>112.857352</td>\n",
       "      <td>0.513604</td>\n",
       "      <td>20.859882</td>\n",
       "      <td>7</td>\n",
       "    </tr>\n",
       "    <tr>\n",
       "      <th>4</th>\n",
       "      <td>1</td>\n",
       "      <td>0.676557</td>\n",
       "      <td>0.538961</td>\n",
       "      <td>1.906285e+05</td>\n",
       "      <td>0.316434</td>\n",
       "      <td>0.003003</td>\n",
       "      <td>0.172254</td>\n",
       "      <td>-12.479387</td>\n",
       "      <td>0.082851</td>\n",
       "      <td>112.110362</td>\n",
       "      <td>0.448249</td>\n",
       "      <td>45.820071</td>\n",
       "      <td>7</td>\n",
       "    </tr>\n",
       "  </tbody>\n",
       "</table>\n",
       "</div>"
      ],
      "text/plain": [
       "   mode  acousticness  danceability   duration_ms    energy  instrumentalness  \\\n",
       "0     1      0.979333      0.162883  1.602977e+05  0.071317          0.606834   \n",
       "1     1      0.494780      0.299333  1.048887e+06  0.450678          0.477762   \n",
       "2     1      0.762000      0.712000  1.151770e+05  0.818000          0.876000   \n",
       "3     1      0.651417      0.529093  2.328809e+05  0.419146          0.205309   \n",
       "4     1      0.676557      0.538961  1.906285e+05  0.316434          0.003003   \n",
       "\n",
       "   liveness   loudness  speechiness       tempo   valence  popularity  key  \n",
       "0  0.361600 -31.514333     0.040567   75.336500  0.103783   27.833333    6  \n",
       "1  0.131000 -16.854000     0.076817  120.285667  0.221750   52.500000    5  \n",
       "2  0.126000  -9.180000     0.047000  133.444000  0.975000   48.000000    7  \n",
       "3  0.218696 -12.288965     0.107872  112.857352  0.513604   20.859882    7  \n",
       "4  0.172254 -12.479387     0.082851  112.110362  0.448249   45.820071    7  "
      ]
     },
     "execution_count": 68,
     "metadata": {},
     "output_type": "execute_result"
    }
   ],
   "source": [
    "data_by_genres_df.select_dtypes(np.number).head()"
   ]
  },
  {
   "cell_type": "markdown",
   "metadata": {},
   "source": [
    "### Finding optimal K using elbow method"
   ]
  },
  {
   "cell_type": "markdown",
   "metadata": {},
   "source": [
    "Kmeans algorithm is an iterative algorithm that tries to partition the dataset into Kpre-defined distinct non-overlapping subgroups (clusters) where each data point belongs to only one group. It tries to make the intra-cluster data points as similar as possible while also keeping the clusters as different (far) as possible"
   ]
  },
  {
   "cell_type": "code",
   "execution_count": 69,
   "metadata": {},
   "outputs": [],
   "source": [
    "ss = StandardScaler()\n",
    "\n",
    "# assign numerical data as train data\n",
    "X = data_by_genres_df.select_dtypes(np.number)\n",
    "X_scaled = ss.fit_transform(X)"
   ]
  },
  {
   "cell_type": "code",
   "execution_count": 70,
   "metadata": {},
   "outputs": [],
   "source": [
    "\n",
    "K = range(1,10)\n",
    "distortion = [] #the sum of square error for each data point to their nearest cluster centre\n",
    "# using for loop\n",
    "for k in K:\n",
    "    inertia = KMeans(n_clusters=k).fit(X_scaled).inertia_\n",
    "    distortion.append(inertia)\n",
    "\n"
   ]
  },
  {
   "cell_type": "code",
   "execution_count": 96,
   "metadata": {},
   "outputs": [
    {
     "data": {
      "image/png": "[encoded data removed]",
      "text/plain": [
       "<Figure size 576x576 with 1 Axes>"
      ]
     },
     "metadata": {},
     "output_type": "display_data"
    }
   ],
   "source": [
    "#plot for distortion against k range 50 to select best K\n",
    "plt.figure(figsize = (8,8))\n",
    "plt.plot(K, distortion,'bx-')\n",
    "plt.savefig('../images/elbow-method');"
   ]
  },
  {
   "cell_type": "code",
   "execution_count": 74,
   "metadata": {},
   "outputs": [
    {
     "data": {
      "text/plain": [
       "15339.191508938047"
      ]
     },
     "execution_count": 74,
     "metadata": {},
     "output_type": "execute_result"
    }
   ],
   "source": [
    "KMeans(n_clusters=20).fit(X_scaled).inertia_\n"
   ]
  },
  {
   "cell_type": "markdown",
   "metadata": {},
   "source": [
    "wont be using the elbow method as 2 clusters for genre of music is not logical, will give my own K value or look into other clustering methods that makes more sense for just eyeballing it."
   ]
  },
  {
   "cell_type": "code",
   "execution_count": 75,
   "metadata": {},
   "outputs": [],
   "source": [
    "#reasign kmean's prediction\n",
    "km_model = KMeans(n_clusters=30).fit(X_scaled)\n",
    "grouped_genre = km_model.predict(X_scaled)"
   ]
  },
  {
   "cell_type": "code",
   "execution_count": 76,
   "metadata": {},
   "outputs": [],
   "source": [
    "data_by_genres_df['grouped_genre'] = grouped_genre"
   ]
  },
  {
   "cell_type": "code",
   "execution_count": 77,
   "metadata": {},
   "outputs": [
    {
     "data": {
      "text/plain": [
       "5     263\n",
       "10    246\n",
       "1     228\n",
       "18    196\n",
       "27    187\n",
       "14    144\n",
       "19    131\n",
       "13    128\n",
       "3     128\n",
       "4     120\n",
       "8     119\n",
       "9     117\n",
       "22    108\n",
       "2     100\n",
       "0      98\n",
       "29     96\n",
       "6      95\n",
       "16     87\n",
       "15     85\n",
       "17     65\n",
       "24     50\n",
       "12     50\n",
       "28     41\n",
       "20     31\n",
       "26     22\n",
       "21     13\n",
       "23     11\n",
       "7       8\n",
       "11      5\n",
       "25      1\n",
       "Name: grouped_genre, dtype: int64"
      ]
     },
     "execution_count": 77,
     "metadata": {},
     "output_type": "execute_result"
    }
   ],
   "source": [
    "data_by_genres_df.grouped_genre.value_counts()"
   ]
  },
  {
   "cell_type": "code",
   "execution_count": 78,
   "metadata": {},
   "outputs": [
    {
     "data": {
      "text/html": [
       "<div>\n",
       "<style scoped>\n",
       "    .dataframe tbody tr th:only-of-type {\n",
       "        vertical-align: middle;\n",
       "    }\n",
       "\n",
       "    .dataframe tbody tr th {\n",
       "        vertical-align: top;\n",
       "    }\n",
       "\n",
       "    .dataframe thead th {\n",
       "        text-align: right;\n",
       "    }\n",
       "</style>\n",
       "<table border=\"1\" class=\"dataframe\">\n",
       "  <thead>\n",
       "    <tr style=\"text-align: right;\">\n",
       "      <th></th>\n",
       "      <th>mode</th>\n",
       "      <th>genres</th>\n",
       "      <th>acousticness</th>\n",
       "      <th>danceability</th>\n",
       "      <th>duration_ms</th>\n",
       "      <th>energy</th>\n",
       "      <th>instrumentalness</th>\n",
       "      <th>liveness</th>\n",
       "      <th>loudness</th>\n",
       "      <th>speechiness</th>\n",
       "      <th>tempo</th>\n",
       "      <th>valence</th>\n",
       "      <th>popularity</th>\n",
       "      <th>key</th>\n",
       "      <th>grouped_genre</th>\n",
       "    </tr>\n",
       "  </thead>\n",
       "  <tbody>\n",
       "    <tr>\n",
       "      <th>93</th>\n",
       "      <td>1</td>\n",
       "      <td>anime score</td>\n",
       "      <td>0.300139</td>\n",
       "      <td>0.473544</td>\n",
       "      <td>223791.409820</td>\n",
       "      <td>0.647055</td>\n",
       "      <td>0.300843</td>\n",
       "      <td>0.166846</td>\n",
       "      <td>-8.463057</td>\n",
       "      <td>0.073648</td>\n",
       "      <td>123.066583</td>\n",
       "      <td>0.374913</td>\n",
       "      <td>50.539803</td>\n",
       "      <td>5</td>\n",
       "      <td>4</td>\n",
       "    </tr>\n",
       "    <tr>\n",
       "      <th>120</th>\n",
       "      <td>1</td>\n",
       "      <td>arkansas indie</td>\n",
       "      <td>0.236500</td>\n",
       "      <td>0.430000</td>\n",
       "      <td>265170.500000</td>\n",
       "      <td>0.504000</td>\n",
       "      <td>0.107665</td>\n",
       "      <td>0.171000</td>\n",
       "      <td>-10.193500</td>\n",
       "      <td>0.031250</td>\n",
       "      <td>100.529000</td>\n",
       "      <td>0.168500</td>\n",
       "      <td>50.000000</td>\n",
       "      <td>3</td>\n",
       "      <td>4</td>\n",
       "    </tr>\n",
       "    <tr>\n",
       "      <th>126</th>\n",
       "      <td>1</td>\n",
       "      <td>asbury park indie</td>\n",
       "      <td>0.000969</td>\n",
       "      <td>0.557000</td>\n",
       "      <td>226853.000000</td>\n",
       "      <td>0.815000</td>\n",
       "      <td>0.001880</td>\n",
       "      <td>0.093200</td>\n",
       "      <td>-5.402000</td>\n",
       "      <td>0.032800</td>\n",
       "      <td>88.929000</td>\n",
       "      <td>0.445000</td>\n",
       "      <td>50.000000</td>\n",
       "      <td>0</td>\n",
       "      <td>4</td>\n",
       "    </tr>\n",
       "    <tr>\n",
       "      <th>127</th>\n",
       "      <td>1</td>\n",
       "      <td>asheville indie</td>\n",
       "      <td>0.600667</td>\n",
       "      <td>0.548000</td>\n",
       "      <td>257521.666667</td>\n",
       "      <td>0.517000</td>\n",
       "      <td>0.312333</td>\n",
       "      <td>0.121667</td>\n",
       "      <td>-7.792333</td>\n",
       "      <td>0.034200</td>\n",
       "      <td>106.587667</td>\n",
       "      <td>0.539333</td>\n",
       "      <td>47.000000</td>\n",
       "      <td>0</td>\n",
       "      <td>4</td>\n",
       "    </tr>\n",
       "    <tr>\n",
       "      <th>155</th>\n",
       "      <td>1</td>\n",
       "      <td>australian country</td>\n",
       "      <td>0.339248</td>\n",
       "      <td>0.594223</td>\n",
       "      <td>204273.631579</td>\n",
       "      <td>0.543227</td>\n",
       "      <td>0.000021</td>\n",
       "      <td>0.125475</td>\n",
       "      <td>-9.926076</td>\n",
       "      <td>0.050019</td>\n",
       "      <td>108.122674</td>\n",
       "      <td>0.535173</td>\n",
       "      <td>43.418947</td>\n",
       "      <td>2</td>\n",
       "      <td>4</td>\n",
       "    </tr>\n",
       "    <tr>\n",
       "      <th>162</th>\n",
       "      <td>1</td>\n",
       "      <td>australian indie folk</td>\n",
       "      <td>0.334759</td>\n",
       "      <td>0.526375</td>\n",
       "      <td>275284.745370</td>\n",
       "      <td>0.545167</td>\n",
       "      <td>0.042584</td>\n",
       "      <td>0.159930</td>\n",
       "      <td>-9.823431</td>\n",
       "      <td>0.103252</td>\n",
       "      <td>118.432032</td>\n",
       "      <td>0.385680</td>\n",
       "      <td>56.388889</td>\n",
       "      <td>5</td>\n",
       "      <td>4</td>\n",
       "    </tr>\n",
       "    <tr>\n",
       "      <th>167</th>\n",
       "      <td>1</td>\n",
       "      <td>australian pop</td>\n",
       "      <td>0.232096</td>\n",
       "      <td>0.590632</td>\n",
       "      <td>241329.883990</td>\n",
       "      <td>0.649049</td>\n",
       "      <td>0.027319</td>\n",
       "      <td>0.166159</td>\n",
       "      <td>-7.039690</td>\n",
       "      <td>0.059337</td>\n",
       "      <td>121.535204</td>\n",
       "      <td>0.488809</td>\n",
       "      <td>57.526460</td>\n",
       "      <td>0</td>\n",
       "      <td>4</td>\n",
       "    </tr>\n",
       "    <tr>\n",
       "      <th>171</th>\n",
       "      <td>1</td>\n",
       "      <td>australian r&amp;b</td>\n",
       "      <td>0.518750</td>\n",
       "      <td>0.617500</td>\n",
       "      <td>277272.000000</td>\n",
       "      <td>0.416500</td>\n",
       "      <td>0.000032</td>\n",
       "      <td>0.104450</td>\n",
       "      <td>-8.246000</td>\n",
       "      <td>0.107125</td>\n",
       "      <td>102.273000</td>\n",
       "      <td>0.277000</td>\n",
       "      <td>62.250000</td>\n",
       "      <td>2</td>\n",
       "      <td>4</td>\n",
       "    </tr>\n",
       "    <tr>\n",
       "      <th>357</th>\n",
       "      <td>1</td>\n",
       "      <td>brisbane indie</td>\n",
       "      <td>0.123000</td>\n",
       "      <td>0.607500</td>\n",
       "      <td>229646.000000</td>\n",
       "      <td>0.588500</td>\n",
       "      <td>0.000010</td>\n",
       "      <td>0.106200</td>\n",
       "      <td>-7.863500</td>\n",
       "      <td>0.032450</td>\n",
       "      <td>142.971500</td>\n",
       "      <td>0.345000</td>\n",
       "      <td>60.500000</td>\n",
       "      <td>0</td>\n",
       "      <td>4</td>\n",
       "    </tr>\n",
       "    <tr>\n",
       "      <th>372</th>\n",
       "      <td>1</td>\n",
       "      <td>british folk</td>\n",
       "      <td>0.627307</td>\n",
       "      <td>0.507357</td>\n",
       "      <td>236720.841328</td>\n",
       "      <td>0.333057</td>\n",
       "      <td>0.090056</td>\n",
       "      <td>0.137406</td>\n",
       "      <td>-13.056687</td>\n",
       "      <td>0.043333</td>\n",
       "      <td>122.859926</td>\n",
       "      <td>0.488773</td>\n",
       "      <td>33.716807</td>\n",
       "      <td>0</td>\n",
       "      <td>4</td>\n",
       "    </tr>\n",
       "    <tr>\n",
       "      <th>382</th>\n",
       "      <td>1</td>\n",
       "      <td>british singer-songwriter</td>\n",
       "      <td>0.704419</td>\n",
       "      <td>0.480800</td>\n",
       "      <td>236385.930952</td>\n",
       "      <td>0.333415</td>\n",
       "      <td>0.158954</td>\n",
       "      <td>0.118492</td>\n",
       "      <td>-11.390542</td>\n",
       "      <td>0.040702</td>\n",
       "      <td>108.235963</td>\n",
       "      <td>0.257475</td>\n",
       "      <td>53.978571</td>\n",
       "      <td>2</td>\n",
       "      <td>4</td>\n",
       "    </tr>\n",
       "    <tr>\n",
       "      <th>395</th>\n",
       "      <td>1</td>\n",
       "      <td>bubblegrunge</td>\n",
       "      <td>0.285020</td>\n",
       "      <td>0.541137</td>\n",
       "      <td>209944.771928</td>\n",
       "      <td>0.564730</td>\n",
       "      <td>0.105710</td>\n",
       "      <td>0.172333</td>\n",
       "      <td>-9.041753</td>\n",
       "      <td>0.051670</td>\n",
       "      <td>121.645964</td>\n",
       "      <td>0.488997</td>\n",
       "      <td>51.538642</td>\n",
       "      <td>4</td>\n",
       "      <td>4</td>\n",
       "    </tr>\n",
       "    <tr>\n",
       "      <th>418</th>\n",
       "      <td>1</td>\n",
       "      <td>canadian ccm</td>\n",
       "      <td>0.163486</td>\n",
       "      <td>0.526204</td>\n",
       "      <td>231591.991499</td>\n",
       "      <td>0.689368</td>\n",
       "      <td>0.000105</td>\n",
       "      <td>0.134679</td>\n",
       "      <td>-5.979640</td>\n",
       "      <td>0.064880</td>\n",
       "      <td>119.876526</td>\n",
       "      <td>0.454991</td>\n",
       "      <td>50.104794</td>\n",
       "      <td>4</td>\n",
       "      <td>4</td>\n",
       "    </tr>\n",
       "    <tr>\n",
       "      <th>427</th>\n",
       "      <td>1</td>\n",
       "      <td>canadian country</td>\n",
       "      <td>0.441139</td>\n",
       "      <td>0.587006</td>\n",
       "      <td>209732.313694</td>\n",
       "      <td>0.530311</td>\n",
       "      <td>0.037096</td>\n",
       "      <td>0.178670</td>\n",
       "      <td>-9.264775</td>\n",
       "      <td>0.043243</td>\n",
       "      <td>112.325395</td>\n",
       "      <td>0.524074</td>\n",
       "      <td>43.296365</td>\n",
       "      <td>4</td>\n",
       "      <td>4</td>\n",
       "    </tr>\n",
       "    <tr>\n",
       "      <th>437</th>\n",
       "      <td>1</td>\n",
       "      <td>canadian indigenous</td>\n",
       "      <td>0.387500</td>\n",
       "      <td>0.569792</td>\n",
       "      <td>201355.375000</td>\n",
       "      <td>0.403250</td>\n",
       "      <td>0.031102</td>\n",
       "      <td>0.105242</td>\n",
       "      <td>-10.684917</td>\n",
       "      <td>0.075867</td>\n",
       "      <td>123.400292</td>\n",
       "      <td>0.495971</td>\n",
       "      <td>38.625000</td>\n",
       "      <td>3</td>\n",
       "      <td>4</td>\n",
       "    </tr>\n",
       "    <tr>\n",
       "      <th>443</th>\n",
       "      <td>1</td>\n",
       "      <td>canadian pop</td>\n",
       "      <td>0.297364</td>\n",
       "      <td>0.576830</td>\n",
       "      <td>233174.051284</td>\n",
       "      <td>0.608836</td>\n",
       "      <td>0.038571</td>\n",
       "      <td>0.174003</td>\n",
       "      <td>-7.435749</td>\n",
       "      <td>0.070552</td>\n",
       "      <td>121.297446</td>\n",
       "      <td>0.471105</td>\n",
       "      <td>53.172324</td>\n",
       "      <td>0</td>\n",
       "      <td>4</td>\n",
       "    </tr>\n",
       "    <tr>\n",
       "      <th>528</th>\n",
       "      <td>1</td>\n",
       "      <td>chill r&amp;b</td>\n",
       "      <td>0.421479</td>\n",
       "      <td>0.664617</td>\n",
       "      <td>221023.152381</td>\n",
       "      <td>0.519023</td>\n",
       "      <td>0.000578</td>\n",
       "      <td>0.194325</td>\n",
       "      <td>-8.257676</td>\n",
       "      <td>0.102757</td>\n",
       "      <td>112.953808</td>\n",
       "      <td>0.518308</td>\n",
       "      <td>52.539984</td>\n",
       "      <td>5</td>\n",
       "      <td>4</td>\n",
       "    </tr>\n",
       "    <tr>\n",
       "      <th>542</th>\n",
       "      <td>1</td>\n",
       "      <td>chinese jazz</td>\n",
       "      <td>0.800000</td>\n",
       "      <td>0.670000</td>\n",
       "      <td>225053.000000</td>\n",
       "      <td>0.306000</td>\n",
       "      <td>0.000001</td>\n",
       "      <td>0.082900</td>\n",
       "      <td>-11.032000</td>\n",
       "      <td>0.036600</td>\n",
       "      <td>139.949000</td>\n",
       "      <td>0.610000</td>\n",
       "      <td>58.000000</td>\n",
       "      <td>2</td>\n",
       "      <td>4</td>\n",
       "    </tr>\n",
       "    <tr>\n",
       "      <th>558</th>\n",
       "      <td>1</td>\n",
       "      <td>christian indie</td>\n",
       "      <td>0.269614</td>\n",
       "      <td>0.508610</td>\n",
       "      <td>249145.538118</td>\n",
       "      <td>0.566203</td>\n",
       "      <td>0.006055</td>\n",
       "      <td>0.159219</td>\n",
       "      <td>-7.825166</td>\n",
       "      <td>0.034197</td>\n",
       "      <td>115.391992</td>\n",
       "      <td>0.399930</td>\n",
       "      <td>50.628371</td>\n",
       "      <td>2</td>\n",
       "      <td>4</td>\n",
       "    </tr>\n",
       "    <tr>\n",
       "      <th>561</th>\n",
       "      <td>1</td>\n",
       "      <td>christian music</td>\n",
       "      <td>0.282061</td>\n",
       "      <td>0.482148</td>\n",
       "      <td>264414.218110</td>\n",
       "      <td>0.573389</td>\n",
       "      <td>0.010943</td>\n",
       "      <td>0.204325</td>\n",
       "      <td>-7.935495</td>\n",
       "      <td>0.050007</td>\n",
       "      <td>121.291912</td>\n",
       "      <td>0.358236</td>\n",
       "      <td>46.941014</td>\n",
       "      <td>2</td>\n",
       "      <td>4</td>\n",
       "    </tr>\n",
       "    <tr>\n",
       "      <th>562</th>\n",
       "      <td>1</td>\n",
       "      <td>christian pop</td>\n",
       "      <td>0.175486</td>\n",
       "      <td>0.541054</td>\n",
       "      <td>250620.895943</td>\n",
       "      <td>0.668825</td>\n",
       "      <td>0.014102</td>\n",
       "      <td>0.177548</td>\n",
       "      <td>-6.620651</td>\n",
       "      <td>0.047114</td>\n",
       "      <td>124.055083</td>\n",
       "      <td>0.419899</td>\n",
       "      <td>53.194678</td>\n",
       "      <td>2</td>\n",
       "      <td>4</td>\n",
       "    </tr>\n",
       "    <tr>\n",
       "      <th>609</th>\n",
       "      <td>1</td>\n",
       "      <td>classic opm</td>\n",
       "      <td>0.555854</td>\n",
       "      <td>0.494491</td>\n",
       "      <td>252093.260358</td>\n",
       "      <td>0.394111</td>\n",
       "      <td>0.003998</td>\n",
       "      <td>0.198740</td>\n",
       "      <td>-12.189350</td>\n",
       "      <td>0.036901</td>\n",
       "      <td>125.010416</td>\n",
       "      <td>0.395656</td>\n",
       "      <td>46.149235</td>\n",
       "      <td>0</td>\n",
       "      <td>4</td>\n",
       "    </tr>\n",
       "    <tr>\n",
       "      <th>630</th>\n",
       "      <td>1</td>\n",
       "      <td>classical accordion</td>\n",
       "      <td>0.223000</td>\n",
       "      <td>0.348000</td>\n",
       "      <td>153067.000000</td>\n",
       "      <td>0.393000</td>\n",
       "      <td>0.000000</td>\n",
       "      <td>0.151000</td>\n",
       "      <td>-9.787000</td>\n",
       "      <td>0.030000</td>\n",
       "      <td>132.069000</td>\n",
       "      <td>0.357000</td>\n",
       "      <td>62.000000</td>\n",
       "      <td>1</td>\n",
       "      <td>4</td>\n",
       "    </tr>\n",
       "    <tr>\n",
       "      <th>667</th>\n",
       "      <td>1</td>\n",
       "      <td>comedy rock</td>\n",
       "      <td>0.586425</td>\n",
       "      <td>0.682486</td>\n",
       "      <td>139319.509707</td>\n",
       "      <td>0.448572</td>\n",
       "      <td>0.437684</td>\n",
       "      <td>0.176328</td>\n",
       "      <td>-10.219571</td>\n",
       "      <td>0.088829</td>\n",
       "      <td>108.597216</td>\n",
       "      <td>0.515218</td>\n",
       "      <td>44.373167</td>\n",
       "      <td>0</td>\n",
       "      <td>4</td>\n",
       "    </tr>\n",
       "    <tr>\n",
       "      <th>851</th>\n",
       "      <td>1</td>\n",
       "      <td>denver indie</td>\n",
       "      <td>0.275533</td>\n",
       "      <td>0.555722</td>\n",
       "      <td>271149.000000</td>\n",
       "      <td>0.690000</td>\n",
       "      <td>0.078456</td>\n",
       "      <td>0.183556</td>\n",
       "      <td>-6.910278</td>\n",
       "      <td>0.033889</td>\n",
       "      <td>117.230500</td>\n",
       "      <td>0.570994</td>\n",
       "      <td>44.500000</td>\n",
       "      <td>2</td>\n",
       "      <td>4</td>\n",
       "    </tr>\n",
       "    <tr>\n",
       "      <th>873</th>\n",
       "      <td>1</td>\n",
       "      <td>disney</td>\n",
       "      <td>0.672952</td>\n",
       "      <td>0.491220</td>\n",
       "      <td>175480.849350</td>\n",
       "      <td>0.388269</td>\n",
       "      <td>0.040585</td>\n",
       "      <td>0.191793</td>\n",
       "      <td>-12.854322</td>\n",
       "      <td>0.094368</td>\n",
       "      <td>106.342429</td>\n",
       "      <td>0.490976</td>\n",
       "      <td>47.183285</td>\n",
       "      <td>0</td>\n",
       "      <td>4</td>\n",
       "    </tr>\n",
       "    <tr>\n",
       "      <th>905</th>\n",
       "      <td>1</td>\n",
       "      <td>dunedin indie</td>\n",
       "      <td>0.623000</td>\n",
       "      <td>0.587333</td>\n",
       "      <td>197485.666667</td>\n",
       "      <td>0.346000</td>\n",
       "      <td>0.117770</td>\n",
       "      <td>0.185367</td>\n",
       "      <td>-13.949333</td>\n",
       "      <td>0.165667</td>\n",
       "      <td>109.545667</td>\n",
       "      <td>0.389000</td>\n",
       "      <td>47.333333</td>\n",
       "      <td>2</td>\n",
       "      <td>4</td>\n",
       "    </tr>\n",
       "    <tr>\n",
       "      <th>962</th>\n",
       "      <td>1</td>\n",
       "      <td>electro-pop francais</td>\n",
       "      <td>0.351533</td>\n",
       "      <td>0.708167</td>\n",
       "      <td>271917.333333</td>\n",
       "      <td>0.537500</td>\n",
       "      <td>0.015623</td>\n",
       "      <td>0.224033</td>\n",
       "      <td>-8.393500</td>\n",
       "      <td>0.041833</td>\n",
       "      <td>98.337667</td>\n",
       "      <td>0.373333</td>\n",
       "      <td>60.500000</td>\n",
       "      <td>5</td>\n",
       "      <td>4</td>\n",
       "    </tr>\n",
       "    <tr>\n",
       "      <th>975</th>\n",
       "      <td>1</td>\n",
       "      <td>emo rap</td>\n",
       "      <td>0.269875</td>\n",
       "      <td>0.678342</td>\n",
       "      <td>190854.078024</td>\n",
       "      <td>0.601195</td>\n",
       "      <td>0.051549</td>\n",
       "      <td>0.176319</td>\n",
       "      <td>-8.357416</td>\n",
       "      <td>0.151995</td>\n",
       "      <td>120.559587</td>\n",
       "      <td>0.385875</td>\n",
       "      <td>61.145659</td>\n",
       "      <td>1</td>\n",
       "      <td>4</td>\n",
       "    </tr>\n",
       "    <tr>\n",
       "      <th>997</th>\n",
       "      <td>1</td>\n",
       "      <td>eugene indie</td>\n",
       "      <td>0.101975</td>\n",
       "      <td>0.546250</td>\n",
       "      <td>210813.250000</td>\n",
       "      <td>0.738750</td>\n",
       "      <td>0.078380</td>\n",
       "      <td>0.129975</td>\n",
       "      <td>-8.612000</td>\n",
       "      <td>0.056200</td>\n",
       "      <td>120.365750</td>\n",
       "      <td>0.511000</td>\n",
       "      <td>49.000000</td>\n",
       "      <td>4</td>\n",
       "      <td>4</td>\n",
       "    </tr>\n",
       "  </tbody>\n",
       "</table>\n",
       "</div>"
      ],
      "text/plain": [
       "     mode                     genres  acousticness  danceability  \\\n",
       "93      1                anime score      0.300139      0.473544   \n",
       "120     1             arkansas indie      0.236500      0.430000   \n",
       "126     1          asbury park indie      0.000969      0.557000   \n",
       "127     1            asheville indie      0.600667      0.548000   \n",
       "155     1         australian country      0.339248      0.594223   \n",
       "162     1      australian indie folk      0.334759      0.526375   \n",
       "167     1             australian pop      0.232096      0.590632   \n",
       "171     1             australian r&b      0.518750      0.617500   \n",
       "357     1             brisbane indie      0.123000      0.607500   \n",
       "372     1               british folk      0.627307      0.507357   \n",
       "382     1  british singer-songwriter      0.704419      0.480800   \n",
       "395     1               bubblegrunge      0.285020      0.541137   \n",
       "418     1               canadian ccm      0.163486      0.526204   \n",
       "427     1           canadian country      0.441139      0.587006   \n",
       "437     1        canadian indigenous      0.387500      0.569792   \n",
       "443     1               canadian pop      0.297364      0.576830   \n",
       "528     1                  chill r&b      0.421479      0.664617   \n",
       "542     1               chinese jazz      0.800000      0.670000   \n",
       "558     1            christian indie      0.269614      0.508610   \n",
       "561     1            christian music      0.282061      0.482148   \n",
       "562     1              christian pop      0.175486      0.541054   \n",
       "609     1                classic opm      0.555854      0.494491   \n",
       "630     1        classical accordion      0.223000      0.348000   \n",
       "667     1                comedy rock      0.586425      0.682486   \n",
       "851     1               denver indie      0.275533      0.555722   \n",
       "873     1                     disney      0.672952      0.491220   \n",
       "905     1              dunedin indie      0.623000      0.587333   \n",
       "962     1       electro-pop francais      0.351533      0.708167   \n",
       "975     1                    emo rap      0.269875      0.678342   \n",
       "997     1               eugene indie      0.101975      0.546250   \n",
       "\n",
       "       duration_ms    energy  instrumentalness  liveness   loudness  \\\n",
       "93   223791.409820  0.647055          0.300843  0.166846  -8.463057   \n",
       "120  265170.500000  0.504000          0.107665  0.171000 -10.193500   \n",
       "126  226853.000000  0.815000          0.001880  0.093200  -5.402000   \n",
       "127  257521.666667  0.517000          0.312333  0.121667  -7.792333   \n",
       "155  204273.631579  0.543227          0.000021  0.125475  -9.926076   \n",
       "162  275284.745370  0.545167          0.042584  0.159930  -9.823431   \n",
       "167  241329.883990  0.649049          0.027319  0.166159  -7.039690   \n",
       "171  277272.000000  0.416500          0.000032  0.104450  -8.246000   \n",
       "357  229646.000000  0.588500          0.000010  0.106200  -7.863500   \n",
       "372  236720.841328  0.333057          0.090056  0.137406 -13.056687   \n",
       "382  236385.930952  0.333415          0.158954  0.118492 -11.390542   \n",
       "395  209944.771928  0.564730          0.105710  0.172333  -9.041753   \n",
       "418  231591.991499  0.689368          0.000105  0.134679  -5.979640   \n",
       "427  209732.313694  0.530311          0.037096  0.178670  -9.264775   \n",
       "437  201355.375000  0.403250          0.031102  0.105242 -10.684917   \n",
       "443  233174.051284  0.608836          0.038571  0.174003  -7.435749   \n",
       "528  221023.152381  0.519023          0.000578  0.194325  -8.257676   \n",
       "542  225053.000000  0.306000          0.000001  0.082900 -11.032000   \n",
       "558  249145.538118  0.566203          0.006055  0.159219  -7.825166   \n",
       "561  264414.218110  0.573389          0.010943  0.204325  -7.935495   \n",
       "562  250620.895943  0.668825          0.014102  0.177548  -6.620651   \n",
       "609  252093.260358  0.394111          0.003998  0.198740 -12.189350   \n",
       "630  153067.000000  0.393000          0.000000  0.151000  -9.787000   \n",
       "667  139319.509707  0.448572          0.437684  0.176328 -10.219571   \n",
       "851  271149.000000  0.690000          0.078456  0.183556  -6.910278   \n",
       "873  175480.849350  0.388269          0.040585  0.191793 -12.854322   \n",
       "905  197485.666667  0.346000          0.117770  0.185367 -13.949333   \n",
       "962  271917.333333  0.537500          0.015623  0.224033  -8.393500   \n",
       "975  190854.078024  0.601195          0.051549  0.176319  -8.357416   \n",
       "997  210813.250000  0.738750          0.078380  0.129975  -8.612000   \n",
       "\n",
       "     speechiness       tempo   valence  popularity  key  grouped_genre  \n",
       "93      0.073648  123.066583  0.374913   50.539803    5              4  \n",
       "120     0.031250  100.529000  0.168500   50.000000    3              4  \n",
       "126     0.032800   88.929000  0.445000   50.000000    0              4  \n",
       "127     0.034200  106.587667  0.539333   47.000000    0              4  \n",
       "155     0.050019  108.122674  0.535173   43.418947    2              4  \n",
       "162     0.103252  118.432032  0.385680   56.388889    5              4  \n",
       "167     0.059337  121.535204  0.488809   57.526460    0              4  \n",
       "171     0.107125  102.273000  0.277000   62.250000    2              4  \n",
       "357     0.032450  142.971500  0.345000   60.500000    0              4  \n",
       "372     0.043333  122.859926  0.488773   33.716807    0              4  \n",
       "382     0.040702  108.235963  0.257475   53.978571    2              4  \n",
       "395     0.051670  121.645964  0.488997   51.538642    4              4  \n",
       "418     0.064880  119.876526  0.454991   50.104794    4              4  \n",
       "427     0.043243  112.325395  0.524074   43.296365    4              4  \n",
       "437     0.075867  123.400292  0.495971   38.625000    3              4  \n",
       "443     0.070552  121.297446  0.471105   53.172324    0              4  \n",
       "528     0.102757  112.953808  0.518308   52.539984    5              4  \n",
       "542     0.036600  139.949000  0.610000   58.000000    2              4  \n",
       "558     0.034197  115.391992  0.399930   50.628371    2              4  \n",
       "561     0.050007  121.291912  0.358236   46.941014    2              4  \n",
       "562     0.047114  124.055083  0.419899   53.194678    2              4  \n",
       "609     0.036901  125.010416  0.395656   46.149235    0              4  \n",
       "630     0.030000  132.069000  0.357000   62.000000    1              4  \n",
       "667     0.088829  108.597216  0.515218   44.373167    0              4  \n",
       "851     0.033889  117.230500  0.570994   44.500000    2              4  \n",
       "873     0.094368  106.342429  0.490976   47.183285    0              4  \n",
       "905     0.165667  109.545667  0.389000   47.333333    2              4  \n",
       "962     0.041833   98.337667  0.373333   60.500000    5              4  \n",
       "975     0.151995  120.559587  0.385875   61.145659    1              4  \n",
       "997     0.056200  120.365750  0.511000   49.000000    4              4  "
      ]
     },
     "execution_count": 78,
     "metadata": {},
     "output_type": "execute_result"
    }
   ],
   "source": [
    "data_by_genres_df[(data_by_genres_df.grouped_genre == 4)].head(30)"
   ]
  },
  {
   "cell_type": "code",
   "execution_count": 79,
   "metadata": {},
   "outputs": [
    {
     "data": {
      "text/html": [
       "<div>\n",
       "<style scoped>\n",
       "    .dataframe tbody tr th:only-of-type {\n",
       "        vertical-align: middle;\n",
       "    }\n",
       "\n",
       "    .dataframe tbody tr th {\n",
       "        vertical-align: top;\n",
       "    }\n",
       "\n",
       "    .dataframe thead th {\n",
       "        text-align: right;\n",
       "    }\n",
       "</style>\n",
       "<table border=\"1\" class=\"dataframe\">\n",
       "  <thead>\n",
       "    <tr style=\"text-align: right;\">\n",
       "      <th></th>\n",
       "      <th>mode</th>\n",
       "      <th>genres</th>\n",
       "      <th>acousticness</th>\n",
       "      <th>danceability</th>\n",
       "      <th>duration_ms</th>\n",
       "      <th>energy</th>\n",
       "      <th>instrumentalness</th>\n",
       "      <th>liveness</th>\n",
       "      <th>loudness</th>\n",
       "      <th>speechiness</th>\n",
       "      <th>tempo</th>\n",
       "      <th>valence</th>\n",
       "      <th>popularity</th>\n",
       "      <th>key</th>\n",
       "      <th>grouped_genre</th>\n",
       "    </tr>\n",
       "  </thead>\n",
       "  <tbody>\n",
       "    <tr>\n",
       "      <th>38</th>\n",
       "      <td>1</td>\n",
       "      <td>aggrotech</td>\n",
       "      <td>0.011868</td>\n",
       "      <td>0.601333</td>\n",
       "      <td>236315.0</td>\n",
       "      <td>0.712333</td>\n",
       "      <td>0.252</td>\n",
       "      <td>0.259667</td>\n",
       "      <td>-6.408</td>\n",
       "      <td>0.034233</td>\n",
       "      <td>116.721333</td>\n",
       "      <td>0.443333</td>\n",
       "      <td>55.666667</td>\n",
       "      <td>1</td>\n",
       "      <td>14</td>\n",
       "    </tr>\n",
       "  </tbody>\n",
       "</table>\n",
       "</div>"
      ],
      "text/plain": [
       "    mode     genres  acousticness  danceability  duration_ms    energy  \\\n",
       "38     1  aggrotech      0.011868      0.601333     236315.0  0.712333   \n",
       "\n",
       "    instrumentalness  liveness  loudness  speechiness       tempo   valence  \\\n",
       "38             0.252  0.259667    -6.408     0.034233  116.721333  0.443333   \n",
       "\n",
       "    popularity  key  grouped_genre  \n",
       "38   55.666667    1             14  "
      ]
     },
     "execution_count": 79,
     "metadata": {},
     "output_type": "execute_result"
    }
   ],
   "source": [
    "data_by_genres_df[(data_by_genres_df.genres == 'aggrotech')]"
   ]
  },
  {
   "cell_type": "code",
   "execution_count": 80,
   "metadata": {},
   "outputs": [],
   "source": [
    "def scaler(data):\n",
    "    ss = StandardScaler()\n",
    "    return ss.fit_transform(data)"
   ]
  },
  {
   "cell_type": "code",
   "execution_count": null,
   "metadata": {},
   "outputs": [],
   "source": []
  },
  {
   "cell_type": "markdown",
   "metadata": {},
   "source": [
    "## Visualise Clustering Segmentation"
   ]
  },
  {
   "cell_type": "markdown",
   "metadata": {},
   "source": [
    "What is tsne? \n",
    "\n",
    "Use to understand high-dimensional data and project it into low-dimensional space (2D).\n",
    "\n",
    "Can be used in CNN."
   ]
  },
  {
   "cell_type": "code",
   "execution_count": 81,
   "metadata": {},
   "outputs": [],
   "source": [
    "# initialise TSNE\n",
    "tsne = TSNE(n_components=2) #reduce to two dimensions\n",
    "genre_embedding = tsne.fit_transform(X_scaled)\n",
    "projection = pd.DataFrame(columns=['x','y'], data= genre_embedding) #put array into dataframe\n",
    "projection['genre'] = data_by_genres_df['genres'] #assign data points original genres\n",
    "projection['grouped_genre'] = data_by_genres_df['grouped_genre'] #assign data points cluster"
   ]
  },
  {
   "cell_type": "code",
   "execution_count": 89,
   "metadata": {},
   "outputs": [],
   "source": [
    "def tsne_plot(data,title):\n",
    "    plt.figure(figsize=(10,10))\n",
    "    plt.title(title)\n",
    "    plt.scatter(x='x', y='y', data=data, c ='grouped_genre', cmap='tab20')"
   ]
  },
  {
   "cell_type": "code",
   "execution_count": 94,
   "metadata": {},
   "outputs": [
    {
     "data": {
      "image/png": "[encoded data removed]",
      "text/plain": [
       "<Figure size 720x720 with 1 Axes>"
      ]
     },
     "metadata": {},
     "output_type": "display_data"
    }
   ],
   "source": [
    "tsne_plot(projection,'Clusters with KMeans Algo where K=30')\n",
    "plt.savefig('../images/k-mean30');"
   ]
  },
  {
   "cell_type": "markdown",
   "metadata": {},
   "source": [
    "Visually, the segementation of the data does not appear to be the best. May have to reconsider the clustering algorithm or the number of cluster. "
   ]
  },
  {
   "cell_type": "markdown",
   "metadata": {},
   "source": [
    "# Using Spotify API"
   ]
  },
  {
   "cell_type": "markdown",
   "metadata": {},
   "source": [
    "## What ive learnt using the API\n",
    "\n"
   ]
  },
  {
   "cell_type": "code",
   "execution_count": null,
   "metadata": {},
   "outputs": [],
   "source": []
  },
  {
   "cell_type": "markdown",
   "metadata": {},
   "source": [
    "## Feature Selection\n"
   ]
  },
  {
   "cell_type": "markdown",
   "metadata": {},
   "source": [
    "## Building Recommender"
   ]
  },
  {
   "cell_type": "markdown",
   "metadata": {},
   "source": [
    "### Content-based filtering \n",
    "\n",
    "#### Advantages\n",
    "\n",
    "The model doesn't need any data about other users, since the recommendations are specific to this user. This makes it easier to scale to a large number of users.\n",
    "The model can capture the specific interests of a user, and can recommend niche items that very few other users are interested in.\n",
    "\n",
    "#### Disadvantages\n",
    "\n",
    "Since the feature representation of the items are hand-engineered to some extent, this technique requires a lot of domain knowledge. Therefore, the model can only be as good as the hand-engineered features.\n",
    "The model can only make recommendations based on existing interests of the user. In other words, the model has limited ability to expand on the users' existing interests."
   ]
  },
  {
   "cell_type": "markdown",
   "metadata": {},
   "source": [
    "## Recommendations\n",
    "\n",
    "Implicit\n",
    "- or get implicit feedback on the number times a user skips recommended suggestion (not the most accurate as clicks can happen by accident)\n",
    "- what is the ratio of songs added to the playlist against suggested\n",
    "- the duration of the song you listen to\n",
    "- how often the song is repeated provided its added into the playlist\n",
    "\n",
    "\n",
    "Explicit\n",
    "- have the user for explicit feedback whether they like the recommendation (perceived quality)"
   ]
  },
  {
   "cell_type": "code",
   "execution_count": null,
   "metadata": {},
   "outputs": [],
   "source": []
  }
 ],
 "metadata": {
  "kernelspec": {
   "display_name": "Python 3",
   "language": "python",
   "name": "python3"
  },
  "language_info": {
   "codemirror_mode": {
    "name": "ipython",
    "version": 3
   },
   "file_extension": ".py",
   "mimetype": "text/x-python",
   "name": "python",
   "nbconvert_exporter": "python",
   "pygments_lexer": "ipython3",
   "version": "3.8.5"
  }
 },
 "nbformat": 4,
 "nbformat_minor": 4
}
