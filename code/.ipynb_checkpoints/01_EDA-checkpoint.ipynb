{
 "cells": [
  {
   "cell_type": "markdown",
   "metadata": {},
   "source": [
    "## Problem Statement"
   ]
  },
  {
   "cell_type": "markdown",
   "metadata": {},
   "source": [
    "When engaging with content in our model world, corporations use recommender system to suggest future content we might like based on the attributes of the content. Be it movies or books that we may be interested in with the goal of keeping customer interested andf However this may cause an echo chamber effect.\n",
    "\n",
    "An extreme example of an echo chamber caused by recommender system is youtube's algorithm suggesting alt-right content which may lead to an individual developing extremist views. And this a problem of overtraining, because what is recommended is based on the data that is inputed to the system. \n",
    "\n",
    "Spotify uses a common method for producing recommendations known as collaborative filtering which generates recommendations based on the combined preferences of the consumer requesting recommendations and those of other consumers. The underlying issue with this method is that song recommendations are based on the 'crowd'.\n",
    "\n",
    "Furthermore, as the business model of Spotify is built in a way where artists are compensated by number of streams, the homegenization of new music become more prevalent. Such as making songs more catchier and shorter. \n",
    "\n",
    "The recommender system I would like to propose is for users to be recommended songs based on the 'DNA' of the music they have been listening to with the goal of potentially exposing the listener to songs form different genres and epochs. This is threfore a cluster or nearest neighbour recommendation system. This would broaden the horizon of music listeners and also bring attention to artists that create music as an artform as opposed to achieving the highest streaming numbers. "
   ]
  },
  {
   "cell_type": "markdown",
   "metadata": {},
   "source": [
    "Things to do\n",
    "- clean the data\n",
    "- assign the song with their respective genre\n",
    "- cluster the cleaned data\n",
    "\n",
    "- random forest classifier"
   ]
  },
  {
   "cell_type": "markdown",
   "metadata": {},
   "source": [
    "## Import Libraries"
   ]
  },
  {
   "cell_type": "code",
   "execution_count": 1,
   "metadata": {},
   "outputs": [],
   "source": [
    "import pandas as pd\n",
    "import numpy as np\n",
    "import matplotlib.pyplot as plt\n",
    "import seaborn as sns\n",
    "import datetime\n",
    "import re\n",
    "\n",
    "from numpy import dot\n",
    "from numpy.linalg import norm\n",
    "\n",
    "\n",
    "from sklearn.preprocessing import StandardScaler\n",
    "from sklearn.cluster import KMeans, DBSCAN\n",
    "from sklearn.metrics import silhouette_score\n",
    "from sklearn.pipeline import Pipeline\n",
    "\n",
    "from sklearn.metrics.pairwise import cosine_similarity\n",
    "\n",
    "from sklearn.manifold import TSNE\n",
    "\n",
    "plt.style.use('fivethirtyeight')\n",
    "\n"
   ]
  },
  {
   "cell_type": "markdown",
   "metadata": {},
   "source": [
    "# Datasets for Artist information (from Spotify Songs Kaggle dataset)"
   ]
  },
  {
   "cell_type": "code",
   "execution_count": 2,
   "metadata": {},
   "outputs": [],
   "source": [
    "artist_df = pd.read_csv('../data/spotify_songs_1922/artists.csv')\n",
    "data_by_artist_df = pd.read_csv('../data/spotify_songs_1922/data_by_artist_o.csv')\n",
    "tracks_df = pd.read_csv('../data/spotify_songs_1922/tracks.csv')\n",
    "data_df = pd.read_csv('../data/spotify_songs_1922/data_o.csv')\n",
    "data_by_year_df = pd.read_csv('../data/spotify_songs_1922/data_by_year_o.csv')\n",
    "data_by_genres_df = pd.read_csv('../data/spotify_songs_1922/data_by_genres_o.csv')"
   ]
  },
  {
   "cell_type": "markdown",
   "metadata": {},
   "source": [
    "## Decisions Moving Forward\n",
    "- Using non explicit songs as there are more \n",
    "- consider making a decade categorical feature\n",
    "- clustering genres together as genres are are not generalised\n"
   ]
  },
  {
   "cell_type": "markdown",
   "metadata": {},
   "source": [
    "## Modelling:\n",
    "\n",
    "### Feature Engineering\n",
    "\n",
    "- using K-means(or other clustering techniques) to cluster genre together \n",
    "- should also look into other clustering methods\n",
    "\n",
    "- Should I use a a linear regression model to see the type of features is most important in the song prediction? https://medium.com/@mark.rethana/building-a-song-recommendation-system-using-cosine-similarity-and-euclidian-distance-748fdfc832fd\n",
    "\n",
    "\n",
    "### Metrics\n",
    "\n",
    "- Unsure if the metric is subject to the listener\n",
    "\n",
    "\n",
    "### Building the Recommender System\n",
    "- Naive and non personalised way by recreating the Collab Filtering as a baseline\n",
    "- using distance to build a recommender system via clustered genres\n",
    "- Using CNN as a recommender system\n",
    "    - emulating this research paper https://www.sciencedirect.com/science/article/pii/S1877050919310646/pdf?md5=4f9a5242eb223b5c96c9ebf130855467&pid=1-s2.0-S1877050919310646-main.pd\n",
    "- using cosine similarity\n",
    "\n",
    "### Potential Limitations and Considerations\n",
    "\n",
    "- kaggle dataset does not have user engagement and only genre metadata\n",
    "\n",
    " - do i need to use the million dataset as i need a rating system to work on?\n",
    "     - current spotify dataset may not have enough features\n",
    "     - Source of dataset: http://millionsongdataset.com/\n",
    "     - This article uses it https://towardsdatascience.com/how-to-build-a-simple-song-recommender-296fcbc8c85\n",
    "    \n",
    "     \n",
    "     \n",
    " - Show why Collab filtering is not ideal due to the the cold start problem, also suggesting niche recommendation, requires reference from what may be a scare dataset. Generally why collab filtering would create an echo chamber because popularity of the music can be affected exogenous factors such as hype around the artist, your social group and so on. \n",
    " \n",
    " "
   ]
  },
  {
   "cell_type": "markdown",
   "metadata": {},
   "source": [
    "#### helpful research links\n",
    "\n",
    "- https://www.nytimes.com/2009/10/18/magazine/18Pandora-t.html\n",
    "- https://towardsdatascience.com/4-ways-to-supercharge-your-recommendation-system-aeac34678ce9\n",
    "- https://soundcharts.com/blog/music-industry-trends#the-democratization-of-music-creation"
   ]
  },
  {
   "cell_type": "markdown",
   "metadata": {},
   "source": [
    "## Data Dictionary"
   ]
  },
  {
   "cell_type": "code",
   "execution_count": null,
   "metadata": {},
   "outputs": [],
   "source": []
  },
  {
   "cell_type": "markdown",
   "metadata": {},
   "source": [
    "## Datasets Description"
   ]
  },
  {
   "cell_type": "markdown",
   "metadata": {},
   "source": [
    "#### artist_df\n",
    "- shows popularity\n",
    "- shows number of followers\n",
    "- shows genre\n",
    "\n",
    "#### data_by_artist_df\n",
    "- 28680 artists\n",
    "- gives average of the songs metadeta made by the artist. \n",
    "- Think of as the music DNA of the artist\n",
    "- Also provides a list of genre the artist is categorised in.\n",
    " \n",
    "#### tracks_df (songs)\n",
    "- 586672 songs\n",
    "- Does not have genre IMPORTANT\n",
    "- has repeats of the same song with the same specs, possibly rereleased.\n",
    "- does not have year or release date\n",
    "- has song metadata.\n",
    "\n",
    "#### data_df (songs)\n",
    "- 170653 songs\n",
    "- does not have genre\n",
    "- has release dates and year in the dataset\n",
    "- has song meta deta\n",
    "\n",
    "#### data_by_year\n",
    "- shows average of music data that year\n",
    "- Useful for EDA\n",
    "    - show trend of how music has evolved over the years\n",
    "    - plot graph\n",
    "    \n",
    "    \n",
    "#### data_by_genre_df\n",
    "- dataset has 2973 subgenres \n",
    "- features associated with these subgenres are the average values that a song belonging to that subgenre would have.\n"
   ]
  },
  {
   "cell_type": "markdown",
   "metadata": {},
   "source": [
    "observation, the longest song duration in the dataset shows to be 90 minutes long. These are likely to be podcast are maybe comedy albums that comedians have put out. Or could also be audio of soundscapes people use for mediation. Ultimately for my project, with the knowledge that most popular songs are under 10 minutes. I would remove all songs that exceed this duration. "
   ]
  },
  {
   "cell_type": "code",
   "execution_count": 3,
   "metadata": {},
   "outputs": [
    {
     "name": "stdout",
     "output_type": "stream",
     "text": [
      "<class 'pandas.core.frame.DataFrame'>\n",
      "RangeIndex: 170653 entries, 0 to 170652\n",
      "Data columns (total 19 columns):\n",
      " #   Column            Non-Null Count   Dtype  \n",
      "---  ------            --------------   -----  \n",
      " 0   valence           170653 non-null  float64\n",
      " 1   year              170653 non-null  int64  \n",
      " 2   acousticness      170653 non-null  float64\n",
      " 3   artists           170653 non-null  object \n",
      " 4   danceability      170653 non-null  float64\n",
      " 5   duration_ms       170653 non-null  int64  \n",
      " 6   energy            170653 non-null  float64\n",
      " 7   explicit          170653 non-null  int64  \n",
      " 8   id                170653 non-null  object \n",
      " 9   instrumentalness  170653 non-null  float64\n",
      " 10  key               170653 non-null  int64  \n",
      " 11  liveness          170653 non-null  float64\n",
      " 12  loudness          170653 non-null  float64\n",
      " 13  mode              170653 non-null  int64  \n",
      " 14  name              170653 non-null  object \n",
      " 15  popularity        170653 non-null  int64  \n",
      " 16  release_date      170653 non-null  object \n",
      " 17  speechiness       170653 non-null  float64\n",
      " 18  tempo             170653 non-null  float64\n",
      "dtypes: float64(9), int64(6), object(4)\n",
      "memory usage: 24.7+ MB\n"
     ]
    }
   ],
   "source": [
    "data_df.info()"
   ]
  },
  {
   "cell_type": "code",
   "execution_count": 4,
   "metadata": {},
   "outputs": [
    {
     "name": "stdout",
     "output_type": "stream",
     "text": [
      "<class 'pandas.core.frame.DataFrame'>\n",
      "RangeIndex: 586672 entries, 0 to 586671\n",
      "Data columns (total 20 columns):\n",
      " #   Column            Non-Null Count   Dtype  \n",
      "---  ------            --------------   -----  \n",
      " 0   id                586672 non-null  object \n",
      " 1   name              586601 non-null  object \n",
      " 2   popularity        586672 non-null  int64  \n",
      " 3   duration_ms       586672 non-null  int64  \n",
      " 4   explicit          586672 non-null  int64  \n",
      " 5   artists           586672 non-null  object \n",
      " 6   id_artists        586672 non-null  object \n",
      " 7   release_date      586672 non-null  object \n",
      " 8   danceability      586672 non-null  float64\n",
      " 9   energy            586672 non-null  float64\n",
      " 10  key               586672 non-null  int64  \n",
      " 11  loudness          586672 non-null  float64\n",
      " 12  mode              586672 non-null  int64  \n",
      " 13  speechiness       586672 non-null  float64\n",
      " 14  acousticness      586672 non-null  float64\n",
      " 15  instrumentalness  586672 non-null  float64\n",
      " 16  liveness          586672 non-null  float64\n",
      " 17  valence           586672 non-null  float64\n",
      " 18  tempo             586672 non-null  float64\n",
      " 19  time_signature    586672 non-null  int64  \n",
      "dtypes: float64(9), int64(6), object(5)\n",
      "memory usage: 89.5+ MB\n"
     ]
    }
   ],
   "source": [
    "tracks_df.info()"
   ]
  },
  {
   "cell_type": "code",
   "execution_count": 5,
   "metadata": {},
   "outputs": [
    {
     "name": "stdout",
     "output_type": "stream",
     "text": [
      "<class 'pandas.core.frame.DataFrame'>\n",
      "RangeIndex: 2973 entries, 0 to 2972\n",
      "Data columns (total 14 columns):\n",
      " #   Column            Non-Null Count  Dtype  \n",
      "---  ------            --------------  -----  \n",
      " 0   mode              2973 non-null   int64  \n",
      " 1   genres            2973 non-null   object \n",
      " 2   acousticness      2973 non-null   float64\n",
      " 3   danceability      2973 non-null   float64\n",
      " 4   duration_ms       2973 non-null   float64\n",
      " 5   energy            2973 non-null   float64\n",
      " 6   instrumentalness  2973 non-null   float64\n",
      " 7   liveness          2973 non-null   float64\n",
      " 8   loudness          2973 non-null   float64\n",
      " 9   speechiness       2973 non-null   float64\n",
      " 10  tempo             2973 non-null   float64\n",
      " 11  valence           2973 non-null   float64\n",
      " 12  popularity        2973 non-null   float64\n",
      " 13  key               2973 non-null   int64  \n",
      "dtypes: float64(11), int64(2), object(1)\n",
      "memory usage: 325.3+ KB\n"
     ]
    }
   ],
   "source": [
    "data_by_genres_df.info()"
   ]
  },
  {
   "cell_type": "code",
   "execution_count": 6,
   "metadata": {},
   "outputs": [
    {
     "name": "stdout",
     "output_type": "stream",
     "text": [
      "<class 'pandas.core.frame.DataFrame'>\n",
      "RangeIndex: 1104349 entries, 0 to 1104348\n",
      "Data columns (total 5 columns):\n",
      " #   Column      Non-Null Count    Dtype  \n",
      "---  ------      --------------    -----  \n",
      " 0   id          1104349 non-null  object \n",
      " 1   followers   1104336 non-null  float64\n",
      " 2   genres      1104349 non-null  object \n",
      " 3   name        1104349 non-null  object \n",
      " 4   popularity  1104349 non-null  int64  \n",
      "dtypes: float64(1), int64(1), object(3)\n",
      "memory usage: 42.1+ MB\n"
     ]
    }
   ],
   "source": [
    "artist_df.info()"
   ]
  },
  {
   "cell_type": "markdown",
   "metadata": {},
   "source": [
    "## Data Cleaning"
   ]
  },
  {
   "cell_type": "code",
   "execution_count": 7,
   "metadata": {},
   "outputs": [
    {
     "data": {
      "text/html": [
       "<div>\n",
       "<style scoped>\n",
       "    .dataframe tbody tr th:only-of-type {\n",
       "        vertical-align: middle;\n",
       "    }\n",
       "\n",
       "    .dataframe tbody tr th {\n",
       "        vertical-align: top;\n",
       "    }\n",
       "\n",
       "    .dataframe thead th {\n",
       "        text-align: right;\n",
       "    }\n",
       "</style>\n",
       "<table border=\"1\" class=\"dataframe\">\n",
       "  <thead>\n",
       "    <tr style=\"text-align: right;\">\n",
       "      <th></th>\n",
       "      <th>valence</th>\n",
       "      <th>year</th>\n",
       "      <th>acousticness</th>\n",
       "      <th>danceability</th>\n",
       "      <th>duration_ms</th>\n",
       "      <th>energy</th>\n",
       "      <th>explicit</th>\n",
       "      <th>instrumentalness</th>\n",
       "      <th>key</th>\n",
       "      <th>liveness</th>\n",
       "      <th>loudness</th>\n",
       "      <th>mode</th>\n",
       "      <th>popularity</th>\n",
       "      <th>speechiness</th>\n",
       "      <th>tempo</th>\n",
       "    </tr>\n",
       "  </thead>\n",
       "  <tbody>\n",
       "    <tr>\n",
       "      <th>count</th>\n",
       "      <td>170653.000000</td>\n",
       "      <td>170653.000000</td>\n",
       "      <td>170653.000000</td>\n",
       "      <td>170653.000000</td>\n",
       "      <td>1.706530e+05</td>\n",
       "      <td>170653.000000</td>\n",
       "      <td>170653.000000</td>\n",
       "      <td>170653.000000</td>\n",
       "      <td>170653.000000</td>\n",
       "      <td>170653.000000</td>\n",
       "      <td>170653.000000</td>\n",
       "      <td>170653.000000</td>\n",
       "      <td>170653.000000</td>\n",
       "      <td>170653.000000</td>\n",
       "      <td>170653.000000</td>\n",
       "    </tr>\n",
       "    <tr>\n",
       "      <th>mean</th>\n",
       "      <td>0.528587</td>\n",
       "      <td>1976.787241</td>\n",
       "      <td>0.502115</td>\n",
       "      <td>0.537396</td>\n",
       "      <td>2.309483e+05</td>\n",
       "      <td>0.482389</td>\n",
       "      <td>0.084575</td>\n",
       "      <td>0.167010</td>\n",
       "      <td>5.199844</td>\n",
       "      <td>0.205839</td>\n",
       "      <td>-11.467990</td>\n",
       "      <td>0.706902</td>\n",
       "      <td>31.431794</td>\n",
       "      <td>0.098393</td>\n",
       "      <td>116.861590</td>\n",
       "    </tr>\n",
       "    <tr>\n",
       "      <th>std</th>\n",
       "      <td>0.263171</td>\n",
       "      <td>25.917853</td>\n",
       "      <td>0.376032</td>\n",
       "      <td>0.176138</td>\n",
       "      <td>1.261184e+05</td>\n",
       "      <td>0.267646</td>\n",
       "      <td>0.278249</td>\n",
       "      <td>0.313475</td>\n",
       "      <td>3.515094</td>\n",
       "      <td>0.174805</td>\n",
       "      <td>5.697943</td>\n",
       "      <td>0.455184</td>\n",
       "      <td>21.826615</td>\n",
       "      <td>0.162740</td>\n",
       "      <td>30.708533</td>\n",
       "    </tr>\n",
       "    <tr>\n",
       "      <th>min</th>\n",
       "      <td>0.000000</td>\n",
       "      <td>1921.000000</td>\n",
       "      <td>0.000000</td>\n",
       "      <td>0.000000</td>\n",
       "      <td>5.108000e+03</td>\n",
       "      <td>0.000000</td>\n",
       "      <td>0.000000</td>\n",
       "      <td>0.000000</td>\n",
       "      <td>0.000000</td>\n",
       "      <td>0.000000</td>\n",
       "      <td>-60.000000</td>\n",
       "      <td>0.000000</td>\n",
       "      <td>0.000000</td>\n",
       "      <td>0.000000</td>\n",
       "      <td>0.000000</td>\n",
       "    </tr>\n",
       "    <tr>\n",
       "      <th>25%</th>\n",
       "      <td>0.317000</td>\n",
       "      <td>1956.000000</td>\n",
       "      <td>0.102000</td>\n",
       "      <td>0.415000</td>\n",
       "      <td>1.698270e+05</td>\n",
       "      <td>0.255000</td>\n",
       "      <td>0.000000</td>\n",
       "      <td>0.000000</td>\n",
       "      <td>2.000000</td>\n",
       "      <td>0.098800</td>\n",
       "      <td>-14.615000</td>\n",
       "      <td>0.000000</td>\n",
       "      <td>11.000000</td>\n",
       "      <td>0.034900</td>\n",
       "      <td>93.421000</td>\n",
       "    </tr>\n",
       "    <tr>\n",
       "      <th>50%</th>\n",
       "      <td>0.540000</td>\n",
       "      <td>1977.000000</td>\n",
       "      <td>0.516000</td>\n",
       "      <td>0.548000</td>\n",
       "      <td>2.074670e+05</td>\n",
       "      <td>0.471000</td>\n",
       "      <td>0.000000</td>\n",
       "      <td>0.000216</td>\n",
       "      <td>5.000000</td>\n",
       "      <td>0.136000</td>\n",
       "      <td>-10.580000</td>\n",
       "      <td>1.000000</td>\n",
       "      <td>33.000000</td>\n",
       "      <td>0.045000</td>\n",
       "      <td>114.729000</td>\n",
       "    </tr>\n",
       "    <tr>\n",
       "      <th>75%</th>\n",
       "      <td>0.747000</td>\n",
       "      <td>1999.000000</td>\n",
       "      <td>0.893000</td>\n",
       "      <td>0.668000</td>\n",
       "      <td>2.624000e+05</td>\n",
       "      <td>0.703000</td>\n",
       "      <td>0.000000</td>\n",
       "      <td>0.102000</td>\n",
       "      <td>8.000000</td>\n",
       "      <td>0.261000</td>\n",
       "      <td>-7.183000</td>\n",
       "      <td>1.000000</td>\n",
       "      <td>48.000000</td>\n",
       "      <td>0.075600</td>\n",
       "      <td>135.537000</td>\n",
       "    </tr>\n",
       "    <tr>\n",
       "      <th>max</th>\n",
       "      <td>1.000000</td>\n",
       "      <td>2020.000000</td>\n",
       "      <td>0.996000</td>\n",
       "      <td>0.988000</td>\n",
       "      <td>5.403500e+06</td>\n",
       "      <td>1.000000</td>\n",
       "      <td>1.000000</td>\n",
       "      <td>1.000000</td>\n",
       "      <td>11.000000</td>\n",
       "      <td>1.000000</td>\n",
       "      <td>3.855000</td>\n",
       "      <td>1.000000</td>\n",
       "      <td>100.000000</td>\n",
       "      <td>0.970000</td>\n",
       "      <td>243.507000</td>\n",
       "    </tr>\n",
       "  </tbody>\n",
       "</table>\n",
       "</div>"
      ],
      "text/plain": [
       "             valence           year   acousticness   danceability  \\\n",
       "count  170653.000000  170653.000000  170653.000000  170653.000000   \n",
       "mean        0.528587    1976.787241       0.502115       0.537396   \n",
       "std         0.263171      25.917853       0.376032       0.176138   \n",
       "min         0.000000    1921.000000       0.000000       0.000000   \n",
       "25%         0.317000    1956.000000       0.102000       0.415000   \n",
       "50%         0.540000    1977.000000       0.516000       0.548000   \n",
       "75%         0.747000    1999.000000       0.893000       0.668000   \n",
       "max         1.000000    2020.000000       0.996000       0.988000   \n",
       "\n",
       "        duration_ms         energy       explicit  instrumentalness  \\\n",
       "count  1.706530e+05  170653.000000  170653.000000     170653.000000   \n",
       "mean   2.309483e+05       0.482389       0.084575          0.167010   \n",
       "std    1.261184e+05       0.267646       0.278249          0.313475   \n",
       "min    5.108000e+03       0.000000       0.000000          0.000000   \n",
       "25%    1.698270e+05       0.255000       0.000000          0.000000   \n",
       "50%    2.074670e+05       0.471000       0.000000          0.000216   \n",
       "75%    2.624000e+05       0.703000       0.000000          0.102000   \n",
       "max    5.403500e+06       1.000000       1.000000          1.000000   \n",
       "\n",
       "                 key       liveness       loudness           mode  \\\n",
       "count  170653.000000  170653.000000  170653.000000  170653.000000   \n",
       "mean        5.199844       0.205839     -11.467990       0.706902   \n",
       "std         3.515094       0.174805       5.697943       0.455184   \n",
       "min         0.000000       0.000000     -60.000000       0.000000   \n",
       "25%         2.000000       0.098800     -14.615000       0.000000   \n",
       "50%         5.000000       0.136000     -10.580000       1.000000   \n",
       "75%         8.000000       0.261000      -7.183000       1.000000   \n",
       "max        11.000000       1.000000       3.855000       1.000000   \n",
       "\n",
       "          popularity    speechiness          tempo  \n",
       "count  170653.000000  170653.000000  170653.000000  \n",
       "mean       31.431794       0.098393     116.861590  \n",
       "std        21.826615       0.162740      30.708533  \n",
       "min         0.000000       0.000000       0.000000  \n",
       "25%        11.000000       0.034900      93.421000  \n",
       "50%        33.000000       0.045000     114.729000  \n",
       "75%        48.000000       0.075600     135.537000  \n",
       "max       100.000000       0.970000     243.507000  "
      ]
     },
     "execution_count": 7,
     "metadata": {},
     "output_type": "execute_result"
    }
   ],
   "source": [
    "#inspect general distribution of each feature\n",
    "data_df.describe()"
   ]
  },
  {
   "cell_type": "code",
   "execution_count": 8,
   "metadata": {},
   "outputs": [
    {
     "name": "stdout",
     "output_type": "stream",
     "text": [
      "Number of songs that were over 10 minutes: 2265\n"
     ]
    }
   ],
   "source": [
    "print(f\"Number of songs that were over 10 minutes: {len(data_df[data_df.duration_ms > 600000].index)}\")"
   ]
  },
  {
   "cell_type": "code",
   "execution_count": 91,
   "metadata": {},
   "outputs": [],
   "source": [
    "#drop songs that are over 10 minutes\n",
    "data_df = data_df.drop(data_df[data_df.duration_ms > 600000].index)\n",
    "#reset index\n",
    "data_df.reset_index(drop = True,inplace = True)"
   ]
  },
  {
   "cell_type": "markdown",
   "metadata": {},
   "source": [
    "### Check for duplicates"
   ]
  },
  {
   "cell_type": "code",
   "execution_count": 14,
   "metadata": {},
   "outputs": [
    {
     "data": {
      "text/html": [
       "<div>\n",
       "<style scoped>\n",
       "    .dataframe tbody tr th:only-of-type {\n",
       "        vertical-align: middle;\n",
       "    }\n",
       "\n",
       "    .dataframe tbody tr th {\n",
       "        vertical-align: top;\n",
       "    }\n",
       "\n",
       "    .dataframe thead th {\n",
       "        text-align: right;\n",
       "    }\n",
       "</style>\n",
       "<table border=\"1\" class=\"dataframe\">\n",
       "  <thead>\n",
       "    <tr style=\"text-align: right;\">\n",
       "      <th></th>\n",
       "      <th>valence</th>\n",
       "      <th>year</th>\n",
       "      <th>acousticness</th>\n",
       "      <th>artists</th>\n",
       "      <th>danceability</th>\n",
       "      <th>duration_ms</th>\n",
       "      <th>energy</th>\n",
       "      <th>explicit</th>\n",
       "      <th>id</th>\n",
       "      <th>instrumentalness</th>\n",
       "      <th>key</th>\n",
       "      <th>liveness</th>\n",
       "      <th>loudness</th>\n",
       "      <th>mode</th>\n",
       "      <th>name</th>\n",
       "      <th>popularity</th>\n",
       "      <th>release_date</th>\n",
       "      <th>speechiness</th>\n",
       "      <th>tempo</th>\n",
       "    </tr>\n",
       "  </thead>\n",
       "  <tbody>\n",
       "    <tr>\n",
       "      <th>170648</th>\n",
       "      <td>0.608</td>\n",
       "      <td>2020</td>\n",
       "      <td>0.08460</td>\n",
       "      <td>['Anuel AA', 'Daddy Yankee', 'KAROL G', 'Ozuna...</td>\n",
       "      <td>0.786</td>\n",
       "      <td>301714</td>\n",
       "      <td>0.808</td>\n",
       "      <td>0</td>\n",
       "      <td>0KkIkfsLEJbrcIhYsCL7L5</td>\n",
       "      <td>0.000289</td>\n",
       "      <td>7</td>\n",
       "      <td>0.0822</td>\n",
       "      <td>-3.702</td>\n",
       "      <td>1</td>\n",
       "      <td>China</td>\n",
       "      <td>72</td>\n",
       "      <td>2020-05-29</td>\n",
       "      <td>0.0881</td>\n",
       "      <td>105.029</td>\n",
       "    </tr>\n",
       "    <tr>\n",
       "      <th>170649</th>\n",
       "      <td>0.734</td>\n",
       "      <td>2020</td>\n",
       "      <td>0.20600</td>\n",
       "      <td>['Ashnikko']</td>\n",
       "      <td>0.717</td>\n",
       "      <td>150654</td>\n",
       "      <td>0.753</td>\n",
       "      <td>0</td>\n",
       "      <td>0OStKKAuXlxA0fMH54Qs6E</td>\n",
       "      <td>0.000000</td>\n",
       "      <td>7</td>\n",
       "      <td>0.1010</td>\n",
       "      <td>-6.020</td>\n",
       "      <td>1</td>\n",
       "      <td>Halloweenie III: Seven Days</td>\n",
       "      <td>68</td>\n",
       "      <td>2020-10-23</td>\n",
       "      <td>0.0605</td>\n",
       "      <td>137.936</td>\n",
       "    </tr>\n",
       "    <tr>\n",
       "      <th>170650</th>\n",
       "      <td>0.637</td>\n",
       "      <td>2020</td>\n",
       "      <td>0.10100</td>\n",
       "      <td>['MAMAMOO']</td>\n",
       "      <td>0.634</td>\n",
       "      <td>211280</td>\n",
       "      <td>0.858</td>\n",
       "      <td>0</td>\n",
       "      <td>4BZXVFYCb76Q0Klojq4piV</td>\n",
       "      <td>0.000009</td>\n",
       "      <td>4</td>\n",
       "      <td>0.2580</td>\n",
       "      <td>-2.226</td>\n",
       "      <td>0</td>\n",
       "      <td>AYA</td>\n",
       "      <td>76</td>\n",
       "      <td>2020-11-03</td>\n",
       "      <td>0.0809</td>\n",
       "      <td>91.688</td>\n",
       "    </tr>\n",
       "    <tr>\n",
       "      <th>170651</th>\n",
       "      <td>0.195</td>\n",
       "      <td>2020</td>\n",
       "      <td>0.00998</td>\n",
       "      <td>['Eminem']</td>\n",
       "      <td>0.671</td>\n",
       "      <td>337147</td>\n",
       "      <td>0.623</td>\n",
       "      <td>1</td>\n",
       "      <td>5SiZJoLXp3WOl3J4C8IK0d</td>\n",
       "      <td>0.000008</td>\n",
       "      <td>2</td>\n",
       "      <td>0.6430</td>\n",
       "      <td>-7.161</td>\n",
       "      <td>1</td>\n",
       "      <td>Darkness</td>\n",
       "      <td>70</td>\n",
       "      <td>2020-01-17</td>\n",
       "      <td>0.3080</td>\n",
       "      <td>75.055</td>\n",
       "    </tr>\n",
       "    <tr>\n",
       "      <th>170652</th>\n",
       "      <td>0.642</td>\n",
       "      <td>2020</td>\n",
       "      <td>0.13200</td>\n",
       "      <td>['KEVVO', 'J Balvin']</td>\n",
       "      <td>0.856</td>\n",
       "      <td>189507</td>\n",
       "      <td>0.721</td>\n",
       "      <td>1</td>\n",
       "      <td>7HmnJHfs0BkFzX4x8j0hkl</td>\n",
       "      <td>0.004710</td>\n",
       "      <td>7</td>\n",
       "      <td>0.1820</td>\n",
       "      <td>-4.928</td>\n",
       "      <td>1</td>\n",
       "      <td>Billetes Azules (with J Balvin)</td>\n",
       "      <td>74</td>\n",
       "      <td>2020-10-16</td>\n",
       "      <td>0.1080</td>\n",
       "      <td>94.991</td>\n",
       "    </tr>\n",
       "  </tbody>\n",
       "</table>\n",
       "</div>"
      ],
      "text/plain": [
       "        valence  year  acousticness  \\\n",
       "170648    0.608  2020       0.08460   \n",
       "170649    0.734  2020       0.20600   \n",
       "170650    0.637  2020       0.10100   \n",
       "170651    0.195  2020       0.00998   \n",
       "170652    0.642  2020       0.13200   \n",
       "\n",
       "                                                  artists  danceability  \\\n",
       "170648  ['Anuel AA', 'Daddy Yankee', 'KAROL G', 'Ozuna...         0.786   \n",
       "170649                                       ['Ashnikko']         0.717   \n",
       "170650                                        ['MAMAMOO']         0.634   \n",
       "170651                                         ['Eminem']         0.671   \n",
       "170652                              ['KEVVO', 'J Balvin']         0.856   \n",
       "\n",
       "        duration_ms  energy  explicit                      id  \\\n",
       "170648       301714   0.808         0  0KkIkfsLEJbrcIhYsCL7L5   \n",
       "170649       150654   0.753         0  0OStKKAuXlxA0fMH54Qs6E   \n",
       "170650       211280   0.858         0  4BZXVFYCb76Q0Klojq4piV   \n",
       "170651       337147   0.623         1  5SiZJoLXp3WOl3J4C8IK0d   \n",
       "170652       189507   0.721         1  7HmnJHfs0BkFzX4x8j0hkl   \n",
       "\n",
       "        instrumentalness  key  liveness  loudness  mode  \\\n",
       "170648          0.000289    7    0.0822    -3.702     1   \n",
       "170649          0.000000    7    0.1010    -6.020     1   \n",
       "170650          0.000009    4    0.2580    -2.226     0   \n",
       "170651          0.000008    2    0.6430    -7.161     1   \n",
       "170652          0.004710    7    0.1820    -4.928     1   \n",
       "\n",
       "                                   name  popularity release_date  speechiness  \\\n",
       "170648                            China          72   2020-05-29       0.0881   \n",
       "170649      Halloweenie III: Seven Days          68   2020-10-23       0.0605   \n",
       "170650                              AYA          76   2020-11-03       0.0809   \n",
       "170651                         Darkness          70   2020-01-17       0.3080   \n",
       "170652  Billetes Azules (with J Balvin)          74   2020-10-16       0.1080   \n",
       "\n",
       "          tempo  \n",
       "170648  105.029  \n",
       "170649  137.936  \n",
       "170650   91.688  \n",
       "170651   75.055  \n",
       "170652   94.991  "
      ]
     },
     "execution_count": 14,
     "metadata": {},
     "output_type": "execute_result"
    }
   ],
   "source": [
    "data_df.tail()"
   ]
  },
  {
   "cell_type": "code",
   "execution_count": 15,
   "metadata": {},
   "outputs": [
    {
     "data": {
      "text/html": [
       "<div>\n",
       "<style scoped>\n",
       "    .dataframe tbody tr th:only-of-type {\n",
       "        vertical-align: middle;\n",
       "    }\n",
       "\n",
       "    .dataframe tbody tr th {\n",
       "        vertical-align: top;\n",
       "    }\n",
       "\n",
       "    .dataframe thead th {\n",
       "        text-align: right;\n",
       "    }\n",
       "</style>\n",
       "<table border=\"1\" class=\"dataframe\">\n",
       "  <thead>\n",
       "    <tr style=\"text-align: right;\">\n",
       "      <th></th>\n",
       "      <th>valence</th>\n",
       "      <th>year</th>\n",
       "      <th>acousticness</th>\n",
       "      <th>artists</th>\n",
       "      <th>danceability</th>\n",
       "      <th>duration_ms</th>\n",
       "      <th>energy</th>\n",
       "      <th>explicit</th>\n",
       "      <th>id</th>\n",
       "      <th>instrumentalness</th>\n",
       "      <th>key</th>\n",
       "      <th>liveness</th>\n",
       "      <th>loudness</th>\n",
       "      <th>mode</th>\n",
       "      <th>name</th>\n",
       "      <th>popularity</th>\n",
       "      <th>release_date</th>\n",
       "      <th>speechiness</th>\n",
       "      <th>tempo</th>\n",
       "    </tr>\n",
       "  </thead>\n",
       "  <tbody>\n",
       "    <tr>\n",
       "      <th>4210</th>\n",
       "      <td>0.361</td>\n",
       "      <td>1943</td>\n",
       "      <td>0.975</td>\n",
       "      <td>['Alfred Drake', 'Oklahoma Chorus']</td>\n",
       "      <td>0.400</td>\n",
       "      <td>152120</td>\n",
       "      <td>0.308</td>\n",
       "      <td>0</td>\n",
       "      <td>18Lxour9k0zowOzlPIrlPF</td>\n",
       "      <td>0.000412</td>\n",
       "      <td>3</td>\n",
       "      <td>0.0807</td>\n",
       "      <td>-10.749</td>\n",
       "      <td>1</td>\n",
       "      <td>Oh, What A Beautiful Mornin'</td>\n",
       "      <td>19</td>\n",
       "      <td>1943-12-02</td>\n",
       "      <td>0.0389</td>\n",
       "      <td>81.336</td>\n",
       "    </tr>\n",
       "    <tr>\n",
       "      <th>4213</th>\n",
       "      <td>0.765</td>\n",
       "      <td>1943</td>\n",
       "      <td>0.887</td>\n",
       "      <td>['Alfred Drake', 'Oklahoma Chorus']</td>\n",
       "      <td>0.672</td>\n",
       "      <td>150493</td>\n",
       "      <td>0.441</td>\n",
       "      <td>0</td>\n",
       "      <td>1gmK889zKeVBpdmkv0hv4N</td>\n",
       "      <td>0.000000</td>\n",
       "      <td>6</td>\n",
       "      <td>0.1220</td>\n",
       "      <td>-10.989</td>\n",
       "      <td>0</td>\n",
       "      <td>Oklahoma</td>\n",
       "      <td>16</td>\n",
       "      <td>1943-12-02</td>\n",
       "      <td>0.1700</td>\n",
       "      <td>68.552</td>\n",
       "    </tr>\n",
       "    <tr>\n",
       "      <th>4232</th>\n",
       "      <td>0.184</td>\n",
       "      <td>1943</td>\n",
       "      <td>0.940</td>\n",
       "      <td>['Alfred Drake', 'Joan Roberts']</td>\n",
       "      <td>0.349</td>\n",
       "      <td>190053</td>\n",
       "      <td>0.159</td>\n",
       "      <td>0</td>\n",
       "      <td>1HuIThAQ9aWdUJ2118ov8i</td>\n",
       "      <td>0.000000</td>\n",
       "      <td>1</td>\n",
       "      <td>0.1800</td>\n",
       "      <td>-12.689</td>\n",
       "      <td>1</td>\n",
       "      <td>People Will Say We're In Love</td>\n",
       "      <td>9</td>\n",
       "      <td>1943-12-02</td>\n",
       "      <td>0.0379</td>\n",
       "      <td>78.985</td>\n",
       "    </tr>\n",
       "    <tr>\n",
       "      <th>4244</th>\n",
       "      <td>0.377</td>\n",
       "      <td>1943</td>\n",
       "      <td>0.918</td>\n",
       "      <td>['Alfred Drake']</td>\n",
       "      <td>0.571</td>\n",
       "      <td>187013</td>\n",
       "      <td>0.155</td>\n",
       "      <td>0</td>\n",
       "      <td>3vSsJRF0UIlR7DAT6aS9nW</td>\n",
       "      <td>0.000000</td>\n",
       "      <td>9</td>\n",
       "      <td>0.1260</td>\n",
       "      <td>-12.843</td>\n",
       "      <td>1</td>\n",
       "      <td>The Surrey With The Fringe On Top</td>\n",
       "      <td>7</td>\n",
       "      <td>1943-12-02</td>\n",
       "      <td>0.0871</td>\n",
       "      <td>80.847</td>\n",
       "    </tr>\n",
       "    <tr>\n",
       "      <th>4264</th>\n",
       "      <td>0.279</td>\n",
       "      <td>1943</td>\n",
       "      <td>0.873</td>\n",
       "      <td>['Alfred Drake', 'Howard Da Silva']</td>\n",
       "      <td>0.399</td>\n",
       "      <td>169667</td>\n",
       "      <td>0.160</td>\n",
       "      <td>0</td>\n",
       "      <td>1TIzYuKM2ZzznANW4q9axG</td>\n",
       "      <td>0.000000</td>\n",
       "      <td>4</td>\n",
       "      <td>0.1850</td>\n",
       "      <td>-13.306</td>\n",
       "      <td>1</td>\n",
       "      <td>Pore Jud Is Daid</td>\n",
       "      <td>3</td>\n",
       "      <td>1943-12-02</td>\n",
       "      <td>0.0347</td>\n",
       "      <td>135.557</td>\n",
       "    </tr>\n",
       "  </tbody>\n",
       "</table>\n",
       "</div>"
      ],
      "text/plain": [
       "      valence  year  acousticness                              artists  \\\n",
       "4210    0.361  1943         0.975  ['Alfred Drake', 'Oklahoma Chorus']   \n",
       "4213    0.765  1943         0.887  ['Alfred Drake', 'Oklahoma Chorus']   \n",
       "4232    0.184  1943         0.940     ['Alfred Drake', 'Joan Roberts']   \n",
       "4244    0.377  1943         0.918                     ['Alfred Drake']   \n",
       "4264    0.279  1943         0.873  ['Alfred Drake', 'Howard Da Silva']   \n",
       "\n",
       "      danceability  duration_ms  energy  explicit                      id  \\\n",
       "4210         0.400       152120   0.308         0  18Lxour9k0zowOzlPIrlPF   \n",
       "4213         0.672       150493   0.441         0  1gmK889zKeVBpdmkv0hv4N   \n",
       "4232         0.349       190053   0.159         0  1HuIThAQ9aWdUJ2118ov8i   \n",
       "4244         0.571       187013   0.155         0  3vSsJRF0UIlR7DAT6aS9nW   \n",
       "4264         0.399       169667   0.160         0  1TIzYuKM2ZzznANW4q9axG   \n",
       "\n",
       "      instrumentalness  key  liveness  loudness  mode  \\\n",
       "4210          0.000412    3    0.0807   -10.749     1   \n",
       "4213          0.000000    6    0.1220   -10.989     0   \n",
       "4232          0.000000    1    0.1800   -12.689     1   \n",
       "4244          0.000000    9    0.1260   -12.843     1   \n",
       "4264          0.000000    4    0.1850   -13.306     1   \n",
       "\n",
       "                                   name  popularity release_date  speechiness  \\\n",
       "4210       Oh, What A Beautiful Mornin'          19   1943-12-02       0.0389   \n",
       "4213                           Oklahoma          16   1943-12-02       0.1700   \n",
       "4232      People Will Say We're In Love           9   1943-12-02       0.0379   \n",
       "4244  The Surrey With The Fringe On Top           7   1943-12-02       0.0871   \n",
       "4264                   Pore Jud Is Daid           3   1943-12-02       0.0347   \n",
       "\n",
       "        tempo  \n",
       "4210   81.336  \n",
       "4213   68.552  \n",
       "4232   78.985  \n",
       "4244   80.847  \n",
       "4264  135.557  "
      ]
     },
     "execution_count": 15,
     "metadata": {},
     "output_type": "execute_result"
    }
   ],
   "source": [
    "data_df[data_df['artists'].str.contains(\"Drake\")].head()"
   ]
  },
  {
   "cell_type": "code",
   "execution_count": 16,
   "metadata": {},
   "outputs": [
    {
     "data": {
      "text/plain": [
       "805733"
      ]
     },
     "execution_count": 16,
     "metadata": {},
     "output_type": "execute_result"
    }
   ],
   "source": [
    "#check for number of artist with blank genres\n",
    "artist_df[artist_df.genres == '[]'].shape[0]"
   ]
  },
  {
   "cell_type": "code",
   "execution_count": 17,
   "metadata": {},
   "outputs": [
    {
     "data": {
      "text/plain": [
       "13608"
      ]
     },
     "execution_count": 17,
     "metadata": {},
     "output_type": "execute_result"
    }
   ],
   "source": [
    "#check for number of duplicates in artist and genre name column\n",
    "artist_df.duplicated(subset=['name','genres']).sum()"
   ]
  },
  {
   "cell_type": "code",
   "execution_count": 18,
   "metadata": {},
   "outputs": [
    {
     "data": {
      "text/html": [
       "<div>\n",
       "<style scoped>\n",
       "    .dataframe tbody tr th:only-of-type {\n",
       "        vertical-align: middle;\n",
       "    }\n",
       "\n",
       "    .dataframe tbody tr th {\n",
       "        vertical-align: top;\n",
       "    }\n",
       "\n",
       "    .dataframe thead th {\n",
       "        text-align: right;\n",
       "    }\n",
       "</style>\n",
       "<table border=\"1\" class=\"dataframe\">\n",
       "  <thead>\n",
       "    <tr style=\"text-align: right;\">\n",
       "      <th></th>\n",
       "      <th>valence</th>\n",
       "      <th>year</th>\n",
       "      <th>acousticness</th>\n",
       "      <th>artists</th>\n",
       "      <th>danceability</th>\n",
       "      <th>duration_ms</th>\n",
       "      <th>energy</th>\n",
       "      <th>explicit</th>\n",
       "      <th>id</th>\n",
       "      <th>instrumentalness</th>\n",
       "      <th>key</th>\n",
       "      <th>liveness</th>\n",
       "      <th>loudness</th>\n",
       "      <th>mode</th>\n",
       "      <th>name</th>\n",
       "      <th>popularity</th>\n",
       "      <th>release_date</th>\n",
       "      <th>speechiness</th>\n",
       "      <th>tempo</th>\n",
       "    </tr>\n",
       "  </thead>\n",
       "  <tbody>\n",
       "    <tr>\n",
       "      <th>1</th>\n",
       "      <td>0.9630</td>\n",
       "      <td>1921</td>\n",
       "      <td>0.732</td>\n",
       "      <td>['Dennis Day']</td>\n",
       "      <td>0.819</td>\n",
       "      <td>180533</td>\n",
       "      <td>0.341</td>\n",
       "      <td>0</td>\n",
       "      <td>7xPhfUan2yNtyFG0cUWkt8</td>\n",
       "      <td>0.000000</td>\n",
       "      <td>7</td>\n",
       "      <td>0.160</td>\n",
       "      <td>-12.441</td>\n",
       "      <td>1</td>\n",
       "      <td>Clancy Lowered the Boom</td>\n",
       "      <td>5</td>\n",
       "      <td>1921</td>\n",
       "      <td>0.4150</td>\n",
       "      <td>60.936</td>\n",
       "    </tr>\n",
       "    <tr>\n",
       "      <th>2</th>\n",
       "      <td>0.0394</td>\n",
       "      <td>1921</td>\n",
       "      <td>0.961</td>\n",
       "      <td>['KHP Kridhamardawa Karaton Ngayogyakarta Hadi...</td>\n",
       "      <td>0.328</td>\n",
       "      <td>500062</td>\n",
       "      <td>0.166</td>\n",
       "      <td>0</td>\n",
       "      <td>1o6I8BglA6ylDMrIELygv1</td>\n",
       "      <td>0.913000</td>\n",
       "      <td>3</td>\n",
       "      <td>0.101</td>\n",
       "      <td>-14.850</td>\n",
       "      <td>1</td>\n",
       "      <td>Gati Bali</td>\n",
       "      <td>5</td>\n",
       "      <td>1921</td>\n",
       "      <td>0.0339</td>\n",
       "      <td>110.339</td>\n",
       "    </tr>\n",
       "    <tr>\n",
       "      <th>3</th>\n",
       "      <td>0.1650</td>\n",
       "      <td>1921</td>\n",
       "      <td>0.967</td>\n",
       "      <td>['Frank Parker']</td>\n",
       "      <td>0.275</td>\n",
       "      <td>210000</td>\n",
       "      <td>0.309</td>\n",
       "      <td>0</td>\n",
       "      <td>3ftBPsC5vPBKxYSee08FDH</td>\n",
       "      <td>0.000028</td>\n",
       "      <td>5</td>\n",
       "      <td>0.381</td>\n",
       "      <td>-9.316</td>\n",
       "      <td>1</td>\n",
       "      <td>Danny Boy</td>\n",
       "      <td>3</td>\n",
       "      <td>1921</td>\n",
       "      <td>0.0354</td>\n",
       "      <td>100.109</td>\n",
       "    </tr>\n",
       "    <tr>\n",
       "      <th>4</th>\n",
       "      <td>0.2530</td>\n",
       "      <td>1921</td>\n",
       "      <td>0.957</td>\n",
       "      <td>['Phil Regan']</td>\n",
       "      <td>0.418</td>\n",
       "      <td>166693</td>\n",
       "      <td>0.193</td>\n",
       "      <td>0</td>\n",
       "      <td>4d6HGyGT8e121BsdKmw9v6</td>\n",
       "      <td>0.000002</td>\n",
       "      <td>3</td>\n",
       "      <td>0.229</td>\n",
       "      <td>-10.096</td>\n",
       "      <td>1</td>\n",
       "      <td>When Irish Eyes Are Smiling</td>\n",
       "      <td>2</td>\n",
       "      <td>1921</td>\n",
       "      <td>0.0380</td>\n",
       "      <td>101.665</td>\n",
       "    </tr>\n",
       "    <tr>\n",
       "      <th>5</th>\n",
       "      <td>0.1960</td>\n",
       "      <td>1921</td>\n",
       "      <td>0.579</td>\n",
       "      <td>['KHP Kridhamardawa Karaton Ngayogyakarta Hadi...</td>\n",
       "      <td>0.697</td>\n",
       "      <td>395076</td>\n",
       "      <td>0.346</td>\n",
       "      <td>0</td>\n",
       "      <td>4pyw9DVHGStUre4J6hPngr</td>\n",
       "      <td>0.168000</td>\n",
       "      <td>2</td>\n",
       "      <td>0.130</td>\n",
       "      <td>-12.506</td>\n",
       "      <td>1</td>\n",
       "      <td>Gati Mardika</td>\n",
       "      <td>6</td>\n",
       "      <td>1921</td>\n",
       "      <td>0.0700</td>\n",
       "      <td>119.824</td>\n",
       "    </tr>\n",
       "  </tbody>\n",
       "</table>\n",
       "</div>"
      ],
      "text/plain": [
       "   valence  year  acousticness  \\\n",
       "1   0.9630  1921         0.732   \n",
       "2   0.0394  1921         0.961   \n",
       "3   0.1650  1921         0.967   \n",
       "4   0.2530  1921         0.957   \n",
       "5   0.1960  1921         0.579   \n",
       "\n",
       "                                             artists  danceability  \\\n",
       "1                                     ['Dennis Day']         0.819   \n",
       "2  ['KHP Kridhamardawa Karaton Ngayogyakarta Hadi...         0.328   \n",
       "3                                   ['Frank Parker']         0.275   \n",
       "4                                     ['Phil Regan']         0.418   \n",
       "5  ['KHP Kridhamardawa Karaton Ngayogyakarta Hadi...         0.697   \n",
       "\n",
       "   duration_ms  energy  explicit                      id  instrumentalness  \\\n",
       "1       180533   0.341         0  7xPhfUan2yNtyFG0cUWkt8          0.000000   \n",
       "2       500062   0.166         0  1o6I8BglA6ylDMrIELygv1          0.913000   \n",
       "3       210000   0.309         0  3ftBPsC5vPBKxYSee08FDH          0.000028   \n",
       "4       166693   0.193         0  4d6HGyGT8e121BsdKmw9v6          0.000002   \n",
       "5       395076   0.346         0  4pyw9DVHGStUre4J6hPngr          0.168000   \n",
       "\n",
       "   key  liveness  loudness  mode                         name  popularity  \\\n",
       "1    7     0.160   -12.441     1      Clancy Lowered the Boom           5   \n",
       "2    3     0.101   -14.850     1                    Gati Bali           5   \n",
       "3    5     0.381    -9.316     1                    Danny Boy           3   \n",
       "4    3     0.229   -10.096     1  When Irish Eyes Are Smiling           2   \n",
       "5    2     0.130   -12.506     1                 Gati Mardika           6   \n",
       "\n",
       "  release_date  speechiness    tempo  \n",
       "1         1921       0.4150   60.936  \n",
       "2         1921       0.0339  110.339  \n",
       "3         1921       0.0354  100.109  \n",
       "4         1921       0.0380  101.665  \n",
       "5         1921       0.0700  119.824  "
      ]
     },
     "execution_count": 18,
     "metadata": {},
     "output_type": "execute_result"
    }
   ],
   "source": [
    "data_df.head()"
   ]
  },
  {
   "cell_type": "code",
   "execution_count": 19,
   "metadata": {},
   "outputs": [
    {
     "data": {
      "text/html": [
       "<div>\n",
       "<style scoped>\n",
       "    .dataframe tbody tr th:only-of-type {\n",
       "        vertical-align: middle;\n",
       "    }\n",
       "\n",
       "    .dataframe tbody tr th {\n",
       "        vertical-align: top;\n",
       "    }\n",
       "\n",
       "    .dataframe thead th {\n",
       "        text-align: right;\n",
       "    }\n",
       "</style>\n",
       "<table border=\"1\" class=\"dataframe\">\n",
       "  <thead>\n",
       "    <tr style=\"text-align: right;\">\n",
       "      <th></th>\n",
       "      <th>id</th>\n",
       "      <th>followers</th>\n",
       "      <th>genres</th>\n",
       "      <th>name</th>\n",
       "      <th>popularity</th>\n",
       "    </tr>\n",
       "  </thead>\n",
       "  <tbody>\n",
       "    <tr>\n",
       "      <th>129223</th>\n",
       "      <td>00VKDHxPq437kxPuiBoh1u</td>\n",
       "      <td>2.0</td>\n",
       "      <td>[]</td>\n",
       "      <td>Sergei Rachmaninoff</td>\n",
       "      <td>0</td>\n",
       "    </tr>\n",
       "    <tr>\n",
       "      <th>143111</th>\n",
       "      <td>0Kekt6CKSo0m5mivKcoH51</td>\n",
       "      <td>473845.0</td>\n",
       "      <td>['classical', 'post-romantic era', 'russian ro...</td>\n",
       "      <td>Sergei Rachmaninoff</td>\n",
       "      <td>66</td>\n",
       "    </tr>\n",
       "  </tbody>\n",
       "</table>\n",
       "</div>"
      ],
      "text/plain": [
       "                            id  followers  \\\n",
       "129223  00VKDHxPq437kxPuiBoh1u        2.0   \n",
       "143111  0Kekt6CKSo0m5mivKcoH51   473845.0   \n",
       "\n",
       "                                                   genres  \\\n",
       "129223                                                 []   \n",
       "143111  ['classical', 'post-romantic era', 'russian ro...   \n",
       "\n",
       "                       name  popularity  \n",
       "129223  Sergei Rachmaninoff           0  \n",
       "143111  Sergei Rachmaninoff          66  "
      ]
     },
     "execution_count": 19,
     "metadata": {},
     "output_type": "execute_result"
    }
   ],
   "source": [
    "artist_df[artist_df.name == 'Sergei Rachmaninoff']"
   ]
  },
  {
   "cell_type": "markdown",
   "metadata": {},
   "source": [
    "### data_df"
   ]
  },
  {
   "cell_type": "code",
   "execution_count": 20,
   "metadata": {},
   "outputs": [
    {
     "data": {
      "text/html": [
       "<div>\n",
       "<style scoped>\n",
       "    .dataframe tbody tr th:only-of-type {\n",
       "        vertical-align: middle;\n",
       "    }\n",
       "\n",
       "    .dataframe tbody tr th {\n",
       "        vertical-align: top;\n",
       "    }\n",
       "\n",
       "    .dataframe thead th {\n",
       "        text-align: right;\n",
       "    }\n",
       "</style>\n",
       "<table border=\"1\" class=\"dataframe\">\n",
       "  <thead>\n",
       "    <tr style=\"text-align: right;\">\n",
       "      <th></th>\n",
       "      <th>valence</th>\n",
       "      <th>year</th>\n",
       "      <th>acousticness</th>\n",
       "      <th>artists</th>\n",
       "      <th>danceability</th>\n",
       "      <th>duration_ms</th>\n",
       "      <th>energy</th>\n",
       "      <th>explicit</th>\n",
       "      <th>id</th>\n",
       "      <th>instrumentalness</th>\n",
       "      <th>key</th>\n",
       "      <th>liveness</th>\n",
       "      <th>loudness</th>\n",
       "      <th>mode</th>\n",
       "      <th>name</th>\n",
       "      <th>popularity</th>\n",
       "      <th>release_date</th>\n",
       "      <th>speechiness</th>\n",
       "      <th>tempo</th>\n",
       "    </tr>\n",
       "  </thead>\n",
       "  <tbody>\n",
       "    <tr>\n",
       "      <th>19638</th>\n",
       "      <td>0.774</td>\n",
       "      <td>2020</td>\n",
       "      <td>0.235</td>\n",
       "      <td>['Ashnikko']</td>\n",
       "      <td>0.834</td>\n",
       "      <td>146523</td>\n",
       "      <td>0.663</td>\n",
       "      <td>1</td>\n",
       "      <td>0AUvWawuP0ibk4SQ3sIZjk</td>\n",
       "      <td>0.0</td>\n",
       "      <td>8</td>\n",
       "      <td>0.372</td>\n",
       "      <td>-6.143</td>\n",
       "      <td>1</td>\n",
       "      <td>Daisy</td>\n",
       "      <td>90</td>\n",
       "      <td>2020-07-09</td>\n",
       "      <td>0.133</td>\n",
       "      <td>121.876</td>\n",
       "    </tr>\n",
       "  </tbody>\n",
       "</table>\n",
       "</div>"
      ],
      "text/plain": [
       "       valence  year  acousticness       artists  danceability  duration_ms  \\\n",
       "19638    0.774  2020         0.235  ['Ashnikko']         0.834       146523   \n",
       "\n",
       "       energy  explicit                      id  instrumentalness  key  \\\n",
       "19638   0.663         1  0AUvWawuP0ibk4SQ3sIZjk               0.0    8   \n",
       "\n",
       "       liveness  loudness  mode   name  popularity release_date  speechiness  \\\n",
       "19638     0.372    -6.143     1  Daisy          90   2020-07-09        0.133   \n",
       "\n",
       "         tempo  \n",
       "19638  121.876  "
      ]
     },
     "execution_count": 20,
     "metadata": {},
     "output_type": "execute_result"
    }
   ],
   "source": [
    "# check for Ashnikko result for the Song 'Daisy' in data_df dataset\n",
    "data_df[(data_df.artists == \"['Ashnikko']\") & (data_df.name == \"Daisy\")]"
   ]
  },
  {
   "cell_type": "code",
   "execution_count": 21,
   "metadata": {},
   "outputs": [
    {
     "data": {
      "text/html": [
       "<div>\n",
       "<style scoped>\n",
       "    .dataframe tbody tr th:only-of-type {\n",
       "        vertical-align: middle;\n",
       "    }\n",
       "\n",
       "    .dataframe tbody tr th {\n",
       "        vertical-align: top;\n",
       "    }\n",
       "\n",
       "    .dataframe thead th {\n",
       "        text-align: right;\n",
       "    }\n",
       "</style>\n",
       "<table border=\"1\" class=\"dataframe\">\n",
       "  <thead>\n",
       "    <tr style=\"text-align: right;\">\n",
       "      <th></th>\n",
       "      <th>id</th>\n",
       "      <th>name</th>\n",
       "      <th>popularity</th>\n",
       "      <th>duration_ms</th>\n",
       "      <th>explicit</th>\n",
       "      <th>artists</th>\n",
       "      <th>id_artists</th>\n",
       "      <th>release_date</th>\n",
       "      <th>danceability</th>\n",
       "      <th>energy</th>\n",
       "      <th>key</th>\n",
       "      <th>loudness</th>\n",
       "      <th>mode</th>\n",
       "      <th>speechiness</th>\n",
       "      <th>acousticness</th>\n",
       "      <th>instrumentalness</th>\n",
       "      <th>liveness</th>\n",
       "      <th>valence</th>\n",
       "      <th>tempo</th>\n",
       "      <th>time_signature</th>\n",
       "    </tr>\n",
       "  </thead>\n",
       "  <tbody>\n",
       "    <tr>\n",
       "      <th>93137</th>\n",
       "      <td>0AUvWawuP0ibk4SQ3sIZjk</td>\n",
       "      <td>Daisy</td>\n",
       "      <td>82</td>\n",
       "      <td>146523</td>\n",
       "      <td>1</td>\n",
       "      <td>['Ashnikko']</td>\n",
       "      <td>['3PyJHH2wyfQK3WZrk9rpmP']</td>\n",
       "      <td>2020-07-09</td>\n",
       "      <td>0.834</td>\n",
       "      <td>0.663</td>\n",
       "      <td>8</td>\n",
       "      <td>-6.143</td>\n",
       "      <td>1</td>\n",
       "      <td>0.133</td>\n",
       "      <td>0.235</td>\n",
       "      <td>0.0</td>\n",
       "      <td>0.372</td>\n",
       "      <td>0.774</td>\n",
       "      <td>121.876</td>\n",
       "      <td>4</td>\n",
       "    </tr>\n",
       "    <tr>\n",
       "      <th>94181</th>\n",
       "      <td>2g1KggY9PKvsoEAOaiz4xx</td>\n",
       "      <td>Daisy</td>\n",
       "      <td>77</td>\n",
       "      <td>146523</td>\n",
       "      <td>1</td>\n",
       "      <td>['Ashnikko']</td>\n",
       "      <td>['3PyJHH2wyfQK3WZrk9rpmP']</td>\n",
       "      <td>2021-01-15</td>\n",
       "      <td>0.834</td>\n",
       "      <td>0.663</td>\n",
       "      <td>8</td>\n",
       "      <td>-6.143</td>\n",
       "      <td>1</td>\n",
       "      <td>0.133</td>\n",
       "      <td>0.235</td>\n",
       "      <td>0.0</td>\n",
       "      <td>0.372</td>\n",
       "      <td>0.774</td>\n",
       "      <td>121.876</td>\n",
       "      <td>4</td>\n",
       "    </tr>\n",
       "  </tbody>\n",
       "</table>\n",
       "</div>"
      ],
      "text/plain": [
       "                           id   name  popularity  duration_ms  explicit  \\\n",
       "93137  0AUvWawuP0ibk4SQ3sIZjk  Daisy          82       146523         1   \n",
       "94181  2g1KggY9PKvsoEAOaiz4xx  Daisy          77       146523         1   \n",
       "\n",
       "            artists                  id_artists release_date  danceability  \\\n",
       "93137  ['Ashnikko']  ['3PyJHH2wyfQK3WZrk9rpmP']   2020-07-09         0.834   \n",
       "94181  ['Ashnikko']  ['3PyJHH2wyfQK3WZrk9rpmP']   2021-01-15         0.834   \n",
       "\n",
       "       energy  key  loudness  mode  speechiness  acousticness  \\\n",
       "93137   0.663    8    -6.143     1        0.133         0.235   \n",
       "94181   0.663    8    -6.143     1        0.133         0.235   \n",
       "\n",
       "       instrumentalness  liveness  valence    tempo  time_signature  \n",
       "93137               0.0     0.372    0.774  121.876               4  \n",
       "94181               0.0     0.372    0.774  121.876               4  "
      ]
     },
     "execution_count": 21,
     "metadata": {},
     "output_type": "execute_result"
    }
   ],
   "source": [
    "# check for Ashnikko result for the Song 'Daisy' in track_df dataset\n",
    "tracks_df[(tracks_df.artists == \"['Ashnikko']\") & (tracks_df.name == \"Daisy\")]"
   ]
  },
  {
   "cell_type": "markdown",
   "metadata": {},
   "source": [
    "comments:\n",
    "tracks_df may have duplicates, one example thus far is difference in release dates. \n",
    "\n",
    "Comparing the same song between data_df and tracks_df, they share the same ID for one of them however certain attribute have different values, such as popularity."
   ]
  },
  {
   "cell_type": "code",
   "execution_count": 22,
   "metadata": {},
   "outputs": [
    {
     "data": {
      "text/html": [
       "<div>\n",
       "<style scoped>\n",
       "    .dataframe tbody tr th:only-of-type {\n",
       "        vertical-align: middle;\n",
       "    }\n",
       "\n",
       "    .dataframe tbody tr th {\n",
       "        vertical-align: top;\n",
       "    }\n",
       "\n",
       "    .dataframe thead th {\n",
       "        text-align: right;\n",
       "    }\n",
       "</style>\n",
       "<table border=\"1\" class=\"dataframe\">\n",
       "  <thead>\n",
       "    <tr style=\"text-align: right;\">\n",
       "      <th></th>\n",
       "      <th>valence</th>\n",
       "      <th>year</th>\n",
       "      <th>acousticness</th>\n",
       "      <th>artists</th>\n",
       "      <th>danceability</th>\n",
       "      <th>duration_ms</th>\n",
       "      <th>energy</th>\n",
       "      <th>explicit</th>\n",
       "      <th>id</th>\n",
       "      <th>instrumentalness</th>\n",
       "      <th>key</th>\n",
       "      <th>liveness</th>\n",
       "      <th>loudness</th>\n",
       "      <th>mode</th>\n",
       "      <th>name</th>\n",
       "      <th>popularity</th>\n",
       "      <th>release_date</th>\n",
       "      <th>speechiness</th>\n",
       "      <th>tempo</th>\n",
       "    </tr>\n",
       "  </thead>\n",
       "  <tbody>\n",
       "    <tr>\n",
       "      <th>17419</th>\n",
       "      <td>0.558</td>\n",
       "      <td>2009</td>\n",
       "      <td>0.1900</td>\n",
       "      <td>['Drake']</td>\n",
       "      <td>0.395</td>\n",
       "      <td>257690</td>\n",
       "      <td>0.922</td>\n",
       "      <td>1</td>\n",
       "      <td>3QLjDkgLh9AOEHlhQtDuhs</td>\n",
       "      <td>0.0</td>\n",
       "      <td>1</td>\n",
       "      <td>0.134</td>\n",
       "      <td>-2.176</td>\n",
       "      <td>1</td>\n",
       "      <td>Best I Ever Had</td>\n",
       "      <td>73</td>\n",
       "      <td>2009</td>\n",
       "      <td>0.375</td>\n",
       "      <td>162.361</td>\n",
       "    </tr>\n",
       "    <tr>\n",
       "      <th>17795</th>\n",
       "      <td>0.605</td>\n",
       "      <td>2010</td>\n",
       "      <td>0.0951</td>\n",
       "      <td>['Drake']</td>\n",
       "      <td>0.431</td>\n",
       "      <td>258760</td>\n",
       "      <td>0.894</td>\n",
       "      <td>1</td>\n",
       "      <td>1GxHeBvQ9935Dd3cSfsfBa</td>\n",
       "      <td>0.0</td>\n",
       "      <td>5</td>\n",
       "      <td>0.188</td>\n",
       "      <td>-2.673</td>\n",
       "      <td>0</td>\n",
       "      <td>Best I Ever Had</td>\n",
       "      <td>63</td>\n",
       "      <td>2010-01-01</td>\n",
       "      <td>0.330</td>\n",
       "      <td>162.161</td>\n",
       "    </tr>\n",
       "  </tbody>\n",
       "</table>\n",
       "</div>"
      ],
      "text/plain": [
       "       valence  year  acousticness    artists  danceability  duration_ms  \\\n",
       "17419    0.558  2009        0.1900  ['Drake']         0.395       257690   \n",
       "17795    0.605  2010        0.0951  ['Drake']         0.431       258760   \n",
       "\n",
       "       energy  explicit                      id  instrumentalness  key  \\\n",
       "17419   0.922         1  3QLjDkgLh9AOEHlhQtDuhs               0.0    1   \n",
       "17795   0.894         1  1GxHeBvQ9935Dd3cSfsfBa               0.0    5   \n",
       "\n",
       "       liveness  loudness  mode             name  popularity release_date  \\\n",
       "17419     0.134    -2.176     1  Best I Ever Had          73         2009   \n",
       "17795     0.188    -2.673     0  Best I Ever Had          63   2010-01-01   \n",
       "\n",
       "       speechiness    tempo  \n",
       "17419        0.375  162.361  \n",
       "17795        0.330  162.161  "
      ]
     },
     "execution_count": 22,
     "metadata": {},
     "output_type": "execute_result"
    }
   ],
   "source": [
    "# check for Drake result for the Song 'Daisy' in data_df dataset\n",
    "data_df[(data_df.artists == \"['Drake']\") & (data_df.name == \"Best I Ever Had\")]"
   ]
  },
  {
   "cell_type": "code",
   "execution_count": 23,
   "metadata": {},
   "outputs": [
    {
     "data": {
      "text/html": [
       "<div>\n",
       "<style scoped>\n",
       "    .dataframe tbody tr th:only-of-type {\n",
       "        vertical-align: middle;\n",
       "    }\n",
       "\n",
       "    .dataframe tbody tr th {\n",
       "        vertical-align: top;\n",
       "    }\n",
       "\n",
       "    .dataframe thead th {\n",
       "        text-align: right;\n",
       "    }\n",
       "</style>\n",
       "<table border=\"1\" class=\"dataframe\">\n",
       "  <thead>\n",
       "    <tr style=\"text-align: right;\">\n",
       "      <th></th>\n",
       "      <th>id</th>\n",
       "      <th>name</th>\n",
       "      <th>popularity</th>\n",
       "      <th>duration_ms</th>\n",
       "      <th>explicit</th>\n",
       "      <th>artists</th>\n",
       "      <th>id_artists</th>\n",
       "      <th>release_date</th>\n",
       "      <th>danceability</th>\n",
       "      <th>energy</th>\n",
       "      <th>key</th>\n",
       "      <th>loudness</th>\n",
       "      <th>mode</th>\n",
       "      <th>speechiness</th>\n",
       "      <th>acousticness</th>\n",
       "      <th>instrumentalness</th>\n",
       "      <th>liveness</th>\n",
       "      <th>valence</th>\n",
       "      <th>tempo</th>\n",
       "      <th>time_signature</th>\n",
       "    </tr>\n",
       "  </thead>\n",
       "  <tbody>\n",
       "    <tr>\n",
       "      <th>82191</th>\n",
       "      <td>3QLjDkgLh9AOEHlhQtDuhs</td>\n",
       "      <td>Best I Ever Had</td>\n",
       "      <td>76</td>\n",
       "      <td>257690</td>\n",
       "      <td>1</td>\n",
       "      <td>['Drake']</td>\n",
       "      <td>['3TVXtAsR1Inumwj472S9r4']</td>\n",
       "      <td>2009</td>\n",
       "      <td>0.395</td>\n",
       "      <td>0.922</td>\n",
       "      <td>1</td>\n",
       "      <td>-2.176</td>\n",
       "      <td>1</td>\n",
       "      <td>0.375</td>\n",
       "      <td>0.1900</td>\n",
       "      <td>0.0</td>\n",
       "      <td>0.134</td>\n",
       "      <td>0.558</td>\n",
       "      <td>162.361</td>\n",
       "      <td>4</td>\n",
       "    </tr>\n",
       "    <tr>\n",
       "      <th>83429</th>\n",
       "      <td>1GxHeBvQ9935Dd3cSfsfBa</td>\n",
       "      <td>Best I Ever Had</td>\n",
       "      <td>65</td>\n",
       "      <td>258760</td>\n",
       "      <td>1</td>\n",
       "      <td>['Drake']</td>\n",
       "      <td>['3TVXtAsR1Inumwj472S9r4']</td>\n",
       "      <td>2010-01-01</td>\n",
       "      <td>0.431</td>\n",
       "      <td>0.894</td>\n",
       "      <td>5</td>\n",
       "      <td>-2.673</td>\n",
       "      <td>0</td>\n",
       "      <td>0.330</td>\n",
       "      <td>0.0951</td>\n",
       "      <td>0.0</td>\n",
       "      <td>0.188</td>\n",
       "      <td>0.605</td>\n",
       "      <td>162.161</td>\n",
       "      <td>4</td>\n",
       "    </tr>\n",
       "    <tr>\n",
       "      <th>186615</th>\n",
       "      <td>1PWnjvzT5Jhpfnh96DRNDh</td>\n",
       "      <td>Best I Ever Had</td>\n",
       "      <td>51</td>\n",
       "      <td>258800</td>\n",
       "      <td>0</td>\n",
       "      <td>['Drake']</td>\n",
       "      <td>['3TVXtAsR1Inumwj472S9r4']</td>\n",
       "      <td>2009-01-01</td>\n",
       "      <td>0.441</td>\n",
       "      <td>0.904</td>\n",
       "      <td>1</td>\n",
       "      <td>-2.636</td>\n",
       "      <td>1</td>\n",
       "      <td>0.359</td>\n",
       "      <td>0.1020</td>\n",
       "      <td>0.0</td>\n",
       "      <td>0.196</td>\n",
       "      <td>0.529</td>\n",
       "      <td>161.740</td>\n",
       "      <td>4</td>\n",
       "    </tr>\n",
       "  </tbody>\n",
       "</table>\n",
       "</div>"
      ],
      "text/plain": [
       "                            id             name  popularity  duration_ms  \\\n",
       "82191   3QLjDkgLh9AOEHlhQtDuhs  Best I Ever Had          76       257690   \n",
       "83429   1GxHeBvQ9935Dd3cSfsfBa  Best I Ever Had          65       258760   \n",
       "186615  1PWnjvzT5Jhpfnh96DRNDh  Best I Ever Had          51       258800   \n",
       "\n",
       "        explicit    artists                  id_artists release_date  \\\n",
       "82191          1  ['Drake']  ['3TVXtAsR1Inumwj472S9r4']         2009   \n",
       "83429          1  ['Drake']  ['3TVXtAsR1Inumwj472S9r4']   2010-01-01   \n",
       "186615         0  ['Drake']  ['3TVXtAsR1Inumwj472S9r4']   2009-01-01   \n",
       "\n",
       "        danceability  energy  key  loudness  mode  speechiness  acousticness  \\\n",
       "82191          0.395   0.922    1    -2.176     1        0.375        0.1900   \n",
       "83429          0.431   0.894    5    -2.673     0        0.330        0.0951   \n",
       "186615         0.441   0.904    1    -2.636     1        0.359        0.1020   \n",
       "\n",
       "        instrumentalness  liveness  valence    tempo  time_signature  \n",
       "82191                0.0     0.134    0.558  162.361               4  \n",
       "83429                0.0     0.188    0.605  162.161               4  \n",
       "186615               0.0     0.196    0.529  161.740               4  "
      ]
     },
     "execution_count": 23,
     "metadata": {},
     "output_type": "execute_result"
    }
   ],
   "source": [
    "# check for Drake result for the Song 'Daisy' in tracks_df dataset\n",
    "tracks_df[(tracks_df.artists == \"['Drake']\") & (tracks_df.name == \"Best I Ever Had\")]"
   ]
  },
  {
   "cell_type": "markdown",
   "metadata": {},
   "source": [
    "comments: For the example above, the same song had more than 1 output. For Data_df their release year and date is different as well as some attributes such as 'danceability'. This may indicate that the song was release twice, perhaps the latter was remastered and released in an album and not just as a single like the first time. Tracks_df does not have release date that information. \n",
    "\n",
    "data_df seem to not have the song non-explicit version of the song as well. \n",
    "\n",
    "Will investigate on more time. With the classic song \"Here Comes the Sun\" by the Beatles."
   ]
  },
  {
   "cell_type": "code",
   "execution_count": 25,
   "metadata": {},
   "outputs": [
    {
     "data": {
      "text/html": [
       "<div>\n",
       "<style scoped>\n",
       "    .dataframe tbody tr th:only-of-type {\n",
       "        vertical-align: middle;\n",
       "    }\n",
       "\n",
       "    .dataframe tbody tr th {\n",
       "        vertical-align: top;\n",
       "    }\n",
       "\n",
       "    .dataframe thead th {\n",
       "        text-align: right;\n",
       "    }\n",
       "</style>\n",
       "<table border=\"1\" class=\"dataframe\">\n",
       "  <thead>\n",
       "    <tr style=\"text-align: right;\">\n",
       "      <th></th>\n",
       "      <th>valence</th>\n",
       "      <th>year</th>\n",
       "      <th>acousticness</th>\n",
       "      <th>artists</th>\n",
       "      <th>danceability</th>\n",
       "      <th>duration_ms</th>\n",
       "      <th>energy</th>\n",
       "      <th>explicit</th>\n",
       "      <th>id</th>\n",
       "      <th>instrumentalness</th>\n",
       "      <th>key</th>\n",
       "      <th>liveness</th>\n",
       "      <th>loudness</th>\n",
       "      <th>mode</th>\n",
       "      <th>name</th>\n",
       "      <th>popularity</th>\n",
       "      <th>release_date</th>\n",
       "      <th>speechiness</th>\n",
       "      <th>tempo</th>\n",
       "    </tr>\n",
       "  </thead>\n",
       "  <tbody>\n",
       "  </tbody>\n",
       "</table>\n",
       "</div>"
      ],
      "text/plain": [
       "Empty DataFrame\n",
       "Columns: [valence, year, acousticness, artists, danceability, duration_ms, energy, explicit, id, instrumentalness, key, liveness, loudness, mode, name, popularity, release_date, speechiness, tempo]\n",
       "Index: []"
      ]
     },
     "execution_count": 25,
     "metadata": {},
     "output_type": "execute_result"
    }
   ],
   "source": [
    "# check for Beatles result for the Song 'Here Comes the Sun' in data_df dataset\n",
    "data_df[(data_df.artists == \"['The Beatles']\") & (data_df.name == \"Here Comes The Sun\")]"
   ]
  },
  {
   "cell_type": "markdown",
   "metadata": {},
   "source": [
    "comment: No song to be found, however the remastered version is available."
   ]
  },
  {
   "cell_type": "code",
   "execution_count": 26,
   "metadata": {},
   "outputs": [
    {
     "data": {
      "text/html": [
       "<div>\n",
       "<style scoped>\n",
       "    .dataframe tbody tr th:only-of-type {\n",
       "        vertical-align: middle;\n",
       "    }\n",
       "\n",
       "    .dataframe tbody tr th {\n",
       "        vertical-align: top;\n",
       "    }\n",
       "\n",
       "    .dataframe thead th {\n",
       "        text-align: right;\n",
       "    }\n",
       "</style>\n",
       "<table border=\"1\" class=\"dataframe\">\n",
       "  <thead>\n",
       "    <tr style=\"text-align: right;\">\n",
       "      <th></th>\n",
       "      <th>id</th>\n",
       "      <th>name</th>\n",
       "      <th>popularity</th>\n",
       "      <th>duration_ms</th>\n",
       "      <th>explicit</th>\n",
       "      <th>artists</th>\n",
       "      <th>id_artists</th>\n",
       "      <th>release_date</th>\n",
       "      <th>danceability</th>\n",
       "      <th>energy</th>\n",
       "      <th>key</th>\n",
       "      <th>loudness</th>\n",
       "      <th>mode</th>\n",
       "      <th>speechiness</th>\n",
       "      <th>acousticness</th>\n",
       "      <th>instrumentalness</th>\n",
       "      <th>liveness</th>\n",
       "      <th>valence</th>\n",
       "      <th>tempo</th>\n",
       "      <th>time_signature</th>\n",
       "    </tr>\n",
       "  </thead>\n",
       "  <tbody>\n",
       "    <tr>\n",
       "      <th>42488</th>\n",
       "      <td>6dGnYIeXmHdcikdzNNDMm2</td>\n",
       "      <td>Here Comes The Sun - Remastered 2009</td>\n",
       "      <td>83</td>\n",
       "      <td>185733</td>\n",
       "      <td>0</td>\n",
       "      <td>['The Beatles']</td>\n",
       "      <td>['3WrFJ7ztbogyGnTHbHJFl2']</td>\n",
       "      <td>1969-09-26</td>\n",
       "      <td>0.557</td>\n",
       "      <td>0.540</td>\n",
       "      <td>9</td>\n",
       "      <td>-10.484</td>\n",
       "      <td>1</td>\n",
       "      <td>0.0347</td>\n",
       "      <td>0.0339</td>\n",
       "      <td>0.00248</td>\n",
       "      <td>0.179</td>\n",
       "      <td>0.394</td>\n",
       "      <td>129.171</td>\n",
       "      <td>4</td>\n",
       "    </tr>\n",
       "    <tr>\n",
       "      <th>47141</th>\n",
       "      <td>5bIEpKwEFgJzB7U3gFaeKm</td>\n",
       "      <td>Here Comes The Sun - Remastered 2009</td>\n",
       "      <td>41</td>\n",
       "      <td>187373</td>\n",
       "      <td>0</td>\n",
       "      <td>['The Beatles']</td>\n",
       "      <td>['3WrFJ7ztbogyGnTHbHJFl2']</td>\n",
       "      <td>1973-04-02</td>\n",
       "      <td>0.557</td>\n",
       "      <td>0.519</td>\n",
       "      <td>9</td>\n",
       "      <td>-11.164</td>\n",
       "      <td>1</td>\n",
       "      <td>0.0357</td>\n",
       "      <td>0.0362</td>\n",
       "      <td>0.00126</td>\n",
       "      <td>0.105</td>\n",
       "      <td>0.371</td>\n",
       "      <td>129.157</td>\n",
       "      <td>4</td>\n",
       "    </tr>\n",
       "  </tbody>\n",
       "</table>\n",
       "</div>"
      ],
      "text/plain": [
       "                           id                                  name  \\\n",
       "42488  6dGnYIeXmHdcikdzNNDMm2  Here Comes The Sun - Remastered 2009   \n",
       "47141  5bIEpKwEFgJzB7U3gFaeKm  Here Comes The Sun - Remastered 2009   \n",
       "\n",
       "       popularity  duration_ms  explicit          artists  \\\n",
       "42488          83       185733         0  ['The Beatles']   \n",
       "47141          41       187373         0  ['The Beatles']   \n",
       "\n",
       "                       id_artists release_date  danceability  energy  key  \\\n",
       "42488  ['3WrFJ7ztbogyGnTHbHJFl2']   1969-09-26         0.557   0.540    9   \n",
       "47141  ['3WrFJ7ztbogyGnTHbHJFl2']   1973-04-02         0.557   0.519    9   \n",
       "\n",
       "       loudness  mode  speechiness  acousticness  instrumentalness  liveness  \\\n",
       "42488   -10.484     1       0.0347        0.0339           0.00248     0.179   \n",
       "47141   -11.164     1       0.0357        0.0362           0.00126     0.105   \n",
       "\n",
       "       valence    tempo  time_signature  \n",
       "42488    0.394  129.171               4  \n",
       "47141    0.371  129.157               4  "
      ]
     },
     "execution_count": 26,
     "metadata": {},
     "output_type": "execute_result"
    }
   ],
   "source": [
    "# check for Beatles result for the Song 'Here Comes the Sun' in tracks_df dataset\n",
    "tracks_df[(tracks_df.artists == \"['The Beatles']\") & (tracks_df.name == \"Here Comes The Sun - Remastered 2009\")]"
   ]
  },
  {
   "cell_type": "code",
   "execution_count": 27,
   "metadata": {},
   "outputs": [
    {
     "data": {
      "text/html": [
       "<div>\n",
       "<style scoped>\n",
       "    .dataframe tbody tr th:only-of-type {\n",
       "        vertical-align: middle;\n",
       "    }\n",
       "\n",
       "    .dataframe tbody tr th {\n",
       "        vertical-align: top;\n",
       "    }\n",
       "\n",
       "    .dataframe thead th {\n",
       "        text-align: right;\n",
       "    }\n",
       "</style>\n",
       "<table border=\"1\" class=\"dataframe\">\n",
       "  <thead>\n",
       "    <tr style=\"text-align: right;\">\n",
       "      <th></th>\n",
       "      <th>valence</th>\n",
       "      <th>year</th>\n",
       "      <th>acousticness</th>\n",
       "      <th>artists</th>\n",
       "      <th>danceability</th>\n",
       "      <th>duration_ms</th>\n",
       "      <th>energy</th>\n",
       "      <th>explicit</th>\n",
       "      <th>id</th>\n",
       "      <th>instrumentalness</th>\n",
       "      <th>key</th>\n",
       "      <th>liveness</th>\n",
       "      <th>loudness</th>\n",
       "      <th>mode</th>\n",
       "      <th>name</th>\n",
       "      <th>popularity</th>\n",
       "      <th>release_date</th>\n",
       "      <th>speechiness</th>\n",
       "      <th>tempo</th>\n",
       "    </tr>\n",
       "  </thead>\n",
       "  <tbody>\n",
       "    <tr>\n",
       "      <th>9407</th>\n",
       "      <td>0.394</td>\n",
       "      <td>1969</td>\n",
       "      <td>0.0339</td>\n",
       "      <td>['The Beatles']</td>\n",
       "      <td>0.557</td>\n",
       "      <td>185733</td>\n",
       "      <td>0.540</td>\n",
       "      <td>0</td>\n",
       "      <td>6dGnYIeXmHdcikdzNNDMm2</td>\n",
       "      <td>0.00248</td>\n",
       "      <td>9</td>\n",
       "      <td>0.179</td>\n",
       "      <td>-10.484</td>\n",
       "      <td>1</td>\n",
       "      <td>Here Comes The Sun - Remastered 2009</td>\n",
       "      <td>82</td>\n",
       "      <td>1969-09-26</td>\n",
       "      <td>0.0347</td>\n",
       "      <td>129.171</td>\n",
       "    </tr>\n",
       "    <tr>\n",
       "      <th>65653</th>\n",
       "      <td>0.371</td>\n",
       "      <td>1973</td>\n",
       "      <td>0.0362</td>\n",
       "      <td>['The Beatles']</td>\n",
       "      <td>0.557</td>\n",
       "      <td>187373</td>\n",
       "      <td>0.519</td>\n",
       "      <td>0</td>\n",
       "      <td>5bIEpKwEFgJzB7U3gFaeKm</td>\n",
       "      <td>0.00126</td>\n",
       "      <td>9</td>\n",
       "      <td>0.105</td>\n",
       "      <td>-11.164</td>\n",
       "      <td>1</td>\n",
       "      <td>Here Comes The Sun - Remastered 2009</td>\n",
       "      <td>40</td>\n",
       "      <td>1973-04-02</td>\n",
       "      <td>0.0357</td>\n",
       "      <td>129.157</td>\n",
       "    </tr>\n",
       "  </tbody>\n",
       "</table>\n",
       "</div>"
      ],
      "text/plain": [
       "       valence  year  acousticness          artists  danceability  \\\n",
       "9407     0.394  1969        0.0339  ['The Beatles']         0.557   \n",
       "65653    0.371  1973        0.0362  ['The Beatles']         0.557   \n",
       "\n",
       "       duration_ms  energy  explicit                      id  \\\n",
       "9407        185733   0.540         0  6dGnYIeXmHdcikdzNNDMm2   \n",
       "65653       187373   0.519         0  5bIEpKwEFgJzB7U3gFaeKm   \n",
       "\n",
       "       instrumentalness  key  liveness  loudness  mode  \\\n",
       "9407            0.00248    9     0.179   -10.484     1   \n",
       "65653           0.00126    9     0.105   -11.164     1   \n",
       "\n",
       "                                       name  popularity release_date  \\\n",
       "9407   Here Comes The Sun - Remastered 2009          82   1969-09-26   \n",
       "65653  Here Comes The Sun - Remastered 2009          40   1973-04-02   \n",
       "\n",
       "       speechiness    tempo  \n",
       "9407        0.0347  129.171  \n",
       "65653       0.0357  129.157  "
      ]
     },
     "execution_count": 27,
     "metadata": {},
     "output_type": "execute_result"
    }
   ],
   "source": [
    "# check for Beatles result for the Song 'Here Comes the Sun' in data_df dataset\n",
    "data_df[(data_df.artists == \"['The Beatles']\") & (data_df.name == \"Here Comes The Sun - Remastered 2009\")]"
   ]
  },
  {
   "cell_type": "markdown",
   "metadata": {},
   "source": [
    "Comments: For this song only the remastered version is available on spotify, and they still appear to have different characteristics, such as popularity, duration and energy.\n",
    "\n",
    "Difference in popularity can be explained by the song being in an alubm that may have not been marketed as well or listeners feel that that album does not have other songs they would enjoy. For example the song that had a lower popularity score belonged to the album 'The Beatles 1967-1970' whereas the song with the higher popularity had belonged to the album 'Abbey Road (remasted)' where its a bigger compliation of classic by the band. \n"
   ]
  },
  {
   "cell_type": "markdown",
   "metadata": {},
   "source": [
    "#### Conclusion\n",
    "\n",
    "Datasets that would be used for EDA would be data_by_year_df.\n",
    "\n",
    "Dataset that would be used would be used for modelling would be data_df as it has more information compared to track_df. During comparison, useful information had also reveal itself such as that non exact 'duplicate' of the same song, are rereleased or remastered. This may affect their popularity, but moving forward, I believe that the granualirity of the popularity does not matter and I would threfore bucket them, making this feature categorical. \n",
    "\n",
    "In terms of duplicates as one song is the remastered version of the other. By definition, remastering music is essentially improving on the quality of the original copy of a song or album. Removing flaws from the music, providing a cleaner, sharper and more refined listening experience whilst trying to bringing the music up to date with current standard. After remastering, certain attributes of the song would still generally remain the same, such as key, time signature, duration, tempo and speechiness. Nonetheless these duplicates, I would not remove them, as there are some music enthusiast that actually prefered 'non tampered' music. However I would remove songs that are duplicates where they have the same exact, values in terms of audio features. These are songs that appear multiple times in different albums.\n",
    "\n",
    "Also, there are some artist that generally do not make explicit music, and would therefore not have duplicates of the same song where they only differ in explicity. Removing duplciates by only keeping explicit songs would therefore result in removing many artists.\n"
   ]
  },
  {
   "cell_type": "code",
   "execution_count": 81,
   "metadata": {},
   "outputs": [
    {
     "name": "stdout",
     "output_type": "stream",
     "text": [
      "<class 'pandas.core.frame.DataFrame'>\n",
      "Int64Index: 168388 entries, 1 to 170652\n",
      "Data columns (total 21 columns):\n",
      " #   Column            Non-Null Count   Dtype  \n",
      "---  ------            --------------   -----  \n",
      " 0   valence           168388 non-null  float64\n",
      " 1   year              168388 non-null  int64  \n",
      " 2   acousticness      168388 non-null  float64\n",
      " 3   artists           168388 non-null  object \n",
      " 4   danceability      168388 non-null  float64\n",
      " 5   duration_ms       168388 non-null  int64  \n",
      " 6   energy            168388 non-null  float64\n",
      " 7   explicit          168388 non-null  int64  \n",
      " 8   id                168388 non-null  object \n",
      " 9   instrumentalness  168388 non-null  float64\n",
      " 10  key               168388 non-null  object \n",
      " 11  liveness          168388 non-null  float64\n",
      " 12  loudness          168388 non-null  float64\n",
      " 13  mode              168388 non-null  int64  \n",
      " 14  name              168388 non-null  object \n",
      " 15  popularity        168388 non-null  int64  \n",
      " 16  release_date      168388 non-null  object \n",
      " 17  speechiness       168388 non-null  float64\n",
      " 18  tempo             168388 non-null  float64\n",
      " 19  main_artist       168388 non-null  object \n",
      " 20  feat_artist       168388 non-null  object \n",
      "dtypes: float64(9), int64(5), object(7)\n",
      "memory usage: 33.3+ MB\n"
     ]
    }
   ],
   "source": [
    "data_df.info()"
   ]
  },
  {
   "cell_type": "code",
   "execution_count": 83,
   "metadata": {},
   "outputs": [],
   "source": [
    "#put all audio features into list\n",
    "audio_features = ['tempo','speechiness','speechiness','mode','loudness','liveness','key','instrumentalness','energy','danceability','acousticness','valence']"
   ]
  },
  {
   "cell_type": "code",
   "execution_count": 92,
   "metadata": {},
   "outputs": [],
   "source": [
    "duplicate_rows = data_df[data_df.duplicated(subset=audio_features, keep='first')].index"
   ]
  },
  {
   "cell_type": "code",
   "execution_count": 95,
   "metadata": {},
   "outputs": [],
   "source": [
    "#drop duplicated rows and reset index\n",
    "data_df.drop(duplicate_rows,inplace=True)\n",
    "data_df.reset_index(drop=True, inplace=True)"
   ]
  },
  {
   "cell_type": "code",
   "execution_count": 142,
   "metadata": {},
   "outputs": [],
   "source": [
    "#drop rows that also have the same artist and song title incase they happen to have different audio features. remastered songs tend to have 'remastered' in its name\n",
    "duplicate_name_rows = data_df[data_df.duplicated(subset=['name','artists'], keep='first')].index"
   ]
  },
  {
   "cell_type": "code",
   "execution_count": 145,
   "metadata": {},
   "outputs": [],
   "source": [
    "#drop duplicated rows and reset index\n",
    "data_df.drop(duplicate_name_rows,inplace=True)\n",
    "data_df.reset_index(drop=True, inplace=True)"
   ]
  },
  {
   "cell_type": "markdown",
   "metadata": {},
   "source": [
    "### Reformmating Artist Column"
   ]
  },
  {
   "cell_type": "markdown",
   "metadata": {},
   "source": [
    "I had observed earlier that artists seem to be in lists in artist column in data_df"
   ]
  },
  {
   "cell_type": "code",
   "execution_count": 28,
   "metadata": {},
   "outputs": [
    {
     "data": {
      "text/plain": [
       "\"['Sergei Rachmaninoff', 'Ruth Laredo']\""
      ]
     },
     "execution_count": 28,
     "metadata": {},
     "output_type": "execute_result"
    }
   ],
   "source": [
    "data_df.artists[15]"
   ]
  },
  {
   "cell_type": "code",
   "execution_count": 29,
   "metadata": {},
   "outputs": [
    {
     "data": {
      "text/plain": [
       "'['"
      ]
     },
     "execution_count": 29,
     "metadata": {},
     "output_type": "execute_result"
    }
   ],
   "source": [
    "data_df.artists[15][0] #check to see if it is a list"
   ]
  },
  {
   "cell_type": "markdown",
   "metadata": {},
   "source": [
    "As we can see from above, it was a list, 'Sergio Racmaninoff' would have been returned."
   ]
  },
  {
   "cell_type": "markdown",
   "metadata": {},
   "source": [
    "artist and genre columns, they are actually not list, but strings that look like list. \n",
    "we shall therefore use a function to transform these elements into cleaned string."
   ]
  },
  {
   "cell_type": "code",
   "execution_count": 30,
   "metadata": {},
   "outputs": [],
   "source": [
    "\"\"\"function to transfor string\n",
    "list into actual string \"\"\"\n",
    "\n",
    "def clean_string_main_artist(x):\n",
    "    #remove square brackets\n",
    "    x = x.replace('[','')\n",
    "    x = x.replace(']','')\n",
    "    \n",
    "    #making into list by spliting at comma\n",
    "    list_of_artist = x.split(\", \")\n",
    "    \n",
    "    #transform individual elements \n",
    "    for artist in range(len(list_of_artist)):\n",
    "        list_of_artist[artist] = list_of_artist[artist].replace(\"'\",\"\")  \n",
    "    \n",
    "    #return the main artist in the list, main artist are the first in the list and the featuring artist are artist proceeding\n",
    "    return list_of_artist[0]"
   ]
  },
  {
   "cell_type": "code",
   "execution_count": 31,
   "metadata": {},
   "outputs": [],
   "source": [
    "data_df['main_artist'] = data_df['artists'].apply(lambda x: clean_string_main_artist(x))"
   ]
  },
  {
   "cell_type": "code",
   "execution_count": 32,
   "metadata": {},
   "outputs": [
    {
     "data": {
      "text/html": [
       "<div>\n",
       "<style scoped>\n",
       "    .dataframe tbody tr th:only-of-type {\n",
       "        vertical-align: middle;\n",
       "    }\n",
       "\n",
       "    .dataframe tbody tr th {\n",
       "        vertical-align: top;\n",
       "    }\n",
       "\n",
       "    .dataframe thead th {\n",
       "        text-align: right;\n",
       "    }\n",
       "</style>\n",
       "<table border=\"1\" class=\"dataframe\">\n",
       "  <thead>\n",
       "    <tr style=\"text-align: right;\">\n",
       "      <th></th>\n",
       "      <th>valence</th>\n",
       "      <th>year</th>\n",
       "      <th>acousticness</th>\n",
       "      <th>artists</th>\n",
       "      <th>danceability</th>\n",
       "      <th>duration_ms</th>\n",
       "      <th>energy</th>\n",
       "      <th>explicit</th>\n",
       "      <th>id</th>\n",
       "      <th>instrumentalness</th>\n",
       "      <th>key</th>\n",
       "      <th>liveness</th>\n",
       "      <th>loudness</th>\n",
       "      <th>mode</th>\n",
       "      <th>name</th>\n",
       "      <th>popularity</th>\n",
       "      <th>release_date</th>\n",
       "      <th>speechiness</th>\n",
       "      <th>tempo</th>\n",
       "      <th>main_artist</th>\n",
       "    </tr>\n",
       "  </thead>\n",
       "  <tbody>\n",
       "    <tr>\n",
       "      <th>1</th>\n",
       "      <td>0.9630</td>\n",
       "      <td>1921</td>\n",
       "      <td>0.732</td>\n",
       "      <td>['Dennis Day']</td>\n",
       "      <td>0.819</td>\n",
       "      <td>180533</td>\n",
       "      <td>0.341</td>\n",
       "      <td>0</td>\n",
       "      <td>7xPhfUan2yNtyFG0cUWkt8</td>\n",
       "      <td>0.000000</td>\n",
       "      <td>7</td>\n",
       "      <td>0.160</td>\n",
       "      <td>-12.441</td>\n",
       "      <td>1</td>\n",
       "      <td>Clancy Lowered the Boom</td>\n",
       "      <td>5</td>\n",
       "      <td>1921</td>\n",
       "      <td>0.4150</td>\n",
       "      <td>60.936</td>\n",
       "      <td>Dennis Day</td>\n",
       "    </tr>\n",
       "    <tr>\n",
       "      <th>2</th>\n",
       "      <td>0.0394</td>\n",
       "      <td>1921</td>\n",
       "      <td>0.961</td>\n",
       "      <td>['KHP Kridhamardawa Karaton Ngayogyakarta Hadi...</td>\n",
       "      <td>0.328</td>\n",
       "      <td>500062</td>\n",
       "      <td>0.166</td>\n",
       "      <td>0</td>\n",
       "      <td>1o6I8BglA6ylDMrIELygv1</td>\n",
       "      <td>0.913000</td>\n",
       "      <td>3</td>\n",
       "      <td>0.101</td>\n",
       "      <td>-14.850</td>\n",
       "      <td>1</td>\n",
       "      <td>Gati Bali</td>\n",
       "      <td>5</td>\n",
       "      <td>1921</td>\n",
       "      <td>0.0339</td>\n",
       "      <td>110.339</td>\n",
       "      <td>KHP Kridhamardawa Karaton Ngayogyakarta Hadini...</td>\n",
       "    </tr>\n",
       "    <tr>\n",
       "      <th>3</th>\n",
       "      <td>0.1650</td>\n",
       "      <td>1921</td>\n",
       "      <td>0.967</td>\n",
       "      <td>['Frank Parker']</td>\n",
       "      <td>0.275</td>\n",
       "      <td>210000</td>\n",
       "      <td>0.309</td>\n",
       "      <td>0</td>\n",
       "      <td>3ftBPsC5vPBKxYSee08FDH</td>\n",
       "      <td>0.000028</td>\n",
       "      <td>5</td>\n",
       "      <td>0.381</td>\n",
       "      <td>-9.316</td>\n",
       "      <td>1</td>\n",
       "      <td>Danny Boy</td>\n",
       "      <td>3</td>\n",
       "      <td>1921</td>\n",
       "      <td>0.0354</td>\n",
       "      <td>100.109</td>\n",
       "      <td>Frank Parker</td>\n",
       "    </tr>\n",
       "    <tr>\n",
       "      <th>4</th>\n",
       "      <td>0.2530</td>\n",
       "      <td>1921</td>\n",
       "      <td>0.957</td>\n",
       "      <td>['Phil Regan']</td>\n",
       "      <td>0.418</td>\n",
       "      <td>166693</td>\n",
       "      <td>0.193</td>\n",
       "      <td>0</td>\n",
       "      <td>4d6HGyGT8e121BsdKmw9v6</td>\n",
       "      <td>0.000002</td>\n",
       "      <td>3</td>\n",
       "      <td>0.229</td>\n",
       "      <td>-10.096</td>\n",
       "      <td>1</td>\n",
       "      <td>When Irish Eyes Are Smiling</td>\n",
       "      <td>2</td>\n",
       "      <td>1921</td>\n",
       "      <td>0.0380</td>\n",
       "      <td>101.665</td>\n",
       "      <td>Phil Regan</td>\n",
       "    </tr>\n",
       "    <tr>\n",
       "      <th>5</th>\n",
       "      <td>0.1960</td>\n",
       "      <td>1921</td>\n",
       "      <td>0.579</td>\n",
       "      <td>['KHP Kridhamardawa Karaton Ngayogyakarta Hadi...</td>\n",
       "      <td>0.697</td>\n",
       "      <td>395076</td>\n",
       "      <td>0.346</td>\n",
       "      <td>0</td>\n",
       "      <td>4pyw9DVHGStUre4J6hPngr</td>\n",
       "      <td>0.168000</td>\n",
       "      <td>2</td>\n",
       "      <td>0.130</td>\n",
       "      <td>-12.506</td>\n",
       "      <td>1</td>\n",
       "      <td>Gati Mardika</td>\n",
       "      <td>6</td>\n",
       "      <td>1921</td>\n",
       "      <td>0.0700</td>\n",
       "      <td>119.824</td>\n",
       "      <td>KHP Kridhamardawa Karaton Ngayogyakarta Hadini...</td>\n",
       "    </tr>\n",
       "  </tbody>\n",
       "</table>\n",
       "</div>"
      ],
      "text/plain": [
       "   valence  year  acousticness  \\\n",
       "1   0.9630  1921         0.732   \n",
       "2   0.0394  1921         0.961   \n",
       "3   0.1650  1921         0.967   \n",
       "4   0.2530  1921         0.957   \n",
       "5   0.1960  1921         0.579   \n",
       "\n",
       "                                             artists  danceability  \\\n",
       "1                                     ['Dennis Day']         0.819   \n",
       "2  ['KHP Kridhamardawa Karaton Ngayogyakarta Hadi...         0.328   \n",
       "3                                   ['Frank Parker']         0.275   \n",
       "4                                     ['Phil Regan']         0.418   \n",
       "5  ['KHP Kridhamardawa Karaton Ngayogyakarta Hadi...         0.697   \n",
       "\n",
       "   duration_ms  energy  explicit                      id  instrumentalness  \\\n",
       "1       180533   0.341         0  7xPhfUan2yNtyFG0cUWkt8          0.000000   \n",
       "2       500062   0.166         0  1o6I8BglA6ylDMrIELygv1          0.913000   \n",
       "3       210000   0.309         0  3ftBPsC5vPBKxYSee08FDH          0.000028   \n",
       "4       166693   0.193         0  4d6HGyGT8e121BsdKmw9v6          0.000002   \n",
       "5       395076   0.346         0  4pyw9DVHGStUre4J6hPngr          0.168000   \n",
       "\n",
       "   key  liveness  loudness  mode                         name  popularity  \\\n",
       "1    7     0.160   -12.441     1      Clancy Lowered the Boom           5   \n",
       "2    3     0.101   -14.850     1                    Gati Bali           5   \n",
       "3    5     0.381    -9.316     1                    Danny Boy           3   \n",
       "4    3     0.229   -10.096     1  When Irish Eyes Are Smiling           2   \n",
       "5    2     0.130   -12.506     1                 Gati Mardika           6   \n",
       "\n",
       "  release_date  speechiness    tempo  \\\n",
       "1         1921       0.4150   60.936   \n",
       "2         1921       0.0339  110.339   \n",
       "3         1921       0.0354  100.109   \n",
       "4         1921       0.0380  101.665   \n",
       "5         1921       0.0700  119.824   \n",
       "\n",
       "                                         main_artist  \n",
       "1                                         Dennis Day  \n",
       "2  KHP Kridhamardawa Karaton Ngayogyakarta Hadini...  \n",
       "3                                       Frank Parker  \n",
       "4                                         Phil Regan  \n",
       "5  KHP Kridhamardawa Karaton Ngayogyakarta Hadini...  "
      ]
     },
     "execution_count": 32,
     "metadata": {},
     "output_type": "execute_result"
    }
   ],
   "source": [
    "data_df.head()"
   ]
  },
  {
   "cell_type": "code",
   "execution_count": 33,
   "metadata": {},
   "outputs": [],
   "source": [
    "\"\"\"function to transfor string\n",
    "list into actual string \"\"\"\n",
    "\n",
    "def clean_string_featuring_artist(x):\n",
    "    #remove square brackets\n",
    "    x = x.replace('[','')\n",
    "    x = x.replace(']','')\n",
    "    \n",
    "    #making into list by spliting at comma\n",
    "    list_of_artist = x.split(\", \")\n",
    "    \n",
    "    #transform individual elements \n",
    "    for artist in range(len(list_of_artist)):\n",
    "        list_of_artist[artist] = list_of_artist[artist].replace(\"'\",\"\")  \n",
    "    \n",
    "    #return featuring artist are artist proceeding\n",
    "    return list_of_artist[1:]"
   ]
  },
  {
   "cell_type": "code",
   "execution_count": 34,
   "metadata": {},
   "outputs": [],
   "source": [
    "data_df['feat_artist'] = data_df['artists'].apply(lambda x: clean_string_featuring_artist(x))"
   ]
  },
  {
   "cell_type": "code",
   "execution_count": 35,
   "metadata": {},
   "outputs": [
    {
     "data": {
      "text/html": [
       "<div>\n",
       "<style scoped>\n",
       "    .dataframe tbody tr th:only-of-type {\n",
       "        vertical-align: middle;\n",
       "    }\n",
       "\n",
       "    .dataframe tbody tr th {\n",
       "        vertical-align: top;\n",
       "    }\n",
       "\n",
       "    .dataframe thead th {\n",
       "        text-align: right;\n",
       "    }\n",
       "</style>\n",
       "<table border=\"1\" class=\"dataframe\">\n",
       "  <thead>\n",
       "    <tr style=\"text-align: right;\">\n",
       "      <th></th>\n",
       "      <th>valence</th>\n",
       "      <th>year</th>\n",
       "      <th>acousticness</th>\n",
       "      <th>artists</th>\n",
       "      <th>danceability</th>\n",
       "      <th>duration_ms</th>\n",
       "      <th>energy</th>\n",
       "      <th>explicit</th>\n",
       "      <th>id</th>\n",
       "      <th>instrumentalness</th>\n",
       "      <th>...</th>\n",
       "      <th>liveness</th>\n",
       "      <th>loudness</th>\n",
       "      <th>mode</th>\n",
       "      <th>name</th>\n",
       "      <th>popularity</th>\n",
       "      <th>release_date</th>\n",
       "      <th>speechiness</th>\n",
       "      <th>tempo</th>\n",
       "      <th>main_artist</th>\n",
       "      <th>feat_artist</th>\n",
       "    </tr>\n",
       "  </thead>\n",
       "  <tbody>\n",
       "    <tr>\n",
       "      <th>1</th>\n",
       "      <td>0.9630</td>\n",
       "      <td>1921</td>\n",
       "      <td>0.732</td>\n",
       "      <td>['Dennis Day']</td>\n",
       "      <td>0.819</td>\n",
       "      <td>180533</td>\n",
       "      <td>0.341</td>\n",
       "      <td>0</td>\n",
       "      <td>7xPhfUan2yNtyFG0cUWkt8</td>\n",
       "      <td>0.000000</td>\n",
       "      <td>...</td>\n",
       "      <td>0.160</td>\n",
       "      <td>-12.441</td>\n",
       "      <td>1</td>\n",
       "      <td>Clancy Lowered the Boom</td>\n",
       "      <td>5</td>\n",
       "      <td>1921</td>\n",
       "      <td>0.4150</td>\n",
       "      <td>60.936</td>\n",
       "      <td>Dennis Day</td>\n",
       "      <td>[]</td>\n",
       "    </tr>\n",
       "    <tr>\n",
       "      <th>2</th>\n",
       "      <td>0.0394</td>\n",
       "      <td>1921</td>\n",
       "      <td>0.961</td>\n",
       "      <td>['KHP Kridhamardawa Karaton Ngayogyakarta Hadi...</td>\n",
       "      <td>0.328</td>\n",
       "      <td>500062</td>\n",
       "      <td>0.166</td>\n",
       "      <td>0</td>\n",
       "      <td>1o6I8BglA6ylDMrIELygv1</td>\n",
       "      <td>0.913000</td>\n",
       "      <td>...</td>\n",
       "      <td>0.101</td>\n",
       "      <td>-14.850</td>\n",
       "      <td>1</td>\n",
       "      <td>Gati Bali</td>\n",
       "      <td>5</td>\n",
       "      <td>1921</td>\n",
       "      <td>0.0339</td>\n",
       "      <td>110.339</td>\n",
       "      <td>KHP Kridhamardawa Karaton Ngayogyakarta Hadini...</td>\n",
       "      <td>[]</td>\n",
       "    </tr>\n",
       "    <tr>\n",
       "      <th>3</th>\n",
       "      <td>0.1650</td>\n",
       "      <td>1921</td>\n",
       "      <td>0.967</td>\n",
       "      <td>['Frank Parker']</td>\n",
       "      <td>0.275</td>\n",
       "      <td>210000</td>\n",
       "      <td>0.309</td>\n",
       "      <td>0</td>\n",
       "      <td>3ftBPsC5vPBKxYSee08FDH</td>\n",
       "      <td>0.000028</td>\n",
       "      <td>...</td>\n",
       "      <td>0.381</td>\n",
       "      <td>-9.316</td>\n",
       "      <td>1</td>\n",
       "      <td>Danny Boy</td>\n",
       "      <td>3</td>\n",
       "      <td>1921</td>\n",
       "      <td>0.0354</td>\n",
       "      <td>100.109</td>\n",
       "      <td>Frank Parker</td>\n",
       "      <td>[]</td>\n",
       "    </tr>\n",
       "    <tr>\n",
       "      <th>4</th>\n",
       "      <td>0.2530</td>\n",
       "      <td>1921</td>\n",
       "      <td>0.957</td>\n",
       "      <td>['Phil Regan']</td>\n",
       "      <td>0.418</td>\n",
       "      <td>166693</td>\n",
       "      <td>0.193</td>\n",
       "      <td>0</td>\n",
       "      <td>4d6HGyGT8e121BsdKmw9v6</td>\n",
       "      <td>0.000002</td>\n",
       "      <td>...</td>\n",
       "      <td>0.229</td>\n",
       "      <td>-10.096</td>\n",
       "      <td>1</td>\n",
       "      <td>When Irish Eyes Are Smiling</td>\n",
       "      <td>2</td>\n",
       "      <td>1921</td>\n",
       "      <td>0.0380</td>\n",
       "      <td>101.665</td>\n",
       "      <td>Phil Regan</td>\n",
       "      <td>[]</td>\n",
       "    </tr>\n",
       "    <tr>\n",
       "      <th>5</th>\n",
       "      <td>0.1960</td>\n",
       "      <td>1921</td>\n",
       "      <td>0.579</td>\n",
       "      <td>['KHP Kridhamardawa Karaton Ngayogyakarta Hadi...</td>\n",
       "      <td>0.697</td>\n",
       "      <td>395076</td>\n",
       "      <td>0.346</td>\n",
       "      <td>0</td>\n",
       "      <td>4pyw9DVHGStUre4J6hPngr</td>\n",
       "      <td>0.168000</td>\n",
       "      <td>...</td>\n",
       "      <td>0.130</td>\n",
       "      <td>-12.506</td>\n",
       "      <td>1</td>\n",
       "      <td>Gati Mardika</td>\n",
       "      <td>6</td>\n",
       "      <td>1921</td>\n",
       "      <td>0.0700</td>\n",
       "      <td>119.824</td>\n",
       "      <td>KHP Kridhamardawa Karaton Ngayogyakarta Hadini...</td>\n",
       "      <td>[]</td>\n",
       "    </tr>\n",
       "  </tbody>\n",
       "</table>\n",
       "<p>5 rows × 21 columns</p>\n",
       "</div>"
      ],
      "text/plain": [
       "   valence  year  acousticness  \\\n",
       "1   0.9630  1921         0.732   \n",
       "2   0.0394  1921         0.961   \n",
       "3   0.1650  1921         0.967   \n",
       "4   0.2530  1921         0.957   \n",
       "5   0.1960  1921         0.579   \n",
       "\n",
       "                                             artists  danceability  \\\n",
       "1                                     ['Dennis Day']         0.819   \n",
       "2  ['KHP Kridhamardawa Karaton Ngayogyakarta Hadi...         0.328   \n",
       "3                                   ['Frank Parker']         0.275   \n",
       "4                                     ['Phil Regan']         0.418   \n",
       "5  ['KHP Kridhamardawa Karaton Ngayogyakarta Hadi...         0.697   \n",
       "\n",
       "   duration_ms  energy  explicit                      id  instrumentalness  \\\n",
       "1       180533   0.341         0  7xPhfUan2yNtyFG0cUWkt8          0.000000   \n",
       "2       500062   0.166         0  1o6I8BglA6ylDMrIELygv1          0.913000   \n",
       "3       210000   0.309         0  3ftBPsC5vPBKxYSee08FDH          0.000028   \n",
       "4       166693   0.193         0  4d6HGyGT8e121BsdKmw9v6          0.000002   \n",
       "5       395076   0.346         0  4pyw9DVHGStUre4J6hPngr          0.168000   \n",
       "\n",
       "   ...  liveness  loudness  mode                         name popularity  \\\n",
       "1  ...     0.160   -12.441     1      Clancy Lowered the Boom          5   \n",
       "2  ...     0.101   -14.850     1                    Gati Bali          5   \n",
       "3  ...     0.381    -9.316     1                    Danny Boy          3   \n",
       "4  ...     0.229   -10.096     1  When Irish Eyes Are Smiling          2   \n",
       "5  ...     0.130   -12.506     1                 Gati Mardika          6   \n",
       "\n",
       "   release_date speechiness    tempo  \\\n",
       "1          1921      0.4150   60.936   \n",
       "2          1921      0.0339  110.339   \n",
       "3          1921      0.0354  100.109   \n",
       "4          1921      0.0380  101.665   \n",
       "5          1921      0.0700  119.824   \n",
       "\n",
       "                                         main_artist feat_artist  \n",
       "1                                         Dennis Day          []  \n",
       "2  KHP Kridhamardawa Karaton Ngayogyakarta Hadini...          []  \n",
       "3                                       Frank Parker          []  \n",
       "4                                         Phil Regan          []  \n",
       "5  KHP Kridhamardawa Karaton Ngayogyakarta Hadini...          []  \n",
       "\n",
       "[5 rows x 21 columns]"
      ]
     },
     "execution_count": 35,
     "metadata": {},
     "output_type": "execute_result"
    }
   ],
   "source": [
    "data_df.head()"
   ]
  },
  {
   "cell_type": "markdown",
   "metadata": {},
   "source": [
    "## Exploratory Data Analysis"
   ]
  },
  {
   "cell_type": "code",
   "execution_count": null,
   "metadata": {},
   "outputs": [],
   "source": []
  },
  {
   "cell_type": "code",
   "execution_count": 36,
   "metadata": {},
   "outputs": [
    {
     "name": "stdout",
     "output_type": "stream",
     "text": [
      "<class 'pandas.core.frame.DataFrame'>\n",
      "Int64Index: 168388 entries, 1 to 170652\n",
      "Data columns (total 21 columns):\n",
      " #   Column            Non-Null Count   Dtype  \n",
      "---  ------            --------------   -----  \n",
      " 0   valence           168388 non-null  float64\n",
      " 1   year              168388 non-null  int64  \n",
      " 2   acousticness      168388 non-null  float64\n",
      " 3   artists           168388 non-null  object \n",
      " 4   danceability      168388 non-null  float64\n",
      " 5   duration_ms       168388 non-null  int64  \n",
      " 6   energy            168388 non-null  float64\n",
      " 7   explicit          168388 non-null  int64  \n",
      " 8   id                168388 non-null  object \n",
      " 9   instrumentalness  168388 non-null  float64\n",
      " 10  key               168388 non-null  int64  \n",
      " 11  liveness          168388 non-null  float64\n",
      " 12  loudness          168388 non-null  float64\n",
      " 13  mode              168388 non-null  int64  \n",
      " 14  name              168388 non-null  object \n",
      " 15  popularity        168388 non-null  int64  \n",
      " 16  release_date      168388 non-null  object \n",
      " 17  speechiness       168388 non-null  float64\n",
      " 18  tempo             168388 non-null  float64\n",
      " 19  main_artist       168388 non-null  object \n",
      " 20  feat_artist       168388 non-null  object \n",
      "dtypes: float64(9), int64(6), object(6)\n",
      "memory usage: 33.3+ MB\n"
     ]
    }
   ],
   "source": [
    "data_df.info()"
   ]
  },
  {
   "cell_type": "code",
   "execution_count": 37,
   "metadata": {},
   "outputs": [
    {
     "name": "stdout",
     "output_type": "stream",
     "text": [
      "<class 'pandas.core.frame.DataFrame'>\n",
      "RangeIndex: 586672 entries, 0 to 586671\n",
      "Data columns (total 20 columns):\n",
      " #   Column            Non-Null Count   Dtype  \n",
      "---  ------            --------------   -----  \n",
      " 0   id                586672 non-null  object \n",
      " 1   name              586601 non-null  object \n",
      " 2   popularity        586672 non-null  int64  \n",
      " 3   duration_ms       586672 non-null  int64  \n",
      " 4   explicit          586672 non-null  int64  \n",
      " 5   artists           586672 non-null  object \n",
      " 6   id_artists        586672 non-null  object \n",
      " 7   release_date      586672 non-null  object \n",
      " 8   danceability      586672 non-null  float64\n",
      " 9   energy            586672 non-null  float64\n",
      " 10  key               586672 non-null  int64  \n",
      " 11  loudness          586672 non-null  float64\n",
      " 12  mode              586672 non-null  int64  \n",
      " 13  speechiness       586672 non-null  float64\n",
      " 14  acousticness      586672 non-null  float64\n",
      " 15  instrumentalness  586672 non-null  float64\n",
      " 16  liveness          586672 non-null  float64\n",
      " 17  valence           586672 non-null  float64\n",
      " 18  tempo             586672 non-null  float64\n",
      " 19  time_signature    586672 non-null  int64  \n",
      "dtypes: float64(9), int64(6), object(5)\n",
      "memory usage: 89.5+ MB\n"
     ]
    }
   ],
   "source": [
    "tracks_df.info()"
   ]
  },
  {
   "cell_type": "code",
   "execution_count": 38,
   "metadata": {},
   "outputs": [
    {
     "data": {
      "text/plain": [
       "144481    100\n",
       "126338     98\n",
       "313676     98\n",
       "115489     98\n",
       "144484     96\n",
       "         ... \n",
       "619749      0\n",
       "619748      0\n",
       "619747      0\n",
       "619746      0\n",
       "0           0\n",
       "Name: popularity, Length: 1104349, dtype: int64"
      ]
     },
     "execution_count": 38,
     "metadata": {},
     "output_type": "execute_result"
    }
   ],
   "source": [
    "artist_df.popularity.sort_values(ascending=False)"
   ]
  },
  {
   "cell_type": "code",
   "execution_count": 39,
   "metadata": {},
   "outputs": [
    {
     "data": {
      "text/plain": [
       "id                              1uNFoZAHBGtllmzznpCI3s\n",
       "followers                                   4.4607e+07\n",
       "genres        ['canadian pop', 'pop', 'post-teen pop']\n",
       "name                                     Justin Bieber\n",
       "popularity                                         100\n",
       "Name: 144481, dtype: object"
      ]
     },
     "execution_count": 39,
     "metadata": {},
     "output_type": "execute_result"
    }
   ],
   "source": [
    "artist_df.iloc[144481,:]"
   ]
  },
  {
   "cell_type": "markdown",
   "metadata": {},
   "source": [
    "comment: Justin Bieber is the most popular artist"
   ]
  },
  {
   "cell_type": "code",
   "execution_count": 40,
   "metadata": {},
   "outputs": [
    {
     "name": "stdout",
     "output_type": "stream",
     "text": [
      "<class 'pandas.core.frame.DataFrame'>\n",
      "RangeIndex: 1104349 entries, 0 to 1104348\n",
      "Data columns (total 5 columns):\n",
      " #   Column      Non-Null Count    Dtype  \n",
      "---  ------      --------------    -----  \n",
      " 0   id          1104349 non-null  object \n",
      " 1   followers   1104336 non-null  float64\n",
      " 2   genres      1104349 non-null  object \n",
      " 3   name        1104349 non-null  object \n",
      " 4   popularity  1104349 non-null  int64  \n",
      "dtypes: float64(1), int64(1), object(3)\n",
      "memory usage: 42.1+ MB\n"
     ]
    }
   ],
   "source": [
    "artist_df.info()"
   ]
  },
  {
   "cell_type": "code",
   "execution_count": 41,
   "metadata": {},
   "outputs": [
    {
     "data": {
      "text/plain": [
       "(168388, 21)"
      ]
     },
     "execution_count": 41,
     "metadata": {},
     "output_type": "execute_result"
    }
   ],
   "source": [
    "data_df.shape"
   ]
  },
  {
   "cell_type": "code",
   "execution_count": 42,
   "metadata": {},
   "outputs": [
    {
     "data": {
      "text/html": [
       "<div>\n",
       "<style scoped>\n",
       "    .dataframe tbody tr th:only-of-type {\n",
       "        vertical-align: middle;\n",
       "    }\n",
       "\n",
       "    .dataframe tbody tr th {\n",
       "        vertical-align: top;\n",
       "    }\n",
       "\n",
       "    .dataframe thead th {\n",
       "        text-align: right;\n",
       "    }\n",
       "</style>\n",
       "<table border=\"1\" class=\"dataframe\">\n",
       "  <thead>\n",
       "    <tr style=\"text-align: right;\">\n",
       "      <th></th>\n",
       "      <th>valence</th>\n",
       "      <th>year</th>\n",
       "      <th>acousticness</th>\n",
       "      <th>artists</th>\n",
       "      <th>danceability</th>\n",
       "      <th>duration_ms</th>\n",
       "      <th>energy</th>\n",
       "      <th>explicit</th>\n",
       "      <th>id</th>\n",
       "      <th>instrumentalness</th>\n",
       "      <th>...</th>\n",
       "      <th>liveness</th>\n",
       "      <th>loudness</th>\n",
       "      <th>mode</th>\n",
       "      <th>name</th>\n",
       "      <th>popularity</th>\n",
       "      <th>release_date</th>\n",
       "      <th>speechiness</th>\n",
       "      <th>tempo</th>\n",
       "      <th>main_artist</th>\n",
       "      <th>feat_artist</th>\n",
       "    </tr>\n",
       "  </thead>\n",
       "  <tbody>\n",
       "    <tr>\n",
       "      <th>1</th>\n",
       "      <td>0.9630</td>\n",
       "      <td>1921</td>\n",
       "      <td>0.732</td>\n",
       "      <td>['Dennis Day']</td>\n",
       "      <td>0.819</td>\n",
       "      <td>180533</td>\n",
       "      <td>0.341</td>\n",
       "      <td>0</td>\n",
       "      <td>7xPhfUan2yNtyFG0cUWkt8</td>\n",
       "      <td>0.000000</td>\n",
       "      <td>...</td>\n",
       "      <td>0.160</td>\n",
       "      <td>-12.441</td>\n",
       "      <td>1</td>\n",
       "      <td>Clancy Lowered the Boom</td>\n",
       "      <td>5</td>\n",
       "      <td>1921</td>\n",
       "      <td>0.4150</td>\n",
       "      <td>60.936</td>\n",
       "      <td>Dennis Day</td>\n",
       "      <td>[]</td>\n",
       "    </tr>\n",
       "    <tr>\n",
       "      <th>2</th>\n",
       "      <td>0.0394</td>\n",
       "      <td>1921</td>\n",
       "      <td>0.961</td>\n",
       "      <td>['KHP Kridhamardawa Karaton Ngayogyakarta Hadi...</td>\n",
       "      <td>0.328</td>\n",
       "      <td>500062</td>\n",
       "      <td>0.166</td>\n",
       "      <td>0</td>\n",
       "      <td>1o6I8BglA6ylDMrIELygv1</td>\n",
       "      <td>0.913000</td>\n",
       "      <td>...</td>\n",
       "      <td>0.101</td>\n",
       "      <td>-14.850</td>\n",
       "      <td>1</td>\n",
       "      <td>Gati Bali</td>\n",
       "      <td>5</td>\n",
       "      <td>1921</td>\n",
       "      <td>0.0339</td>\n",
       "      <td>110.339</td>\n",
       "      <td>KHP Kridhamardawa Karaton Ngayogyakarta Hadini...</td>\n",
       "      <td>[]</td>\n",
       "    </tr>\n",
       "    <tr>\n",
       "      <th>3</th>\n",
       "      <td>0.1650</td>\n",
       "      <td>1921</td>\n",
       "      <td>0.967</td>\n",
       "      <td>['Frank Parker']</td>\n",
       "      <td>0.275</td>\n",
       "      <td>210000</td>\n",
       "      <td>0.309</td>\n",
       "      <td>0</td>\n",
       "      <td>3ftBPsC5vPBKxYSee08FDH</td>\n",
       "      <td>0.000028</td>\n",
       "      <td>...</td>\n",
       "      <td>0.381</td>\n",
       "      <td>-9.316</td>\n",
       "      <td>1</td>\n",
       "      <td>Danny Boy</td>\n",
       "      <td>3</td>\n",
       "      <td>1921</td>\n",
       "      <td>0.0354</td>\n",
       "      <td>100.109</td>\n",
       "      <td>Frank Parker</td>\n",
       "      <td>[]</td>\n",
       "    </tr>\n",
       "    <tr>\n",
       "      <th>4</th>\n",
       "      <td>0.2530</td>\n",
       "      <td>1921</td>\n",
       "      <td>0.957</td>\n",
       "      <td>['Phil Regan']</td>\n",
       "      <td>0.418</td>\n",
       "      <td>166693</td>\n",
       "      <td>0.193</td>\n",
       "      <td>0</td>\n",
       "      <td>4d6HGyGT8e121BsdKmw9v6</td>\n",
       "      <td>0.000002</td>\n",
       "      <td>...</td>\n",
       "      <td>0.229</td>\n",
       "      <td>-10.096</td>\n",
       "      <td>1</td>\n",
       "      <td>When Irish Eyes Are Smiling</td>\n",
       "      <td>2</td>\n",
       "      <td>1921</td>\n",
       "      <td>0.0380</td>\n",
       "      <td>101.665</td>\n",
       "      <td>Phil Regan</td>\n",
       "      <td>[]</td>\n",
       "    </tr>\n",
       "    <tr>\n",
       "      <th>5</th>\n",
       "      <td>0.1960</td>\n",
       "      <td>1921</td>\n",
       "      <td>0.579</td>\n",
       "      <td>['KHP Kridhamardawa Karaton Ngayogyakarta Hadi...</td>\n",
       "      <td>0.697</td>\n",
       "      <td>395076</td>\n",
       "      <td>0.346</td>\n",
       "      <td>0</td>\n",
       "      <td>4pyw9DVHGStUre4J6hPngr</td>\n",
       "      <td>0.168000</td>\n",
       "      <td>...</td>\n",
       "      <td>0.130</td>\n",
       "      <td>-12.506</td>\n",
       "      <td>1</td>\n",
       "      <td>Gati Mardika</td>\n",
       "      <td>6</td>\n",
       "      <td>1921</td>\n",
       "      <td>0.0700</td>\n",
       "      <td>119.824</td>\n",
       "      <td>KHP Kridhamardawa Karaton Ngayogyakarta Hadini...</td>\n",
       "      <td>[]</td>\n",
       "    </tr>\n",
       "  </tbody>\n",
       "</table>\n",
       "<p>5 rows × 21 columns</p>\n",
       "</div>"
      ],
      "text/plain": [
       "   valence  year  acousticness  \\\n",
       "1   0.9630  1921         0.732   \n",
       "2   0.0394  1921         0.961   \n",
       "3   0.1650  1921         0.967   \n",
       "4   0.2530  1921         0.957   \n",
       "5   0.1960  1921         0.579   \n",
       "\n",
       "                                             artists  danceability  \\\n",
       "1                                     ['Dennis Day']         0.819   \n",
       "2  ['KHP Kridhamardawa Karaton Ngayogyakarta Hadi...         0.328   \n",
       "3                                   ['Frank Parker']         0.275   \n",
       "4                                     ['Phil Regan']         0.418   \n",
       "5  ['KHP Kridhamardawa Karaton Ngayogyakarta Hadi...         0.697   \n",
       "\n",
       "   duration_ms  energy  explicit                      id  instrumentalness  \\\n",
       "1       180533   0.341         0  7xPhfUan2yNtyFG0cUWkt8          0.000000   \n",
       "2       500062   0.166         0  1o6I8BglA6ylDMrIELygv1          0.913000   \n",
       "3       210000   0.309         0  3ftBPsC5vPBKxYSee08FDH          0.000028   \n",
       "4       166693   0.193         0  4d6HGyGT8e121BsdKmw9v6          0.000002   \n",
       "5       395076   0.346         0  4pyw9DVHGStUre4J6hPngr          0.168000   \n",
       "\n",
       "   ...  liveness  loudness  mode                         name popularity  \\\n",
       "1  ...     0.160   -12.441     1      Clancy Lowered the Boom          5   \n",
       "2  ...     0.101   -14.850     1                    Gati Bali          5   \n",
       "3  ...     0.381    -9.316     1                    Danny Boy          3   \n",
       "4  ...     0.229   -10.096     1  When Irish Eyes Are Smiling          2   \n",
       "5  ...     0.130   -12.506     1                 Gati Mardika          6   \n",
       "\n",
       "   release_date speechiness    tempo  \\\n",
       "1          1921      0.4150   60.936   \n",
       "2          1921      0.0339  110.339   \n",
       "3          1921      0.0354  100.109   \n",
       "4          1921      0.0380  101.665   \n",
       "5          1921      0.0700  119.824   \n",
       "\n",
       "                                         main_artist feat_artist  \n",
       "1                                         Dennis Day          []  \n",
       "2  KHP Kridhamardawa Karaton Ngayogyakarta Hadini...          []  \n",
       "3                                       Frank Parker          []  \n",
       "4                                         Phil Regan          []  \n",
       "5  KHP Kridhamardawa Karaton Ngayogyakarta Hadini...          []  \n",
       "\n",
       "[5 rows x 21 columns]"
      ]
     },
     "execution_count": 42,
     "metadata": {},
     "output_type": "execute_result"
    }
   ],
   "source": [
    "data_df.head()"
   ]
  },
  {
   "cell_type": "code",
   "execution_count": 43,
   "metadata": {},
   "outputs": [
    {
     "data": {
      "text/plain": [
       "(586672, 20)"
      ]
     },
     "execution_count": 43,
     "metadata": {},
     "output_type": "execute_result"
    }
   ],
   "source": [
    "tracks_df.shape"
   ]
  },
  {
   "cell_type": "code",
   "execution_count": 44,
   "metadata": {},
   "outputs": [
    {
     "name": "stdout",
     "output_type": "stream",
     "text": [
      "<class 'pandas.core.frame.DataFrame'>\n",
      "RangeIndex: 586672 entries, 0 to 586671\n",
      "Data columns (total 20 columns):\n",
      " #   Column            Non-Null Count   Dtype  \n",
      "---  ------            --------------   -----  \n",
      " 0   id                586672 non-null  object \n",
      " 1   name              586601 non-null  object \n",
      " 2   popularity        586672 non-null  int64  \n",
      " 3   duration_ms       586672 non-null  int64  \n",
      " 4   explicit          586672 non-null  int64  \n",
      " 5   artists           586672 non-null  object \n",
      " 6   id_artists        586672 non-null  object \n",
      " 7   release_date      586672 non-null  object \n",
      " 8   danceability      586672 non-null  float64\n",
      " 9   energy            586672 non-null  float64\n",
      " 10  key               586672 non-null  int64  \n",
      " 11  loudness          586672 non-null  float64\n",
      " 12  mode              586672 non-null  int64  \n",
      " 13  speechiness       586672 non-null  float64\n",
      " 14  acousticness      586672 non-null  float64\n",
      " 15  instrumentalness  586672 non-null  float64\n",
      " 16  liveness          586672 non-null  float64\n",
      " 17  valence           586672 non-null  float64\n",
      " 18  tempo             586672 non-null  float64\n",
      " 19  time_signature    586672 non-null  int64  \n",
      "dtypes: float64(9), int64(6), object(5)\n",
      "memory usage: 89.5+ MB\n"
     ]
    }
   ],
   "source": [
    "tracks_df.info()"
   ]
  },
  {
   "cell_type": "code",
   "execution_count": 45,
   "metadata": {},
   "outputs": [
    {
     "name": "stdout",
     "output_type": "stream",
     "text": [
      "<class 'pandas.core.frame.DataFrame'>\n",
      "Int64Index: 168388 entries, 1 to 170652\n",
      "Data columns (total 21 columns):\n",
      " #   Column            Non-Null Count   Dtype  \n",
      "---  ------            --------------   -----  \n",
      " 0   valence           168388 non-null  float64\n",
      " 1   year              168388 non-null  int64  \n",
      " 2   acousticness      168388 non-null  float64\n",
      " 3   artists           168388 non-null  object \n",
      " 4   danceability      168388 non-null  float64\n",
      " 5   duration_ms       168388 non-null  int64  \n",
      " 6   energy            168388 non-null  float64\n",
      " 7   explicit          168388 non-null  int64  \n",
      " 8   id                168388 non-null  object \n",
      " 9   instrumentalness  168388 non-null  float64\n",
      " 10  key               168388 non-null  int64  \n",
      " 11  liveness          168388 non-null  float64\n",
      " 12  loudness          168388 non-null  float64\n",
      " 13  mode              168388 non-null  int64  \n",
      " 14  name              168388 non-null  object \n",
      " 15  popularity        168388 non-null  int64  \n",
      " 16  release_date      168388 non-null  object \n",
      " 17  speechiness       168388 non-null  float64\n",
      " 18  tempo             168388 non-null  float64\n",
      " 19  main_artist       168388 non-null  object \n",
      " 20  feat_artist       168388 non-null  object \n",
      "dtypes: float64(9), int64(6), object(6)\n",
      "memory usage: 33.3+ MB\n"
     ]
    }
   ],
   "source": [
    "data_df.info()"
   ]
  },
  {
   "cell_type": "code",
   "execution_count": 46,
   "metadata": {},
   "outputs": [
    {
     "name": "stdout",
     "output_type": "stream",
     "text": [
      "year\n",
      "main_artist\n",
      "feat_artist\n"
     ]
    }
   ],
   "source": [
    "for x in data_df.columns:\n",
    "    if x not in tracks_df.columns:\n",
    "        print (x)"
   ]
  },
  {
   "cell_type": "code",
   "execution_count": 47,
   "metadata": {},
   "outputs": [
    {
     "name": "stdout",
     "output_type": "stream",
     "text": [
      "<class 'pandas.core.frame.DataFrame'>\n",
      "RangeIndex: 586672 entries, 0 to 586671\n",
      "Data columns (total 20 columns):\n",
      " #   Column            Non-Null Count   Dtype  \n",
      "---  ------            --------------   -----  \n",
      " 0   id                586672 non-null  object \n",
      " 1   name              586601 non-null  object \n",
      " 2   popularity        586672 non-null  int64  \n",
      " 3   duration_ms       586672 non-null  int64  \n",
      " 4   explicit          586672 non-null  int64  \n",
      " 5   artists           586672 non-null  object \n",
      " 6   id_artists        586672 non-null  object \n",
      " 7   release_date      586672 non-null  object \n",
      " 8   danceability      586672 non-null  float64\n",
      " 9   energy            586672 non-null  float64\n",
      " 10  key               586672 non-null  int64  \n",
      " 11  loudness          586672 non-null  float64\n",
      " 12  mode              586672 non-null  int64  \n",
      " 13  speechiness       586672 non-null  float64\n",
      " 14  acousticness      586672 non-null  float64\n",
      " 15  instrumentalness  586672 non-null  float64\n",
      " 16  liveness          586672 non-null  float64\n",
      " 17  valence           586672 non-null  float64\n",
      " 18  tempo             586672 non-null  float64\n",
      " 19  time_signature    586672 non-null  int64  \n",
      "dtypes: float64(9), int64(6), object(5)\n",
      "memory usage: 89.5+ MB\n"
     ]
    }
   ],
   "source": [
    "tracks_df.info()"
   ]
  },
  {
   "cell_type": "markdown",
   "metadata": {},
   "source": [
    "### creating scaled dataframe for eda"
   ]
  },
  {
   "cell_type": "code",
   "execution_count": 48,
   "metadata": {},
   "outputs": [],
   "source": [
    "lin_graph = data_by_year_df.iloc[:,2:]\n",
    "ss = StandardScaler()\n",
    "lin_graph_data = ss.fit_transform(lin_graph)\n",
    "#lin_graph_data = pd.concat([lin_graph,data_by_year_df.year],axis=1)"
   ]
  },
  {
   "cell_type": "code",
   "execution_count": 49,
   "metadata": {},
   "outputs": [],
   "source": [
    "lin_graph_data = pd.DataFrame(data = lin_graph_data, columns=data_by_year_df.iloc[:,2:].columns.values)"
   ]
  },
  {
   "cell_type": "code",
   "execution_count": 50,
   "metadata": {},
   "outputs": [],
   "source": [
    "graph_data = pd.concat([lin_graph_data,data_by_year_df.year],axis=1)"
   ]
  },
  {
   "cell_type": "code",
   "execution_count": 51,
   "metadata": {},
   "outputs": [
    {
     "data": {
      "text/html": [
       "<div>\n",
       "<style scoped>\n",
       "    .dataframe tbody tr th:only-of-type {\n",
       "        vertical-align: middle;\n",
       "    }\n",
       "\n",
       "    .dataframe tbody tr th {\n",
       "        vertical-align: top;\n",
       "    }\n",
       "\n",
       "    .dataframe thead th {\n",
       "        text-align: right;\n",
       "    }\n",
       "</style>\n",
       "<table border=\"1\" class=\"dataframe\">\n",
       "  <thead>\n",
       "    <tr style=\"text-align: right;\">\n",
       "      <th></th>\n",
       "      <th>acousticness</th>\n",
       "      <th>danceability</th>\n",
       "      <th>duration_ms</th>\n",
       "      <th>energy</th>\n",
       "      <th>instrumentalness</th>\n",
       "      <th>liveness</th>\n",
       "      <th>loudness</th>\n",
       "      <th>speechiness</th>\n",
       "      <th>tempo</th>\n",
       "      <th>valence</th>\n",
       "      <th>popularity</th>\n",
       "      <th>key</th>\n",
       "      <th>year</th>\n",
       "    </tr>\n",
       "  </thead>\n",
       "  <tbody>\n",
       "    <tr>\n",
       "      <th>0</th>\n",
       "      <td>1.206593</td>\n",
       "      <td>-2.268729</td>\n",
       "      <td>1.303465</td>\n",
       "      <td>-1.372612</td>\n",
       "      <td>1.241416</td>\n",
       "      <td>-0.141117</td>\n",
       "      <td>-1.643865</td>\n",
       "      <td>-0.394037</td>\n",
       "      <td>-2.567559</td>\n",
       "      <td>-2.656372</td>\n",
       "      <td>-1.297256</td>\n",
       "      <td>-0.504959</td>\n",
       "      <td>1921</td>\n",
       "    </tr>\n",
       "    <tr>\n",
       "      <th>1</th>\n",
       "      <td>1.395278</td>\n",
       "      <td>-1.050819</td>\n",
       "      <td>-2.424439</td>\n",
       "      <td>-1.335327</td>\n",
       "      <td>1.974278</td>\n",
       "      <td>1.824215</td>\n",
       "      <td>-2.364442</td>\n",
       "      <td>0.132090</td>\n",
       "      <td>-2.682246</td>\n",
       "      <td>0.059618</td>\n",
       "      <td>-1.322135</td>\n",
       "      <td>1.751841</td>\n",
       "      <td>1922</td>\n",
       "    </tr>\n",
       "    <tr>\n",
       "      <th>2</th>\n",
       "      <td>1.463369</td>\n",
       "      <td>0.778558</td>\n",
       "      <td>-1.935347</td>\n",
       "      <td>-1.182517</td>\n",
       "      <td>1.461764</td>\n",
       "      <td>1.079979</td>\n",
       "      <td>-0.699070</td>\n",
       "      <td>-0.145779</td>\n",
       "      <td>-0.355409</td>\n",
       "      <td>1.623313</td>\n",
       "      <td>-1.067354</td>\n",
       "      <td>-1.069159</td>\n",
       "      <td>1923</td>\n",
       "    </tr>\n",
       "    <tr>\n",
       "      <th>3</th>\n",
       "      <td>1.401148</td>\n",
       "      <td>0.251686</td>\n",
       "      <td>-1.421483</td>\n",
       "      <td>-0.673342</td>\n",
       "      <td>3.184595</td>\n",
       "      <td>1.515427</td>\n",
       "      <td>-0.732122</td>\n",
       "      <td>-0.168531</td>\n",
       "      <td>0.828525</td>\n",
       "      <td>2.288008</td>\n",
       "      <td>-1.296883</td>\n",
       "      <td>1.751841</td>\n",
       "      <td>1924</td>\n",
       "    </tr>\n",
       "    <tr>\n",
       "      <th>4</th>\n",
       "      <td>1.482933</td>\n",
       "      <td>0.711808</td>\n",
       "      <td>-1.659106</td>\n",
       "      <td>-1.081931</td>\n",
       "      <td>1.843836</td>\n",
       "      <td>1.652901</td>\n",
       "      <td>-0.704637</td>\n",
       "      <td>0.074121</td>\n",
       "      <td>-0.087526</td>\n",
       "      <td>1.561357</td>\n",
       "      <td>-1.202546</td>\n",
       "      <td>0.341341</td>\n",
       "      <td>1925</td>\n",
       "    </tr>\n",
       "    <tr>\n",
       "      <th>...</th>\n",
       "      <td>...</td>\n",
       "      <td>...</td>\n",
       "      <td>...</td>\n",
       "      <td>...</td>\n",
       "      <td>...</td>\n",
       "      <td>...</td>\n",
       "      <td>...</td>\n",
       "      <td>...</td>\n",
       "      <td>...</td>\n",
       "      <td>...</td>\n",
       "      <td>...</td>\n",
       "      <td>...</td>\n",
       "      <td>...</td>\n",
       "    </tr>\n",
       "    <tr>\n",
       "      <th>95</th>\n",
       "      <td>-0.993316</td>\n",
       "      <td>1.217422</td>\n",
       "      <td>-0.231368</td>\n",
       "      <td>0.870891</td>\n",
       "      <td>-0.817217</td>\n",
       "      <td>-1.518719</td>\n",
       "      <td>1.264707</td>\n",
       "      <td>-0.018941</td>\n",
       "      <td>0.467444</td>\n",
       "      <td>-1.748761</td>\n",
       "      <td>1.566603</td>\n",
       "      <td>-1.069159</td>\n",
       "      <td>2016</td>\n",
       "    </tr>\n",
       "    <tr>\n",
       "      <th>96</th>\n",
       "      <td>-0.986279</td>\n",
       "      <td>1.448058</td>\n",
       "      <td>-0.634512</td>\n",
       "      <td>0.855765</td>\n",
       "      <td>-0.791730</td>\n",
       "      <td>-0.926886</td>\n",
       "      <td>1.183293</td>\n",
       "      <td>0.057215</td>\n",
       "      <td>0.210427</td>\n",
       "      <td>-2.010511</td>\n",
       "      <td>1.742160</td>\n",
       "      <td>-0.787059</td>\n",
       "      <td>2017</td>\n",
       "    </tr>\n",
       "    <tr>\n",
       "      <th>97</th>\n",
       "      <td>-1.053679</td>\n",
       "      <td>2.432513</td>\n",
       "      <td>-0.835076</td>\n",
       "      <td>0.930417</td>\n",
       "      <td>-1.143516</td>\n",
       "      <td>-1.790666</td>\n",
       "      <td>1.553464</td>\n",
       "      <td>0.260836</td>\n",
       "      <td>1.047048</td>\n",
       "      <td>-1.463828</td>\n",
       "      <td>1.743747</td>\n",
       "      <td>-0.787059</td>\n",
       "      <td>2018</td>\n",
       "    </tr>\n",
       "    <tr>\n",
       "      <th>98</th>\n",
       "      <td>-1.014750</td>\n",
       "      <td>2.073803</td>\n",
       "      <td>-1.030209</td>\n",
       "      <td>0.873183</td>\n",
       "      <td>-0.951324</td>\n",
       "      <td>-1.998883</td>\n",
       "      <td>1.374370</td>\n",
       "      <td>0.185793</td>\n",
       "      <td>0.748059</td>\n",
       "      <td>-1.274391</td>\n",
       "      <td>1.838910</td>\n",
       "      <td>-0.787059</td>\n",
       "      <td>2019</td>\n",
       "    </tr>\n",
       "    <tr>\n",
       "      <th>99</th>\n",
       "      <td>-1.227788</td>\n",
       "      <td>2.996959</td>\n",
       "      <td>-1.316325</td>\n",
       "      <td>1.109362</td>\n",
       "      <td>-1.454014</td>\n",
       "      <td>-1.666610</td>\n",
       "      <td>1.739130</td>\n",
       "      <td>0.434709</td>\n",
       "      <td>1.465542</td>\n",
       "      <td>-0.540204</td>\n",
       "      <td>1.792570</td>\n",
       "      <td>-0.787059</td>\n",
       "      <td>2020</td>\n",
       "    </tr>\n",
       "  </tbody>\n",
       "</table>\n",
       "<p>100 rows × 13 columns</p>\n",
       "</div>"
      ],
      "text/plain": [
       "    acousticness  danceability  duration_ms    energy  instrumentalness  \\\n",
       "0       1.206593     -2.268729     1.303465 -1.372612          1.241416   \n",
       "1       1.395278     -1.050819    -2.424439 -1.335327          1.974278   \n",
       "2       1.463369      0.778558    -1.935347 -1.182517          1.461764   \n",
       "3       1.401148      0.251686    -1.421483 -0.673342          3.184595   \n",
       "4       1.482933      0.711808    -1.659106 -1.081931          1.843836   \n",
       "..           ...           ...          ...       ...               ...   \n",
       "95     -0.993316      1.217422    -0.231368  0.870891         -0.817217   \n",
       "96     -0.986279      1.448058    -0.634512  0.855765         -0.791730   \n",
       "97     -1.053679      2.432513    -0.835076  0.930417         -1.143516   \n",
       "98     -1.014750      2.073803    -1.030209  0.873183         -0.951324   \n",
       "99     -1.227788      2.996959    -1.316325  1.109362         -1.454014   \n",
       "\n",
       "    liveness  loudness  speechiness     tempo   valence  popularity       key  \\\n",
       "0  -0.141117 -1.643865    -0.394037 -2.567559 -2.656372   -1.297256 -0.504959   \n",
       "1   1.824215 -2.364442     0.132090 -2.682246  0.059618   -1.322135  1.751841   \n",
       "2   1.079979 -0.699070    -0.145779 -0.355409  1.623313   -1.067354 -1.069159   \n",
       "3   1.515427 -0.732122    -0.168531  0.828525  2.288008   -1.296883  1.751841   \n",
       "4   1.652901 -0.704637     0.074121 -0.087526  1.561357   -1.202546  0.341341   \n",
       "..       ...       ...          ...       ...       ...         ...       ...   \n",
       "95 -1.518719  1.264707    -0.018941  0.467444 -1.748761    1.566603 -1.069159   \n",
       "96 -0.926886  1.183293     0.057215  0.210427 -2.010511    1.742160 -0.787059   \n",
       "97 -1.790666  1.553464     0.260836  1.047048 -1.463828    1.743747 -0.787059   \n",
       "98 -1.998883  1.374370     0.185793  0.748059 -1.274391    1.838910 -0.787059   \n",
       "99 -1.666610  1.739130     0.434709  1.465542 -0.540204    1.792570 -0.787059   \n",
       "\n",
       "    year  \n",
       "0   1921  \n",
       "1   1922  \n",
       "2   1923  \n",
       "3   1924  \n",
       "4   1925  \n",
       "..   ...  \n",
       "95  2016  \n",
       "96  2017  \n",
       "97  2018  \n",
       "98  2019  \n",
       "99  2020  \n",
       "\n",
       "[100 rows x 13 columns]"
      ]
     },
     "execution_count": 51,
     "metadata": {},
     "output_type": "execute_result"
    }
   ],
   "source": [
    "graph_data"
   ]
  },
  {
   "cell_type": "code",
   "execution_count": 52,
   "metadata": {},
   "outputs": [
    {
     "data": {
      "text/plain": [
       "<AxesSubplot:xlabel='year'>"
      ]
     },
     "execution_count": 52,
     "metadata": {},
     "output_type": "execute_result"
    },
    {
     "data": {
      "image/png": "[encoded data removed]",
      "text/plain": [
       "<Figure size 720x720 with 1 Axes>"
      ]
     },
     "metadata": {},
     "output_type": "display_data"
    }
   ],
   "source": [
    "graph_data[[\"acousticness\",\"danceability\",\"energy\", \n",
    "         \"instrumentalness\", \"liveness\", \"valence\",\"year\"]].set_index('year').plot(kind='line',figsize=(10,10))"
   ]
  },
  {
   "cell_type": "markdown",
   "metadata": {},
   "source": [
    "comments: General EDA, not very useful in producing meaningful insight. Moving forward, I will explore more trends related to the problem satement"
   ]
  },
  {
   "cell_type": "markdown",
   "metadata": {},
   "source": [
    "## More Ideas for EDA\n",
    "\n",
    "- show how duration of music has shorten over time\n",
    "- show relation to popular music and short duration, indicative of our shortened attention span\n",
    "- show how prevalence of genre has affected our music taste\n",
    "- show how genre populartiy has changed"
   ]
  },
  {
   "cell_type": "markdown",
   "metadata": {},
   "source": [
    "### show how duration of music has shorten over time"
   ]
  },
  {
   "cell_type": "code",
   "execution_count": 53,
   "metadata": {},
   "outputs": [
    {
     "data": {
      "image/png": "[encoded data removed]",
      "text/plain": [
       "<Figure size 576x576 with 1 Axes>"
      ]
     },
     "metadata": {},
     "output_type": "display_data"
    }
   ],
   "source": [
    "#plot the duration of songs in minute across time\n",
    "plt.figure(figsize=(8,8))\n",
    "(data_by_year_df.groupby('year')['duration_ms'].mean()/60000).plot() #group data by year, take the average duration per year and plot\n",
    "plt.title('Duration of Music Decline Overtime')\n",
    "plt.savefig('../images/duration-of-music-decline-overtime.png');"
   ]
  },
  {
   "cell_type": "code",
   "execution_count": 54,
   "metadata": {},
   "outputs": [
    {
     "data": {
      "text/plain": [
       "year\n",
       "1921    4.342286\n",
       "1922    2.757829\n",
       "1923    2.965706\n",
       "1924    3.184112\n",
       "1925    3.083115\n",
       "          ...   \n",
       "2016    3.689942\n",
       "2017    3.518595\n",
       "2018    3.433350\n",
       "2019    3.350413\n",
       "2020    3.228807\n",
       "Name: duration_ms, Length: 100, dtype: float64"
      ]
     },
     "execution_count": 54,
     "metadata": {},
     "output_type": "execute_result"
    }
   ],
   "source": [
    "(data_by_year_df.groupby('year')['duration_ms'].mean()/60000)"
   ]
  },
  {
   "cell_type": "code",
   "execution_count": 55,
   "metadata": {},
   "outputs": [
    {
     "data": {
      "image/png": "[encoded data removed]",
      "text/plain": [
       "<Figure size 576x576 with 1 Axes>"
      ]
     },
     "metadata": {},
     "output_type": "display_data"
    }
   ],
   "source": [
    "#plot the duration of songs relationship with popularity\n",
    "plt.figure(figsize=(8,8))\n",
    "sns.scatterplot(data =(data_df.groupby('popularity')['duration_ms'].mean()/60000))\n",
    "plt.title('Music Gain Popularity as Song Duration Decrease')\n",
    "plt.ylabel('song duration (minutes)')\n",
    "plt.savefig('../images/more-popular-as-song-duration-decrease');"
   ]
  },
  {
   "cell_type": "markdown",
   "metadata": {},
   "source": [
    "shorter duration in songs shows that artist or incentivised to make shorter songs for more plays as they are paid per stream. Can also reflect music listener's shortened attentions span. \n",
    "\n",
    "Furthermore songs tend to be more popular, past the 50 mark, with shorter duration. "
   ]
  },
  {
   "cell_type": "code",
   "execution_count": 56,
   "metadata": {},
   "outputs": [
    {
     "data": {
      "image/png": "[encoded data removed]",
      "text/plain": [
       "<Figure size 576x576 with 1 Axes>"
      ]
     },
     "metadata": {},
     "output_type": "display_data"
    }
   ],
   "source": [
    "plt.figure(figsize=(8,8))\n",
    "data_by_year_df.groupby('year')['loudness'].mean().plot() #group data by year, take the average duration per year and plot\n",
    "plt.title('Loudness Increase Overtime')\n",
    "plt.savefig('../images/loudness-increase-overtime');"
   ]
  },
  {
   "cell_type": "markdown",
   "metadata": {},
   "source": [
    "\n",
    "-  Loudness, the inherent volume of the music itself, before any adjustments by the listener.\n",
    "- dynamic range becomes much more restricted. As in, the contrast between the really soft stuff, and the really loud stuff shrinks, so the overall emotional impact of the music is reduced."
   ]
  },
  {
   "cell_type": "code",
   "execution_count": 57,
   "metadata": {},
   "outputs": [
    {
     "data": {
      "text/plain": [
       "array([ 2, 10,  0,  5,  9,  7,  1])"
      ]
     },
     "execution_count": 57,
     "metadata": {},
     "output_type": "execute_result"
    }
   ],
   "source": [
    "data_by_year_df.key.unique()"
   ]
  },
  {
   "cell_type": "code",
   "execution_count": 58,
   "metadata": {},
   "outputs": [
    {
     "name": "stdout",
     "output_type": "stream",
     "text": [
      "<class 'pandas.core.frame.DataFrame'>\n",
      "Int64Index: 168388 entries, 1 to 170652\n",
      "Data columns (total 21 columns):\n",
      " #   Column            Non-Null Count   Dtype  \n",
      "---  ------            --------------   -----  \n",
      " 0   valence           168388 non-null  float64\n",
      " 1   year              168388 non-null  int64  \n",
      " 2   acousticness      168388 non-null  float64\n",
      " 3   artists           168388 non-null  object \n",
      " 4   danceability      168388 non-null  float64\n",
      " 5   duration_ms       168388 non-null  int64  \n",
      " 6   energy            168388 non-null  float64\n",
      " 7   explicit          168388 non-null  int64  \n",
      " 8   id                168388 non-null  object \n",
      " 9   instrumentalness  168388 non-null  float64\n",
      " 10  key               168388 non-null  int64  \n",
      " 11  liveness          168388 non-null  float64\n",
      " 12  loudness          168388 non-null  float64\n",
      " 13  mode              168388 non-null  int64  \n",
      " 14  name              168388 non-null  object \n",
      " 15  popularity        168388 non-null  int64  \n",
      " 16  release_date      168388 non-null  object \n",
      " 17  speechiness       168388 non-null  float64\n",
      " 18  tempo             168388 non-null  float64\n",
      " 19  main_artist       168388 non-null  object \n",
      " 20  feat_artist       168388 non-null  object \n",
      "dtypes: float64(9), int64(6), object(6)\n",
      "memory usage: 33.3+ MB\n"
     ]
    }
   ],
   "source": [
    "data_df.info()"
   ]
  },
  {
   "cell_type": "code",
   "execution_count": 59,
   "metadata": {},
   "outputs": [],
   "source": [
    "#convert key data into string \n",
    "data_df.key = data_df.key.apply(lambda x: str(x))"
   ]
  },
  {
   "cell_type": "code",
   "execution_count": 60,
   "metadata": {},
   "outputs": [
    {
     "data": {
      "text/plain": [
       "year\n",
       "1921    [7, 3, 5, 2, 0, 1, 8, 9, 10, 4, 11, 6]\n",
       "1922    [0, 1, 7, 4, 6, 2, 5, 8, 10, 11, 9, 3]\n",
       "1923    [8, 4, 3, 0, 5, 10, 2, 7, 9, 1, 11, 6]\n",
       "1924    [2, 3, 8, 0, 10, 7, 5, 11, 9, 1, 6, 4]\n",
       "1925    [3, 8, 5, 9, 0, 2, 7, 10, 11, 6, 1, 4]\n",
       "                         ...                  \n",
       "2016    [6, 8, 0, 10, 1, 5, 7, 9, 4, 3, 11, 2]\n",
       "2017    [0, 8, 7, 11, 9, 6, 10, 5, 1, 4, 3, 2]\n",
       "2018    [0, 6, 3, 4, 7, 11, 8, 2, 1, 10, 5, 9]\n",
       "2019    [0, 2, 10, 8, 1, 7, 5, 4, 6, 11, 3, 9]\n",
       "2020    [7, 6, 1, 0, 4, 10, 9, 5, 11, 8, 2, 3]\n",
       "Name: key, Length: 100, dtype: object"
      ]
     },
     "execution_count": 60,
     "metadata": {},
     "output_type": "execute_result"
    }
   ],
   "source": [
    "data_df.groupby('year')['key'].unique()"
   ]
  },
  {
   "cell_type": "code",
   "execution_count": 61,
   "metadata": {},
   "outputs": [
    {
     "data": {
      "text/plain": [
       "1     0.138492\n",
       "0     0.104978\n",
       "7     0.102021\n",
       "11    0.099556\n",
       "5     0.092656\n",
       "2     0.082307\n",
       "6     0.081321\n",
       "10    0.072942\n",
       "8     0.072449\n",
       "9     0.069492\n",
       "4     0.062592\n",
       "3     0.021193\n",
       "Name: key, dtype: float64"
      ]
     },
     "execution_count": 61,
     "metadata": {},
     "output_type": "execute_result"
    }
   ],
   "source": [
    "#show value count of keys in proportion to overall count for spread of data\n",
    "data_df[data_df['year'] == 2020]['key'].value_counts(normalize =True)"
   ]
  },
  {
   "cell_type": "code",
   "execution_count": 62,
   "metadata": {},
   "outputs": [],
   "source": [
    "sample = data_df[data_df['year'] == 2020]['key'].value_counts(normalize =True)"
   ]
  },
  {
   "cell_type": "code",
   "execution_count": 63,
   "metadata": {},
   "outputs": [
    {
     "data": {
      "text/plain": [
       "12"
      ]
     },
     "execution_count": 63,
     "metadata": {},
     "output_type": "execute_result"
    }
   ],
   "source": [
    "len(sample)"
   ]
  },
  {
   "cell_type": "code",
   "execution_count": 64,
   "metadata": {},
   "outputs": [
    {
     "data": {
      "text/plain": [
       "0.0008113660817882333"
      ]
     },
     "execution_count": 64,
     "metadata": {},
     "output_type": "execute_result"
    }
   ],
   "source": [
    "#calculate the variance to return a single value\n",
    "((sample - sample.mean())**2).sum()/(len(sample)-1)"
   ]
  },
  {
   "cell_type": "code",
   "execution_count": 65,
   "metadata": {},
   "outputs": [],
   "source": [
    "#test for a different year\n",
    "sample2 = data_df[data_df['year'] == 2005]['key'].value_counts(normalize =True)"
   ]
  },
  {
   "cell_type": "code",
   "execution_count": 66,
   "metadata": {},
   "outputs": [
    {
     "data": {
      "text/plain": [
       "0.0006302481939649493"
      ]
     },
     "execution_count": 66,
     "metadata": {},
     "output_type": "execute_result"
    }
   ],
   "source": [
    "((sample2 - sample2.mean())**2).sum()/(len(sample2)-1)"
   ]
  },
  {
   "cell_type": "code",
   "execution_count": 67,
   "metadata": {},
   "outputs": [],
   "source": [
    "#list of variance per year\n",
    "variance = []\n",
    "\n",
    "for year in data_df.year.unique():\n",
    "    #create normalized value count\n",
    "    normal_data = data_df[data_df['year'] == year]['key'].value_counts(normalize =True)\n",
    "    # calculate variance\n",
    "    variance_val = ((normal_data - normal_data.mean())**2).sum()/(len(normal_data)-1)\n",
    "    #append cariance to list\n",
    "    variance.append(variance_val)\n",
    "        "
   ]
  },
  {
   "cell_type": "code",
   "execution_count": 68,
   "metadata": {},
   "outputs": [
    {
     "data": {
      "image/png": "[encoded data removed]",
      "text/plain": [
       "<Figure size 576x576 with 1 Axes>"
      ]
     },
     "metadata": {},
     "output_type": "display_data"
    }
   ],
   "source": [
    "plt.figure(figsize=(8,8))\n",
    "plt.title('Variance of Music (key) Decreaseing Over Time')\n",
    "sns.lineplot(y=variance, x=data_df.year.unique())\n",
    "plt.savefig('../images/variance-of-music-decreasing-over-time');"
   ]
  },
  {
   "cell_type": "markdown",
   "metadata": {},
   "source": [
    "Key or pitch includ details about harmony, melody, chords, and progressions – essentially how the notes were arranged and unfolded over the course of the song.\n",
    "\n",
    "Data suggested that the variety of pitch progressions used has shrunk over the years. In other words, musicians are becoming less inventive and adventurous in how they get from one note or chord to the next, and instead seem to be relying more and more on the same sequences and patterns that others have used successfully in the past."
   ]
  },
  {
   "cell_type": "markdown",
   "metadata": {},
   "source": [
    "### summary of EDA thus far\n",
    "\n",
    "#### music becoming more cookie cutter\n",
    "\n",
    "-  pitch\n",
    "    - the data suggested that the variety of pitch progressions used has shrunk over the years\n",
    "    \n",
    "\n",
    "- music getting louder \n",
    "    - everything is getting louder. Which might not seem like a big deal (just turn down the volume knob, right?), until you start to notice that when everything is louder, the dynamic range becomes much more restricted. As in, the contrast between the really soft stuff, and the really loud stuff shrinks, so the overall emotional impact of the music is reduced. "
   ]
  },
  {
   "cell_type": "markdown",
   "metadata": {},
   "source": [
    "## Clustering Songs Together"
   ]
  },
  {
   "cell_type": "markdown",
   "metadata": {},
   "source": [
    "One of the limitations of content based recommendations, as with others, that it is still known to create a filter bubble. However because the content we are recommending is music based on just audio features, there is still a possibility for recommendations to not be the same genre, epoch or language.\n",
    "\n",
    "How we can prove this is by clustering the song data. "
   ]
  },
  {
   "cell_type": "markdown",
   "metadata": {},
   "source": [
    "### Visualise Songs"
   ]
  },
  {
   "cell_type": "code",
   "execution_count": 69,
   "metadata": {},
   "outputs": [],
   "source": [
    "#create subset of data for illustrative and clustering purposes\n",
    "cluster_df = data_df.sample(20000, random_state=42)\n",
    "\n",
    "#scale data\n",
    "def scaler(data):\n",
    "    ss = StandardScaler()\n",
    "    return ss.fit_transform(data)\n",
    "\n",
    "cluster_df_scaled = scaler(cluster_df.drop(columns = ['year','id','popularity','explicit','main_artist','feat_artist','release_date','name','artists']))"
   ]
  },
  {
   "cell_type": "markdown",
   "metadata": {},
   "source": [
    "What is tsne? \n",
    "\n",
    "Use to understand high-dimensional data and project it into low-dimensional space (2D).\n",
    "\n",
    "Can be used in CNN."
   ]
  },
  {
   "cell_type": "code",
   "execution_count": 70,
   "metadata": {},
   "outputs": [
    {
     "data": {
      "image/png": "[encoded data removed]",
      "text/plain": [
       "<Figure size 432x288 with 1 Axes>"
      ]
     },
     "metadata": {},
     "output_type": "display_data"
    }
   ],
   "source": [
    "# initiate the model\n",
    "tsne = TSNE(learning_rate= 100, perplexity = 100)\n",
    "\n",
    "# fit the model an transform the data\n",
    "cluster_tsne = tsne.fit_transform(cluster_df_scaled)\n",
    "\n",
    "# plot tsne results\n",
    "plt.scatter(cluster_tsne[:,0], cluster_tsne[:,1])\n",
    "plt.show()"
   ]
  },
  {
   "cell_type": "markdown",
   "metadata": {},
   "source": [
    "Looks like there are definitely some clusters. I also expect KMeans to perform better than DBSCAN based on the globular shape of the t-SNE results."
   ]
  },
  {
   "cell_type": "markdown",
   "metadata": {},
   "source": [
    "### Finding optimal K using elbow method"
   ]
  },
  {
   "cell_type": "markdown",
   "metadata": {},
   "source": [
    "Kmeans algorithm is an iterative algorithm that tries to partition the dataset into Kpre-defined distinct non-overlapping subgroups (clusters) where each data point belongs to only one group. It tries to make the intra-cluster data points as similar as possible while also keeping the clusters as different (far) as possible"
   ]
  },
  {
   "cell_type": "code",
   "execution_count": 71,
   "metadata": {},
   "outputs": [],
   "source": [
    "\n",
    "K = range(1,21)\n",
    "distortion = [] #the sum of square error for each data point to their nearest cluster centre\n",
    "# using for loop\n",
    "for k in K:\n",
    "    inertia = KMeans(n_clusters=k).fit(cluster_df_scaled).inertia_\n",
    "    distortion.append(inertia)\n",
    "\n"
   ]
  },
  {
   "cell_type": "code",
   "execution_count": 72,
   "metadata": {},
   "outputs": [
    {
     "data": {
      "image/png": "[encoded data removed]",
      "text/plain": [
       "<Figure size 864x576 with 1 Axes>"
      ]
     },
     "metadata": {},
     "output_type": "display_data"
    }
   ],
   "source": [
    "#plot for distortion against k range 50 to select best K\n",
    "plt.figure(figsize = (12,8))\n",
    "plt.plot(K, distortion,'bx-')\n",
    "plt.savefig('../images/elbow-method');"
   ]
  },
  {
   "cell_type": "markdown",
   "metadata": {},
   "source": [
    "We see that the elbow is at K =13, where the distortion/inertia start decreasing in a linear fashion. Thus for the given data, we conclude that the optimal number of clusters for the data is 13."
   ]
  },
  {
   "cell_type": "code",
   "execution_count": 73,
   "metadata": {},
   "outputs": [],
   "source": [
    "#reasign kmean's prediction\n",
    "km_model = KMeans(n_clusters=13,random_state=42).fit(cluster_df_scaled)\n",
    "grouped_genre = km_model.predict(cluster_df_scaled)"
   ]
  },
  {
   "cell_type": "code",
   "execution_count": 74,
   "metadata": {},
   "outputs": [
    {
     "data": {
      "text/plain": [
       "0.1251970863499035"
      ]
     },
     "execution_count": 74,
     "metadata": {},
     "output_type": "execute_result"
    }
   ],
   "source": [
    "silhouette_score(cluster_df_scaled, km_model.labels_)"
   ]
  },
  {
   "cell_type": "code",
   "execution_count": 75,
   "metadata": {},
   "outputs": [],
   "source": [
    "cluster_df['km_grouped_genre'] = grouped_genre"
   ]
  },
  {
   "cell_type": "markdown",
   "metadata": {},
   "source": [
    "Now that we have clustered a sample of our songs, I would like to if see how an artist like Johann Sebastian Bach, a renown classical composer, would be clustered in just more than 1 cluster."
   ]
  },
  {
   "cell_type": "code",
   "execution_count": 76,
   "metadata": {},
   "outputs": [
    {
     "data": {
      "image/png": "[encoded data removed]",
      "text/plain": [
       "<Figure size 432x288 with 1 Axes>"
      ]
     },
     "metadata": {},
     "output_type": "display_data"
    }
   ],
   "source": [
    "bach = cluster_df[cluster_df.main_artist == \"Johann Sebastian Bach\"].groupby('km_grouped_genre').count().reset_index()\n",
    "\n",
    "# plot results\n",
    "plot = plt.bar(bach[\"km_grouped_genre\"].unique(), bach[\"name\"])\n",
    "plt.xlabel('K-Means Cluster')\n",
    "plt.ylabel('Frequency')\n",
    "plt.show()\n"
   ]
  },
  {
   "cell_type": "markdown",
   "metadata": {},
   "source": [
    "We can observe a clear tendency of his music towards cluster 7 and 12, and less in other cluster. However this still higlights that by recommending solely of audio features,  The boundaries of music are fluid, and songs from different genres would be neighbours in a given feature space. "
   ]
  },
  {
   "cell_type": "code",
   "execution_count": 149,
   "metadata": {},
   "outputs": [],
   "source": [
    "data_df.to_csv('../data/spotify_songs_1922/cleaned_data.csv', index = False)"
   ]
  },
  {
   "cell_type": "markdown",
   "metadata": {},
   "source": [
    "## Recommendations\n",
    "\n",
    "Implicit\n",
    "- or get implicit feedback on the number times a user skips recommended suggestion (not the most accurate as clicks can happen by accident)\n",
    "- what is the ratio of songs added to the playlist against suggested\n",
    "- the duration of the song you listen to\n",
    "- how often the song is repeated provided its added into the playlist\n",
    "\n",
    "\n",
    "Explicit\n",
    "- have the user for explicit feedback whether they like the recommendation (perceived quality)"
   ]
  }
 ],
 "metadata": {
  "kernelspec": {
   "display_name": "Python 3",
   "language": "python",
   "name": "python3"
  },
  "language_info": {
   "codemirror_mode": {
    "name": "ipython",
    "version": 3
   },
   "file_extension": ".py",
   "mimetype": "text/x-python",
   "name": "python",
   "nbconvert_exporter": "python",
   "pygments_lexer": "ipython3",
   "version": "3.8.5"
  }
 },
 "nbformat": 4,
 "nbformat_minor": 4
}
