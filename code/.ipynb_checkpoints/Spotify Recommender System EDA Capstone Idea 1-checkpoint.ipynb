{
 "cells": [
  {
   "cell_type": "markdown",
   "metadata": {},
   "source": [
    "## Problem Statement"
   ]
  },
  {
   "cell_type": "markdown",
   "metadata": {},
   "source": [
    "When engaging with content in our model world, corporations use recommender system to suggest future content we might like based on the attributes of the content. Be it movies or books that we may be interested in with the goal of keeping customer interested andf However this may cause an echo chamber effect.\n",
    "\n",
    "An extreme example of an echo chamber caused by recommender system is youtube's algorithm suggesting alt-right content which may lead to an individual developing extremist views. And this a problem of overtraining, because what is recommended is based on the data that is inputed to the system. \n",
    "\n",
    "Spotify uses a common method for producing recommendations known as collaborative filtering which generates recommendations based on the combined preferences of the consumer requesting recommendations and those of other consumers. The underlying issue with this method is that song recommendations are based on the 'crowd'.\n",
    "\n",
    "Furthermore, as the business model of Spotify is built in a way where artists are compensated by number of streams, the homegenization of new music become more prevalent. Such as making songs more catchier and shorter. \n",
    "\n",
    "The recommender system I would like to propose is for users to be recommended songs based on the 'DNA' of the music they have been listening to with the goal of potentially exposing the listener to songs form different genres and epochs. This would broaden the horizon of music listeners and also bring attention to artists that create music as an artform as opposed to achieving the highest streaming numbers. "
   ]
  },
  {
   "cell_type": "markdown",
   "metadata": {},
   "source": [
    "## Import Libraries"
   ]
  },
  {
   "cell_type": "code",
   "execution_count": 158,
   "metadata": {},
   "outputs": [],
   "source": [
    "import pandas as pd\n",
    "import numpy as np\n",
    "import matplotlib.pyplot as plt\n",
    "import seaborn as sns\n",
    "import datetime\n",
    "\n",
    "from sklearn.preprocessing import StandardScaler\n",
    "from sklearn.cluster import KMeans\n",
    "from sklearn.pipeline import Pipeline\n",
    "\n",
    "plt.style.use('fivethirtyeight')"
   ]
  },
  {
   "cell_type": "markdown",
   "metadata": {},
   "source": [
    "# Datasets for Artist information (from Spotify Songs Kaggle dataset)"
   ]
  },
  {
   "cell_type": "code",
   "execution_count": 2,
   "metadata": {},
   "outputs": [],
   "source": [
    "artist_df = pd.read_csv('../Capstone/data/spotify_songs_1922/artists.csv')\n",
    "data_by_artist_df = pd.read_csv('../Capstone/data/spotify_songs_1922/data_by_artist_o.csv')\n",
    "tracks_df = pd.read_csv('../Capstone/data/spotify_songs_1922/tracks.csv')\n",
    "data_df = pd.read_csv('../Capstone/data/spotify_songs_1922/data_o.csv')\n",
    "data_by_year_df = pd.read_csv('../Capstone/data/spotify_songs_1922/data_by_year_o.csv')\n",
    "data_by_genres_df = pd.read_csv('../Capstone/data/spotify_songs_1922/data_by_genres_o.csv')"
   ]
  },
  {
   "cell_type": "markdown",
   "metadata": {},
   "source": [
    "## Decisions Moving Forward\n",
    "- Using non explicit songs as there are more \n",
    "- consider making a decade categorical feature\n",
    "- clustering genres together as genres are are not generalised\n"
   ]
  },
  {
   "cell_type": "markdown",
   "metadata": {},
   "source": [
    "## Modelling:\n",
    "\n",
    "### Feature Engineering\n",
    "\n",
    "- using K-means(or other clustering techniques) to cluster genre together \n",
    "- should also look into other clustering methods\n",
    "\n",
    "### Diferent types of Feature Selection/Extraction\n",
    "\n",
    "- Using SVD (Singular Vector Decompostion) \"Matrix Decomposition\"\n",
    "- Using PCA to select the most important variables\n",
    "\n",
    "### Metrics\n",
    "\n",
    "- Unsure if the metric is subject to the listener\n",
    "\n",
    "\n",
    "### Building the Recommender System\n",
    "- Naive and non personalised way by recreating the Collab Filtering as a baseline\n",
    "- using distance to build a recommender system via clustered genres\n",
    "- Using CNN as a recommender system\n",
    "    - emulating this research paper https://www.sciencedirect.com/science/article/pii/S1877050919310646/pdf?md5=4f9a5242eb223b5c96c9ebf130855467&pid=1-s2.0-S1877050919310646-main.pd"
   ]
  },
  {
   "cell_type": "markdown",
   "metadata": {},
   "source": [
    "### Potential Limitations and Considerations\n",
    "\n",
    " - do i need to use the million dataset as i need a rating system to work on?\n",
    "     - current spotify dataset may not have enough features\n",
    "     - Source of dataset: http://millionsongdataset.com/\n",
    "     - This article uses it https://towardsdatascience.com/how-to-build-a-simple-song-recommender-296fcbc8c85\n",
    "    \n",
    "     \n",
    "     \n",
    " - Show why Collab filtering is not ideal due to the the cold start problem, also suggesting niche recommendation, requires reference from what may be a scare dataset. Generally why collab filtering would create an echo chamber because popularity of the music can be affected exogenous factors such as hype around the artist, your social group and so on. \n",
    " \n",
    " "
   ]
  },
  {
   "cell_type": "markdown",
   "metadata": {},
   "source": [
    "#### helpful research links\n",
    "\n",
    "- https://www.nytimes.com/2009/10/18/magazine/18Pandora-t.html\n",
    "- https://towardsdatascience.com/4-ways-to-supercharge-your-recommendation-system-aeac34678ce9\n",
    "- https://soundcharts.com/blog/music-industry-trends#the-democratization-of-music-creation"
   ]
  },
  {
   "cell_type": "markdown",
   "metadata": {},
   "source": [
    "## Datasets Description"
   ]
  },
  {
   "cell_type": "markdown",
   "metadata": {},
   "source": [
    "#### artist_df\n",
    "- shows popularity (good to show in EDA)\n",
    "- shows number of followers\n",
    "- shows genre\n",
    "\n",
    "#### data_by_artist_df\n",
    "- 28680 artists\n",
    " - gives average of metadeta. \n",
    " - Think of as the music DNA of the artist\n",
    " - Also provides the genre of the artist.\n",
    " \n",
    "#### tracks_df (songs)\n",
    "- 586672 songs\n",
    "- do I want explicit tracks only? would non explicit be repeats? explicit seem to do worse\n",
    "- Does not have genre IMPORTANT\n",
    "- has repeats of the same song with the same specs, possibly rereleased. e.g Best I Ever Had Drake\n",
    "- Only use unexplicit data to have as much data as possible\n",
    "\n",
    "#### data_df (songs)\n",
    "- 170653 songs\n",
    "- has year in the dataset (good to show EDA)\n",
    "- does not have genre\n",
    "- Find out what is time signature\n",
    "- find out why 'Ashnikko' artist has two songs with the same name but different pop score\n",
    "- has release dates (good to show EDA)\n",
    "\n",
    "#### data_by_year\n",
    "- show trend of how music has evolved over the years\n",
    "- plot graph\n",
    "\n",
    "#### graph df\n",
    "- scaled data_by_year with respective year\n",
    "\n"
   ]
  },
  {
   "cell_type": "markdown",
   "metadata": {},
   "source": [
    "## Exploratory Data Analysis"
   ]
  },
  {
   "cell_type": "code",
   "execution_count": 3,
   "metadata": {},
   "outputs": [
    {
     "name": "stdout",
     "output_type": "stream",
     "text": [
      "<class 'pandas.core.frame.DataFrame'>\n",
      "RangeIndex: 586672 entries, 0 to 586671\n",
      "Data columns (total 20 columns):\n",
      " #   Column            Non-Null Count   Dtype  \n",
      "---  ------            --------------   -----  \n",
      " 0   id                586672 non-null  object \n",
      " 1   name              586601 non-null  object \n",
      " 2   popularity        586672 non-null  int64  \n",
      " 3   duration_ms       586672 non-null  int64  \n",
      " 4   explicit          586672 non-null  int64  \n",
      " 5   artists           586672 non-null  object \n",
      " 6   id_artists        586672 non-null  object \n",
      " 7   release_date      586672 non-null  object \n",
      " 8   danceability      586672 non-null  float64\n",
      " 9   energy            586672 non-null  float64\n",
      " 10  key               586672 non-null  int64  \n",
      " 11  loudness          586672 non-null  float64\n",
      " 12  mode              586672 non-null  int64  \n",
      " 13  speechiness       586672 non-null  float64\n",
      " 14  acousticness      586672 non-null  float64\n",
      " 15  instrumentalness  586672 non-null  float64\n",
      " 16  liveness          586672 non-null  float64\n",
      " 17  valence           586672 non-null  float64\n",
      " 18  tempo             586672 non-null  float64\n",
      " 19  time_signature    586672 non-null  int64  \n",
      "dtypes: float64(9), int64(6), object(5)\n",
      "memory usage: 89.5+ MB\n"
     ]
    }
   ],
   "source": [
    "tracks_df.info()"
   ]
  },
  {
   "cell_type": "code",
   "execution_count": 7,
   "metadata": {},
   "outputs": [
    {
     "data": {
      "text/plain": [
       "144481    100\n",
       "126338     98\n",
       "313676     98\n",
       "115489     98\n",
       "144484     96\n",
       "         ... \n",
       "619749      0\n",
       "619748      0\n",
       "619747      0\n",
       "619746      0\n",
       "0           0\n",
       "Name: popularity, Length: 1104349, dtype: int64"
      ]
     },
     "execution_count": 7,
     "metadata": {},
     "output_type": "execute_result"
    }
   ],
   "source": [
    "artist_df.popularity.sort_values(ascending=False)"
   ]
  },
  {
   "cell_type": "code",
   "execution_count": 8,
   "metadata": {},
   "outputs": [
    {
     "data": {
      "text/plain": [
       "id                              1uNFoZAHBGtllmzznpCI3s\n",
       "followers                                   4.4607e+07\n",
       "genres        ['canadian pop', 'pop', 'post-teen pop']\n",
       "name                                     Justin Bieber\n",
       "popularity                                         100\n",
       "Name: 144481, dtype: object"
      ]
     },
     "execution_count": 8,
     "metadata": {},
     "output_type": "execute_result"
    }
   ],
   "source": [
    "artist_df.iloc[144481,:]"
   ]
  },
  {
   "cell_type": "markdown",
   "metadata": {},
   "source": [
    "comment: Justin Bieber is the most popular artist"
   ]
  },
  {
   "cell_type": "code",
   "execution_count": 9,
   "metadata": {},
   "outputs": [
    {
     "name": "stdout",
     "output_type": "stream",
     "text": [
      "<class 'pandas.core.frame.DataFrame'>\n",
      "RangeIndex: 1104349 entries, 0 to 1104348\n",
      "Data columns (total 5 columns):\n",
      " #   Column      Non-Null Count    Dtype  \n",
      "---  ------      --------------    -----  \n",
      " 0   id          1104349 non-null  object \n",
      " 1   followers   1104336 non-null  float64\n",
      " 2   genres      1104349 non-null  object \n",
      " 3   name        1104349 non-null  object \n",
      " 4   popularity  1104349 non-null  int64  \n",
      "dtypes: float64(1), int64(1), object(3)\n",
      "memory usage: 42.1+ MB\n"
     ]
    }
   ],
   "source": [
    "artist_df.info()"
   ]
  },
  {
   "cell_type": "code",
   "execution_count": 10,
   "metadata": {},
   "outputs": [
    {
     "data": {
      "text/plain": [
       "(170653, 19)"
      ]
     },
     "execution_count": 10,
     "metadata": {},
     "output_type": "execute_result"
    }
   ],
   "source": [
    "data_df.shape"
   ]
  },
  {
   "cell_type": "code",
   "execution_count": 201,
   "metadata": {},
   "outputs": [
    {
     "data": {
      "text/html": [
       "<div>\n",
       "<style scoped>\n",
       "    .dataframe tbody tr th:only-of-type {\n",
       "        vertical-align: middle;\n",
       "    }\n",
       "\n",
       "    .dataframe tbody tr th {\n",
       "        vertical-align: top;\n",
       "    }\n",
       "\n",
       "    .dataframe thead th {\n",
       "        text-align: right;\n",
       "    }\n",
       "</style>\n",
       "<table border=\"1\" class=\"dataframe\">\n",
       "  <thead>\n",
       "    <tr style=\"text-align: right;\">\n",
       "      <th></th>\n",
       "      <th>valence</th>\n",
       "      <th>year</th>\n",
       "      <th>acousticness</th>\n",
       "      <th>artists</th>\n",
       "      <th>danceability</th>\n",
       "      <th>duration_ms</th>\n",
       "      <th>energy</th>\n",
       "      <th>explicit</th>\n",
       "      <th>id</th>\n",
       "      <th>instrumentalness</th>\n",
       "      <th>key</th>\n",
       "      <th>liveness</th>\n",
       "      <th>loudness</th>\n",
       "      <th>mode</th>\n",
       "      <th>name</th>\n",
       "      <th>popularity</th>\n",
       "      <th>release_date</th>\n",
       "      <th>speechiness</th>\n",
       "      <th>tempo</th>\n",
       "      <th>month</th>\n",
       "    </tr>\n",
       "  </thead>\n",
       "  <tbody>\n",
       "    <tr>\n",
       "      <th>0</th>\n",
       "      <td>0.0594</td>\n",
       "      <td>1921</td>\n",
       "      <td>0.982</td>\n",
       "      <td>['Sergei Rachmaninoff', 'James Levine', 'Berli...</td>\n",
       "      <td>0.279</td>\n",
       "      <td>831667</td>\n",
       "      <td>0.211</td>\n",
       "      <td>0</td>\n",
       "      <td>4BJqT0PrAfrxzMOxytFOIz</td>\n",
       "      <td>0.878000</td>\n",
       "      <td>10</td>\n",
       "      <td>0.665</td>\n",
       "      <td>-20.096</td>\n",
       "      <td>1</td>\n",
       "      <td>Piano Concerto No. 3 in D Minor, Op. 30: III. ...</td>\n",
       "      <td>4</td>\n",
       "      <td>1921</td>\n",
       "      <td>0.0366</td>\n",
       "      <td>80.954</td>\n",
       "      <td>NaN</td>\n",
       "    </tr>\n",
       "    <tr>\n",
       "      <th>1</th>\n",
       "      <td>0.9630</td>\n",
       "      <td>1921</td>\n",
       "      <td>0.732</td>\n",
       "      <td>['Dennis Day']</td>\n",
       "      <td>0.819</td>\n",
       "      <td>180533</td>\n",
       "      <td>0.341</td>\n",
       "      <td>0</td>\n",
       "      <td>7xPhfUan2yNtyFG0cUWkt8</td>\n",
       "      <td>0.000000</td>\n",
       "      <td>7</td>\n",
       "      <td>0.160</td>\n",
       "      <td>-12.441</td>\n",
       "      <td>1</td>\n",
       "      <td>Clancy Lowered the Boom</td>\n",
       "      <td>5</td>\n",
       "      <td>1921</td>\n",
       "      <td>0.4150</td>\n",
       "      <td>60.936</td>\n",
       "      <td>NaN</td>\n",
       "    </tr>\n",
       "    <tr>\n",
       "      <th>2</th>\n",
       "      <td>0.0394</td>\n",
       "      <td>1921</td>\n",
       "      <td>0.961</td>\n",
       "      <td>['KHP Kridhamardawa Karaton Ngayogyakarta Hadi...</td>\n",
       "      <td>0.328</td>\n",
       "      <td>500062</td>\n",
       "      <td>0.166</td>\n",
       "      <td>0</td>\n",
       "      <td>1o6I8BglA6ylDMrIELygv1</td>\n",
       "      <td>0.913000</td>\n",
       "      <td>3</td>\n",
       "      <td>0.101</td>\n",
       "      <td>-14.850</td>\n",
       "      <td>1</td>\n",
       "      <td>Gati Bali</td>\n",
       "      <td>5</td>\n",
       "      <td>1921</td>\n",
       "      <td>0.0339</td>\n",
       "      <td>110.339</td>\n",
       "      <td>NaN</td>\n",
       "    </tr>\n",
       "    <tr>\n",
       "      <th>3</th>\n",
       "      <td>0.1650</td>\n",
       "      <td>1921</td>\n",
       "      <td>0.967</td>\n",
       "      <td>['Frank Parker']</td>\n",
       "      <td>0.275</td>\n",
       "      <td>210000</td>\n",
       "      <td>0.309</td>\n",
       "      <td>0</td>\n",
       "      <td>3ftBPsC5vPBKxYSee08FDH</td>\n",
       "      <td>0.000028</td>\n",
       "      <td>5</td>\n",
       "      <td>0.381</td>\n",
       "      <td>-9.316</td>\n",
       "      <td>1</td>\n",
       "      <td>Danny Boy</td>\n",
       "      <td>3</td>\n",
       "      <td>1921</td>\n",
       "      <td>0.0354</td>\n",
       "      <td>100.109</td>\n",
       "      <td>NaN</td>\n",
       "    </tr>\n",
       "    <tr>\n",
       "      <th>4</th>\n",
       "      <td>0.2530</td>\n",
       "      <td>1921</td>\n",
       "      <td>0.957</td>\n",
       "      <td>['Phil Regan']</td>\n",
       "      <td>0.418</td>\n",
       "      <td>166693</td>\n",
       "      <td>0.193</td>\n",
       "      <td>0</td>\n",
       "      <td>4d6HGyGT8e121BsdKmw9v6</td>\n",
       "      <td>0.000002</td>\n",
       "      <td>3</td>\n",
       "      <td>0.229</td>\n",
       "      <td>-10.096</td>\n",
       "      <td>1</td>\n",
       "      <td>When Irish Eyes Are Smiling</td>\n",
       "      <td>2</td>\n",
       "      <td>1921</td>\n",
       "      <td>0.0380</td>\n",
       "      <td>101.665</td>\n",
       "      <td>NaN</td>\n",
       "    </tr>\n",
       "  </tbody>\n",
       "</table>\n",
       "</div>"
      ],
      "text/plain": [
       "   valence  year  acousticness  \\\n",
       "0   0.0594  1921         0.982   \n",
       "1   0.9630  1921         0.732   \n",
       "2   0.0394  1921         0.961   \n",
       "3   0.1650  1921         0.967   \n",
       "4   0.2530  1921         0.957   \n",
       "\n",
       "                                             artists  danceability  \\\n",
       "0  ['Sergei Rachmaninoff', 'James Levine', 'Berli...         0.279   \n",
       "1                                     ['Dennis Day']         0.819   \n",
       "2  ['KHP Kridhamardawa Karaton Ngayogyakarta Hadi...         0.328   \n",
       "3                                   ['Frank Parker']         0.275   \n",
       "4                                     ['Phil Regan']         0.418   \n",
       "\n",
       "   duration_ms  energy  explicit                      id  instrumentalness  \\\n",
       "0       831667   0.211         0  4BJqT0PrAfrxzMOxytFOIz          0.878000   \n",
       "1       180533   0.341         0  7xPhfUan2yNtyFG0cUWkt8          0.000000   \n",
       "2       500062   0.166         0  1o6I8BglA6ylDMrIELygv1          0.913000   \n",
       "3       210000   0.309         0  3ftBPsC5vPBKxYSee08FDH          0.000028   \n",
       "4       166693   0.193         0  4d6HGyGT8e121BsdKmw9v6          0.000002   \n",
       "\n",
       "  key  liveness  loudness  mode  \\\n",
       "0  10     0.665   -20.096     1   \n",
       "1   7     0.160   -12.441     1   \n",
       "2   3     0.101   -14.850     1   \n",
       "3   5     0.381    -9.316     1   \n",
       "4   3     0.229   -10.096     1   \n",
       "\n",
       "                                                name  popularity release_date  \\\n",
       "0  Piano Concerto No. 3 in D Minor, Op. 30: III. ...           4         1921   \n",
       "1                            Clancy Lowered the Boom           5         1921   \n",
       "2                                          Gati Bali           5         1921   \n",
       "3                                          Danny Boy           3         1921   \n",
       "4                        When Irish Eyes Are Smiling           2         1921   \n",
       "\n",
       "   speechiness    tempo month  \n",
       "0       0.0366   80.954   NaN  \n",
       "1       0.4150   60.936   NaN  \n",
       "2       0.0339  110.339   NaN  \n",
       "3       0.0354  100.109   NaN  \n",
       "4       0.0380  101.665   NaN  "
      ]
     },
     "execution_count": 201,
     "metadata": {},
     "output_type": "execute_result"
    }
   ],
   "source": [
    "data_df.head()"
   ]
  },
  {
   "cell_type": "code",
   "execution_count": 12,
   "metadata": {},
   "outputs": [
    {
     "data": {
      "text/plain": [
       "(586672, 20)"
      ]
     },
     "execution_count": 12,
     "metadata": {},
     "output_type": "execute_result"
    }
   ],
   "source": [
    "tracks_df.shape"
   ]
  },
  {
   "cell_type": "code",
   "execution_count": 13,
   "metadata": {},
   "outputs": [
    {
     "name": "stdout",
     "output_type": "stream",
     "text": [
      "<class 'pandas.core.frame.DataFrame'>\n",
      "RangeIndex: 586672 entries, 0 to 586671\n",
      "Data columns (total 20 columns):\n",
      " #   Column            Non-Null Count   Dtype  \n",
      "---  ------            --------------   -----  \n",
      " 0   id                586672 non-null  object \n",
      " 1   name              586601 non-null  object \n",
      " 2   popularity        586672 non-null  int64  \n",
      " 3   duration_ms       586672 non-null  int64  \n",
      " 4   explicit          586672 non-null  int64  \n",
      " 5   artists           586672 non-null  object \n",
      " 6   id_artists        586672 non-null  object \n",
      " 7   release_date      586672 non-null  object \n",
      " 8   danceability      586672 non-null  float64\n",
      " 9   energy            586672 non-null  float64\n",
      " 10  key               586672 non-null  int64  \n",
      " 11  loudness          586672 non-null  float64\n",
      " 12  mode              586672 non-null  int64  \n",
      " 13  speechiness       586672 non-null  float64\n",
      " 14  acousticness      586672 non-null  float64\n",
      " 15  instrumentalness  586672 non-null  float64\n",
      " 16  liveness          586672 non-null  float64\n",
      " 17  valence           586672 non-null  float64\n",
      " 18  tempo             586672 non-null  float64\n",
      " 19  time_signature    586672 non-null  int64  \n",
      "dtypes: float64(9), int64(6), object(5)\n",
      "memory usage: 89.5+ MB\n"
     ]
    }
   ],
   "source": [
    "tracks_df.info()"
   ]
  },
  {
   "cell_type": "code",
   "execution_count": 14,
   "metadata": {},
   "outputs": [
    {
     "name": "stdout",
     "output_type": "stream",
     "text": [
      "<class 'pandas.core.frame.DataFrame'>\n",
      "RangeIndex: 170653 entries, 0 to 170652\n",
      "Data columns (total 19 columns):\n",
      " #   Column            Non-Null Count   Dtype  \n",
      "---  ------            --------------   -----  \n",
      " 0   valence           170653 non-null  float64\n",
      " 1   year              170653 non-null  int64  \n",
      " 2   acousticness      170653 non-null  float64\n",
      " 3   artists           170653 non-null  object \n",
      " 4   danceability      170653 non-null  float64\n",
      " 5   duration_ms       170653 non-null  int64  \n",
      " 6   energy            170653 non-null  float64\n",
      " 7   explicit          170653 non-null  int64  \n",
      " 8   id                170653 non-null  object \n",
      " 9   instrumentalness  170653 non-null  float64\n",
      " 10  key               170653 non-null  int64  \n",
      " 11  liveness          170653 non-null  float64\n",
      " 12  loudness          170653 non-null  float64\n",
      " 13  mode              170653 non-null  int64  \n",
      " 14  name              170653 non-null  object \n",
      " 15  popularity        170653 non-null  int64  \n",
      " 16  release_date      170653 non-null  object \n",
      " 17  speechiness       170653 non-null  float64\n",
      " 18  tempo             170653 non-null  float64\n",
      "dtypes: float64(9), int64(6), object(4)\n",
      "memory usage: 24.7+ MB\n"
     ]
    }
   ],
   "source": [
    "data_df.info()"
   ]
  },
  {
   "cell_type": "code",
   "execution_count": 15,
   "metadata": {},
   "outputs": [
    {
     "name": "stdout",
     "output_type": "stream",
     "text": [
      "year\n"
     ]
    }
   ],
   "source": [
    "for x in data_df.columns:\n",
    "    if x not in tracks_df.columns:\n",
    "        print (x)"
   ]
  },
  {
   "cell_type": "code",
   "execution_count": 202,
   "metadata": {},
   "outputs": [
    {
     "name": "stdout",
     "output_type": "stream",
     "text": [
      "<class 'pandas.core.frame.DataFrame'>\n",
      "RangeIndex: 586672 entries, 0 to 586671\n",
      "Data columns (total 20 columns):\n",
      " #   Column            Non-Null Count   Dtype  \n",
      "---  ------            --------------   -----  \n",
      " 0   id                586672 non-null  object \n",
      " 1   name              586601 non-null  object \n",
      " 2   popularity        586672 non-null  int64  \n",
      " 3   duration_ms       586672 non-null  int64  \n",
      " 4   explicit          586672 non-null  int64  \n",
      " 5   artists           586672 non-null  object \n",
      " 6   id_artists        586672 non-null  object \n",
      " 7   release_date      586672 non-null  object \n",
      " 8   danceability      586672 non-null  float64\n",
      " 9   energy            586672 non-null  float64\n",
      " 10  key               586672 non-null  int64  \n",
      " 11  loudness          586672 non-null  float64\n",
      " 12  mode              586672 non-null  int64  \n",
      " 13  speechiness       586672 non-null  float64\n",
      " 14  acousticness      586672 non-null  float64\n",
      " 15  instrumentalness  586672 non-null  float64\n",
      " 16  liveness          586672 non-null  float64\n",
      " 17  valence           586672 non-null  float64\n",
      " 18  tempo             586672 non-null  float64\n",
      " 19  time_signature    586672 non-null  int64  \n",
      "dtypes: float64(9), int64(6), object(5)\n",
      "memory usage: 89.5+ MB\n"
     ]
    }
   ],
   "source": [
    "tracks_df.info()"
   ]
  },
  {
   "cell_type": "code",
   "execution_count": 17,
   "metadata": {},
   "outputs": [
    {
     "data": {
      "text/html": [
       "<div>\n",
       "<style scoped>\n",
       "    .dataframe tbody tr th:only-of-type {\n",
       "        vertical-align: middle;\n",
       "    }\n",
       "\n",
       "    .dataframe tbody tr th {\n",
       "        vertical-align: top;\n",
       "    }\n",
       "\n",
       "    .dataframe thead th {\n",
       "        text-align: right;\n",
       "    }\n",
       "</style>\n",
       "<table border=\"1\" class=\"dataframe\">\n",
       "  <thead>\n",
       "    <tr style=\"text-align: right;\">\n",
       "      <th></th>\n",
       "      <th>valence</th>\n",
       "      <th>year</th>\n",
       "      <th>acousticness</th>\n",
       "      <th>artists</th>\n",
       "      <th>danceability</th>\n",
       "      <th>duration_ms</th>\n",
       "      <th>energy</th>\n",
       "      <th>explicit</th>\n",
       "      <th>id</th>\n",
       "      <th>instrumentalness</th>\n",
       "      <th>key</th>\n",
       "      <th>liveness</th>\n",
       "      <th>loudness</th>\n",
       "      <th>mode</th>\n",
       "      <th>name</th>\n",
       "      <th>popularity</th>\n",
       "      <th>release_date</th>\n",
       "      <th>speechiness</th>\n",
       "      <th>tempo</th>\n",
       "    </tr>\n",
       "  </thead>\n",
       "  <tbody>\n",
       "    <tr>\n",
       "      <th>19638</th>\n",
       "      <td>0.774</td>\n",
       "      <td>2020</td>\n",
       "      <td>0.235</td>\n",
       "      <td>['Ashnikko']</td>\n",
       "      <td>0.834</td>\n",
       "      <td>146523</td>\n",
       "      <td>0.663</td>\n",
       "      <td>1</td>\n",
       "      <td>0AUvWawuP0ibk4SQ3sIZjk</td>\n",
       "      <td>0.0</td>\n",
       "      <td>8</td>\n",
       "      <td>0.372</td>\n",
       "      <td>-6.143</td>\n",
       "      <td>1</td>\n",
       "      <td>Daisy</td>\n",
       "      <td>90</td>\n",
       "      <td>2020-07-09</td>\n",
       "      <td>0.133</td>\n",
       "      <td>121.876</td>\n",
       "    </tr>\n",
       "  </tbody>\n",
       "</table>\n",
       "</div>"
      ],
      "text/plain": [
       "       valence  year  acousticness       artists  danceability  duration_ms  \\\n",
       "19638    0.774  2020         0.235  ['Ashnikko']         0.834       146523   \n",
       "\n",
       "       energy  explicit                      id  instrumentalness  key  \\\n",
       "19638   0.663         1  0AUvWawuP0ibk4SQ3sIZjk               0.0    8   \n",
       "\n",
       "       liveness  loudness  mode   name  popularity release_date  speechiness  \\\n",
       "19638     0.372    -6.143     1  Daisy          90   2020-07-09        0.133   \n",
       "\n",
       "         tempo  \n",
       "19638  121.876  "
      ]
     },
     "execution_count": 17,
     "metadata": {},
     "output_type": "execute_result"
    }
   ],
   "source": [
    "data_df[(data_df.artists == \"['Ashnikko']\") & (data_df.name == \"Daisy\")]"
   ]
  },
  {
   "cell_type": "code",
   "execution_count": 18,
   "metadata": {},
   "outputs": [
    {
     "data": {
      "text/html": [
       "<div>\n",
       "<style scoped>\n",
       "    .dataframe tbody tr th:only-of-type {\n",
       "        vertical-align: middle;\n",
       "    }\n",
       "\n",
       "    .dataframe tbody tr th {\n",
       "        vertical-align: top;\n",
       "    }\n",
       "\n",
       "    .dataframe thead th {\n",
       "        text-align: right;\n",
       "    }\n",
       "</style>\n",
       "<table border=\"1\" class=\"dataframe\">\n",
       "  <thead>\n",
       "    <tr style=\"text-align: right;\">\n",
       "      <th></th>\n",
       "      <th>id</th>\n",
       "      <th>name</th>\n",
       "      <th>popularity</th>\n",
       "      <th>duration_ms</th>\n",
       "      <th>explicit</th>\n",
       "      <th>artists</th>\n",
       "      <th>id_artists</th>\n",
       "      <th>release_date</th>\n",
       "      <th>danceability</th>\n",
       "      <th>energy</th>\n",
       "      <th>key</th>\n",
       "      <th>loudness</th>\n",
       "      <th>mode</th>\n",
       "      <th>speechiness</th>\n",
       "      <th>acousticness</th>\n",
       "      <th>instrumentalness</th>\n",
       "      <th>liveness</th>\n",
       "      <th>valence</th>\n",
       "      <th>tempo</th>\n",
       "      <th>time_signature</th>\n",
       "    </tr>\n",
       "  </thead>\n",
       "  <tbody>\n",
       "    <tr>\n",
       "      <th>93137</th>\n",
       "      <td>0AUvWawuP0ibk4SQ3sIZjk</td>\n",
       "      <td>Daisy</td>\n",
       "      <td>82</td>\n",
       "      <td>146523</td>\n",
       "      <td>1</td>\n",
       "      <td>['Ashnikko']</td>\n",
       "      <td>['3PyJHH2wyfQK3WZrk9rpmP']</td>\n",
       "      <td>2020-07-09</td>\n",
       "      <td>0.834</td>\n",
       "      <td>0.663</td>\n",
       "      <td>8</td>\n",
       "      <td>-6.143</td>\n",
       "      <td>1</td>\n",
       "      <td>0.133</td>\n",
       "      <td>0.235</td>\n",
       "      <td>0.0</td>\n",
       "      <td>0.372</td>\n",
       "      <td>0.774</td>\n",
       "      <td>121.876</td>\n",
       "      <td>4</td>\n",
       "    </tr>\n",
       "    <tr>\n",
       "      <th>94181</th>\n",
       "      <td>2g1KggY9PKvsoEAOaiz4xx</td>\n",
       "      <td>Daisy</td>\n",
       "      <td>77</td>\n",
       "      <td>146523</td>\n",
       "      <td>1</td>\n",
       "      <td>['Ashnikko']</td>\n",
       "      <td>['3PyJHH2wyfQK3WZrk9rpmP']</td>\n",
       "      <td>2021-01-15</td>\n",
       "      <td>0.834</td>\n",
       "      <td>0.663</td>\n",
       "      <td>8</td>\n",
       "      <td>-6.143</td>\n",
       "      <td>1</td>\n",
       "      <td>0.133</td>\n",
       "      <td>0.235</td>\n",
       "      <td>0.0</td>\n",
       "      <td>0.372</td>\n",
       "      <td>0.774</td>\n",
       "      <td>121.876</td>\n",
       "      <td>4</td>\n",
       "    </tr>\n",
       "  </tbody>\n",
       "</table>\n",
       "</div>"
      ],
      "text/plain": [
       "                           id   name  popularity  duration_ms  explicit  \\\n",
       "93137  0AUvWawuP0ibk4SQ3sIZjk  Daisy          82       146523         1   \n",
       "94181  2g1KggY9PKvsoEAOaiz4xx  Daisy          77       146523         1   \n",
       "\n",
       "            artists                  id_artists release_date  danceability  \\\n",
       "93137  ['Ashnikko']  ['3PyJHH2wyfQK3WZrk9rpmP']   2020-07-09         0.834   \n",
       "94181  ['Ashnikko']  ['3PyJHH2wyfQK3WZrk9rpmP']   2021-01-15         0.834   \n",
       "\n",
       "       energy  key  loudness  mode  speechiness  acousticness  \\\n",
       "93137   0.663    8    -6.143     1        0.133         0.235   \n",
       "94181   0.663    8    -6.143     1        0.133         0.235   \n",
       "\n",
       "       instrumentalness  liveness  valence    tempo  time_signature  \n",
       "93137               0.0     0.372    0.774  121.876               4  \n",
       "94181               0.0     0.372    0.774  121.876               4  "
      ]
     },
     "execution_count": 18,
     "metadata": {},
     "output_type": "execute_result"
    }
   ],
   "source": [
    "tracks_df[(tracks_df.artists == \"['Ashnikko']\") & (tracks_df.name == \"Daisy\")]"
   ]
  },
  {
   "cell_type": "markdown",
   "metadata": {},
   "source": [
    "comments:\n",
    "tracks_df may have duplicates, one example thus far is difference in release dates. \n",
    "\n",
    "Comparing the same song between data_df and tracks_df, they share the same ID however certain attribute have different values, such as popularity."
   ]
  },
  {
   "cell_type": "markdown",
   "metadata": {},
   "source": [
    "### creating scaled dataframe for eda"
   ]
  },
  {
   "cell_type": "code",
   "execution_count": 20,
   "metadata": {},
   "outputs": [],
   "source": [
    "lin_graph = data_by_year_df.iloc[:,2:]\n",
    "ss = StandardScaler()\n",
    "lin_graph_data = ss.fit_transform(lin_graph)\n",
    "#lin_graph_data = pd.concat([lin_graph,data_by_year_df.year],axis=1)"
   ]
  },
  {
   "cell_type": "code",
   "execution_count": 21,
   "metadata": {},
   "outputs": [],
   "source": [
    "lin_graph_data = pd.DataFrame(data = lin_graph_data, columns=data_by_year_df.iloc[:,2:].columns.values)"
   ]
  },
  {
   "cell_type": "code",
   "execution_count": 22,
   "metadata": {},
   "outputs": [],
   "source": [
    "graph_data = pd.concat([lin_graph_data,data_by_year_df.year],axis=1)"
   ]
  },
  {
   "cell_type": "code",
   "execution_count": 23,
   "metadata": {},
   "outputs": [
    {
     "data": {
      "text/html": [
       "<div>\n",
       "<style scoped>\n",
       "    .dataframe tbody tr th:only-of-type {\n",
       "        vertical-align: middle;\n",
       "    }\n",
       "\n",
       "    .dataframe tbody tr th {\n",
       "        vertical-align: top;\n",
       "    }\n",
       "\n",
       "    .dataframe thead th {\n",
       "        text-align: right;\n",
       "    }\n",
       "</style>\n",
       "<table border=\"1\" class=\"dataframe\">\n",
       "  <thead>\n",
       "    <tr style=\"text-align: right;\">\n",
       "      <th></th>\n",
       "      <th>acousticness</th>\n",
       "      <th>danceability</th>\n",
       "      <th>duration_ms</th>\n",
       "      <th>energy</th>\n",
       "      <th>instrumentalness</th>\n",
       "      <th>liveness</th>\n",
       "      <th>loudness</th>\n",
       "      <th>speechiness</th>\n",
       "      <th>tempo</th>\n",
       "      <th>valence</th>\n",
       "      <th>popularity</th>\n",
       "      <th>key</th>\n",
       "      <th>year</th>\n",
       "    </tr>\n",
       "  </thead>\n",
       "  <tbody>\n",
       "    <tr>\n",
       "      <th>0</th>\n",
       "      <td>1.206593</td>\n",
       "      <td>-2.268729</td>\n",
       "      <td>1.303465</td>\n",
       "      <td>-1.372612</td>\n",
       "      <td>1.241416</td>\n",
       "      <td>-0.141117</td>\n",
       "      <td>-1.643865</td>\n",
       "      <td>-0.394037</td>\n",
       "      <td>-2.567559</td>\n",
       "      <td>-2.656372</td>\n",
       "      <td>-1.297256</td>\n",
       "      <td>-0.504959</td>\n",
       "      <td>1921</td>\n",
       "    </tr>\n",
       "    <tr>\n",
       "      <th>1</th>\n",
       "      <td>1.395278</td>\n",
       "      <td>-1.050819</td>\n",
       "      <td>-2.424439</td>\n",
       "      <td>-1.335327</td>\n",
       "      <td>1.974278</td>\n",
       "      <td>1.824215</td>\n",
       "      <td>-2.364442</td>\n",
       "      <td>0.132090</td>\n",
       "      <td>-2.682246</td>\n",
       "      <td>0.059618</td>\n",
       "      <td>-1.322135</td>\n",
       "      <td>1.751841</td>\n",
       "      <td>1922</td>\n",
       "    </tr>\n",
       "    <tr>\n",
       "      <th>2</th>\n",
       "      <td>1.463369</td>\n",
       "      <td>0.778558</td>\n",
       "      <td>-1.935347</td>\n",
       "      <td>-1.182517</td>\n",
       "      <td>1.461764</td>\n",
       "      <td>1.079979</td>\n",
       "      <td>-0.699070</td>\n",
       "      <td>-0.145779</td>\n",
       "      <td>-0.355409</td>\n",
       "      <td>1.623313</td>\n",
       "      <td>-1.067354</td>\n",
       "      <td>-1.069159</td>\n",
       "      <td>1923</td>\n",
       "    </tr>\n",
       "    <tr>\n",
       "      <th>3</th>\n",
       "      <td>1.401148</td>\n",
       "      <td>0.251686</td>\n",
       "      <td>-1.421483</td>\n",
       "      <td>-0.673342</td>\n",
       "      <td>3.184595</td>\n",
       "      <td>1.515427</td>\n",
       "      <td>-0.732122</td>\n",
       "      <td>-0.168531</td>\n",
       "      <td>0.828525</td>\n",
       "      <td>2.288008</td>\n",
       "      <td>-1.296883</td>\n",
       "      <td>1.751841</td>\n",
       "      <td>1924</td>\n",
       "    </tr>\n",
       "    <tr>\n",
       "      <th>4</th>\n",
       "      <td>1.482933</td>\n",
       "      <td>0.711808</td>\n",
       "      <td>-1.659106</td>\n",
       "      <td>-1.081931</td>\n",
       "      <td>1.843836</td>\n",
       "      <td>1.652901</td>\n",
       "      <td>-0.704637</td>\n",
       "      <td>0.074121</td>\n",
       "      <td>-0.087526</td>\n",
       "      <td>1.561357</td>\n",
       "      <td>-1.202546</td>\n",
       "      <td>0.341341</td>\n",
       "      <td>1925</td>\n",
       "    </tr>\n",
       "    <tr>\n",
       "      <th>...</th>\n",
       "      <td>...</td>\n",
       "      <td>...</td>\n",
       "      <td>...</td>\n",
       "      <td>...</td>\n",
       "      <td>...</td>\n",
       "      <td>...</td>\n",
       "      <td>...</td>\n",
       "      <td>...</td>\n",
       "      <td>...</td>\n",
       "      <td>...</td>\n",
       "      <td>...</td>\n",
       "      <td>...</td>\n",
       "      <td>...</td>\n",
       "    </tr>\n",
       "    <tr>\n",
       "      <th>95</th>\n",
       "      <td>-0.993316</td>\n",
       "      <td>1.217422</td>\n",
       "      <td>-0.231368</td>\n",
       "      <td>0.870891</td>\n",
       "      <td>-0.817217</td>\n",
       "      <td>-1.518719</td>\n",
       "      <td>1.264707</td>\n",
       "      <td>-0.018941</td>\n",
       "      <td>0.467444</td>\n",
       "      <td>-1.748761</td>\n",
       "      <td>1.566603</td>\n",
       "      <td>-1.069159</td>\n",
       "      <td>2016</td>\n",
       "    </tr>\n",
       "    <tr>\n",
       "      <th>96</th>\n",
       "      <td>-0.986279</td>\n",
       "      <td>1.448058</td>\n",
       "      <td>-0.634512</td>\n",
       "      <td>0.855765</td>\n",
       "      <td>-0.791730</td>\n",
       "      <td>-0.926886</td>\n",
       "      <td>1.183293</td>\n",
       "      <td>0.057215</td>\n",
       "      <td>0.210427</td>\n",
       "      <td>-2.010511</td>\n",
       "      <td>1.742160</td>\n",
       "      <td>-0.787059</td>\n",
       "      <td>2017</td>\n",
       "    </tr>\n",
       "    <tr>\n",
       "      <th>97</th>\n",
       "      <td>-1.053679</td>\n",
       "      <td>2.432513</td>\n",
       "      <td>-0.835076</td>\n",
       "      <td>0.930417</td>\n",
       "      <td>-1.143516</td>\n",
       "      <td>-1.790666</td>\n",
       "      <td>1.553464</td>\n",
       "      <td>0.260836</td>\n",
       "      <td>1.047048</td>\n",
       "      <td>-1.463828</td>\n",
       "      <td>1.743747</td>\n",
       "      <td>-0.787059</td>\n",
       "      <td>2018</td>\n",
       "    </tr>\n",
       "    <tr>\n",
       "      <th>98</th>\n",
       "      <td>-1.014750</td>\n",
       "      <td>2.073803</td>\n",
       "      <td>-1.030209</td>\n",
       "      <td>0.873183</td>\n",
       "      <td>-0.951324</td>\n",
       "      <td>-1.998883</td>\n",
       "      <td>1.374370</td>\n",
       "      <td>0.185793</td>\n",
       "      <td>0.748059</td>\n",
       "      <td>-1.274391</td>\n",
       "      <td>1.838910</td>\n",
       "      <td>-0.787059</td>\n",
       "      <td>2019</td>\n",
       "    </tr>\n",
       "    <tr>\n",
       "      <th>99</th>\n",
       "      <td>-1.227788</td>\n",
       "      <td>2.996959</td>\n",
       "      <td>-1.316325</td>\n",
       "      <td>1.109362</td>\n",
       "      <td>-1.454014</td>\n",
       "      <td>-1.666610</td>\n",
       "      <td>1.739130</td>\n",
       "      <td>0.434709</td>\n",
       "      <td>1.465542</td>\n",
       "      <td>-0.540204</td>\n",
       "      <td>1.792570</td>\n",
       "      <td>-0.787059</td>\n",
       "      <td>2020</td>\n",
       "    </tr>\n",
       "  </tbody>\n",
       "</table>\n",
       "<p>100 rows × 13 columns</p>\n",
       "</div>"
      ],
      "text/plain": [
       "    acousticness  danceability  duration_ms    energy  instrumentalness  \\\n",
       "0       1.206593     -2.268729     1.303465 -1.372612          1.241416   \n",
       "1       1.395278     -1.050819    -2.424439 -1.335327          1.974278   \n",
       "2       1.463369      0.778558    -1.935347 -1.182517          1.461764   \n",
       "3       1.401148      0.251686    -1.421483 -0.673342          3.184595   \n",
       "4       1.482933      0.711808    -1.659106 -1.081931          1.843836   \n",
       "..           ...           ...          ...       ...               ...   \n",
       "95     -0.993316      1.217422    -0.231368  0.870891         -0.817217   \n",
       "96     -0.986279      1.448058    -0.634512  0.855765         -0.791730   \n",
       "97     -1.053679      2.432513    -0.835076  0.930417         -1.143516   \n",
       "98     -1.014750      2.073803    -1.030209  0.873183         -0.951324   \n",
       "99     -1.227788      2.996959    -1.316325  1.109362         -1.454014   \n",
       "\n",
       "    liveness  loudness  speechiness     tempo   valence  popularity       key  \\\n",
       "0  -0.141117 -1.643865    -0.394037 -2.567559 -2.656372   -1.297256 -0.504959   \n",
       "1   1.824215 -2.364442     0.132090 -2.682246  0.059618   -1.322135  1.751841   \n",
       "2   1.079979 -0.699070    -0.145779 -0.355409  1.623313   -1.067354 -1.069159   \n",
       "3   1.515427 -0.732122    -0.168531  0.828525  2.288008   -1.296883  1.751841   \n",
       "4   1.652901 -0.704637     0.074121 -0.087526  1.561357   -1.202546  0.341341   \n",
       "..       ...       ...          ...       ...       ...         ...       ...   \n",
       "95 -1.518719  1.264707    -0.018941  0.467444 -1.748761    1.566603 -1.069159   \n",
       "96 -0.926886  1.183293     0.057215  0.210427 -2.010511    1.742160 -0.787059   \n",
       "97 -1.790666  1.553464     0.260836  1.047048 -1.463828    1.743747 -0.787059   \n",
       "98 -1.998883  1.374370     0.185793  0.748059 -1.274391    1.838910 -0.787059   \n",
       "99 -1.666610  1.739130     0.434709  1.465542 -0.540204    1.792570 -0.787059   \n",
       "\n",
       "    year  \n",
       "0   1921  \n",
       "1   1922  \n",
       "2   1923  \n",
       "3   1924  \n",
       "4   1925  \n",
       "..   ...  \n",
       "95  2016  \n",
       "96  2017  \n",
       "97  2018  \n",
       "98  2019  \n",
       "99  2020  \n",
       "\n",
       "[100 rows x 13 columns]"
      ]
     },
     "execution_count": 23,
     "metadata": {},
     "output_type": "execute_result"
    }
   ],
   "source": [
    "graph_data"
   ]
  },
  {
   "cell_type": "code",
   "execution_count": 225,
   "metadata": {},
   "outputs": [
    {
     "data": {
      "text/plain": [
       "<AxesSubplot:xlabel='year'>"
      ]
     },
     "execution_count": 225,
     "metadata": {},
     "output_type": "execute_result"
    },
    {
     "data": {
      "image/png": "[encoded data removed]",
      "text/plain": [
       "<Figure size 720x720 with 1 Axes>"
      ]
     },
     "metadata": {},
     "output_type": "display_data"
    }
   ],
   "source": [
    "graph_data[[\"acousticness\",\"danceability\",\"energy\", \n",
    "         \"instrumentalness\", \"liveness\", \"valence\",\"year\"]].set_index('year').plot(kind='line',figsize=(10,10))"
   ]
  },
  {
   "cell_type": "markdown",
   "metadata": {},
   "source": [
    "comments: General EDA, not very useful in producing meaningful insight. Moving forward, I will explore more trends related to the problem satement"
   ]
  },
  {
   "cell_type": "markdown",
   "metadata": {},
   "source": [
    "## More Ideas for EDA\n",
    "\n",
    "- show how duration of music has shorten over time\n",
    "- show relation to popular music and short duration, indicative of our shortened attention span\n",
    "- show how prevalence of genre has affected our music taste\n",
    "- show how genre populartiy has changed"
   ]
  },
  {
   "cell_type": "markdown",
   "metadata": {},
   "source": [
    "### show how duration of music has shorten over time"
   ]
  },
  {
   "cell_type": "code",
   "execution_count": 56,
   "metadata": {},
   "outputs": [
    {
     "data": {
      "image/png": "[encoded data removed]",
      "text/plain": [
       "<Figure size 576x576 with 1 Axes>"
      ]
     },
     "metadata": {},
     "output_type": "display_data"
    }
   ],
   "source": [
    "#plot the duration of songs in minute across time\n",
    "plt.figure(figsize=(8,8))\n",
    "(data_by_year_df.groupby('year')['duration_ms'].mean()/60000).plot() #group data by year, take the average duration per year and plot\n",
    "plt.title('Duration of Music Decline Overtime');"
   ]
  },
  {
   "cell_type": "code",
   "execution_count": 192,
   "metadata": {},
   "outputs": [
    {
     "data": {
      "text/plain": [
       "year\n",
       "1921    4.342286\n",
       "1922    2.757829\n",
       "1923    2.965706\n",
       "1924    3.184112\n",
       "1925    3.083115\n",
       "          ...   \n",
       "2016    3.689942\n",
       "2017    3.518595\n",
       "2018    3.433350\n",
       "2019    3.350413\n",
       "2020    3.228807\n",
       "Name: duration_ms, Length: 100, dtype: float64"
      ]
     },
     "execution_count": 192,
     "metadata": {},
     "output_type": "execute_result"
    }
   ],
   "source": [
    "(data_by_year_df.groupby('year')['duration_ms'].mean()/60000)"
   ]
  },
  {
   "cell_type": "code",
   "execution_count": 234,
   "metadata": {},
   "outputs": [
    {
     "data": {
      "image/png": "[encoded data removed]",
      "text/plain": [
       "<Figure size 576x576 with 1 Axes>"
      ]
     },
     "metadata": {},
     "output_type": "display_data"
    }
   ],
   "source": [
    "#plot the duration of songs relationship with popularity\n",
    "plt.figure(figsize=(8,8))\n",
    "sns.scatterplot(data =(data_df.groupby('popularity')['duration_ms'].mean()/60000))\n",
    "plt.title('Popular Music Rating > 50 Get More Popular as Song Duration Decrease')\n",
    "plt.ylabel('song duration (minutes)');"
   ]
  },
  {
   "cell_type": "markdown",
   "metadata": {},
   "source": [
    "shorter duration in songs shows that artist or incentivised to make shorter songs for more plays as they are paid per stream. Can also reflect music listener's shortened attentions span. \n",
    "\n",
    "Furthermore songs tend to be more popular, past the 50 mark, with shorter duration. "
   ]
  },
  {
   "cell_type": "code",
   "execution_count": 58,
   "metadata": {},
   "outputs": [
    {
     "data": {
      "image/png": "[encoded data removed]",
      "text/plain": [
       "<Figure size 576x576 with 1 Axes>"
      ]
     },
     "metadata": {},
     "output_type": "display_data"
    }
   ],
   "source": [
    "plt.figure(figsize=(8,8))\n",
    "data_by_year_df.groupby('year')['loudness'].mean().plot() #group data by year, take the average duration per year and plot\n",
    "plt.title('Loudness Increase Overtime');"
   ]
  },
  {
   "cell_type": "markdown",
   "metadata": {},
   "source": [
    "\n",
    "-  Loudness, the inherent volume of the music itself, before any adjustments by the listener.\n",
    "- dynamic range becomes much more restricted. As in, the contrast between the really soft stuff, and the really loud stuff shrinks, so the overall emotional impact of the music is reduced. Check out this video for a vivid demonstration of what this sounds like."
   ]
  },
  {
   "cell_type": "code",
   "execution_count": 60,
   "metadata": {},
   "outputs": [
    {
     "data": {
      "text/plain": [
       "array([ 2, 10,  0,  5,  9,  7,  1])"
      ]
     },
     "execution_count": 60,
     "metadata": {},
     "output_type": "execute_result"
    }
   ],
   "source": [
    "data_by_year_df.key.unique()"
   ]
  },
  {
   "cell_type": "code",
   "execution_count": 63,
   "metadata": {},
   "outputs": [
    {
     "name": "stdout",
     "output_type": "stream",
     "text": [
      "<class 'pandas.core.frame.DataFrame'>\n",
      "RangeIndex: 170653 entries, 0 to 170652\n",
      "Data columns (total 19 columns):\n",
      " #   Column            Non-Null Count   Dtype  \n",
      "---  ------            --------------   -----  \n",
      " 0   valence           170653 non-null  float64\n",
      " 1   year              170653 non-null  int64  \n",
      " 2   acousticness      170653 non-null  float64\n",
      " 3   artists           170653 non-null  object \n",
      " 4   danceability      170653 non-null  float64\n",
      " 5   duration_ms       170653 non-null  int64  \n",
      " 6   energy            170653 non-null  float64\n",
      " 7   explicit          170653 non-null  int64  \n",
      " 8   id                170653 non-null  object \n",
      " 9   instrumentalness  170653 non-null  float64\n",
      " 10  key               170653 non-null  int64  \n",
      " 11  liveness          170653 non-null  float64\n",
      " 12  loudness          170653 non-null  float64\n",
      " 13  mode              170653 non-null  int64  \n",
      " 14  name              170653 non-null  object \n",
      " 15  popularity        170653 non-null  int64  \n",
      " 16  release_date      170653 non-null  object \n",
      " 17  speechiness       170653 non-null  float64\n",
      " 18  tempo             170653 non-null  float64\n",
      "dtypes: float64(9), int64(6), object(4)\n",
      "memory usage: 24.7+ MB\n"
     ]
    }
   ],
   "source": [
    "data_df.info()"
   ]
  },
  {
   "cell_type": "code",
   "execution_count": 79,
   "metadata": {},
   "outputs": [],
   "source": [
    "#convert key data into string \n",
    "data_df.key = data_df.key.apply(lambda x: str(x))"
   ]
  },
  {
   "cell_type": "code",
   "execution_count": 84,
   "metadata": {},
   "outputs": [
    {
     "data": {
      "text/plain": [
       "year\n",
       "1921    [10, 7, 3, 5, 2, 0, 1, 8, 9, 4, 11, 6]\n",
       "1922    [0, 1, 7, 4, 6, 2, 5, 8, 10, 11, 9, 3]\n",
       "1923    [8, 4, 3, 0, 5, 10, 2, 7, 9, 1, 11, 6]\n",
       "1924    [2, 3, 8, 0, 10, 7, 5, 11, 9, 1, 6, 4]\n",
       "1925    [3, 8, 5, 9, 0, 2, 7, 10, 11, 6, 1, 4]\n",
       "                         ...                  \n",
       "2016    [6, 8, 0, 10, 1, 5, 7, 9, 4, 3, 11, 2]\n",
       "2017    [0, 8, 7, 11, 9, 6, 10, 5, 1, 4, 3, 2]\n",
       "2018    [0, 6, 3, 4, 7, 11, 8, 2, 1, 10, 5, 9]\n",
       "2019    [0, 2, 10, 8, 1, 7, 5, 4, 6, 11, 3, 9]\n",
       "2020    [7, 6, 1, 0, 4, 10, 9, 5, 11, 8, 2, 3]\n",
       "Name: key, Length: 100, dtype: object"
      ]
     },
     "execution_count": 84,
     "metadata": {},
     "output_type": "execute_result"
    }
   ],
   "source": [
    "data_df.groupby('year')['key'].unique()"
   ]
  },
  {
   "cell_type": "code",
   "execution_count": 227,
   "metadata": {},
   "outputs": [
    {
     "data": {
      "text/plain": [
       "1     0.138424\n",
       "0     0.104926\n",
       "7     0.101970\n",
       "11    0.099507\n",
       "5     0.092611\n",
       "2     0.082266\n",
       "6     0.081281\n",
       "10    0.073399\n",
       "8     0.072414\n",
       "9     0.069458\n",
       "4     0.062562\n",
       "3     0.021182\n",
       "Name: key, dtype: float64"
      ]
     },
     "execution_count": 227,
     "metadata": {},
     "output_type": "execute_result"
    }
   ],
   "source": [
    "#show value count of keys in proportion to overall count for spread of data\n",
    "data_df[data_df['year'] == 2020]['key'].value_counts(normalize =True)"
   ]
  },
  {
   "cell_type": "code",
   "execution_count": 228,
   "metadata": {},
   "outputs": [],
   "source": [
    "sample = data_df[data_df['year'] == 2020]['key'].value_counts(normalize =True)"
   ]
  },
  {
   "cell_type": "code",
   "execution_count": 229,
   "metadata": {},
   "outputs": [
    {
     "data": {
      "text/plain": [
       "12"
      ]
     },
     "execution_count": 229,
     "metadata": {},
     "output_type": "execute_result"
    }
   ],
   "source": [
    "len(sample)"
   ]
  },
  {
   "cell_type": "code",
   "execution_count": 231,
   "metadata": {},
   "outputs": [
    {
     "data": {
      "text/plain": [
       "0.0008096569078393436"
      ]
     },
     "execution_count": 231,
     "metadata": {},
     "output_type": "execute_result"
    }
   ],
   "source": [
    "#calculate the variance to return a single value\n",
    "((sample - sample.mean())**2).sum()/(len(sample)-1)"
   ]
  },
  {
   "cell_type": "code",
   "execution_count": 232,
   "metadata": {},
   "outputs": [],
   "source": [
    "#test for a different year\n",
    "sample2 = data_df[data_df['year'] == 2005]['key'].value_counts(normalize =True)"
   ]
  },
  {
   "cell_type": "code",
   "execution_count": 233,
   "metadata": {},
   "outputs": [
    {
     "data": {
      "text/plain": [
       "0.0006358257127487898"
      ]
     },
     "execution_count": 233,
     "metadata": {},
     "output_type": "execute_result"
    }
   ],
   "source": [
    "((sample2 - sample2.mean())**2).sum()/(len(sample2)-1)"
   ]
  },
  {
   "cell_type": "code",
   "execution_count": 128,
   "metadata": {},
   "outputs": [],
   "source": [
    "#list of variance per year\n",
    "variance = []\n",
    "\n",
    "for year in data_df.year.unique():\n",
    "    #create normalized value count\n",
    "    normal_data = data_df[data_df['year'] == year]['key'].value_counts(normalize =True)\n",
    "    # calculate variance\n",
    "    variance_val = ((normal_data - normal_data.mean())**2).sum()/(len(normal_data)-1)\n",
    "    #append cariance to list\n",
    "    variance.append(variance_val)\n",
    "        "
   ]
  },
  {
   "cell_type": "code",
   "execution_count": 132,
   "metadata": {},
   "outputs": [
    {
     "data": {
      "image/png": "[encoded data removed]",
      "text/plain": [
       "<Figure size 576x576 with 1 Axes>"
      ]
     },
     "metadata": {},
     "output_type": "display_data"
    }
   ],
   "source": [
    "plt.figure(figsize=(8,8))\n",
    "plt.title('Variance of Music (key) Decreaseing Over Time')\n",
    "sns.lineplot(y=variance, x=data_df.year.unique());"
   ]
  },
  {
   "cell_type": "markdown",
   "metadata": {},
   "source": [
    "Key or pitch includ details about harmony, melody, chords, and progressions – essentially how the notes were arranged and unfolded over the course of the song.\n",
    "\n",
    "Data suggested that the variety of pitch progressions used has shrunk over the years. In other words, musicians are becoming less inventive and adventurous in how they get from one note or chord to the next, and instead seem to be relying more and more on the same sequences and patterns that others have used successfully in the past."
   ]
  },
  {
   "cell_type": "markdown",
   "metadata": {},
   "source": [
    "### summary of EDA thus far\n",
    "\n",
    "#### music becoming more cookie cutter\n",
    "\n",
    "-  pitch\n",
    "    - the data suggested that the variety of pitch progressions used has shrunk over the years\n",
    "\n",
    "\n",
    "- homogenization seemed to occur with timbre\n",
    "\n",
    "\n",
    "- music getting louder \n",
    "    - everything is getting louder. Which might not seem like a big deal (just turn down the volume knob, right?), until you start to notice that when everything is louder, the dynamic range becomes much more restricted. As in, the contrast between the really soft stuff, and the really loud stuff shrinks, so the overall emotional impact of the music is reduced. "
   ]
  },
  {
   "cell_type": "markdown",
   "metadata": {},
   "source": [
    "### show the most popular month that music is released"
   ]
  },
  {
   "cell_type": "code",
   "execution_count": 143,
   "metadata": {},
   "outputs": [],
   "source": [
    "data_df['month'] = pd.DatetimeIndex(data_df['release_date']).month"
   ]
  },
  {
   "cell_type": "code",
   "execution_count": 148,
   "metadata": {},
   "outputs": [
    {
     "data": {
      "text/plain": [
       "0            1921\n",
       "1            1921\n",
       "2            1921\n",
       "3            1921\n",
       "4            1921\n",
       "          ...    \n",
       "995          1926\n",
       "996    1926-07-12\n",
       "997          1926\n",
       "998          1926\n",
       "999          1926\n",
       "Name: release_date, Length: 1000, dtype: object"
      ]
     },
     "execution_count": 148,
     "metadata": {},
     "output_type": "execute_result"
    }
   ],
   "source": [
    "data_df.release_date.head(1000)"
   ]
  },
  {
   "cell_type": "code",
   "execution_count": 153,
   "metadata": {},
   "outputs": [
    {
     "data": {
      "text/plain": [
       "4"
      ]
     },
     "execution_count": 153,
     "metadata": {},
     "output_type": "execute_result"
    }
   ],
   "source": [
    "len(data_df.loc[999]['release_date'])"
   ]
  },
  {
   "cell_type": "code",
   "execution_count": 154,
   "metadata": {},
   "outputs": [
    {
     "data": {
      "text/plain": [
       "10"
      ]
     },
     "execution_count": 154,
     "metadata": {},
     "output_type": "execute_result"
    }
   ],
   "source": [
    "len(data_df.loc[996]['release_date'])\n"
   ]
  },
  {
   "cell_type": "code",
   "execution_count": 161,
   "metadata": {},
   "outputs": [
    {
     "name": "stdout",
     "output_type": "stream",
     "text": [
      "<class 'pandas.core.frame.DataFrame'>\n",
      "RangeIndex: 170653 entries, 0 to 170652\n",
      "Data columns (total 20 columns):\n",
      " #   Column            Non-Null Count   Dtype  \n",
      "---  ------            --------------   -----  \n",
      " 0   valence           170653 non-null  float64\n",
      " 1   year              170653 non-null  int64  \n",
      " 2   acousticness      170653 non-null  float64\n",
      " 3   artists           170653 non-null  object \n",
      " 4   danceability      170653 non-null  float64\n",
      " 5   duration_ms       170653 non-null  int64  \n",
      " 6   energy            170653 non-null  float64\n",
      " 7   explicit          170653 non-null  int64  \n",
      " 8   id                170653 non-null  object \n",
      " 9   instrumentalness  170653 non-null  float64\n",
      " 10  key               170653 non-null  object \n",
      " 11  liveness          170653 non-null  float64\n",
      " 12  loudness          170653 non-null  float64\n",
      " 13  mode              170653 non-null  int64  \n",
      " 14  name              170653 non-null  object \n",
      " 15  popularity        170653 non-null  int64  \n",
      " 16  release_date      170653 non-null  object \n",
      " 17  speechiness       170653 non-null  float64\n",
      " 18  tempo             170653 non-null  float64\n",
      " 19  month             170653 non-null  int64  \n",
      "dtypes: float64(9), int64(6), object(5)\n",
      "memory usage: 26.0+ MB\n"
     ]
    }
   ],
   "source": [
    "data_df.info()"
   ]
  },
  {
   "cell_type": "code",
   "execution_count": 171,
   "metadata": {},
   "outputs": [],
   "source": [
    "data_df['month'] = None"
   ]
  },
  {
   "cell_type": "code",
   "execution_count": 173,
   "metadata": {},
   "outputs": [],
   "source": [
    "\n",
    "for row in range(len(data_df)):\n",
    "    if len(data_df.iat[row,16]) == 4:\n",
    "        data_df.iat[row,19] = np.nan\n",
    "    elif len(data_df.iat[row,16]) == 7:\n",
    "        date = data_df.iat[row,16]\n",
    "        date = datetime.datetime.strptime(date, \"%Y-%m\")\n",
    "        data_df.iat[row,19] = date.month\n",
    "    else:\n",
    "        date = data_df.iat[row,16]\n",
    "        date = datetime.datetime.strptime(date, \"%Y-%m-%d\")\n",
    "        data_df.iat[row,19] = date.month\n"
   ]
  },
  {
   "cell_type": "code",
   "execution_count": 183,
   "metadata": {},
   "outputs": [
    {
     "data": {
      "text/plain": [
       "1     38363\n",
       "11    10047\n",
       "12     9652\n",
       "10     9089\n",
       "9      8318\n",
       "6      7545\n",
       "5      6765\n",
       "3      6651\n",
       "8      6460\n",
       "7      6106\n",
       "4      5851\n",
       "2      4951\n",
       "Name: month, dtype: int64"
      ]
     },
     "execution_count": 183,
     "metadata": {},
     "output_type": "execute_result"
    }
   ],
   "source": [
    "data_df.month.value_counts()"
   ]
  },
  {
   "cell_type": "code",
   "execution_count": 149,
   "metadata": {},
   "outputs": [
    {
     "data": {
      "text/plain": [
       "1     89218\n",
       "11    10047\n",
       "12     9652\n",
       "10     9089\n",
       "9      8318\n",
       "6      7545\n",
       "5      6765\n",
       "3      6651\n",
       "8      6460\n",
       "7      6106\n",
       "4      5851\n",
       "2      4951\n",
       "Name: month, dtype: int64"
      ]
     },
     "execution_count": 149,
     "metadata": {},
     "output_type": "execute_result"
    }
   ],
   "source": [
    "data_df.month.value_counts()"
   ]
  },
  {
   "cell_type": "code",
   "execution_count": 186,
   "metadata": {},
   "outputs": [
    {
     "data": {
      "image/png": "[encoded data removed]",
      "text/plain": [
       "<Figure size 576x576 with 1 Axes>"
      ]
     },
     "metadata": {},
     "output_type": "display_data"
    }
   ],
   "source": [
    "plt.figure(figsize=(8,8))\n",
    "sns.lineplot(data=data_df.month.value_counts())\n",
    "plt.title('Music Released in January the Highest');"
   ]
  },
  {
   "cell_type": "markdown",
   "metadata": {},
   "source": [
    "Generally, the first two months of the year are a great time to release new music. Why? The market isn't as saturated as later on in the year, and the minds of listeners are open to new things."
   ]
  },
  {
   "cell_type": "markdown",
   "metadata": {},
   "source": [
    "## Clustering Genre Together"
   ]
  },
  {
   "cell_type": "code",
   "execution_count": 30,
   "metadata": {},
   "outputs": [
    {
     "data": {
      "text/html": [
       "<div>\n",
       "<style scoped>\n",
       "    .dataframe tbody tr th:only-of-type {\n",
       "        vertical-align: middle;\n",
       "    }\n",
       "\n",
       "    .dataframe tbody tr th {\n",
       "        vertical-align: top;\n",
       "    }\n",
       "\n",
       "    .dataframe thead th {\n",
       "        text-align: right;\n",
       "    }\n",
       "</style>\n",
       "<table border=\"1\" class=\"dataframe\">\n",
       "  <thead>\n",
       "    <tr style=\"text-align: right;\">\n",
       "      <th></th>\n",
       "      <th>mode</th>\n",
       "      <th>genres</th>\n",
       "      <th>acousticness</th>\n",
       "      <th>danceability</th>\n",
       "      <th>duration_ms</th>\n",
       "      <th>energy</th>\n",
       "      <th>instrumentalness</th>\n",
       "      <th>liveness</th>\n",
       "      <th>loudness</th>\n",
       "      <th>speechiness</th>\n",
       "      <th>tempo</th>\n",
       "      <th>valence</th>\n",
       "      <th>popularity</th>\n",
       "      <th>key</th>\n",
       "    </tr>\n",
       "  </thead>\n",
       "  <tbody>\n",
       "    <tr>\n",
       "      <th>237</th>\n",
       "      <td>1</td>\n",
       "      <td>basshall</td>\n",
       "      <td>0.213167</td>\n",
       "      <td>0.818000</td>\n",
       "      <td>169799.166667</td>\n",
       "      <td>0.630167</td>\n",
       "      <td>2.000000e-05</td>\n",
       "      <td>0.081067</td>\n",
       "      <td>-6.627833</td>\n",
       "      <td>0.134833</td>\n",
       "      <td>115.092500</td>\n",
       "      <td>0.588667</td>\n",
       "      <td>80.666667</td>\n",
       "      <td>2</td>\n",
       "    </tr>\n",
       "    <tr>\n",
       "      <th>2778</th>\n",
       "      <td>0</td>\n",
       "      <td>turkish edm</td>\n",
       "      <td>0.008290</td>\n",
       "      <td>0.698000</td>\n",
       "      <td>186700.000000</td>\n",
       "      <td>0.719000</td>\n",
       "      <td>4.010000e-06</td>\n",
       "      <td>0.326000</td>\n",
       "      <td>-4.923000</td>\n",
       "      <td>0.045500</td>\n",
       "      <td>120.062000</td>\n",
       "      <td>0.364000</td>\n",
       "      <td>80.000000</td>\n",
       "      <td>0</td>\n",
       "    </tr>\n",
       "    <tr>\n",
       "      <th>2533</th>\n",
       "      <td>1</td>\n",
       "      <td>south african house</td>\n",
       "      <td>0.043833</td>\n",
       "      <td>0.847000</td>\n",
       "      <td>311854.333333</td>\n",
       "      <td>0.562333</td>\n",
       "      <td>1.303392e-01</td>\n",
       "      <td>0.075133</td>\n",
       "      <td>-7.719000</td>\n",
       "      <td>0.050733</td>\n",
       "      <td>123.676333</td>\n",
       "      <td>0.834333</td>\n",
       "      <td>80.000000</td>\n",
       "      <td>1</td>\n",
       "    </tr>\n",
       "    <tr>\n",
       "      <th>2755</th>\n",
       "      <td>1</td>\n",
       "      <td>trap venezolano</td>\n",
       "      <td>0.044600</td>\n",
       "      <td>0.877000</td>\n",
       "      <td>231848.000000</td>\n",
       "      <td>0.777000</td>\n",
       "      <td>3.460000e-05</td>\n",
       "      <td>0.086300</td>\n",
       "      <td>-4.246000</td>\n",
       "      <td>0.117000</td>\n",
       "      <td>102.020000</td>\n",
       "      <td>0.706000</td>\n",
       "      <td>80.000000</td>\n",
       "      <td>1</td>\n",
       "    </tr>\n",
       "    <tr>\n",
       "      <th>46</th>\n",
       "      <td>0</td>\n",
       "      <td>alberta hip hop</td>\n",
       "      <td>0.330000</td>\n",
       "      <td>0.885000</td>\n",
       "      <td>144000.000000</td>\n",
       "      <td>0.685000</td>\n",
       "      <td>0.000000e+00</td>\n",
       "      <td>0.148000</td>\n",
       "      <td>-6.429000</td>\n",
       "      <td>0.062700</td>\n",
       "      <td>99.954000</td>\n",
       "      <td>0.937000</td>\n",
       "      <td>78.500000</td>\n",
       "      <td>11</td>\n",
       "    </tr>\n",
       "    <tr>\n",
       "      <th>536</th>\n",
       "      <td>0</td>\n",
       "      <td>chinese electropop</td>\n",
       "      <td>0.002570</td>\n",
       "      <td>0.660000</td>\n",
       "      <td>217088.000000</td>\n",
       "      <td>0.787000</td>\n",
       "      <td>0.000000e+00</td>\n",
       "      <td>0.323000</td>\n",
       "      <td>-4.592000</td>\n",
       "      <td>0.032000</td>\n",
       "      <td>142.018000</td>\n",
       "      <td>0.199000</td>\n",
       "      <td>78.500000</td>\n",
       "      <td>1</td>\n",
       "    </tr>\n",
       "    <tr>\n",
       "      <th>37</th>\n",
       "      <td>0</td>\n",
       "      <td>afroswing</td>\n",
       "      <td>0.318450</td>\n",
       "      <td>0.711750</td>\n",
       "      <td>179995.375000</td>\n",
       "      <td>0.580187</td>\n",
       "      <td>2.578950e-04</td>\n",
       "      <td>0.189950</td>\n",
       "      <td>-7.016687</td>\n",
       "      <td>0.195563</td>\n",
       "      <td>83.250125</td>\n",
       "      <td>0.676625</td>\n",
       "      <td>77.312500</td>\n",
       "      <td>11</td>\n",
       "    </tr>\n",
       "    <tr>\n",
       "      <th>31</th>\n",
       "      <td>0</td>\n",
       "      <td>afro soul</td>\n",
       "      <td>0.006270</td>\n",
       "      <td>0.766000</td>\n",
       "      <td>202627.000000</td>\n",
       "      <td>0.873000</td>\n",
       "      <td>0.000000e+00</td>\n",
       "      <td>0.076400</td>\n",
       "      <td>-6.381000</td>\n",
       "      <td>0.143000</td>\n",
       "      <td>126.988000</td>\n",
       "      <td>0.743000</td>\n",
       "      <td>77.000000</td>\n",
       "      <td>11</td>\n",
       "    </tr>\n",
       "    <tr>\n",
       "      <th>2383</th>\n",
       "      <td>1</td>\n",
       "      <td>russian dance</td>\n",
       "      <td>0.005610</td>\n",
       "      <td>0.653000</td>\n",
       "      <td>198095.000000</td>\n",
       "      <td>0.945000</td>\n",
       "      <td>9.150000e-01</td>\n",
       "      <td>0.439000</td>\n",
       "      <td>-2.634000</td>\n",
       "      <td>0.096000</td>\n",
       "      <td>126.093000</td>\n",
       "      <td>0.326000</td>\n",
       "      <td>77.000000</td>\n",
       "      <td>5</td>\n",
       "    </tr>\n",
       "    <tr>\n",
       "      <th>1239</th>\n",
       "      <td>1</td>\n",
       "      <td>guaracha</td>\n",
       "      <td>0.009030</td>\n",
       "      <td>0.745000</td>\n",
       "      <td>189818.000000</td>\n",
       "      <td>0.972000</td>\n",
       "      <td>4.650000e-01</td>\n",
       "      <td>0.297000</td>\n",
       "      <td>-3.506000</td>\n",
       "      <td>0.077400</td>\n",
       "      <td>128.031000</td>\n",
       "      <td>0.556000</td>\n",
       "      <td>77.000000</td>\n",
       "      <td>7</td>\n",
       "    </tr>\n",
       "    <tr>\n",
       "      <th>1381</th>\n",
       "      <td>1</td>\n",
       "      <td>indie triste</td>\n",
       "      <td>0.946000</td>\n",
       "      <td>0.830000</td>\n",
       "      <td>207400.000000</td>\n",
       "      <td>0.159000</td>\n",
       "      <td>2.020000e-05</td>\n",
       "      <td>0.362000</td>\n",
       "      <td>-14.461000</td>\n",
       "      <td>0.038300</td>\n",
       "      <td>104.950000</td>\n",
       "      <td>0.189000</td>\n",
       "      <td>77.000000</td>\n",
       "      <td>1</td>\n",
       "    </tr>\n",
       "    <tr>\n",
       "      <th>575</th>\n",
       "      <td>1</td>\n",
       "      <td>circuit</td>\n",
       "      <td>0.009030</td>\n",
       "      <td>0.745000</td>\n",
       "      <td>189818.000000</td>\n",
       "      <td>0.972000</td>\n",
       "      <td>4.650000e-01</td>\n",
       "      <td>0.297000</td>\n",
       "      <td>-3.506000</td>\n",
       "      <td>0.077400</td>\n",
       "      <td>128.031000</td>\n",
       "      <td>0.556000</td>\n",
       "      <td>77.000000</td>\n",
       "      <td>7</td>\n",
       "    </tr>\n",
       "    <tr>\n",
       "      <th>2800</th>\n",
       "      <td>0</td>\n",
       "      <td>uk diy punk</td>\n",
       "      <td>0.000209</td>\n",
       "      <td>0.452000</td>\n",
       "      <td>209598.000000</td>\n",
       "      <td>0.937000</td>\n",
       "      <td>3.610000e-06</td>\n",
       "      <td>0.606000</td>\n",
       "      <td>-3.346000</td>\n",
       "      <td>0.161000</td>\n",
       "      <td>164.032000</td>\n",
       "      <td>0.604000</td>\n",
       "      <td>77.000000</td>\n",
       "      <td>1</td>\n",
       "    </tr>\n",
       "    <tr>\n",
       "      <th>2102</th>\n",
       "      <td>0</td>\n",
       "      <td>pagode baiano</td>\n",
       "      <td>0.256333</td>\n",
       "      <td>0.826667</td>\n",
       "      <td>226325.666667</td>\n",
       "      <td>0.666000</td>\n",
       "      <td>2.490667e-05</td>\n",
       "      <td>0.111100</td>\n",
       "      <td>-4.319667</td>\n",
       "      <td>0.100267</td>\n",
       "      <td>147.341333</td>\n",
       "      <td>0.728000</td>\n",
       "      <td>76.666667</td>\n",
       "      <td>6</td>\n",
       "    </tr>\n",
       "    <tr>\n",
       "      <th>2337</th>\n",
       "      <td>0</td>\n",
       "      <td>ritmo kombina</td>\n",
       "      <td>0.251333</td>\n",
       "      <td>0.845000</td>\n",
       "      <td>172747.333333</td>\n",
       "      <td>0.578333</td>\n",
       "      <td>4.000000e-05</td>\n",
       "      <td>0.069533</td>\n",
       "      <td>-5.927667</td>\n",
       "      <td>0.111667</td>\n",
       "      <td>132.154000</td>\n",
       "      <td>0.505333</td>\n",
       "      <td>76.333333</td>\n",
       "      <td>2</td>\n",
       "    </tr>\n",
       "    <tr>\n",
       "      <th>2754</th>\n",
       "      <td>1</td>\n",
       "      <td>trap triste</td>\n",
       "      <td>0.329975</td>\n",
       "      <td>0.742000</td>\n",
       "      <td>299041.583333</td>\n",
       "      <td>0.704833</td>\n",
       "      <td>8.866667e-07</td>\n",
       "      <td>0.132575</td>\n",
       "      <td>-4.854250</td>\n",
       "      <td>0.081933</td>\n",
       "      <td>133.938167</td>\n",
       "      <td>0.565583</td>\n",
       "      <td>76.083333</td>\n",
       "      <td>11</td>\n",
       "    </tr>\n",
       "    <tr>\n",
       "      <th>2002</th>\n",
       "      <td>0</td>\n",
       "      <td>norwegian pop rap</td>\n",
       "      <td>0.131000</td>\n",
       "      <td>0.430000</td>\n",
       "      <td>211680.000000</td>\n",
       "      <td>0.606000</td>\n",
       "      <td>0.000000e+00</td>\n",
       "      <td>0.173000</td>\n",
       "      <td>-5.115000</td>\n",
       "      <td>0.043100</td>\n",
       "      <td>169.988000</td>\n",
       "      <td>0.123000</td>\n",
       "      <td>76.000000</td>\n",
       "      <td>4</td>\n",
       "    </tr>\n",
       "    <tr>\n",
       "      <th>2834</th>\n",
       "      <td>1</td>\n",
       "      <td>urbano espanol</td>\n",
       "      <td>0.175225</td>\n",
       "      <td>0.789000</td>\n",
       "      <td>206417.750000</td>\n",
       "      <td>0.630750</td>\n",
       "      <td>1.783088e-02</td>\n",
       "      <td>0.071650</td>\n",
       "      <td>-6.939250</td>\n",
       "      <td>0.135625</td>\n",
       "      <td>114.005750</td>\n",
       "      <td>0.559250</td>\n",
       "      <td>75.250000</td>\n",
       "      <td>1</td>\n",
       "    </tr>\n",
       "    <tr>\n",
       "      <th>1850</th>\n",
       "      <td>1</td>\n",
       "      <td>musica canaria</td>\n",
       "      <td>0.491167</td>\n",
       "      <td>0.785167</td>\n",
       "      <td>187229.166667</td>\n",
       "      <td>0.625500</td>\n",
       "      <td>2.166667e-03</td>\n",
       "      <td>0.075667</td>\n",
       "      <td>-5.258667</td>\n",
       "      <td>0.105983</td>\n",
       "      <td>107.362167</td>\n",
       "      <td>0.675667</td>\n",
       "      <td>75.166667</td>\n",
       "      <td>6</td>\n",
       "    </tr>\n",
       "    <tr>\n",
       "      <th>110</th>\n",
       "      <td>1</td>\n",
       "      <td>argentine hip hop</td>\n",
       "      <td>0.344988</td>\n",
       "      <td>0.737125</td>\n",
       "      <td>303028.041667</td>\n",
       "      <td>0.690479</td>\n",
       "      <td>7.758333e-07</td>\n",
       "      <td>0.109488</td>\n",
       "      <td>-4.955438</td>\n",
       "      <td>0.155342</td>\n",
       "      <td>139.724646</td>\n",
       "      <td>0.598354</td>\n",
       "      <td>74.979167</td>\n",
       "      <td>1</td>\n",
       "    </tr>\n",
       "  </tbody>\n",
       "</table>\n",
       "</div>"
      ],
      "text/plain": [
       "      mode               genres  acousticness  danceability    duration_ms  \\\n",
       "237      1             basshall      0.213167      0.818000  169799.166667   \n",
       "2778     0          turkish edm      0.008290      0.698000  186700.000000   \n",
       "2533     1  south african house      0.043833      0.847000  311854.333333   \n",
       "2755     1      trap venezolano      0.044600      0.877000  231848.000000   \n",
       "46       0      alberta hip hop      0.330000      0.885000  144000.000000   \n",
       "536      0   chinese electropop      0.002570      0.660000  217088.000000   \n",
       "37       0            afroswing      0.318450      0.711750  179995.375000   \n",
       "31       0            afro soul      0.006270      0.766000  202627.000000   \n",
       "2383     1        russian dance      0.005610      0.653000  198095.000000   \n",
       "1239     1             guaracha      0.009030      0.745000  189818.000000   \n",
       "1381     1         indie triste      0.946000      0.830000  207400.000000   \n",
       "575      1              circuit      0.009030      0.745000  189818.000000   \n",
       "2800     0          uk diy punk      0.000209      0.452000  209598.000000   \n",
       "2102     0        pagode baiano      0.256333      0.826667  226325.666667   \n",
       "2337     0        ritmo kombina      0.251333      0.845000  172747.333333   \n",
       "2754     1          trap triste      0.329975      0.742000  299041.583333   \n",
       "2002     0    norwegian pop rap      0.131000      0.430000  211680.000000   \n",
       "2834     1       urbano espanol      0.175225      0.789000  206417.750000   \n",
       "1850     1       musica canaria      0.491167      0.785167  187229.166667   \n",
       "110      1    argentine hip hop      0.344988      0.737125  303028.041667   \n",
       "\n",
       "        energy  instrumentalness  liveness   loudness  speechiness  \\\n",
       "237   0.630167      2.000000e-05  0.081067  -6.627833     0.134833   \n",
       "2778  0.719000      4.010000e-06  0.326000  -4.923000     0.045500   \n",
       "2533  0.562333      1.303392e-01  0.075133  -7.719000     0.050733   \n",
       "2755  0.777000      3.460000e-05  0.086300  -4.246000     0.117000   \n",
       "46    0.685000      0.000000e+00  0.148000  -6.429000     0.062700   \n",
       "536   0.787000      0.000000e+00  0.323000  -4.592000     0.032000   \n",
       "37    0.580187      2.578950e-04  0.189950  -7.016687     0.195563   \n",
       "31    0.873000      0.000000e+00  0.076400  -6.381000     0.143000   \n",
       "2383  0.945000      9.150000e-01  0.439000  -2.634000     0.096000   \n",
       "1239  0.972000      4.650000e-01  0.297000  -3.506000     0.077400   \n",
       "1381  0.159000      2.020000e-05  0.362000 -14.461000     0.038300   \n",
       "575   0.972000      4.650000e-01  0.297000  -3.506000     0.077400   \n",
       "2800  0.937000      3.610000e-06  0.606000  -3.346000     0.161000   \n",
       "2102  0.666000      2.490667e-05  0.111100  -4.319667     0.100267   \n",
       "2337  0.578333      4.000000e-05  0.069533  -5.927667     0.111667   \n",
       "2754  0.704833      8.866667e-07  0.132575  -4.854250     0.081933   \n",
       "2002  0.606000      0.000000e+00  0.173000  -5.115000     0.043100   \n",
       "2834  0.630750      1.783088e-02  0.071650  -6.939250     0.135625   \n",
       "1850  0.625500      2.166667e-03  0.075667  -5.258667     0.105983   \n",
       "110   0.690479      7.758333e-07  0.109488  -4.955438     0.155342   \n",
       "\n",
       "           tempo   valence  popularity  key  \n",
       "237   115.092500  0.588667   80.666667    2  \n",
       "2778  120.062000  0.364000   80.000000    0  \n",
       "2533  123.676333  0.834333   80.000000    1  \n",
       "2755  102.020000  0.706000   80.000000    1  \n",
       "46     99.954000  0.937000   78.500000   11  \n",
       "536   142.018000  0.199000   78.500000    1  \n",
       "37     83.250125  0.676625   77.312500   11  \n",
       "31    126.988000  0.743000   77.000000   11  \n",
       "2383  126.093000  0.326000   77.000000    5  \n",
       "1239  128.031000  0.556000   77.000000    7  \n",
       "1381  104.950000  0.189000   77.000000    1  \n",
       "575   128.031000  0.556000   77.000000    7  \n",
       "2800  164.032000  0.604000   77.000000    1  \n",
       "2102  147.341333  0.728000   76.666667    6  \n",
       "2337  132.154000  0.505333   76.333333    2  \n",
       "2754  133.938167  0.565583   76.083333   11  \n",
       "2002  169.988000  0.123000   76.000000    4  \n",
       "2834  114.005750  0.559250   75.250000    1  \n",
       "1850  107.362167  0.675667   75.166667    6  \n",
       "110   139.724646  0.598354   74.979167    1  "
      ]
     },
     "execution_count": 30,
     "metadata": {},
     "output_type": "execute_result"
    }
   ],
   "source": [
    "data_by_genres_df.sort_values(by='popularity',ascending=False).head(20)"
   ]
  },
  {
   "cell_type": "code",
   "execution_count": 34,
   "metadata": {},
   "outputs": [
    {
     "data": {
      "text/plain": [
       "2973"
      ]
     },
     "execution_count": 34,
     "metadata": {},
     "output_type": "execute_result"
    }
   ],
   "source": [
    "data_by_genres_df[\"genres\"].nunique()"
   ]
  },
  {
   "cell_type": "code",
   "execution_count": 35,
   "metadata": {},
   "outputs": [
    {
     "name": "stdout",
     "output_type": "stream",
     "text": [
      "<class 'pandas.core.frame.DataFrame'>\n",
      "RangeIndex: 2973 entries, 0 to 2972\n",
      "Data columns (total 14 columns):\n",
      " #   Column            Non-Null Count  Dtype  \n",
      "---  ------            --------------  -----  \n",
      " 0   mode              2973 non-null   int64  \n",
      " 1   genres            2973 non-null   object \n",
      " 2   acousticness      2973 non-null   float64\n",
      " 3   danceability      2973 non-null   float64\n",
      " 4   duration_ms       2973 non-null   float64\n",
      " 5   energy            2973 non-null   float64\n",
      " 6   instrumentalness  2973 non-null   float64\n",
      " 7   liveness          2973 non-null   float64\n",
      " 8   loudness          2973 non-null   float64\n",
      " 9   speechiness       2973 non-null   float64\n",
      " 10  tempo             2973 non-null   float64\n",
      " 11  valence           2973 non-null   float64\n",
      " 12  popularity        2973 non-null   float64\n",
      " 13  key               2973 non-null   int64  \n",
      "dtypes: float64(11), int64(2), object(1)\n",
      "memory usage: 325.3+ KB\n"
     ]
    }
   ],
   "source": [
    "data_by_genres_df.info()"
   ]
  },
  {
   "cell_type": "code",
   "execution_count": 36,
   "metadata": {},
   "outputs": [
    {
     "data": {
      "text/html": [
       "<div>\n",
       "<style scoped>\n",
       "    .dataframe tbody tr th:only-of-type {\n",
       "        vertical-align: middle;\n",
       "    }\n",
       "\n",
       "    .dataframe tbody tr th {\n",
       "        vertical-align: top;\n",
       "    }\n",
       "\n",
       "    .dataframe thead th {\n",
       "        text-align: right;\n",
       "    }\n",
       "</style>\n",
       "<table border=\"1\" class=\"dataframe\">\n",
       "  <thead>\n",
       "    <tr style=\"text-align: right;\">\n",
       "      <th></th>\n",
       "      <th>mode</th>\n",
       "      <th>acousticness</th>\n",
       "      <th>danceability</th>\n",
       "      <th>duration_ms</th>\n",
       "      <th>energy</th>\n",
       "      <th>instrumentalness</th>\n",
       "      <th>liveness</th>\n",
       "      <th>loudness</th>\n",
       "      <th>speechiness</th>\n",
       "      <th>tempo</th>\n",
       "      <th>valence</th>\n",
       "      <th>popularity</th>\n",
       "      <th>key</th>\n",
       "    </tr>\n",
       "  </thead>\n",
       "  <tbody>\n",
       "    <tr>\n",
       "      <th>0</th>\n",
       "      <td>1</td>\n",
       "      <td>0.979333</td>\n",
       "      <td>0.162883</td>\n",
       "      <td>1.602977e+05</td>\n",
       "      <td>0.071317</td>\n",
       "      <td>0.606834</td>\n",
       "      <td>0.361600</td>\n",
       "      <td>-31.514333</td>\n",
       "      <td>0.040567</td>\n",
       "      <td>75.336500</td>\n",
       "      <td>0.103783</td>\n",
       "      <td>27.833333</td>\n",
       "      <td>6</td>\n",
       "    </tr>\n",
       "    <tr>\n",
       "      <th>1</th>\n",
       "      <td>1</td>\n",
       "      <td>0.494780</td>\n",
       "      <td>0.299333</td>\n",
       "      <td>1.048887e+06</td>\n",
       "      <td>0.450678</td>\n",
       "      <td>0.477762</td>\n",
       "      <td>0.131000</td>\n",
       "      <td>-16.854000</td>\n",
       "      <td>0.076817</td>\n",
       "      <td>120.285667</td>\n",
       "      <td>0.221750</td>\n",
       "      <td>52.500000</td>\n",
       "      <td>5</td>\n",
       "    </tr>\n",
       "    <tr>\n",
       "      <th>2</th>\n",
       "      <td>1</td>\n",
       "      <td>0.762000</td>\n",
       "      <td>0.712000</td>\n",
       "      <td>1.151770e+05</td>\n",
       "      <td>0.818000</td>\n",
       "      <td>0.876000</td>\n",
       "      <td>0.126000</td>\n",
       "      <td>-9.180000</td>\n",
       "      <td>0.047000</td>\n",
       "      <td>133.444000</td>\n",
       "      <td>0.975000</td>\n",
       "      <td>48.000000</td>\n",
       "      <td>7</td>\n",
       "    </tr>\n",
       "    <tr>\n",
       "      <th>3</th>\n",
       "      <td>1</td>\n",
       "      <td>0.651417</td>\n",
       "      <td>0.529093</td>\n",
       "      <td>2.328809e+05</td>\n",
       "      <td>0.419146</td>\n",
       "      <td>0.205309</td>\n",
       "      <td>0.218696</td>\n",
       "      <td>-12.288965</td>\n",
       "      <td>0.107872</td>\n",
       "      <td>112.857352</td>\n",
       "      <td>0.513604</td>\n",
       "      <td>20.859882</td>\n",
       "      <td>7</td>\n",
       "    </tr>\n",
       "    <tr>\n",
       "      <th>4</th>\n",
       "      <td>1</td>\n",
       "      <td>0.676557</td>\n",
       "      <td>0.538961</td>\n",
       "      <td>1.906285e+05</td>\n",
       "      <td>0.316434</td>\n",
       "      <td>0.003003</td>\n",
       "      <td>0.172254</td>\n",
       "      <td>-12.479387</td>\n",
       "      <td>0.082851</td>\n",
       "      <td>112.110362</td>\n",
       "      <td>0.448249</td>\n",
       "      <td>45.820071</td>\n",
       "      <td>7</td>\n",
       "    </tr>\n",
       "  </tbody>\n",
       "</table>\n",
       "</div>"
      ],
      "text/plain": [
       "   mode  acousticness  danceability   duration_ms    energy  instrumentalness  \\\n",
       "0     1      0.979333      0.162883  1.602977e+05  0.071317          0.606834   \n",
       "1     1      0.494780      0.299333  1.048887e+06  0.450678          0.477762   \n",
       "2     1      0.762000      0.712000  1.151770e+05  0.818000          0.876000   \n",
       "3     1      0.651417      0.529093  2.328809e+05  0.419146          0.205309   \n",
       "4     1      0.676557      0.538961  1.906285e+05  0.316434          0.003003   \n",
       "\n",
       "   liveness   loudness  speechiness       tempo   valence  popularity  key  \n",
       "0  0.361600 -31.514333     0.040567   75.336500  0.103783   27.833333    6  \n",
       "1  0.131000 -16.854000     0.076817  120.285667  0.221750   52.500000    5  \n",
       "2  0.126000  -9.180000     0.047000  133.444000  0.975000   48.000000    7  \n",
       "3  0.218696 -12.288965     0.107872  112.857352  0.513604   20.859882    7  \n",
       "4  0.172254 -12.479387     0.082851  112.110362  0.448249   45.820071    7  "
      ]
     },
     "execution_count": 36,
     "metadata": {},
     "output_type": "execute_result"
    }
   ],
   "source": [
    "data_by_genres_df.select_dtypes(np.number).head()"
   ]
  },
  {
   "cell_type": "markdown",
   "metadata": {},
   "source": [
    "### Finding optimal K using elbow method"
   ]
  },
  {
   "cell_type": "code",
   "execution_count": 37,
   "metadata": {},
   "outputs": [],
   "source": [
    "ss = StandardScaler()\n",
    "\n",
    "# assign numerical data as train data\n",
    "X = data_by_genres_df.select_dtypes(np.number)\n",
    "X_scaled = ss.fit_transform(X)"
   ]
  },
  {
   "cell_type": "code",
   "execution_count": 38,
   "metadata": {},
   "outputs": [],
   "source": [
    "\n",
    "K = range(1,10)\n",
    "distortion = [] #the sum of square error for each data point to their nearest cluster centre\n",
    "# using for loop\n",
    "for k in K:\n",
    "    inertia = KMeans(n_clusters=k).fit(X_scaled).inertia_\n",
    "    distortion.append(inertia)\n",
    "\n"
   ]
  },
  {
   "cell_type": "code",
   "execution_count": 51,
   "metadata": {},
   "outputs": [
    {
     "data": {
      "text/plain": [
       "[<matplotlib.lines.Line2D at 0x7fdd67122c70>]"
      ]
     },
     "execution_count": 51,
     "metadata": {},
     "output_type": "execute_result"
    },
    {
     "data": {
      "image/png": "[encoded data removed]",
      "text/plain": [
       "<Figure size 432x288 with 1 Axes>"
      ]
     },
     "metadata": {},
     "output_type": "display_data"
    }
   ],
   "source": [
    "#plot for distortion against k range 50 to select best K\n",
    "\n",
    "plt.plot(K, distortion,'bx-')"
   ]
  },
  {
   "cell_type": "code",
   "execution_count": 40,
   "metadata": {},
   "outputs": [
    {
     "data": {
      "text/plain": [
       "15452.038352786125"
      ]
     },
     "execution_count": 40,
     "metadata": {},
     "output_type": "execute_result"
    }
   ],
   "source": [
    "KMeans(n_clusters=20).fit(X_scaled).inertia_\n"
   ]
  },
  {
   "cell_type": "markdown",
   "metadata": {},
   "source": [
    "wont be using the elbow method as 2 clusters for genre of music is not logical, will give my own K value or look into other clustering methods that makes more sense for just eyeballing it."
   ]
  },
  {
   "cell_type": "code",
   "execution_count": 41,
   "metadata": {},
   "outputs": [],
   "source": [
    "#reasign kmean's prediction\n",
    "km_model = KMeans(n_clusters=20).fit(X_scaled)\n",
    "grouped_genre = km_model.predict(X_scaled)"
   ]
  },
  {
   "cell_type": "code",
   "execution_count": 42,
   "metadata": {},
   "outputs": [],
   "source": [
    "data_by_genres_df['grouped_genre'] = grouped_genre"
   ]
  },
  {
   "cell_type": "code",
   "execution_count": 43,
   "metadata": {},
   "outputs": [
    {
     "data": {
      "text/plain": [
       "1     362\n",
       "6     279\n",
       "14    246\n",
       "19    242\n",
       "9     220\n",
       "16    193\n",
       "15    185\n",
       "11    182\n",
       "2     181\n",
       "3     131\n",
       "4     131\n",
       "17    126\n",
       "5     120\n",
       "7     100\n",
       "8      94\n",
       "18     54\n",
       "12     51\n",
       "0      50\n",
       "10     20\n",
       "13      6\n",
       "Name: grouped_genre, dtype: int64"
      ]
     },
     "execution_count": 43,
     "metadata": {},
     "output_type": "execute_result"
    }
   ],
   "source": [
    "data_by_genres_df.grouped_genre.value_counts()"
   ]
  },
  {
   "cell_type": "code",
   "execution_count": 44,
   "metadata": {},
   "outputs": [
    {
     "data": {
      "text/html": [
       "<div>\n",
       "<style scoped>\n",
       "    .dataframe tbody tr th:only-of-type {\n",
       "        vertical-align: middle;\n",
       "    }\n",
       "\n",
       "    .dataframe tbody tr th {\n",
       "        vertical-align: top;\n",
       "    }\n",
       "\n",
       "    .dataframe thead th {\n",
       "        text-align: right;\n",
       "    }\n",
       "</style>\n",
       "<table border=\"1\" class=\"dataframe\">\n",
       "  <thead>\n",
       "    <tr style=\"text-align: right;\">\n",
       "      <th></th>\n",
       "      <th>mode</th>\n",
       "      <th>genres</th>\n",
       "      <th>acousticness</th>\n",
       "      <th>danceability</th>\n",
       "      <th>duration_ms</th>\n",
       "      <th>energy</th>\n",
       "      <th>instrumentalness</th>\n",
       "      <th>liveness</th>\n",
       "      <th>loudness</th>\n",
       "      <th>speechiness</th>\n",
       "      <th>tempo</th>\n",
       "      <th>valence</th>\n",
       "      <th>popularity</th>\n",
       "      <th>key</th>\n",
       "      <th>grouped_genre</th>\n",
       "    </tr>\n",
       "  </thead>\n",
       "  <tbody>\n",
       "    <tr>\n",
       "      <th>19</th>\n",
       "      <td>1</td>\n",
       "      <td>adoracion</td>\n",
       "      <td>0.432857</td>\n",
       "      <td>0.504714</td>\n",
       "      <td>302906.071429</td>\n",
       "      <td>0.520750</td>\n",
       "      <td>0.000000</td>\n",
       "      <td>0.315986</td>\n",
       "      <td>-8.010071</td>\n",
       "      <td>0.038204</td>\n",
       "      <td>130.710679</td>\n",
       "      <td>0.311571</td>\n",
       "      <td>46.392857</td>\n",
       "      <td>9</td>\n",
       "      <td>1</td>\n",
       "    </tr>\n",
       "    <tr>\n",
       "      <th>39</th>\n",
       "      <td>1</td>\n",
       "      <td>alabama indie</td>\n",
       "      <td>0.323278</td>\n",
       "      <td>0.557375</td>\n",
       "      <td>242200.636364</td>\n",
       "      <td>0.626148</td>\n",
       "      <td>0.057432</td>\n",
       "      <td>0.119280</td>\n",
       "      <td>-8.763205</td>\n",
       "      <td>0.048718</td>\n",
       "      <td>120.279284</td>\n",
       "      <td>0.524670</td>\n",
       "      <td>47.636364</td>\n",
       "      <td>7</td>\n",
       "      <td>1</td>\n",
       "    </tr>\n",
       "    <tr>\n",
       "      <th>47</th>\n",
       "      <td>1</td>\n",
       "      <td>album rock</td>\n",
       "      <td>0.186182</td>\n",
       "      <td>0.512031</td>\n",
       "      <td>268948.224960</td>\n",
       "      <td>0.660417</td>\n",
       "      <td>0.073722</td>\n",
       "      <td>0.214890</td>\n",
       "      <td>-9.885867</td>\n",
       "      <td>0.056726</td>\n",
       "      <td>124.216527</td>\n",
       "      <td>0.551887</td>\n",
       "      <td>38.260577</td>\n",
       "      <td>9</td>\n",
       "      <td>1</td>\n",
       "    </tr>\n",
       "    <tr>\n",
       "      <th>48</th>\n",
       "      <td>1</td>\n",
       "      <td>albuquerque indie</td>\n",
       "      <td>0.350215</td>\n",
       "      <td>0.562102</td>\n",
       "      <td>227711.351852</td>\n",
       "      <td>0.587454</td>\n",
       "      <td>0.016406</td>\n",
       "      <td>0.180373</td>\n",
       "      <td>-8.425898</td>\n",
       "      <td>0.033461</td>\n",
       "      <td>126.225731</td>\n",
       "      <td>0.592130</td>\n",
       "      <td>51.111111</td>\n",
       "      <td>9</td>\n",
       "      <td>1</td>\n",
       "    </tr>\n",
       "    <tr>\n",
       "      <th>54</th>\n",
       "      <td>1</td>\n",
       "      <td>alternative emo</td>\n",
       "      <td>0.128122</td>\n",
       "      <td>0.494808</td>\n",
       "      <td>216945.048338</td>\n",
       "      <td>0.715873</td>\n",
       "      <td>0.043942</td>\n",
       "      <td>0.189292</td>\n",
       "      <td>-7.037807</td>\n",
       "      <td>0.072117</td>\n",
       "      <td>130.598664</td>\n",
       "      <td>0.443147</td>\n",
       "      <td>47.246840</td>\n",
       "      <td>5</td>\n",
       "      <td>1</td>\n",
       "    </tr>\n",
       "    <tr>\n",
       "      <th>...</th>\n",
       "      <td>...</td>\n",
       "      <td>...</td>\n",
       "      <td>...</td>\n",
       "      <td>...</td>\n",
       "      <td>...</td>\n",
       "      <td>...</td>\n",
       "      <td>...</td>\n",
       "      <td>...</td>\n",
       "      <td>...</td>\n",
       "      <td>...</td>\n",
       "      <td>...</td>\n",
       "      <td>...</td>\n",
       "      <td>...</td>\n",
       "      <td>...</td>\n",
       "      <td>...</td>\n",
       "    </tr>\n",
       "    <tr>\n",
       "      <th>2948</th>\n",
       "      <td>1</td>\n",
       "      <td>wrestling</td>\n",
       "      <td>0.027916</td>\n",
       "      <td>0.565535</td>\n",
       "      <td>238974.827393</td>\n",
       "      <td>0.817262</td>\n",
       "      <td>0.030038</td>\n",
       "      <td>0.220270</td>\n",
       "      <td>-6.042354</td>\n",
       "      <td>0.130025</td>\n",
       "      <td>126.603281</td>\n",
       "      <td>0.501530</td>\n",
       "      <td>50.344534</td>\n",
       "      <td>6</td>\n",
       "      <td>1</td>\n",
       "    </tr>\n",
       "    <tr>\n",
       "      <th>2950</th>\n",
       "      <td>1</td>\n",
       "      <td>wyoming indie</td>\n",
       "      <td>0.000461</td>\n",
       "      <td>0.405750</td>\n",
       "      <td>156513.250000</td>\n",
       "      <td>0.958000</td>\n",
       "      <td>0.016904</td>\n",
       "      <td>0.263075</td>\n",
       "      <td>-4.381000</td>\n",
       "      <td>0.071075</td>\n",
       "      <td>135.240750</td>\n",
       "      <td>0.681500</td>\n",
       "      <td>49.250000</td>\n",
       "      <td>7</td>\n",
       "      <td>1</td>\n",
       "    </tr>\n",
       "    <tr>\n",
       "      <th>2951</th>\n",
       "      <td>1</td>\n",
       "      <td>wyoming roots</td>\n",
       "      <td>0.193239</td>\n",
       "      <td>0.462481</td>\n",
       "      <td>220496.955696</td>\n",
       "      <td>0.588247</td>\n",
       "      <td>0.000117</td>\n",
       "      <td>0.138337</td>\n",
       "      <td>-9.537025</td>\n",
       "      <td>0.047189</td>\n",
       "      <td>97.115399</td>\n",
       "      <td>0.560323</td>\n",
       "      <td>45.196203</td>\n",
       "      <td>9</td>\n",
       "      <td>1</td>\n",
       "    </tr>\n",
       "    <tr>\n",
       "      <th>2963</th>\n",
       "      <td>1</td>\n",
       "      <td>yugoslav rock</td>\n",
       "      <td>0.280400</td>\n",
       "      <td>0.560972</td>\n",
       "      <td>234421.722222</td>\n",
       "      <td>0.724750</td>\n",
       "      <td>0.001868</td>\n",
       "      <td>0.107108</td>\n",
       "      <td>-6.268444</td>\n",
       "      <td>0.056878</td>\n",
       "      <td>129.652444</td>\n",
       "      <td>0.588556</td>\n",
       "      <td>40.750000</td>\n",
       "      <td>7</td>\n",
       "      <td>1</td>\n",
       "    </tr>\n",
       "    <tr>\n",
       "      <th>2968</th>\n",
       "      <td>1</td>\n",
       "      <td>zolo</td>\n",
       "      <td>0.222625</td>\n",
       "      <td>0.547082</td>\n",
       "      <td>258099.064530</td>\n",
       "      <td>0.610240</td>\n",
       "      <td>0.143872</td>\n",
       "      <td>0.204206</td>\n",
       "      <td>-11.295878</td>\n",
       "      <td>0.061088</td>\n",
       "      <td>125.494919</td>\n",
       "      <td>0.596155</td>\n",
       "      <td>33.778943</td>\n",
       "      <td>9</td>\n",
       "      <td>1</td>\n",
       "    </tr>\n",
       "  </tbody>\n",
       "</table>\n",
       "<p>362 rows × 15 columns</p>\n",
       "</div>"
      ],
      "text/plain": [
       "      mode             genres  acousticness  danceability    duration_ms  \\\n",
       "19       1          adoracion      0.432857      0.504714  302906.071429   \n",
       "39       1      alabama indie      0.323278      0.557375  242200.636364   \n",
       "47       1         album rock      0.186182      0.512031  268948.224960   \n",
       "48       1  albuquerque indie      0.350215      0.562102  227711.351852   \n",
       "54       1    alternative emo      0.128122      0.494808  216945.048338   \n",
       "...    ...                ...           ...           ...            ...   \n",
       "2948     1          wrestling      0.027916      0.565535  238974.827393   \n",
       "2950     1      wyoming indie      0.000461      0.405750  156513.250000   \n",
       "2951     1      wyoming roots      0.193239      0.462481  220496.955696   \n",
       "2963     1      yugoslav rock      0.280400      0.560972  234421.722222   \n",
       "2968     1               zolo      0.222625      0.547082  258099.064530   \n",
       "\n",
       "        energy  instrumentalness  liveness   loudness  speechiness  \\\n",
       "19    0.520750          0.000000  0.315986  -8.010071     0.038204   \n",
       "39    0.626148          0.057432  0.119280  -8.763205     0.048718   \n",
       "47    0.660417          0.073722  0.214890  -9.885867     0.056726   \n",
       "48    0.587454          0.016406  0.180373  -8.425898     0.033461   \n",
       "54    0.715873          0.043942  0.189292  -7.037807     0.072117   \n",
       "...        ...               ...       ...        ...          ...   \n",
       "2948  0.817262          0.030038  0.220270  -6.042354     0.130025   \n",
       "2950  0.958000          0.016904  0.263075  -4.381000     0.071075   \n",
       "2951  0.588247          0.000117  0.138337  -9.537025     0.047189   \n",
       "2963  0.724750          0.001868  0.107108  -6.268444     0.056878   \n",
       "2968  0.610240          0.143872  0.204206 -11.295878     0.061088   \n",
       "\n",
       "           tempo   valence  popularity  key  grouped_genre  \n",
       "19    130.710679  0.311571   46.392857    9              1  \n",
       "39    120.279284  0.524670   47.636364    7              1  \n",
       "47    124.216527  0.551887   38.260577    9              1  \n",
       "48    126.225731  0.592130   51.111111    9              1  \n",
       "54    130.598664  0.443147   47.246840    5              1  \n",
       "...          ...       ...         ...  ...            ...  \n",
       "2948  126.603281  0.501530   50.344534    6              1  \n",
       "2950  135.240750  0.681500   49.250000    7              1  \n",
       "2951   97.115399  0.560323   45.196203    9              1  \n",
       "2963  129.652444  0.588556   40.750000    7              1  \n",
       "2968  125.494919  0.596155   33.778943    9              1  \n",
       "\n",
       "[362 rows x 15 columns]"
      ]
     },
     "execution_count": 44,
     "metadata": {},
     "output_type": "execute_result"
    }
   ],
   "source": [
    "data_by_genres_df[data_by_genres_df.grouped_genre == 1]"
   ]
  },
  {
   "cell_type": "code",
   "execution_count": 45,
   "metadata": {},
   "outputs": [],
   "source": [
    "def scaler(data):\n",
    "    ss = StandardScaler()\n",
    "    return ss.fit_transform(data)"
   ]
  },
  {
   "cell_type": "code",
   "execution_count": 133,
   "metadata": {},
   "outputs": [
    {
     "name": "stdout",
     "output_type": "stream",
     "text": [
      "<class 'pandas.core.frame.DataFrame'>\n",
      "RangeIndex: 170653 entries, 0 to 170652\n",
      "Data columns (total 19 columns):\n",
      " #   Column            Non-Null Count   Dtype  \n",
      "---  ------            --------------   -----  \n",
      " 0   valence           170653 non-null  float64\n",
      " 1   year              170653 non-null  int64  \n",
      " 2   acousticness      170653 non-null  float64\n",
      " 3   artists           170653 non-null  object \n",
      " 4   danceability      170653 non-null  float64\n",
      " 5   duration_ms       170653 non-null  int64  \n",
      " 6   energy            170653 non-null  float64\n",
      " 7   explicit          170653 non-null  int64  \n",
      " 8   id                170653 non-null  object \n",
      " 9   instrumentalness  170653 non-null  float64\n",
      " 10  key               170653 non-null  object \n",
      " 11  liveness          170653 non-null  float64\n",
      " 12  loudness          170653 non-null  float64\n",
      " 13  mode              170653 non-null  int64  \n",
      " 14  name              170653 non-null  object \n",
      " 15  popularity        170653 non-null  int64  \n",
      " 16  release_date      170653 non-null  object \n",
      " 17  speechiness       170653 non-null  float64\n",
      " 18  tempo             170653 non-null  float64\n",
      "dtypes: float64(9), int64(5), object(5)\n",
      "memory usage: 24.7+ MB\n"
     ]
    }
   ],
   "source": [
    "data_df.info()"
   ]
  },
  {
   "cell_type": "code",
   "execution_count": null,
   "metadata": {},
   "outputs": [],
   "source": []
  }
 ],
 "metadata": {
  "kernelspec": {
   "display_name": "Python 3",
   "language": "python",
   "name": "python3"
  },
  "language_info": {
   "codemirror_mode": {
    "name": "ipython",
    "version": 3
   },
   "file_extension": ".py",
   "mimetype": "text/x-python",
   "name": "python",
   "nbconvert_exporter": "python",
   "pygments_lexer": "ipython3",
   "version": "3.8.5"
  }
 },
 "nbformat": 4,
 "nbformat_minor": 4
}
