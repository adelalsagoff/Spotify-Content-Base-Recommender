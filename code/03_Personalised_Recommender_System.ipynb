{
 "cells": [
  {
   "cell_type": "markdown",
   "metadata": {},
   "source": [
    "## Import Libraries"
   ]
  },
  {
   "cell_type": "code",
   "execution_count": 1,
   "metadata": {},
   "outputs": [],
   "source": [
    "import pandas as pd\n",
    "import numpy as np\n",
    "import matplotlib.pyplot as plt\n",
    "import seaborn as sns\n",
    "\n",
    "from numpy import dot\n",
    "from numpy.linalg import norm\n",
    "\n",
    "from sklearn.model_selection import train_test_split, cross_val_score, GridSearchCV\n",
    "from sklearn.pipeline import Pipeline\n",
    "from sklearn.preprocessing import StandardScaler\n",
    "\n",
    "from sklearn.naive_bayes import MultinomialNB\n",
    "from sklearn.linear_model import LogisticRegression\n",
    "from sklearn.ensemble import RandomForestClassifier, GradientBoostingClassifier\n",
    "from xgboost import XGBClassifier\n",
    "\n",
    "from imblearn.over_sampling import SMOTE\n",
    "\n",
    "from sklearn.metrics import confusion_matrix, plot_confusion_matrix\n",
    "\n",
    "plt.style.use('fivethirtyeight')"
   ]
  },
  {
   "cell_type": "markdown",
   "metadata": {},
   "source": [
    "## Load Datasets"
   ]
  },
  {
   "cell_type": "code",
   "execution_count": 2,
   "metadata": {},
   "outputs": [],
   "source": [
    "streaming1 = pd.read_json('../data/StreamingHistory0.json')\n",
    "streaming2 = pd.read_json('../data/StreamingHistory1.json')\n",
    "streaming3 = pd.read_json('../data/StreamingHistory2.json')\n",
    "streaming4 = pd.read_json('../data/StreamingHistory3.json')\n",
    "data_df = pd.read_csv('../data/spotify_songs_1922/cleaned_data.csv')"
   ]
  },
  {
   "cell_type": "code",
   "execution_count": 3,
   "metadata": {},
   "outputs": [
    {
     "data": {
      "text/html": [
       "<div>\n",
       "<style scoped>\n",
       "    .dataframe tbody tr th:only-of-type {\n",
       "        vertical-align: middle;\n",
       "    }\n",
       "\n",
       "    .dataframe tbody tr th {\n",
       "        vertical-align: top;\n",
       "    }\n",
       "\n",
       "    .dataframe thead th {\n",
       "        text-align: right;\n",
       "    }\n",
       "</style>\n",
       "<table border=\"1\" class=\"dataframe\">\n",
       "  <thead>\n",
       "    <tr style=\"text-align: right;\">\n",
       "      <th></th>\n",
       "      <th>valence</th>\n",
       "      <th>year</th>\n",
       "      <th>acousticness</th>\n",
       "      <th>artists</th>\n",
       "      <th>danceability</th>\n",
       "      <th>duration_ms</th>\n",
       "      <th>energy</th>\n",
       "      <th>explicit</th>\n",
       "      <th>id</th>\n",
       "      <th>instrumentalness</th>\n",
       "      <th>...</th>\n",
       "      <th>liveness</th>\n",
       "      <th>loudness</th>\n",
       "      <th>mode</th>\n",
       "      <th>name</th>\n",
       "      <th>popularity</th>\n",
       "      <th>release_date</th>\n",
       "      <th>speechiness</th>\n",
       "      <th>tempo</th>\n",
       "      <th>main_artist</th>\n",
       "      <th>feat_artist</th>\n",
       "    </tr>\n",
       "  </thead>\n",
       "  <tbody>\n",
       "    <tr>\n",
       "      <th>0</th>\n",
       "      <td>0.9630</td>\n",
       "      <td>1921</td>\n",
       "      <td>0.732</td>\n",
       "      <td>['Dennis Day']</td>\n",
       "      <td>0.819</td>\n",
       "      <td>180533</td>\n",
       "      <td>0.341</td>\n",
       "      <td>0</td>\n",
       "      <td>7xPhfUan2yNtyFG0cUWkt8</td>\n",
       "      <td>0.000000</td>\n",
       "      <td>...</td>\n",
       "      <td>0.160</td>\n",
       "      <td>-12.441</td>\n",
       "      <td>1</td>\n",
       "      <td>Clancy Lowered the Boom</td>\n",
       "      <td>5</td>\n",
       "      <td>1921</td>\n",
       "      <td>0.4150</td>\n",
       "      <td>60.936</td>\n",
       "      <td>Dennis Day</td>\n",
       "      <td>[]</td>\n",
       "    </tr>\n",
       "    <tr>\n",
       "      <th>1</th>\n",
       "      <td>0.0394</td>\n",
       "      <td>1921</td>\n",
       "      <td>0.961</td>\n",
       "      <td>['KHP Kridhamardawa Karaton Ngayogyakarta Hadi...</td>\n",
       "      <td>0.328</td>\n",
       "      <td>500062</td>\n",
       "      <td>0.166</td>\n",
       "      <td>0</td>\n",
       "      <td>1o6I8BglA6ylDMrIELygv1</td>\n",
       "      <td>0.913000</td>\n",
       "      <td>...</td>\n",
       "      <td>0.101</td>\n",
       "      <td>-14.850</td>\n",
       "      <td>1</td>\n",
       "      <td>Gati Bali</td>\n",
       "      <td>5</td>\n",
       "      <td>1921</td>\n",
       "      <td>0.0339</td>\n",
       "      <td>110.339</td>\n",
       "      <td>KHP Kridhamardawa Karaton Ngayogyakarta Hadini...</td>\n",
       "      <td>[]</td>\n",
       "    </tr>\n",
       "    <tr>\n",
       "      <th>2</th>\n",
       "      <td>0.1650</td>\n",
       "      <td>1921</td>\n",
       "      <td>0.967</td>\n",
       "      <td>['Frank Parker']</td>\n",
       "      <td>0.275</td>\n",
       "      <td>210000</td>\n",
       "      <td>0.309</td>\n",
       "      <td>0</td>\n",
       "      <td>3ftBPsC5vPBKxYSee08FDH</td>\n",
       "      <td>0.000028</td>\n",
       "      <td>...</td>\n",
       "      <td>0.381</td>\n",
       "      <td>-9.316</td>\n",
       "      <td>1</td>\n",
       "      <td>Danny Boy</td>\n",
       "      <td>3</td>\n",
       "      <td>1921</td>\n",
       "      <td>0.0354</td>\n",
       "      <td>100.109</td>\n",
       "      <td>Frank Parker</td>\n",
       "      <td>[]</td>\n",
       "    </tr>\n",
       "    <tr>\n",
       "      <th>3</th>\n",
       "      <td>0.2530</td>\n",
       "      <td>1921</td>\n",
       "      <td>0.957</td>\n",
       "      <td>['Phil Regan']</td>\n",
       "      <td>0.418</td>\n",
       "      <td>166693</td>\n",
       "      <td>0.193</td>\n",
       "      <td>0</td>\n",
       "      <td>4d6HGyGT8e121BsdKmw9v6</td>\n",
       "      <td>0.000002</td>\n",
       "      <td>...</td>\n",
       "      <td>0.229</td>\n",
       "      <td>-10.096</td>\n",
       "      <td>1</td>\n",
       "      <td>When Irish Eyes Are Smiling</td>\n",
       "      <td>2</td>\n",
       "      <td>1921</td>\n",
       "      <td>0.0380</td>\n",
       "      <td>101.665</td>\n",
       "      <td>Phil Regan</td>\n",
       "      <td>[]</td>\n",
       "    </tr>\n",
       "    <tr>\n",
       "      <th>4</th>\n",
       "      <td>0.1960</td>\n",
       "      <td>1921</td>\n",
       "      <td>0.579</td>\n",
       "      <td>['KHP Kridhamardawa Karaton Ngayogyakarta Hadi...</td>\n",
       "      <td>0.697</td>\n",
       "      <td>395076</td>\n",
       "      <td>0.346</td>\n",
       "      <td>0</td>\n",
       "      <td>4pyw9DVHGStUre4J6hPngr</td>\n",
       "      <td>0.168000</td>\n",
       "      <td>...</td>\n",
       "      <td>0.130</td>\n",
       "      <td>-12.506</td>\n",
       "      <td>1</td>\n",
       "      <td>Gati Mardika</td>\n",
       "      <td>6</td>\n",
       "      <td>1921</td>\n",
       "      <td>0.0700</td>\n",
       "      <td>119.824</td>\n",
       "      <td>KHP Kridhamardawa Karaton Ngayogyakarta Hadini...</td>\n",
       "      <td>[]</td>\n",
       "    </tr>\n",
       "  </tbody>\n",
       "</table>\n",
       "<p>5 rows × 21 columns</p>\n",
       "</div>"
      ],
      "text/plain": [
       "   valence  year  acousticness  \\\n",
       "0   0.9630  1921         0.732   \n",
       "1   0.0394  1921         0.961   \n",
       "2   0.1650  1921         0.967   \n",
       "3   0.2530  1921         0.957   \n",
       "4   0.1960  1921         0.579   \n",
       "\n",
       "                                             artists  danceability  \\\n",
       "0                                     ['Dennis Day']         0.819   \n",
       "1  ['KHP Kridhamardawa Karaton Ngayogyakarta Hadi...         0.328   \n",
       "2                                   ['Frank Parker']         0.275   \n",
       "3                                     ['Phil Regan']         0.418   \n",
       "4  ['KHP Kridhamardawa Karaton Ngayogyakarta Hadi...         0.697   \n",
       "\n",
       "   duration_ms  energy  explicit                      id  instrumentalness  \\\n",
       "0       180533   0.341         0  7xPhfUan2yNtyFG0cUWkt8          0.000000   \n",
       "1       500062   0.166         0  1o6I8BglA6ylDMrIELygv1          0.913000   \n",
       "2       210000   0.309         0  3ftBPsC5vPBKxYSee08FDH          0.000028   \n",
       "3       166693   0.193         0  4d6HGyGT8e121BsdKmw9v6          0.000002   \n",
       "4       395076   0.346         0  4pyw9DVHGStUre4J6hPngr          0.168000   \n",
       "\n",
       "   ...  liveness  loudness  mode                         name popularity  \\\n",
       "0  ...     0.160   -12.441     1      Clancy Lowered the Boom          5   \n",
       "1  ...     0.101   -14.850     1                    Gati Bali          5   \n",
       "2  ...     0.381    -9.316     1                    Danny Boy          3   \n",
       "3  ...     0.229   -10.096     1  When Irish Eyes Are Smiling          2   \n",
       "4  ...     0.130   -12.506     1                 Gati Mardika          6   \n",
       "\n",
       "   release_date speechiness    tempo  \\\n",
       "0          1921      0.4150   60.936   \n",
       "1          1921      0.0339  110.339   \n",
       "2          1921      0.0354  100.109   \n",
       "3          1921      0.0380  101.665   \n",
       "4          1921      0.0700  119.824   \n",
       "\n",
       "                                         main_artist feat_artist  \n",
       "0                                         Dennis Day          []  \n",
       "1  KHP Kridhamardawa Karaton Ngayogyakarta Hadini...          []  \n",
       "2                                       Frank Parker          []  \n",
       "3                                         Phil Regan          []  \n",
       "4  KHP Kridhamardawa Karaton Ngayogyakarta Hadini...          []  \n",
       "\n",
       "[5 rows x 21 columns]"
      ]
     },
     "execution_count": 3,
     "metadata": {},
     "output_type": "execute_result"
    }
   ],
   "source": [
    "#show first 5 rows of data\n",
    "data_df.head()"
   ]
  },
  {
   "cell_type": "code",
   "execution_count": 4,
   "metadata": {},
   "outputs": [
    {
     "name": "stdout",
     "output_type": "stream",
     "text": [
      "<class 'pandas.core.frame.DataFrame'>\n",
      "RangeIndex: 155098 entries, 0 to 155097\n",
      "Data columns (total 21 columns):\n",
      " #   Column            Non-Null Count   Dtype  \n",
      "---  ------            --------------   -----  \n",
      " 0   valence           155098 non-null  float64\n",
      " 1   year              155098 non-null  int64  \n",
      " 2   acousticness      155098 non-null  float64\n",
      " 3   artists           155098 non-null  object \n",
      " 4   danceability      155098 non-null  float64\n",
      " 5   duration_ms       155098 non-null  int64  \n",
      " 6   energy            155098 non-null  float64\n",
      " 7   explicit          155098 non-null  int64  \n",
      " 8   id                155098 non-null  object \n",
      " 9   instrumentalness  155098 non-null  float64\n",
      " 10  key               155098 non-null  int64  \n",
      " 11  liveness          155098 non-null  float64\n",
      " 12  loudness          155098 non-null  float64\n",
      " 13  mode              155098 non-null  int64  \n",
      " 14  name              155098 non-null  object \n",
      " 15  popularity        155098 non-null  int64  \n",
      " 16  release_date      155098 non-null  object \n",
      " 17  speechiness       155098 non-null  float64\n",
      " 18  tempo             155098 non-null  float64\n",
      " 19  main_artist       155086 non-null  object \n",
      " 20  feat_artist       155098 non-null  object \n",
      "dtypes: float64(9), int64(6), object(6)\n",
      "memory usage: 24.8+ MB\n"
     ]
    }
   ],
   "source": [
    "#show information of data_df\n",
    "data_df.info()"
   ]
  },
  {
   "cell_type": "markdown",
   "metadata": {},
   "source": [
    "## Cleaning and Transforming Dataset"
   ]
  },
  {
   "cell_type": "code",
   "execution_count": 5,
   "metadata": {},
   "outputs": [],
   "source": [
    "#combine streaming dataset together\n",
    "streaming = pd.concat([streaming1,streaming2,streaming3,streaming4],axis = 0)\n",
    "streaming.reset_index(drop = True, inplace = True)"
   ]
  },
  {
   "cell_type": "code",
   "execution_count": 6,
   "metadata": {},
   "outputs": [
    {
     "name": "stdout",
     "output_type": "stream",
     "text": [
      "<class 'pandas.core.frame.DataFrame'>\n",
      "RangeIndex: 33078 entries, 0 to 33077\n",
      "Data columns (total 4 columns):\n",
      " #   Column      Non-Null Count  Dtype \n",
      "---  ------      --------------  ----- \n",
      " 0   endTime     33078 non-null  object\n",
      " 1   artistName  33078 non-null  object\n",
      " 2   trackName   33078 non-null  object\n",
      " 3   msPlayed    33078 non-null  int64 \n",
      "dtypes: int64(1), object(3)\n",
      "memory usage: 1.0+ MB\n"
     ]
    }
   ],
   "source": [
    "streaming.info()"
   ]
  },
  {
   "cell_type": "code",
   "execution_count": 7,
   "metadata": {},
   "outputs": [
    {
     "data": {
      "text/plain": [
       "0"
      ]
     },
     "execution_count": 7,
     "metadata": {},
     "output_type": "execute_result"
    }
   ],
   "source": [
    "#check for duplicates\n",
    "streaming.duplicated().sum()"
   ]
  },
  {
   "cell_type": "code",
   "execution_count": 8,
   "metadata": {},
   "outputs": [
    {
     "data": {
      "text/html": [
       "<div>\n",
       "<style scoped>\n",
       "    .dataframe tbody tr th:only-of-type {\n",
       "        vertical-align: middle;\n",
       "    }\n",
       "\n",
       "    .dataframe tbody tr th {\n",
       "        vertical-align: top;\n",
       "    }\n",
       "\n",
       "    .dataframe thead th {\n",
       "        text-align: right;\n",
       "    }\n",
       "</style>\n",
       "<table border=\"1\" class=\"dataframe\">\n",
       "  <thead>\n",
       "    <tr style=\"text-align: right;\">\n",
       "      <th></th>\n",
       "      <th>endTime</th>\n",
       "      <th>artistName</th>\n",
       "      <th>trackName</th>\n",
       "      <th>msPlayed</th>\n",
       "    </tr>\n",
       "  </thead>\n",
       "  <tbody>\n",
       "    <tr>\n",
       "      <th>760</th>\n",
       "      <td>2020-06-02 04:46</td>\n",
       "      <td>Drake</td>\n",
       "      <td>Desires (with Future)</td>\n",
       "      <td>84799</td>\n",
       "    </tr>\n",
       "    <tr>\n",
       "      <th>765</th>\n",
       "      <td>2020-06-02 11:33</td>\n",
       "      <td>Drake</td>\n",
       "      <td>Grammys</td>\n",
       "      <td>220426</td>\n",
       "    </tr>\n",
       "    <tr>\n",
       "      <th>872</th>\n",
       "      <td>2020-06-03 11:32</td>\n",
       "      <td>Drake</td>\n",
       "      <td>Teenage Fever</td>\n",
       "      <td>219692</td>\n",
       "    </tr>\n",
       "    <tr>\n",
       "      <th>910</th>\n",
       "      <td>2020-06-04 04:51</td>\n",
       "      <td>Drake</td>\n",
       "      <td>Toosie Slide</td>\n",
       "      <td>247058</td>\n",
       "    </tr>\n",
       "    <tr>\n",
       "      <th>1016</th>\n",
       "      <td>2020-06-06 11:15</td>\n",
       "      <td>Drake</td>\n",
       "      <td>Toosie Slide</td>\n",
       "      <td>247058</td>\n",
       "    </tr>\n",
       "    <tr>\n",
       "      <th>...</th>\n",
       "      <td>...</td>\n",
       "      <td>...</td>\n",
       "      <td>...</td>\n",
       "      <td>...</td>\n",
       "    </tr>\n",
       "    <tr>\n",
       "      <th>32594</th>\n",
       "      <td>2021-05-15 05:44</td>\n",
       "      <td>Drake</td>\n",
       "      <td>Light Up</td>\n",
       "      <td>274146</td>\n",
       "    </tr>\n",
       "    <tr>\n",
       "      <th>32629</th>\n",
       "      <td>2021-05-17 00:57</td>\n",
       "      <td>Drake</td>\n",
       "      <td>Wants and Needs (feat. Lil Baby)</td>\n",
       "      <td>192956</td>\n",
       "    </tr>\n",
       "    <tr>\n",
       "      <th>33003</th>\n",
       "      <td>2021-05-22 08:54</td>\n",
       "      <td>Drake</td>\n",
       "      <td>What’s Next</td>\n",
       "      <td>178153</td>\n",
       "    </tr>\n",
       "    <tr>\n",
       "      <th>33010</th>\n",
       "      <td>2021-05-22 09:16</td>\n",
       "      <td>Drake</td>\n",
       "      <td>Wants and Needs (feat. Lil Baby)</td>\n",
       "      <td>192956</td>\n",
       "    </tr>\n",
       "    <tr>\n",
       "      <th>33023</th>\n",
       "      <td>2021-05-22 10:00</td>\n",
       "      <td>Drake</td>\n",
       "      <td>Toosie Slide</td>\n",
       "      <td>247058</td>\n",
       "    </tr>\n",
       "  </tbody>\n",
       "</table>\n",
       "<p>657 rows × 4 columns</p>\n",
       "</div>"
      ],
      "text/plain": [
       "                endTime artistName                         trackName  msPlayed\n",
       "760    2020-06-02 04:46      Drake             Desires (with Future)     84799\n",
       "765    2020-06-02 11:33      Drake                           Grammys    220426\n",
       "872    2020-06-03 11:32      Drake                     Teenage Fever    219692\n",
       "910    2020-06-04 04:51      Drake                      Toosie Slide    247058\n",
       "1016   2020-06-06 11:15      Drake                      Toosie Slide    247058\n",
       "...                 ...        ...                               ...       ...\n",
       "32594  2021-05-15 05:44      Drake                          Light Up    274146\n",
       "32629  2021-05-17 00:57      Drake  Wants and Needs (feat. Lil Baby)    192956\n",
       "33003  2021-05-22 08:54      Drake                       What’s Next    178153\n",
       "33010  2021-05-22 09:16      Drake  Wants and Needs (feat. Lil Baby)    192956\n",
       "33023  2021-05-22 10:00      Drake                      Toosie Slide    247058\n",
       "\n",
       "[657 rows x 4 columns]"
      ]
     },
     "execution_count": 8,
     "metadata": {},
     "output_type": "execute_result"
    }
   ],
   "source": [
    "#further check for duplicates\n",
    "streaming[streaming.artistName == 'Drake']"
   ]
  },
  {
   "cell_type": "markdown",
   "metadata": {},
   "source": [
    "It appears that the duplicates are for separate sessions where the same songs from an artist was played. "
   ]
  },
  {
   "cell_type": "code",
   "execution_count": 9,
   "metadata": {},
   "outputs": [
    {
     "data": {
      "text/html": [
       "<div>\n",
       "<style scoped>\n",
       "    .dataframe tbody tr th:only-of-type {\n",
       "        vertical-align: middle;\n",
       "    }\n",
       "\n",
       "    .dataframe tbody tr th {\n",
       "        vertical-align: top;\n",
       "    }\n",
       "\n",
       "    .dataframe thead th {\n",
       "        text-align: right;\n",
       "    }\n",
       "</style>\n",
       "<table border=\"1\" class=\"dataframe\">\n",
       "  <thead>\n",
       "    <tr style=\"text-align: right;\">\n",
       "      <th></th>\n",
       "      <th>endTime</th>\n",
       "      <th>artistName</th>\n",
       "      <th>trackName</th>\n",
       "      <th>msPlayed</th>\n",
       "    </tr>\n",
       "  </thead>\n",
       "  <tbody>\n",
       "    <tr>\n",
       "      <th>32037</th>\n",
       "      <td>2021-05-04 19:57</td>\n",
       "      <td>The Joe Rogan Experience</td>\n",
       "      <td>JRE MMA Show #107 with Georges St-Pierre</td>\n",
       "      <td>9617249</td>\n",
       "    </tr>\n",
       "    <tr>\n",
       "      <th>32272</th>\n",
       "      <td>2021-05-10 00:55</td>\n",
       "      <td>The Joe Rogan Experience</td>\n",
       "      <td>#1647 - Dave Chappelle</td>\n",
       "      <td>8610938</td>\n",
       "    </tr>\n",
       "    <tr>\n",
       "      <th>19089</th>\n",
       "      <td>2020-12-07 05:27</td>\n",
       "      <td>The Joe Rogan Experience</td>\n",
       "      <td>#1573 - Matthew Yglesias</td>\n",
       "      <td>6971794</td>\n",
       "    </tr>\n",
       "    <tr>\n",
       "      <th>32218</th>\n",
       "      <td>2021-05-09 09:57</td>\n",
       "      <td>The Joe Rogan Experience</td>\n",
       "      <td>#1647 - Dave Chappelle</td>\n",
       "      <td>6957604</td>\n",
       "    </tr>\n",
       "    <tr>\n",
       "      <th>22394</th>\n",
       "      <td>2021-01-08 16:07</td>\n",
       "      <td>The Joe Rogan Experience</td>\n",
       "      <td>#1580 - Andrew Schulz</td>\n",
       "      <td>6034848</td>\n",
       "    </tr>\n",
       "  </tbody>\n",
       "</table>\n",
       "</div>"
      ],
      "text/plain": [
       "                endTime                artistName  \\\n",
       "32037  2021-05-04 19:57  The Joe Rogan Experience   \n",
       "32272  2021-05-10 00:55  The Joe Rogan Experience   \n",
       "19089  2020-12-07 05:27  The Joe Rogan Experience   \n",
       "32218  2021-05-09 09:57  The Joe Rogan Experience   \n",
       "22394  2021-01-08 16:07  The Joe Rogan Experience   \n",
       "\n",
       "                                      trackName  msPlayed  \n",
       "32037  JRE MMA Show #107 with Georges St-Pierre   9617249  \n",
       "32272                    #1647 - Dave Chappelle   8610938  \n",
       "19089                  #1573 - Matthew Yglesias   6971794  \n",
       "32218                    #1647 - Dave Chappelle   6957604  \n",
       "22394                     #1580 - Andrew Schulz   6034848  "
      ]
     },
     "execution_count": 9,
     "metadata": {},
     "output_type": "execute_result"
    }
   ],
   "source": [
    "streaming.sort_values('msPlayed',ascending = False).head()"
   ]
  },
  {
   "cell_type": "markdown",
   "metadata": {},
   "source": [
    "The streaming datasets have podcasts in it. It doesnt matter, as the dataset for recommendations would have been cleaned for podcast episodes. The streaming dataset will be merged with the recommendations dataset based on track name and artist. However will sum the listening times for tracks that had multiple listening sessions. "
   ]
  },
  {
   "cell_type": "code",
   "execution_count": 10,
   "metadata": {},
   "outputs": [
    {
     "data": {
      "text/plain": [
       "Kanye West                      807\n",
       "Drake                           657\n",
       "Future                          656\n",
       "Playboi Carti                   602\n",
       "Lil Uzi Vert                    550\n",
       "                               ... \n",
       "Bobby \"Blue\" Bland                1\n",
       "LisaMadeIt                        1\n",
       "S. Fidelity                       1\n",
       "Lil Jon & The East Side Boyz      1\n",
       "Emeli Sandé                       1\n",
       "Name: artistName, Length: 2450, dtype: int64"
      ]
     },
     "execution_count": 10,
     "metadata": {},
     "output_type": "execute_result"
    }
   ],
   "source": [
    "streaming.artistName.value_counts()"
   ]
  },
  {
   "cell_type": "code",
   "execution_count": 11,
   "metadata": {},
   "outputs": [],
   "source": [
    "#set new df as the new streaming df \n",
    "streaming_df = streaming.groupby(['artistName','trackName']).sum().reset_index()"
   ]
  },
  {
   "cell_type": "code",
   "execution_count": 12,
   "metadata": {},
   "outputs": [
    {
     "data": {
      "text/plain": [
       "(8749, 3)"
      ]
     },
     "execution_count": 12,
     "metadata": {},
     "output_type": "execute_result"
    }
   ],
   "source": [
    "streaming_df.shape"
   ]
  },
  {
   "cell_type": "code",
   "execution_count": 13,
   "metadata": {},
   "outputs": [
    {
     "data": {
      "text/html": [
       "<div>\n",
       "<style scoped>\n",
       "    .dataframe tbody tr th:only-of-type {\n",
       "        vertical-align: middle;\n",
       "    }\n",
       "\n",
       "    .dataframe tbody tr th {\n",
       "        vertical-align: top;\n",
       "    }\n",
       "\n",
       "    .dataframe thead th {\n",
       "        text-align: right;\n",
       "    }\n",
       "</style>\n",
       "<table border=\"1\" class=\"dataframe\">\n",
       "  <thead>\n",
       "    <tr style=\"text-align: right;\">\n",
       "      <th></th>\n",
       "      <th>artistName</th>\n",
       "      <th>trackName</th>\n",
       "      <th>msPlayed</th>\n",
       "    </tr>\n",
       "  </thead>\n",
       "  <tbody>\n",
       "    <tr>\n",
       "      <th>0</th>\n",
       "      <td>The No Good Podcast</td>\n",
       "      <td>2 Chainz - Money Maker Lil Wayne</td>\n",
       "      <td>91135</td>\n",
       "    </tr>\n",
       "    <tr>\n",
       "      <th>1</th>\n",
       "      <td>$NOT</td>\n",
       "      <td>BERETTA (feat. Wifisfuneral)</td>\n",
       "      <td>160731</td>\n",
       "    </tr>\n",
       "    <tr>\n",
       "      <th>2</th>\n",
       "      <td>$NOT</td>\n",
       "      <td>GOSHA</td>\n",
       "      <td>24175</td>\n",
       "    </tr>\n",
       "    <tr>\n",
       "      <th>3</th>\n",
       "      <td>$NOT</td>\n",
       "      <td>Human (feat. Night Lovell)</td>\n",
       "      <td>224221</td>\n",
       "    </tr>\n",
       "    <tr>\n",
       "      <th>4</th>\n",
       "      <td>$NOT</td>\n",
       "      <td>Moon &amp; Stars (feat. Maggie Lindemann)</td>\n",
       "      <td>187586</td>\n",
       "    </tr>\n",
       "  </tbody>\n",
       "</table>\n",
       "</div>"
      ],
      "text/plain": [
       "              artistName                              trackName  msPlayed\n",
       "0   The No Good Podcast       2 Chainz - Money Maker Lil Wayne      91135\n",
       "1                   $NOT           BERETTA (feat. Wifisfuneral)    160731\n",
       "2                   $NOT                                  GOSHA     24175\n",
       "3                   $NOT             Human (feat. Night Lovell)    224221\n",
       "4                   $NOT  Moon & Stars (feat. Maggie Lindemann)    187586"
      ]
     },
     "execution_count": 13,
     "metadata": {},
     "output_type": "execute_result"
    }
   ],
   "source": [
    "#show first  rows of \n",
    "streaming_df.head()"
   ]
  },
  {
   "cell_type": "code",
   "execution_count": 14,
   "metadata": {},
   "outputs": [
    {
     "data": {
      "text/plain": [
       "Index(['valence', 'year', 'acousticness', 'artists', 'danceability',\n",
       "       'duration_ms', 'energy', 'explicit', 'id', 'instrumentalness', 'key',\n",
       "       'liveness', 'loudness', 'mode', 'name', 'popularity', 'release_date',\n",
       "       'speechiness', 'tempo', 'main_artist', 'feat_artist'],\n",
       "      dtype='object')"
      ]
     },
     "execution_count": 14,
     "metadata": {},
     "output_type": "execute_result"
    }
   ],
   "source": [
    "data_df.columns"
   ]
  },
  {
   "cell_type": "code",
   "execution_count": 15,
   "metadata": {},
   "outputs": [],
   "source": [
    "#change streaming_df column to concat\n",
    "streaming_df.rename(columns={'trackName':'name','artistName':'main_artist'},inplace=True) "
   ]
  },
  {
   "cell_type": "code",
   "execution_count": 16,
   "metadata": {},
   "outputs": [],
   "source": [
    "#combined datasets on the name and main artist columns\n",
    "combined_df = pd.merge(data_df,streaming_df, how = 'left', on =['name','main_artist'])"
   ]
  },
  {
   "cell_type": "code",
   "execution_count": 17,
   "metadata": {},
   "outputs": [
    {
     "data": {
      "text/html": [
       "<div>\n",
       "<style scoped>\n",
       "    .dataframe tbody tr th:only-of-type {\n",
       "        vertical-align: middle;\n",
       "    }\n",
       "\n",
       "    .dataframe tbody tr th {\n",
       "        vertical-align: top;\n",
       "    }\n",
       "\n",
       "    .dataframe thead th {\n",
       "        text-align: right;\n",
       "    }\n",
       "</style>\n",
       "<table border=\"1\" class=\"dataframe\">\n",
       "  <thead>\n",
       "    <tr style=\"text-align: right;\">\n",
       "      <th></th>\n",
       "      <th>valence</th>\n",
       "      <th>year</th>\n",
       "      <th>acousticness</th>\n",
       "      <th>artists</th>\n",
       "      <th>danceability</th>\n",
       "      <th>duration_ms</th>\n",
       "      <th>energy</th>\n",
       "      <th>explicit</th>\n",
       "      <th>id</th>\n",
       "      <th>instrumentalness</th>\n",
       "      <th>...</th>\n",
       "      <th>loudness</th>\n",
       "      <th>mode</th>\n",
       "      <th>name</th>\n",
       "      <th>popularity</th>\n",
       "      <th>release_date</th>\n",
       "      <th>speechiness</th>\n",
       "      <th>tempo</th>\n",
       "      <th>main_artist</th>\n",
       "      <th>feat_artist</th>\n",
       "      <th>msPlayed</th>\n",
       "    </tr>\n",
       "  </thead>\n",
       "  <tbody>\n",
       "    <tr>\n",
       "      <th>0</th>\n",
       "      <td>0.9630</td>\n",
       "      <td>1921</td>\n",
       "      <td>0.732</td>\n",
       "      <td>['Dennis Day']</td>\n",
       "      <td>0.819</td>\n",
       "      <td>180533</td>\n",
       "      <td>0.341</td>\n",
       "      <td>0</td>\n",
       "      <td>7xPhfUan2yNtyFG0cUWkt8</td>\n",
       "      <td>0.000000</td>\n",
       "      <td>...</td>\n",
       "      <td>-12.441</td>\n",
       "      <td>1</td>\n",
       "      <td>Clancy Lowered the Boom</td>\n",
       "      <td>5</td>\n",
       "      <td>1921</td>\n",
       "      <td>0.4150</td>\n",
       "      <td>60.936</td>\n",
       "      <td>Dennis Day</td>\n",
       "      <td>[]</td>\n",
       "      <td>NaN</td>\n",
       "    </tr>\n",
       "    <tr>\n",
       "      <th>1</th>\n",
       "      <td>0.0394</td>\n",
       "      <td>1921</td>\n",
       "      <td>0.961</td>\n",
       "      <td>['KHP Kridhamardawa Karaton Ngayogyakarta Hadi...</td>\n",
       "      <td>0.328</td>\n",
       "      <td>500062</td>\n",
       "      <td>0.166</td>\n",
       "      <td>0</td>\n",
       "      <td>1o6I8BglA6ylDMrIELygv1</td>\n",
       "      <td>0.913000</td>\n",
       "      <td>...</td>\n",
       "      <td>-14.850</td>\n",
       "      <td>1</td>\n",
       "      <td>Gati Bali</td>\n",
       "      <td>5</td>\n",
       "      <td>1921</td>\n",
       "      <td>0.0339</td>\n",
       "      <td>110.339</td>\n",
       "      <td>KHP Kridhamardawa Karaton Ngayogyakarta Hadini...</td>\n",
       "      <td>[]</td>\n",
       "      <td>NaN</td>\n",
       "    </tr>\n",
       "    <tr>\n",
       "      <th>2</th>\n",
       "      <td>0.1650</td>\n",
       "      <td>1921</td>\n",
       "      <td>0.967</td>\n",
       "      <td>['Frank Parker']</td>\n",
       "      <td>0.275</td>\n",
       "      <td>210000</td>\n",
       "      <td>0.309</td>\n",
       "      <td>0</td>\n",
       "      <td>3ftBPsC5vPBKxYSee08FDH</td>\n",
       "      <td>0.000028</td>\n",
       "      <td>...</td>\n",
       "      <td>-9.316</td>\n",
       "      <td>1</td>\n",
       "      <td>Danny Boy</td>\n",
       "      <td>3</td>\n",
       "      <td>1921</td>\n",
       "      <td>0.0354</td>\n",
       "      <td>100.109</td>\n",
       "      <td>Frank Parker</td>\n",
       "      <td>[]</td>\n",
       "      <td>NaN</td>\n",
       "    </tr>\n",
       "    <tr>\n",
       "      <th>3</th>\n",
       "      <td>0.2530</td>\n",
       "      <td>1921</td>\n",
       "      <td>0.957</td>\n",
       "      <td>['Phil Regan']</td>\n",
       "      <td>0.418</td>\n",
       "      <td>166693</td>\n",
       "      <td>0.193</td>\n",
       "      <td>0</td>\n",
       "      <td>4d6HGyGT8e121BsdKmw9v6</td>\n",
       "      <td>0.000002</td>\n",
       "      <td>...</td>\n",
       "      <td>-10.096</td>\n",
       "      <td>1</td>\n",
       "      <td>When Irish Eyes Are Smiling</td>\n",
       "      <td>2</td>\n",
       "      <td>1921</td>\n",
       "      <td>0.0380</td>\n",
       "      <td>101.665</td>\n",
       "      <td>Phil Regan</td>\n",
       "      <td>[]</td>\n",
       "      <td>NaN</td>\n",
       "    </tr>\n",
       "    <tr>\n",
       "      <th>4</th>\n",
       "      <td>0.1960</td>\n",
       "      <td>1921</td>\n",
       "      <td>0.579</td>\n",
       "      <td>['KHP Kridhamardawa Karaton Ngayogyakarta Hadi...</td>\n",
       "      <td>0.697</td>\n",
       "      <td>395076</td>\n",
       "      <td>0.346</td>\n",
       "      <td>0</td>\n",
       "      <td>4pyw9DVHGStUre4J6hPngr</td>\n",
       "      <td>0.168000</td>\n",
       "      <td>...</td>\n",
       "      <td>-12.506</td>\n",
       "      <td>1</td>\n",
       "      <td>Gati Mardika</td>\n",
       "      <td>6</td>\n",
       "      <td>1921</td>\n",
       "      <td>0.0700</td>\n",
       "      <td>119.824</td>\n",
       "      <td>KHP Kridhamardawa Karaton Ngayogyakarta Hadini...</td>\n",
       "      <td>[]</td>\n",
       "      <td>NaN</td>\n",
       "    </tr>\n",
       "  </tbody>\n",
       "</table>\n",
       "<p>5 rows × 22 columns</p>\n",
       "</div>"
      ],
      "text/plain": [
       "   valence  year  acousticness  \\\n",
       "0   0.9630  1921         0.732   \n",
       "1   0.0394  1921         0.961   \n",
       "2   0.1650  1921         0.967   \n",
       "3   0.2530  1921         0.957   \n",
       "4   0.1960  1921         0.579   \n",
       "\n",
       "                                             artists  danceability  \\\n",
       "0                                     ['Dennis Day']         0.819   \n",
       "1  ['KHP Kridhamardawa Karaton Ngayogyakarta Hadi...         0.328   \n",
       "2                                   ['Frank Parker']         0.275   \n",
       "3                                     ['Phil Regan']         0.418   \n",
       "4  ['KHP Kridhamardawa Karaton Ngayogyakarta Hadi...         0.697   \n",
       "\n",
       "   duration_ms  energy  explicit                      id  instrumentalness  \\\n",
       "0       180533   0.341         0  7xPhfUan2yNtyFG0cUWkt8          0.000000   \n",
       "1       500062   0.166         0  1o6I8BglA6ylDMrIELygv1          0.913000   \n",
       "2       210000   0.309         0  3ftBPsC5vPBKxYSee08FDH          0.000028   \n",
       "3       166693   0.193         0  4d6HGyGT8e121BsdKmw9v6          0.000002   \n",
       "4       395076   0.346         0  4pyw9DVHGStUre4J6hPngr          0.168000   \n",
       "\n",
       "   ...  loudness  mode                         name  popularity release_date  \\\n",
       "0  ...   -12.441     1      Clancy Lowered the Boom           5         1921   \n",
       "1  ...   -14.850     1                    Gati Bali           5         1921   \n",
       "2  ...    -9.316     1                    Danny Boy           3         1921   \n",
       "3  ...   -10.096     1  When Irish Eyes Are Smiling           2         1921   \n",
       "4  ...   -12.506     1                 Gati Mardika           6         1921   \n",
       "\n",
       "   speechiness    tempo                                        main_artist  \\\n",
       "0       0.4150   60.936                                         Dennis Day   \n",
       "1       0.0339  110.339  KHP Kridhamardawa Karaton Ngayogyakarta Hadini...   \n",
       "2       0.0354  100.109                                       Frank Parker   \n",
       "3       0.0380  101.665                                         Phil Regan   \n",
       "4       0.0700  119.824  KHP Kridhamardawa Karaton Ngayogyakarta Hadini...   \n",
       "\n",
       "   feat_artist msPlayed  \n",
       "0           []      NaN  \n",
       "1           []      NaN  \n",
       "2           []      NaN  \n",
       "3           []      NaN  \n",
       "4           []      NaN  \n",
       "\n",
       "[5 rows x 22 columns]"
      ]
     },
     "execution_count": 17,
     "metadata": {},
     "output_type": "execute_result"
    }
   ],
   "source": [
    "combined_df.head()"
   ]
  },
  {
   "cell_type": "code",
   "execution_count": 18,
   "metadata": {},
   "outputs": [
    {
     "data": {
      "text/plain": [
       "0"
      ]
     },
     "execution_count": 18,
     "metadata": {},
     "output_type": "execute_result"
    }
   ],
   "source": [
    "combined_df.shape[0] - data_df.shape[0]"
   ]
  },
  {
   "cell_type": "code",
   "execution_count": 19,
   "metadata": {},
   "outputs": [
    {
     "data": {
      "text/html": [
       "<div>\n",
       "<style scoped>\n",
       "    .dataframe tbody tr th:only-of-type {\n",
       "        vertical-align: middle;\n",
       "    }\n",
       "\n",
       "    .dataframe tbody tr th {\n",
       "        vertical-align: top;\n",
       "    }\n",
       "\n",
       "    .dataframe thead th {\n",
       "        text-align: right;\n",
       "    }\n",
       "</style>\n",
       "<table border=\"1\" class=\"dataframe\">\n",
       "  <thead>\n",
       "    <tr style=\"text-align: right;\">\n",
       "      <th></th>\n",
       "      <th>valence</th>\n",
       "      <th>year</th>\n",
       "      <th>acousticness</th>\n",
       "      <th>artists</th>\n",
       "      <th>danceability</th>\n",
       "      <th>duration_ms</th>\n",
       "      <th>energy</th>\n",
       "      <th>explicit</th>\n",
       "      <th>id</th>\n",
       "      <th>instrumentalness</th>\n",
       "      <th>...</th>\n",
       "      <th>loudness</th>\n",
       "      <th>mode</th>\n",
       "      <th>name</th>\n",
       "      <th>popularity</th>\n",
       "      <th>release_date</th>\n",
       "      <th>speechiness</th>\n",
       "      <th>tempo</th>\n",
       "      <th>main_artist</th>\n",
       "      <th>feat_artist</th>\n",
       "      <th>msPlayed</th>\n",
       "    </tr>\n",
       "  </thead>\n",
       "  <tbody>\n",
       "    <tr>\n",
       "      <th>35840</th>\n",
       "      <td>0.837</td>\n",
       "      <td>2020</td>\n",
       "      <td>0.321</td>\n",
       "      <td>['Drake']</td>\n",
       "      <td>0.834</td>\n",
       "      <td>247059</td>\n",
       "      <td>0.454</td>\n",
       "      <td>1</td>\n",
       "      <td>127QTOFJsJQp5LbJbu3A1y</td>\n",
       "      <td>0.000006</td>\n",
       "      <td>...</td>\n",
       "      <td>-9.75</td>\n",
       "      <td>0</td>\n",
       "      <td>Toosie Slide</td>\n",
       "      <td>84</td>\n",
       "      <td>2020-04-03</td>\n",
       "      <td>0.201</td>\n",
       "      <td>81.618</td>\n",
       "      <td>Drake</td>\n",
       "      <td>[]</td>\n",
       "      <td>11280146.0</td>\n",
       "    </tr>\n",
       "  </tbody>\n",
       "</table>\n",
       "<p>1 rows × 22 columns</p>\n",
       "</div>"
      ],
      "text/plain": [
       "       valence  year  acousticness    artists  danceability  duration_ms  \\\n",
       "35840    0.837  2020         0.321  ['Drake']         0.834       247059   \n",
       "\n",
       "       energy  explicit                      id  instrumentalness  ...  \\\n",
       "35840   0.454         1  127QTOFJsJQp5LbJbu3A1y          0.000006  ...   \n",
       "\n",
       "       loudness  mode          name  popularity release_date  speechiness  \\\n",
       "35840     -9.75     0  Toosie Slide          84   2020-04-03        0.201   \n",
       "\n",
       "        tempo  main_artist  feat_artist    msPlayed  \n",
       "35840  81.618        Drake           []  11280146.0  \n",
       "\n",
       "[1 rows x 22 columns]"
      ]
     },
     "execution_count": 19,
     "metadata": {},
     "output_type": "execute_result"
    }
   ],
   "source": [
    "#check if merge was done correctly\n",
    "combined_df[(combined_df.main_artist == 'Drake') & (combined_df.name == 'Toosie Slide')]"
   ]
  },
  {
   "cell_type": "code",
   "execution_count": 20,
   "metadata": {},
   "outputs": [
    {
     "data": {
      "text/plain": [
       "8749"
      ]
     },
     "execution_count": 20,
     "metadata": {},
     "output_type": "execute_result"
    }
   ],
   "source": [
    "streaming_df.shape[0]"
   ]
  },
  {
   "cell_type": "code",
   "execution_count": 21,
   "metadata": {},
   "outputs": [
    {
     "data": {
      "text/plain": [
       "3909"
      ]
     },
     "execution_count": 21,
     "metadata": {},
     "output_type": "execute_result"
    }
   ],
   "source": [
    "combined_df[combined_df.msPlayed >= 0].shape[0]"
   ]
  },
  {
   "cell_type": "markdown",
   "metadata": {},
   "source": [
    "Out of 8749 songs that I have streamed, only 3909 I have listened to in the dataset"
   ]
  },
  {
   "cell_type": "markdown",
   "metadata": {},
   "source": [
    "Moving forward, I will determine the number of times I have listened to the respective songs in the dataset"
   ]
  },
  {
   "cell_type": "code",
   "execution_count": 22,
   "metadata": {},
   "outputs": [],
   "source": [
    "#set random seed\n",
    "np.random.seed(42)"
   ]
  },
  {
   "cell_type": "code",
   "execution_count": 23,
   "metadata": {},
   "outputs": [],
   "source": [
    "#make new column based on the division of song duaration and duration ms played\n",
    "combined_df['times_played'] = np.round(combined_df['msPlayed']/combined_df['duration_ms'])"
   ]
  },
  {
   "cell_type": "code",
   "execution_count": 24,
   "metadata": {},
   "outputs": [
    {
     "data": {
      "text/html": [
       "<div>\n",
       "<style scoped>\n",
       "    .dataframe tbody tr th:only-of-type {\n",
       "        vertical-align: middle;\n",
       "    }\n",
       "\n",
       "    .dataframe tbody tr th {\n",
       "        vertical-align: top;\n",
       "    }\n",
       "\n",
       "    .dataframe thead th {\n",
       "        text-align: right;\n",
       "    }\n",
       "</style>\n",
       "<table border=\"1\" class=\"dataframe\">\n",
       "  <thead>\n",
       "    <tr style=\"text-align: right;\">\n",
       "      <th></th>\n",
       "      <th>valence</th>\n",
       "      <th>year</th>\n",
       "      <th>acousticness</th>\n",
       "      <th>artists</th>\n",
       "      <th>danceability</th>\n",
       "      <th>duration_ms</th>\n",
       "      <th>energy</th>\n",
       "      <th>explicit</th>\n",
       "      <th>id</th>\n",
       "      <th>instrumentalness</th>\n",
       "      <th>...</th>\n",
       "      <th>mode</th>\n",
       "      <th>name</th>\n",
       "      <th>popularity</th>\n",
       "      <th>release_date</th>\n",
       "      <th>speechiness</th>\n",
       "      <th>tempo</th>\n",
       "      <th>main_artist</th>\n",
       "      <th>feat_artist</th>\n",
       "      <th>msPlayed</th>\n",
       "      <th>times_played</th>\n",
       "    </tr>\n",
       "  </thead>\n",
       "  <tbody>\n",
       "    <tr>\n",
       "      <th>35840</th>\n",
       "      <td>0.837</td>\n",
       "      <td>2020</td>\n",
       "      <td>0.321</td>\n",
       "      <td>['Drake']</td>\n",
       "      <td>0.834</td>\n",
       "      <td>247059</td>\n",
       "      <td>0.454</td>\n",
       "      <td>1</td>\n",
       "      <td>127QTOFJsJQp5LbJbu3A1y</td>\n",
       "      <td>0.000006</td>\n",
       "      <td>...</td>\n",
       "      <td>0</td>\n",
       "      <td>Toosie Slide</td>\n",
       "      <td>84</td>\n",
       "      <td>2020-04-03</td>\n",
       "      <td>0.201</td>\n",
       "      <td>81.618</td>\n",
       "      <td>Drake</td>\n",
       "      <td>[]</td>\n",
       "      <td>11280146.0</td>\n",
       "      <td>46.0</td>\n",
       "    </tr>\n",
       "  </tbody>\n",
       "</table>\n",
       "<p>1 rows × 23 columns</p>\n",
       "</div>"
      ],
      "text/plain": [
       "       valence  year  acousticness    artists  danceability  duration_ms  \\\n",
       "35840    0.837  2020         0.321  ['Drake']         0.834       247059   \n",
       "\n",
       "       energy  explicit                      id  instrumentalness  ...  mode  \\\n",
       "35840   0.454         1  127QTOFJsJQp5LbJbu3A1y          0.000006  ...     0   \n",
       "\n",
       "               name  popularity  release_date speechiness   tempo main_artist  \\\n",
       "35840  Toosie Slide          84    2020-04-03       0.201  81.618       Drake   \n",
       "\n",
       "       feat_artist    msPlayed times_played  \n",
       "35840           []  11280146.0         46.0  \n",
       "\n",
       "[1 rows x 23 columns]"
      ]
     },
     "execution_count": 24,
     "metadata": {},
     "output_type": "execute_result"
    }
   ],
   "source": [
    "combined_df[(combined_df.main_artist == 'Drake') & (combined_df.name == 'Toosie Slide')]"
   ]
  },
  {
   "cell_type": "code",
   "execution_count": 25,
   "metadata": {},
   "outputs": [
    {
     "data": {
      "image/png": "[encoded data removed]",
      "text/plain": [
       "<Figure size 432x288 with 1 Axes>"
      ]
     },
     "metadata": {},
     "output_type": "display_data"
    }
   ],
   "source": [
    "#deciding how many listens is considered a favourite\n",
    "plt.ylabel('Number of Songs')\n",
    "plt.xlabel('Number of times listened')\n",
    "plt.title('Streaming History')\n",
    "plt.hist(combined_df.times_played)\n",
    "plt.xticks(np.arange(0,70,10), np.arange(0,70,10))\n",
    "plt.savefig('../images/streaming-history', bbox_inches='tight');"
   ]
  },
  {
   "cell_type": "markdown",
   "metadata": {},
   "source": [
    "Based on the histogram, I can conclude that 10 is the number of times listened to a song to be considered a 'favourite'. songs with 10 listens and greater will be labelled with a 1, and the others will be labelled with a 0."
   ]
  },
  {
   "cell_type": "code",
   "execution_count": 26,
   "metadata": {},
   "outputs": [],
   "source": [
    "combined_df['favourite'] = combined_df['times_played'].apply(lambda x: 1 if x >= 10 else 0)"
   ]
  },
  {
   "cell_type": "code",
   "execution_count": 27,
   "metadata": {},
   "outputs": [
    {
     "data": {
      "text/plain": [
       "0    154836\n",
       "1       262\n",
       "Name: favourite, dtype: int64"
      ]
     },
     "execution_count": 27,
     "metadata": {},
     "output_type": "execute_result"
    }
   ],
   "source": [
    "combined_df['favourite'].value_counts()"
   ]
  },
  {
   "cell_type": "markdown",
   "metadata": {},
   "source": [
    "Even though the classes are hugely imbalance, the songs that we should keep as our train set are the ones that have been listened too. Therefore the 3909 songs, will be separated into a training set, and the other songs that I have not listened to will be the test set for songs to predict potential songs I would enjoy. "
   ]
  },
  {
   "cell_type": "code",
   "execution_count": 28,
   "metadata": {},
   "outputs": [],
   "source": [
    "train_idx = combined_df[combined_df['times_played'] >= 0].index"
   ]
  },
  {
   "cell_type": "code",
   "execution_count": 29,
   "metadata": {},
   "outputs": [],
   "source": [
    "train_df = combined_df.loc[train_idx]"
   ]
  },
  {
   "cell_type": "code",
   "execution_count": 30,
   "metadata": {},
   "outputs": [],
   "source": [
    "train_df.reset_index(drop = True, inplace=True)"
   ]
  },
  {
   "cell_type": "code",
   "execution_count": 31,
   "metadata": {},
   "outputs": [
    {
     "data": {
      "text/plain": [
       "0    3647\n",
       "1     262\n",
       "Name: favourite, dtype: int64"
      ]
     },
     "execution_count": 31,
     "metadata": {},
     "output_type": "execute_result"
    }
   ],
   "source": [
    "train_df.favourite.value_counts()"
   ]
  },
  {
   "cell_type": "code",
   "execution_count": 32,
   "metadata": {},
   "outputs": [],
   "source": [
    "test_idx = combined_df[combined_df['times_played'].isna()].index"
   ]
  },
  {
   "cell_type": "code",
   "execution_count": 33,
   "metadata": {},
   "outputs": [],
   "source": [
    "test_df = combined_df.loc[test_idx]"
   ]
  },
  {
   "cell_type": "code",
   "execution_count": 34,
   "metadata": {},
   "outputs": [],
   "source": [
    "test_df.reset_index(drop = True, inplace=True)"
   ]
  },
  {
   "cell_type": "code",
   "execution_count": 35,
   "metadata": {},
   "outputs": [
    {
     "data": {
      "text/html": [
       "<div>\n",
       "<style scoped>\n",
       "    .dataframe tbody tr th:only-of-type {\n",
       "        vertical-align: middle;\n",
       "    }\n",
       "\n",
       "    .dataframe tbody tr th {\n",
       "        vertical-align: top;\n",
       "    }\n",
       "\n",
       "    .dataframe thead th {\n",
       "        text-align: right;\n",
       "    }\n",
       "</style>\n",
       "<table border=\"1\" class=\"dataframe\">\n",
       "  <thead>\n",
       "    <tr style=\"text-align: right;\">\n",
       "      <th></th>\n",
       "      <th>valence</th>\n",
       "      <th>year</th>\n",
       "      <th>acousticness</th>\n",
       "      <th>artists</th>\n",
       "      <th>danceability</th>\n",
       "      <th>duration_ms</th>\n",
       "      <th>energy</th>\n",
       "      <th>explicit</th>\n",
       "      <th>id</th>\n",
       "      <th>instrumentalness</th>\n",
       "      <th>...</th>\n",
       "      <th>name</th>\n",
       "      <th>popularity</th>\n",
       "      <th>release_date</th>\n",
       "      <th>speechiness</th>\n",
       "      <th>tempo</th>\n",
       "      <th>main_artist</th>\n",
       "      <th>feat_artist</th>\n",
       "      <th>msPlayed</th>\n",
       "      <th>times_played</th>\n",
       "      <th>favourite</th>\n",
       "    </tr>\n",
       "  </thead>\n",
       "  <tbody>\n",
       "    <tr>\n",
       "      <th>0</th>\n",
       "      <td>0.9630</td>\n",
       "      <td>1921</td>\n",
       "      <td>0.732</td>\n",
       "      <td>['Dennis Day']</td>\n",
       "      <td>0.819</td>\n",
       "      <td>180533</td>\n",
       "      <td>0.341</td>\n",
       "      <td>0</td>\n",
       "      <td>7xPhfUan2yNtyFG0cUWkt8</td>\n",
       "      <td>0.000000</td>\n",
       "      <td>...</td>\n",
       "      <td>Clancy Lowered the Boom</td>\n",
       "      <td>5</td>\n",
       "      <td>1921</td>\n",
       "      <td>0.4150</td>\n",
       "      <td>60.936</td>\n",
       "      <td>Dennis Day</td>\n",
       "      <td>[]</td>\n",
       "      <td>NaN</td>\n",
       "      <td>NaN</td>\n",
       "      <td>0</td>\n",
       "    </tr>\n",
       "    <tr>\n",
       "      <th>1</th>\n",
       "      <td>0.0394</td>\n",
       "      <td>1921</td>\n",
       "      <td>0.961</td>\n",
       "      <td>['KHP Kridhamardawa Karaton Ngayogyakarta Hadi...</td>\n",
       "      <td>0.328</td>\n",
       "      <td>500062</td>\n",
       "      <td>0.166</td>\n",
       "      <td>0</td>\n",
       "      <td>1o6I8BglA6ylDMrIELygv1</td>\n",
       "      <td>0.913000</td>\n",
       "      <td>...</td>\n",
       "      <td>Gati Bali</td>\n",
       "      <td>5</td>\n",
       "      <td>1921</td>\n",
       "      <td>0.0339</td>\n",
       "      <td>110.339</td>\n",
       "      <td>KHP Kridhamardawa Karaton Ngayogyakarta Hadini...</td>\n",
       "      <td>[]</td>\n",
       "      <td>NaN</td>\n",
       "      <td>NaN</td>\n",
       "      <td>0</td>\n",
       "    </tr>\n",
       "    <tr>\n",
       "      <th>2</th>\n",
       "      <td>0.1650</td>\n",
       "      <td>1921</td>\n",
       "      <td>0.967</td>\n",
       "      <td>['Frank Parker']</td>\n",
       "      <td>0.275</td>\n",
       "      <td>210000</td>\n",
       "      <td>0.309</td>\n",
       "      <td>0</td>\n",
       "      <td>3ftBPsC5vPBKxYSee08FDH</td>\n",
       "      <td>0.000028</td>\n",
       "      <td>...</td>\n",
       "      <td>Danny Boy</td>\n",
       "      <td>3</td>\n",
       "      <td>1921</td>\n",
       "      <td>0.0354</td>\n",
       "      <td>100.109</td>\n",
       "      <td>Frank Parker</td>\n",
       "      <td>[]</td>\n",
       "      <td>NaN</td>\n",
       "      <td>NaN</td>\n",
       "      <td>0</td>\n",
       "    </tr>\n",
       "    <tr>\n",
       "      <th>3</th>\n",
       "      <td>0.2530</td>\n",
       "      <td>1921</td>\n",
       "      <td>0.957</td>\n",
       "      <td>['Phil Regan']</td>\n",
       "      <td>0.418</td>\n",
       "      <td>166693</td>\n",
       "      <td>0.193</td>\n",
       "      <td>0</td>\n",
       "      <td>4d6HGyGT8e121BsdKmw9v6</td>\n",
       "      <td>0.000002</td>\n",
       "      <td>...</td>\n",
       "      <td>When Irish Eyes Are Smiling</td>\n",
       "      <td>2</td>\n",
       "      <td>1921</td>\n",
       "      <td>0.0380</td>\n",
       "      <td>101.665</td>\n",
       "      <td>Phil Regan</td>\n",
       "      <td>[]</td>\n",
       "      <td>NaN</td>\n",
       "      <td>NaN</td>\n",
       "      <td>0</td>\n",
       "    </tr>\n",
       "    <tr>\n",
       "      <th>4</th>\n",
       "      <td>0.1960</td>\n",
       "      <td>1921</td>\n",
       "      <td>0.579</td>\n",
       "      <td>['KHP Kridhamardawa Karaton Ngayogyakarta Hadi...</td>\n",
       "      <td>0.697</td>\n",
       "      <td>395076</td>\n",
       "      <td>0.346</td>\n",
       "      <td>0</td>\n",
       "      <td>4pyw9DVHGStUre4J6hPngr</td>\n",
       "      <td>0.168000</td>\n",
       "      <td>...</td>\n",
       "      <td>Gati Mardika</td>\n",
       "      <td>6</td>\n",
       "      <td>1921</td>\n",
       "      <td>0.0700</td>\n",
       "      <td>119.824</td>\n",
       "      <td>KHP Kridhamardawa Karaton Ngayogyakarta Hadini...</td>\n",
       "      <td>[]</td>\n",
       "      <td>NaN</td>\n",
       "      <td>NaN</td>\n",
       "      <td>0</td>\n",
       "    </tr>\n",
       "  </tbody>\n",
       "</table>\n",
       "<p>5 rows × 24 columns</p>\n",
       "</div>"
      ],
      "text/plain": [
       "   valence  year  acousticness  \\\n",
       "0   0.9630  1921         0.732   \n",
       "1   0.0394  1921         0.961   \n",
       "2   0.1650  1921         0.967   \n",
       "3   0.2530  1921         0.957   \n",
       "4   0.1960  1921         0.579   \n",
       "\n",
       "                                             artists  danceability  \\\n",
       "0                                     ['Dennis Day']         0.819   \n",
       "1  ['KHP Kridhamardawa Karaton Ngayogyakarta Hadi...         0.328   \n",
       "2                                   ['Frank Parker']         0.275   \n",
       "3                                     ['Phil Regan']         0.418   \n",
       "4  ['KHP Kridhamardawa Karaton Ngayogyakarta Hadi...         0.697   \n",
       "\n",
       "   duration_ms  energy  explicit                      id  instrumentalness  \\\n",
       "0       180533   0.341         0  7xPhfUan2yNtyFG0cUWkt8          0.000000   \n",
       "1       500062   0.166         0  1o6I8BglA6ylDMrIELygv1          0.913000   \n",
       "2       210000   0.309         0  3ftBPsC5vPBKxYSee08FDH          0.000028   \n",
       "3       166693   0.193         0  4d6HGyGT8e121BsdKmw9v6          0.000002   \n",
       "4       395076   0.346         0  4pyw9DVHGStUre4J6hPngr          0.168000   \n",
       "\n",
       "   ...                         name  popularity  release_date  speechiness  \\\n",
       "0  ...      Clancy Lowered the Boom           5          1921       0.4150   \n",
       "1  ...                    Gati Bali           5          1921       0.0339   \n",
       "2  ...                    Danny Boy           3          1921       0.0354   \n",
       "3  ...  When Irish Eyes Are Smiling           2          1921       0.0380   \n",
       "4  ...                 Gati Mardika           6          1921       0.0700   \n",
       "\n",
       "     tempo                                        main_artist feat_artist  \\\n",
       "0   60.936                                         Dennis Day          []   \n",
       "1  110.339  KHP Kridhamardawa Karaton Ngayogyakarta Hadini...          []   \n",
       "2  100.109                                       Frank Parker          []   \n",
       "3  101.665                                         Phil Regan          []   \n",
       "4  119.824  KHP Kridhamardawa Karaton Ngayogyakarta Hadini...          []   \n",
       "\n",
       "   msPlayed  times_played favourite  \n",
       "0       NaN           NaN         0  \n",
       "1       NaN           NaN         0  \n",
       "2       NaN           NaN         0  \n",
       "3       NaN           NaN         0  \n",
       "4       NaN           NaN         0  \n",
       "\n",
       "[5 rows x 24 columns]"
      ]
     },
     "execution_count": 35,
     "metadata": {},
     "output_type": "execute_result"
    }
   ],
   "source": [
    "test_df.head()"
   ]
  },
  {
   "cell_type": "markdown",
   "metadata": {},
   "source": [
    "## Modelling"
   ]
  },
  {
   "cell_type": "markdown",
   "metadata": {},
   "source": [
    "In this section, we will use three classifier models, MNB, Logreg and Random Forest, to predict for any songs in the test set that i might like. \n",
    "\n",
    "This would give the recommender not only higher accuracy in predictions, but also a level of personalisation."
   ]
  },
  {
   "cell_type": "markdown",
   "metadata": {},
   "source": [
    "### SMOTE"
   ]
  },
  {
   "cell_type": "code",
   "execution_count": 36,
   "metadata": {},
   "outputs": [
    {
     "data": {
      "text/plain": [
       "0    0.932975\n",
       "1    0.067025\n",
       "Name: favourite, dtype: float64"
      ]
     },
     "execution_count": 36,
     "metadata": {},
     "output_type": "execute_result"
    }
   ],
   "source": [
    "train_df.favourite.value_counts(normalize=True)"
   ]
  },
  {
   "cell_type": "markdown",
   "metadata": {},
   "source": [
    "Our dataset is highly imbalanced, with apporcximately 7% of the dataset being target. If our model were to classify every song as not a favourite, we would have an accuracy of 93%. This is not what we want. Therefore we will use SMOTE, Synthetic Minority Over-Sampling Technique, by joining the points of the minority class with line segments and then places artificial points on these lines.\n"
   ]
  },
  {
   "cell_type": "code",
   "execution_count": 37,
   "metadata": {},
   "outputs": [],
   "source": [
    "#make a list of audio features in data_df\n",
    "audio_features = ['tempo','speechiness','mode','loudness','liveness','key','instrumentalness','energy','danceability','acousticness','valence']"
   ]
  },
  {
   "cell_type": "code",
   "execution_count": 38,
   "metadata": {},
   "outputs": [],
   "source": [
    "#make scaling function\n",
    "def scaler(data):\n",
    "    ss = StandardScaler()\n",
    "    return ss.fit_transform(data)"
   ]
  },
  {
   "cell_type": "code",
   "execution_count": 39,
   "metadata": {},
   "outputs": [],
   "source": [
    "#set X for train test split and oversampling\n",
    "X = train_df[audio_features]\n",
    "X_scaled = scaler(X)\n",
    "X_scaled = pd.DataFrame(X_scaled,columns=X.columns)"
   ]
  },
  {
   "cell_type": "code",
   "execution_count": 40,
   "metadata": {},
   "outputs": [
    {
     "data": {
      "text/html": [
       "<div>\n",
       "<style scoped>\n",
       "    .dataframe tbody tr th:only-of-type {\n",
       "        vertical-align: middle;\n",
       "    }\n",
       "\n",
       "    .dataframe tbody tr th {\n",
       "        vertical-align: top;\n",
       "    }\n",
       "\n",
       "    .dataframe thead th {\n",
       "        text-align: right;\n",
       "    }\n",
       "</style>\n",
       "<table border=\"1\" class=\"dataframe\">\n",
       "  <thead>\n",
       "    <tr style=\"text-align: right;\">\n",
       "      <th></th>\n",
       "      <th>tempo</th>\n",
       "      <th>speechiness</th>\n",
       "      <th>mode</th>\n",
       "      <th>loudness</th>\n",
       "      <th>liveness</th>\n",
       "      <th>key</th>\n",
       "      <th>instrumentalness</th>\n",
       "      <th>energy</th>\n",
       "      <th>danceability</th>\n",
       "      <th>acousticness</th>\n",
       "      <th>valence</th>\n",
       "    </tr>\n",
       "  </thead>\n",
       "  <tbody>\n",
       "    <tr>\n",
       "      <th>0</th>\n",
       "      <td>0.190639</td>\n",
       "      <td>-0.860334</td>\n",
       "      <td>0.874520</td>\n",
       "      <td>-1.214295</td>\n",
       "      <td>-0.070587</td>\n",
       "      <td>1.009255</td>\n",
       "      <td>-0.237591</td>\n",
       "      <td>-1.780034</td>\n",
       "      <td>-0.602423</td>\n",
       "      <td>0.756612</td>\n",
       "      <td>0.187251</td>\n",
       "    </tr>\n",
       "    <tr>\n",
       "      <th>1</th>\n",
       "      <td>0.256962</td>\n",
       "      <td>-0.880715</td>\n",
       "      <td>0.874520</td>\n",
       "      <td>-1.524060</td>\n",
       "      <td>-0.542493</td>\n",
       "      <td>-1.181294</td>\n",
       "      <td>-0.237530</td>\n",
       "      <td>-2.107843</td>\n",
       "      <td>-0.553334</td>\n",
       "      <td>1.050842</td>\n",
       "      <td>0.285879</td>\n",
       "    </tr>\n",
       "    <tr>\n",
       "      <th>2</th>\n",
       "      <td>-1.753513</td>\n",
       "      <td>-0.865618</td>\n",
       "      <td>0.874520</td>\n",
       "      <td>-1.160461</td>\n",
       "      <td>-0.167554</td>\n",
       "      <td>0.187799</td>\n",
       "      <td>-0.237591</td>\n",
       "      <td>-1.602240</td>\n",
       "      <td>-0.620831</td>\n",
       "      <td>2.726674</td>\n",
       "      <td>-0.134362</td>\n",
       "    </tr>\n",
       "    <tr>\n",
       "      <th>3</th>\n",
       "      <td>-1.226909</td>\n",
       "      <td>-0.722951</td>\n",
       "      <td>0.874520</td>\n",
       "      <td>-0.519163</td>\n",
       "      <td>-0.594855</td>\n",
       "      <td>1.283074</td>\n",
       "      <td>-0.237529</td>\n",
       "      <td>-0.791052</td>\n",
       "      <td>0.483673</td>\n",
       "      <td>2.547578</td>\n",
       "      <td>1.186395</td>\n",
       "    </tr>\n",
       "    <tr>\n",
       "      <th>4</th>\n",
       "      <td>-1.123280</td>\n",
       "      <td>-0.961484</td>\n",
       "      <td>-1.143484</td>\n",
       "      <td>-0.587999</td>\n",
       "      <td>0.272030</td>\n",
       "      <td>-0.907475</td>\n",
       "      <td>-0.237581</td>\n",
       "      <td>-1.896712</td>\n",
       "      <td>-1.559660</td>\n",
       "      <td>2.658447</td>\n",
       "      <td>-0.524585</td>\n",
       "    </tr>\n",
       "  </tbody>\n",
       "</table>\n",
       "</div>"
      ],
      "text/plain": [
       "      tempo  speechiness      mode  loudness  liveness       key  \\\n",
       "0  0.190639    -0.860334  0.874520 -1.214295 -0.070587  1.009255   \n",
       "1  0.256962    -0.880715  0.874520 -1.524060 -0.542493 -1.181294   \n",
       "2 -1.753513    -0.865618  0.874520 -1.160461 -0.167554  0.187799   \n",
       "3 -1.226909    -0.722951  0.874520 -0.519163 -0.594855  1.283074   \n",
       "4 -1.123280    -0.961484 -1.143484 -0.587999  0.272030 -0.907475   \n",
       "\n",
       "   instrumentalness    energy  danceability  acousticness   valence  \n",
       "0         -0.237591 -1.780034     -0.602423      0.756612  0.187251  \n",
       "1         -0.237530 -2.107843     -0.553334      1.050842  0.285879  \n",
       "2         -0.237591 -1.602240     -0.620831      2.726674 -0.134362  \n",
       "3         -0.237529 -0.791052      0.483673      2.547578  1.186395  \n",
       "4         -0.237581 -1.896712     -1.559660      2.658447 -0.524585  "
      ]
     },
     "execution_count": 40,
     "metadata": {},
     "output_type": "execute_result"
    }
   ],
   "source": [
    "X_scaled.head()"
   ]
  },
  {
   "cell_type": "code",
   "execution_count": 41,
   "metadata": {},
   "outputs": [],
   "source": [
    "#set y target as dataframe\n",
    "y = train_df.favourite"
   ]
  },
  {
   "cell_type": "code",
   "execution_count": 42,
   "metadata": {},
   "outputs": [],
   "source": [
    "# Define SMOTE model and specify minority class for oversample\n",
    "smote = SMOTE(sampling_strategy='minority', k_neighbors=4, random_state=42)\n",
    "# Fit data\n",
    "X_smote, y_smote = smote.fit_resample(X_scaled, y)\n"
   ]
  },
  {
   "cell_type": "code",
   "execution_count": 43,
   "metadata": {},
   "outputs": [],
   "source": [
    " # setting up testing and training sets\n",
    "X_train, X_test, y_train, y_test = train_test_split(X_smote, y_smote, test_size=0.25, random_state=42)\n"
   ]
  },
  {
   "cell_type": "markdown",
   "metadata": {},
   "source": [
    "#### Random Forest Classifier"
   ]
  },
  {
   "cell_type": "code",
   "execution_count": 44,
   "metadata": {},
   "outputs": [
    {
     "data": {
      "text/plain": [
       "GridSearchCV(cv=5, estimator=RandomForestClassifier(),\n",
       "             param_grid={'max_depth': [None, 1, 2, 3],\n",
       "                         'n_estimators': [100, 150]})"
      ]
     },
     "execution_count": 44,
     "metadata": {},
     "output_type": "execute_result"
    }
   ],
   "source": [
    "rf = RandomForestClassifier(n_estimators=100)\n",
    "\n",
    "\n",
    "rf_params = {\n",
    "    'n_estimators': [100, 150],\n",
    "    'max_depth': [None, 1, 2, 3],\n",
    "}\n",
    "\n",
    "# Instantiate GridSearchCV.\n",
    "rf_gs = GridSearchCV(rf,\n",
    "                     param_grid=rf_params,\n",
    "                     cv=5)\n",
    "\n",
    "rf_gs.fit(X_train,y_train)"
   ]
  },
  {
   "cell_type": "code",
   "execution_count": 45,
   "metadata": {},
   "outputs": [
    {
     "data": {
      "text/plain": [
       "RandomForestClassifier(n_estimators=150)"
      ]
     },
     "execution_count": 45,
     "metadata": {},
     "output_type": "execute_result"
    }
   ],
   "source": [
    "rf_gs.best_estimator_"
   ]
  },
  {
   "cell_type": "code",
   "execution_count": 46,
   "metadata": {},
   "outputs": [
    {
     "data": {
      "text/plain": [
       "1.0"
      ]
     },
     "execution_count": 46,
     "metadata": {},
     "output_type": "execute_result"
    }
   ],
   "source": [
    "rf_gs.score(X_train,y_train)"
   ]
  },
  {
   "cell_type": "code",
   "execution_count": 47,
   "metadata": {},
   "outputs": [
    {
     "data": {
      "text/plain": [
       "0.9336622807017544"
      ]
     },
     "execution_count": 47,
     "metadata": {},
     "output_type": "execute_result"
    }
   ],
   "source": [
    "rf_gs.score(X_test, y_test)"
   ]
  },
  {
   "cell_type": "code",
   "execution_count": 48,
   "metadata": {},
   "outputs": [],
   "source": [
    "rf_y_pred = rf_gs.predict(X_test)"
   ]
  },
  {
   "cell_type": "code",
   "execution_count": 49,
   "metadata": {},
   "outputs": [
    {
     "data": {
      "text/plain": [
       "array([[844,  81],\n",
       "       [ 40, 859]])"
      ]
     },
     "execution_count": 49,
     "metadata": {},
     "output_type": "execute_result"
    }
   ],
   "source": [
    "confusion_matrix(y_test, rf_y_pred)"
   ]
  },
  {
   "cell_type": "code",
   "execution_count": 50,
   "metadata": {},
   "outputs": [
    {
     "data": {
      "image/png": "[encoded data removed]",
      "text/plain": [
       "<Figure size 432x288 with 2 Axes>"
      ]
     },
     "metadata": {},
     "output_type": "display_data"
    }
   ],
   "source": [
    "plot_confusion_matrix(rf_gs,X_test, y_test);"
   ]
  },
  {
   "cell_type": "code",
   "execution_count": 101,
   "metadata": {},
   "outputs": [
    {
     "name": "stdout",
     "output_type": "stream",
     "text": [
      "recall rate for random forest: 0.9138297872340425\n"
     ]
    }
   ],
   "source": [
    "print(f'recall rate for random forest: {859/(859+81)}')"
   ]
  },
  {
   "cell_type": "markdown",
   "metadata": {},
   "source": [
    "### Gradient Boosting"
   ]
  },
  {
   "cell_type": "code",
   "execution_count": 53,
   "metadata": {},
   "outputs": [
    {
     "data": {
      "text/plain": [
       "GridSearchCV(cv=5, estimator=GradientBoostingClassifier(),\n",
       "             param_grid={'learning_rate': [0.08, 0.1, 0.12],\n",
       "                         'max_depth': [2, 3, 4],\n",
       "                         'n_estimators': [100, 125, 150]})"
      ]
     },
     "execution_count": 53,
     "metadata": {},
     "output_type": "execute_result"
    }
   ],
   "source": [
    "gboost = GradientBoostingClassifier()\n",
    "gboost_params = {\n",
    "    'max_depth': [2,3,4],\n",
    "    'n_estimators': [100, 125, 150],\n",
    "    'learning_rate': [.08, .1, .12]\n",
    "}\n",
    "\n",
    "gb_gs = GridSearchCV(gboost,\n",
    "                     param_grid=gboost_params, \n",
    "                     cv=5)\n",
    "\n",
    "gb_gs.fit(X_train, y_train)\n"
   ]
  },
  {
   "cell_type": "code",
   "execution_count": 54,
   "metadata": {},
   "outputs": [
    {
     "data": {
      "text/plain": [
       "0.9729433272394881"
      ]
     },
     "execution_count": 54,
     "metadata": {},
     "output_type": "execute_result"
    }
   ],
   "source": [
    "gb_gs.score(X_train,y_train)"
   ]
  },
  {
   "cell_type": "code",
   "execution_count": 55,
   "metadata": {},
   "outputs": [
    {
     "data": {
      "text/plain": [
       "0.90625"
      ]
     },
     "execution_count": 55,
     "metadata": {},
     "output_type": "execute_result"
    }
   ],
   "source": [
    "gb_gs.score(X_test,y_test)"
   ]
  },
  {
   "cell_type": "code",
   "execution_count": 56,
   "metadata": {},
   "outputs": [
    {
     "data": {
      "image/png": "[encoded data removed]",
      "text/plain": [
       "<Figure size 432x288 with 2 Axes>"
      ]
     },
     "metadata": {},
     "output_type": "display_data"
    }
   ],
   "source": [
    "plot_confusion_matrix(gb_gs,X_test, y_test);"
   ]
  },
  {
   "cell_type": "code",
   "execution_count": 102,
   "metadata": {},
   "outputs": [
    {
     "name": "stdout",
     "output_type": "stream",
     "text": [
      "recall rate for Gradient boosting: 0.9292452830188679\n"
     ]
    }
   ],
   "source": [
    "print(f'recall rate for Gradient boosting: {788/(788+60)}')"
   ]
  },
  {
   "cell_type": "markdown",
   "metadata": {},
   "source": [
    "### XGBoost"
   ]
  },
  {
   "cell_type": "code",
   "execution_count": 58,
   "metadata": {},
   "outputs": [
    {
     "name": "stdout",
     "output_type": "stream",
     "text": [
      "[14:37:29] WARNING: /Users/travis/build/dmlc/xgboost/src/learner.cc:1095: Starting in XGBoost 1.3.0, the default evaluation metric used with the objective 'binary:logistic' was changed from 'error' to 'logloss'. Explicitly set eval_metric if you'd like to restore the old behavior.\n"
     ]
    },
    {
     "name": "stderr",
     "output_type": "stream",
     "text": [
      "/Users/AdelAlsagoff/opt/anaconda3/lib/python3.8/site-packages/xgboost/sklearn.py:1146: UserWarning: The use of label encoder in XGBClassifier is deprecated and will be removed in a future release. To remove this warning, do the following: 1) Pass option use_label_encoder=False when constructing XGBClassifier object; and 2) Encode your labels (y) as integers starting with 0, i.e. 0, 1, 2, ..., [num_class - 1].\n",
      "  warnings.warn(label_encoder_deprecation_msg, UserWarning)\n"
     ]
    },
    {
     "data": {
      "text/plain": [
       "XGBClassifier(base_score=0.5, booster='gbtree', colsample_bylevel=1,\n",
       "              colsample_bynode=1, colsample_bytree=1, gamma=0, gpu_id=-1,\n",
       "              importance_type='gain', interaction_constraints='',\n",
       "              learning_rate=0.300000012, max_delta_step=0, max_depth=6,\n",
       "              min_child_weight=1, missing=nan, monotone_constraints='()',\n",
       "              n_estimators=100, n_jobs=4, num_parallel_tree=1, random_state=0,\n",
       "              reg_alpha=0, reg_lambda=1, scale_pos_weight=1, subsample=1,\n",
       "              tree_method='exact', validate_parameters=1, verbosity=None)"
      ]
     },
     "execution_count": 58,
     "metadata": {},
     "output_type": "execute_result"
    }
   ],
   "source": [
    "# fit model no training data\n",
    "xgc = XGBClassifier()\n",
    "\n",
    "xgc.fit(X_train, y_train)"
   ]
  },
  {
   "cell_type": "code",
   "execution_count": 59,
   "metadata": {},
   "outputs": [
    {
     "name": "stderr",
     "output_type": "stream",
     "text": [
      "/Users/AdelAlsagoff/opt/anaconda3/lib/python3.8/site-packages/xgboost/data.py:112: UserWarning: Use subset (sliced data) of np.ndarray is not recommended because it will generate extra copies and increase memory consumption\n",
      "  warnings.warn(\n"
     ]
    },
    {
     "data": {
      "text/plain": [
       "1.0"
      ]
     },
     "execution_count": 59,
     "metadata": {},
     "output_type": "execute_result"
    }
   ],
   "source": [
    "xgc.score(X_train,y_train)"
   ]
  },
  {
   "cell_type": "code",
   "execution_count": 60,
   "metadata": {},
   "outputs": [
    {
     "name": "stderr",
     "output_type": "stream",
     "text": [
      "/Users/AdelAlsagoff/opt/anaconda3/lib/python3.8/site-packages/xgboost/data.py:112: UserWarning: Use subset (sliced data) of np.ndarray is not recommended because it will generate extra copies and increase memory consumption\n",
      "  warnings.warn(\n"
     ]
    },
    {
     "data": {
      "text/plain": [
       "0.9457236842105263"
      ]
     },
     "execution_count": 60,
     "metadata": {},
     "output_type": "execute_result"
    }
   ],
   "source": [
    "xgc.score(X_test,y_test)"
   ]
  },
  {
   "cell_type": "code",
   "execution_count": 61,
   "metadata": {},
   "outputs": [
    {
     "name": "stderr",
     "output_type": "stream",
     "text": [
      "/Users/AdelAlsagoff/opt/anaconda3/lib/python3.8/site-packages/xgboost/data.py:112: UserWarning: Use subset (sliced data) of np.ndarray is not recommended because it will generate extra copies and increase memory consumption\n",
      "  warnings.warn(\n"
     ]
    },
    {
     "data": {
      "image/png": "[encoded data removed]",
      "text/plain": [
       "<Figure size 432x288 with 2 Axes>"
      ]
     },
     "metadata": {},
     "output_type": "display_data"
    }
   ],
   "source": [
    "plot_confusion_matrix(xgc,X_test, y_test);"
   ]
  },
  {
   "cell_type": "code",
   "execution_count": 103,
   "metadata": {},
   "outputs": [
    {
     "name": "stdout",
     "output_type": "stream",
     "text": [
      "recall rate for XG boost: 0.9514672686230248\n"
     ]
    }
   ],
   "source": [
    "print(f'recall rate for XG boost: {843/(843+43)}')"
   ]
  },
  {
   "cell_type": "markdown",
   "metadata": {},
   "source": [
    "### Labelling songs in test_df"
   ]
  },
  {
   "cell_type": "code",
   "execution_count": 63,
   "metadata": {},
   "outputs": [
    {
     "data": {
      "text/html": [
       "<div>\n",
       "<style scoped>\n",
       "    .dataframe tbody tr th:only-of-type {\n",
       "        vertical-align: middle;\n",
       "    }\n",
       "\n",
       "    .dataframe tbody tr th {\n",
       "        vertical-align: top;\n",
       "    }\n",
       "\n",
       "    .dataframe thead th {\n",
       "        text-align: right;\n",
       "    }\n",
       "</style>\n",
       "<table border=\"1\" class=\"dataframe\">\n",
       "  <thead>\n",
       "    <tr style=\"text-align: right;\">\n",
       "      <th></th>\n",
       "      <th>valence</th>\n",
       "      <th>year</th>\n",
       "      <th>acousticness</th>\n",
       "      <th>artists</th>\n",
       "      <th>danceability</th>\n",
       "      <th>duration_ms</th>\n",
       "      <th>energy</th>\n",
       "      <th>explicit</th>\n",
       "      <th>id</th>\n",
       "      <th>instrumentalness</th>\n",
       "      <th>...</th>\n",
       "      <th>name</th>\n",
       "      <th>popularity</th>\n",
       "      <th>release_date</th>\n",
       "      <th>speechiness</th>\n",
       "      <th>tempo</th>\n",
       "      <th>main_artist</th>\n",
       "      <th>feat_artist</th>\n",
       "      <th>msPlayed</th>\n",
       "      <th>times_played</th>\n",
       "      <th>favourite</th>\n",
       "    </tr>\n",
       "  </thead>\n",
       "  <tbody>\n",
       "    <tr>\n",
       "      <th>0</th>\n",
       "      <td>0.9630</td>\n",
       "      <td>1921</td>\n",
       "      <td>0.732</td>\n",
       "      <td>['Dennis Day']</td>\n",
       "      <td>0.819</td>\n",
       "      <td>180533</td>\n",
       "      <td>0.341</td>\n",
       "      <td>0</td>\n",
       "      <td>7xPhfUan2yNtyFG0cUWkt8</td>\n",
       "      <td>0.000000</td>\n",
       "      <td>...</td>\n",
       "      <td>Clancy Lowered the Boom</td>\n",
       "      <td>5</td>\n",
       "      <td>1921</td>\n",
       "      <td>0.4150</td>\n",
       "      <td>60.936</td>\n",
       "      <td>Dennis Day</td>\n",
       "      <td>[]</td>\n",
       "      <td>NaN</td>\n",
       "      <td>NaN</td>\n",
       "      <td>0</td>\n",
       "    </tr>\n",
       "    <tr>\n",
       "      <th>1</th>\n",
       "      <td>0.0394</td>\n",
       "      <td>1921</td>\n",
       "      <td>0.961</td>\n",
       "      <td>['KHP Kridhamardawa Karaton Ngayogyakarta Hadi...</td>\n",
       "      <td>0.328</td>\n",
       "      <td>500062</td>\n",
       "      <td>0.166</td>\n",
       "      <td>0</td>\n",
       "      <td>1o6I8BglA6ylDMrIELygv1</td>\n",
       "      <td>0.913000</td>\n",
       "      <td>...</td>\n",
       "      <td>Gati Bali</td>\n",
       "      <td>5</td>\n",
       "      <td>1921</td>\n",
       "      <td>0.0339</td>\n",
       "      <td>110.339</td>\n",
       "      <td>KHP Kridhamardawa Karaton Ngayogyakarta Hadini...</td>\n",
       "      <td>[]</td>\n",
       "      <td>NaN</td>\n",
       "      <td>NaN</td>\n",
       "      <td>0</td>\n",
       "    </tr>\n",
       "    <tr>\n",
       "      <th>2</th>\n",
       "      <td>0.1650</td>\n",
       "      <td>1921</td>\n",
       "      <td>0.967</td>\n",
       "      <td>['Frank Parker']</td>\n",
       "      <td>0.275</td>\n",
       "      <td>210000</td>\n",
       "      <td>0.309</td>\n",
       "      <td>0</td>\n",
       "      <td>3ftBPsC5vPBKxYSee08FDH</td>\n",
       "      <td>0.000028</td>\n",
       "      <td>...</td>\n",
       "      <td>Danny Boy</td>\n",
       "      <td>3</td>\n",
       "      <td>1921</td>\n",
       "      <td>0.0354</td>\n",
       "      <td>100.109</td>\n",
       "      <td>Frank Parker</td>\n",
       "      <td>[]</td>\n",
       "      <td>NaN</td>\n",
       "      <td>NaN</td>\n",
       "      <td>0</td>\n",
       "    </tr>\n",
       "    <tr>\n",
       "      <th>3</th>\n",
       "      <td>0.2530</td>\n",
       "      <td>1921</td>\n",
       "      <td>0.957</td>\n",
       "      <td>['Phil Regan']</td>\n",
       "      <td>0.418</td>\n",
       "      <td>166693</td>\n",
       "      <td>0.193</td>\n",
       "      <td>0</td>\n",
       "      <td>4d6HGyGT8e121BsdKmw9v6</td>\n",
       "      <td>0.000002</td>\n",
       "      <td>...</td>\n",
       "      <td>When Irish Eyes Are Smiling</td>\n",
       "      <td>2</td>\n",
       "      <td>1921</td>\n",
       "      <td>0.0380</td>\n",
       "      <td>101.665</td>\n",
       "      <td>Phil Regan</td>\n",
       "      <td>[]</td>\n",
       "      <td>NaN</td>\n",
       "      <td>NaN</td>\n",
       "      <td>0</td>\n",
       "    </tr>\n",
       "    <tr>\n",
       "      <th>4</th>\n",
       "      <td>0.1960</td>\n",
       "      <td>1921</td>\n",
       "      <td>0.579</td>\n",
       "      <td>['KHP Kridhamardawa Karaton Ngayogyakarta Hadi...</td>\n",
       "      <td>0.697</td>\n",
       "      <td>395076</td>\n",
       "      <td>0.346</td>\n",
       "      <td>0</td>\n",
       "      <td>4pyw9DVHGStUre4J6hPngr</td>\n",
       "      <td>0.168000</td>\n",
       "      <td>...</td>\n",
       "      <td>Gati Mardika</td>\n",
       "      <td>6</td>\n",
       "      <td>1921</td>\n",
       "      <td>0.0700</td>\n",
       "      <td>119.824</td>\n",
       "      <td>KHP Kridhamardawa Karaton Ngayogyakarta Hadini...</td>\n",
       "      <td>[]</td>\n",
       "      <td>NaN</td>\n",
       "      <td>NaN</td>\n",
       "      <td>0</td>\n",
       "    </tr>\n",
       "  </tbody>\n",
       "</table>\n",
       "<p>5 rows × 24 columns</p>\n",
       "</div>"
      ],
      "text/plain": [
       "   valence  year  acousticness  \\\n",
       "0   0.9630  1921         0.732   \n",
       "1   0.0394  1921         0.961   \n",
       "2   0.1650  1921         0.967   \n",
       "3   0.2530  1921         0.957   \n",
       "4   0.1960  1921         0.579   \n",
       "\n",
       "                                             artists  danceability  \\\n",
       "0                                     ['Dennis Day']         0.819   \n",
       "1  ['KHP Kridhamardawa Karaton Ngayogyakarta Hadi...         0.328   \n",
       "2                                   ['Frank Parker']         0.275   \n",
       "3                                     ['Phil Regan']         0.418   \n",
       "4  ['KHP Kridhamardawa Karaton Ngayogyakarta Hadi...         0.697   \n",
       "\n",
       "   duration_ms  energy  explicit                      id  instrumentalness  \\\n",
       "0       180533   0.341         0  7xPhfUan2yNtyFG0cUWkt8          0.000000   \n",
       "1       500062   0.166         0  1o6I8BglA6ylDMrIELygv1          0.913000   \n",
       "2       210000   0.309         0  3ftBPsC5vPBKxYSee08FDH          0.000028   \n",
       "3       166693   0.193         0  4d6HGyGT8e121BsdKmw9v6          0.000002   \n",
       "4       395076   0.346         0  4pyw9DVHGStUre4J6hPngr          0.168000   \n",
       "\n",
       "   ...                         name  popularity  release_date  speechiness  \\\n",
       "0  ...      Clancy Lowered the Boom           5          1921       0.4150   \n",
       "1  ...                    Gati Bali           5          1921       0.0339   \n",
       "2  ...                    Danny Boy           3          1921       0.0354   \n",
       "3  ...  When Irish Eyes Are Smiling           2          1921       0.0380   \n",
       "4  ...                 Gati Mardika           6          1921       0.0700   \n",
       "\n",
       "     tempo                                        main_artist feat_artist  \\\n",
       "0   60.936                                         Dennis Day          []   \n",
       "1  110.339  KHP Kridhamardawa Karaton Ngayogyakarta Hadini...          []   \n",
       "2  100.109                                       Frank Parker          []   \n",
       "3  101.665                                         Phil Regan          []   \n",
       "4  119.824  KHP Kridhamardawa Karaton Ngayogyakarta Hadini...          []   \n",
       "\n",
       "   msPlayed  times_played favourite  \n",
       "0       NaN           NaN         0  \n",
       "1       NaN           NaN         0  \n",
       "2       NaN           NaN         0  \n",
       "3       NaN           NaN         0  \n",
       "4       NaN           NaN         0  \n",
       "\n",
       "[5 rows x 24 columns]"
      ]
     },
     "execution_count": 63,
     "metadata": {},
     "output_type": "execute_result"
    }
   ],
   "source": [
    "test_df.head()"
   ]
  },
  {
   "cell_type": "code",
   "execution_count": 64,
   "metadata": {},
   "outputs": [
    {
     "name": "stdout",
     "output_type": "stream",
     "text": [
      "<class 'pandas.core.frame.DataFrame'>\n",
      "RangeIndex: 151189 entries, 0 to 151188\n",
      "Data columns (total 24 columns):\n",
      " #   Column            Non-Null Count   Dtype  \n",
      "---  ------            --------------   -----  \n",
      " 0   valence           151189 non-null  float64\n",
      " 1   year              151189 non-null  int64  \n",
      " 2   acousticness      151189 non-null  float64\n",
      " 3   artists           151189 non-null  object \n",
      " 4   danceability      151189 non-null  float64\n",
      " 5   duration_ms       151189 non-null  int64  \n",
      " 6   energy            151189 non-null  float64\n",
      " 7   explicit          151189 non-null  int64  \n",
      " 8   id                151189 non-null  object \n",
      " 9   instrumentalness  151189 non-null  float64\n",
      " 10  key               151189 non-null  int64  \n",
      " 11  liveness          151189 non-null  float64\n",
      " 12  loudness          151189 non-null  float64\n",
      " 13  mode              151189 non-null  int64  \n",
      " 14  name              151189 non-null  object \n",
      " 15  popularity        151189 non-null  int64  \n",
      " 16  release_date      151189 non-null  object \n",
      " 17  speechiness       151189 non-null  float64\n",
      " 18  tempo             151189 non-null  float64\n",
      " 19  main_artist       151177 non-null  object \n",
      " 20  feat_artist       151189 non-null  object \n",
      " 21  msPlayed          0 non-null       float64\n",
      " 22  times_played      0 non-null       float64\n",
      " 23  favourite         151189 non-null  int64  \n",
      "dtypes: float64(11), int64(7), object(6)\n",
      "memory usage: 27.7+ MB\n"
     ]
    }
   ],
   "source": [
    "test_df.info()"
   ]
  },
  {
   "cell_type": "code",
   "execution_count": 89,
   "metadata": {},
   "outputs": [],
   "source": [
    "#create new dataset for predictions and recommendation, dataset is songs never heard before\n",
    "recommendation_df = test_df[audio_features]\n"
   ]
  },
  {
   "cell_type": "code",
   "execution_count": 98,
   "metadata": {},
   "outputs": [
    {
     "name": "stderr",
     "output_type": "stream",
     "text": [
      "/Users/AdelAlsagoff/opt/anaconda3/lib/python3.8/site-packages/xgboost/data.py:112: UserWarning: Use subset (sliced data) of np.ndarray is not recommended because it will generate extra copies and increase memory consumption\n",
      "  warnings.warn(\n"
     ]
    }
   ],
   "source": [
    "#label potential favourites\n",
    "personal_recommendations = xgc.predict(recommendation_df)\n"
   ]
  },
  {
   "cell_type": "code",
   "execution_count": 104,
   "metadata": {},
   "outputs": [
    {
     "name": "stderr",
     "output_type": "stream",
     "text": [
      "<ipython-input-104-51d59ff7da2e>:1: SettingWithCopyWarning: \n",
      "A value is trying to be set on a copy of a slice from a DataFrame.\n",
      "Try using .loc[row_indexer,col_indexer] = value instead\n",
      "\n",
      "See the caveats in the documentation: https://pandas.pydata.org/pandas-docs/stable/user_guide/indexing.html#returning-a-view-versus-a-copy\n",
      "  recommendation_df['favourite'] = personal_recommendations\n"
     ]
    }
   ],
   "source": [
    "recommendation_df['favourite'] = personal_recommendations"
   ]
  },
  {
   "cell_type": "code",
   "execution_count": 105,
   "metadata": {},
   "outputs": [
    {
     "data": {
      "text/html": [
       "<div>\n",
       "<style scoped>\n",
       "    .dataframe tbody tr th:only-of-type {\n",
       "        vertical-align: middle;\n",
       "    }\n",
       "\n",
       "    .dataframe tbody tr th {\n",
       "        vertical-align: top;\n",
       "    }\n",
       "\n",
       "    .dataframe thead th {\n",
       "        text-align: right;\n",
       "    }\n",
       "</style>\n",
       "<table border=\"1\" class=\"dataframe\">\n",
       "  <thead>\n",
       "    <tr style=\"text-align: right;\">\n",
       "      <th></th>\n",
       "      <th>tempo</th>\n",
       "      <th>speechiness</th>\n",
       "      <th>mode</th>\n",
       "      <th>loudness</th>\n",
       "      <th>liveness</th>\n",
       "      <th>key</th>\n",
       "      <th>instrumentalness</th>\n",
       "      <th>energy</th>\n",
       "      <th>danceability</th>\n",
       "      <th>acousticness</th>\n",
       "      <th>valence</th>\n",
       "      <th>favourite</th>\n",
       "    </tr>\n",
       "  </thead>\n",
       "  <tbody>\n",
       "    <tr>\n",
       "      <th>0</th>\n",
       "      <td>60.936</td>\n",
       "      <td>0.4150</td>\n",
       "      <td>1</td>\n",
       "      <td>-12.441</td>\n",
       "      <td>0.160</td>\n",
       "      <td>7</td>\n",
       "      <td>0.000000</td>\n",
       "      <td>0.341</td>\n",
       "      <td>0.819</td>\n",
       "      <td>0.732</td>\n",
       "      <td>0.9630</td>\n",
       "      <td>0</td>\n",
       "    </tr>\n",
       "    <tr>\n",
       "      <th>1</th>\n",
       "      <td>110.339</td>\n",
       "      <td>0.0339</td>\n",
       "      <td>1</td>\n",
       "      <td>-14.850</td>\n",
       "      <td>0.101</td>\n",
       "      <td>3</td>\n",
       "      <td>0.913000</td>\n",
       "      <td>0.166</td>\n",
       "      <td>0.328</td>\n",
       "      <td>0.961</td>\n",
       "      <td>0.0394</td>\n",
       "      <td>0</td>\n",
       "    </tr>\n",
       "    <tr>\n",
       "      <th>2</th>\n",
       "      <td>100.109</td>\n",
       "      <td>0.0354</td>\n",
       "      <td>1</td>\n",
       "      <td>-9.316</td>\n",
       "      <td>0.381</td>\n",
       "      <td>5</td>\n",
       "      <td>0.000028</td>\n",
       "      <td>0.309</td>\n",
       "      <td>0.275</td>\n",
       "      <td>0.967</td>\n",
       "      <td>0.1650</td>\n",
       "      <td>0</td>\n",
       "    </tr>\n",
       "    <tr>\n",
       "      <th>3</th>\n",
       "      <td>101.665</td>\n",
       "      <td>0.0380</td>\n",
       "      <td>1</td>\n",
       "      <td>-10.096</td>\n",
       "      <td>0.229</td>\n",
       "      <td>3</td>\n",
       "      <td>0.000002</td>\n",
       "      <td>0.193</td>\n",
       "      <td>0.418</td>\n",
       "      <td>0.957</td>\n",
       "      <td>0.2530</td>\n",
       "      <td>0</td>\n",
       "    </tr>\n",
       "    <tr>\n",
       "      <th>4</th>\n",
       "      <td>119.824</td>\n",
       "      <td>0.0700</td>\n",
       "      <td>1</td>\n",
       "      <td>-12.506</td>\n",
       "      <td>0.130</td>\n",
       "      <td>2</td>\n",
       "      <td>0.168000</td>\n",
       "      <td>0.346</td>\n",
       "      <td>0.697</td>\n",
       "      <td>0.579</td>\n",
       "      <td>0.1960</td>\n",
       "      <td>0</td>\n",
       "    </tr>\n",
       "  </tbody>\n",
       "</table>\n",
       "</div>"
      ],
      "text/plain": [
       "     tempo  speechiness  mode  loudness  liveness  key  instrumentalness  \\\n",
       "0   60.936       0.4150     1   -12.441     0.160    7          0.000000   \n",
       "1  110.339       0.0339     1   -14.850     0.101    3          0.913000   \n",
       "2  100.109       0.0354     1    -9.316     0.381    5          0.000028   \n",
       "3  101.665       0.0380     1   -10.096     0.229    3          0.000002   \n",
       "4  119.824       0.0700     1   -12.506     0.130    2          0.168000   \n",
       "\n",
       "   energy  danceability  acousticness  valence  favourite  \n",
       "0   0.341         0.819         0.732   0.9630          0  \n",
       "1   0.166         0.328         0.961   0.0394          0  \n",
       "2   0.309         0.275         0.967   0.1650          0  \n",
       "3   0.193         0.418         0.957   0.2530          0  \n",
       "4   0.346         0.697         0.579   0.1960          0  "
      ]
     },
     "execution_count": 105,
     "metadata": {},
     "output_type": "execute_result"
    }
   ],
   "source": [
    "recommendation_df.head()"
   ]
  },
  {
   "cell_type": "code",
   "execution_count": 106,
   "metadata": {},
   "outputs": [],
   "source": [
    "#concat recommendation audio features with respective names\n",
    "recommendation_df = pd.concat([recommendation_df,test_df[['artists','name','main_artist','feat_artist','explicit','id','popularity','year','duration_ms']]],axis=1)\n"
   ]
  },
  {
   "cell_type": "code",
   "execution_count": 107,
   "metadata": {},
   "outputs": [
    {
     "data": {
      "text/html": [
       "<div>\n",
       "<style scoped>\n",
       "    .dataframe tbody tr th:only-of-type {\n",
       "        vertical-align: middle;\n",
       "    }\n",
       "\n",
       "    .dataframe tbody tr th {\n",
       "        vertical-align: top;\n",
       "    }\n",
       "\n",
       "    .dataframe thead th {\n",
       "        text-align: right;\n",
       "    }\n",
       "</style>\n",
       "<table border=\"1\" class=\"dataframe\">\n",
       "  <thead>\n",
       "    <tr style=\"text-align: right;\">\n",
       "      <th></th>\n",
       "      <th>tempo</th>\n",
       "      <th>speechiness</th>\n",
       "      <th>mode</th>\n",
       "      <th>loudness</th>\n",
       "      <th>liveness</th>\n",
       "      <th>key</th>\n",
       "      <th>instrumentalness</th>\n",
       "      <th>energy</th>\n",
       "      <th>danceability</th>\n",
       "      <th>acousticness</th>\n",
       "      <th>...</th>\n",
       "      <th>favourite</th>\n",
       "      <th>artists</th>\n",
       "      <th>name</th>\n",
       "      <th>main_artist</th>\n",
       "      <th>feat_artist</th>\n",
       "      <th>explicit</th>\n",
       "      <th>id</th>\n",
       "      <th>popularity</th>\n",
       "      <th>year</th>\n",
       "      <th>duration_ms</th>\n",
       "    </tr>\n",
       "  </thead>\n",
       "  <tbody>\n",
       "    <tr>\n",
       "      <th>0</th>\n",
       "      <td>60.936</td>\n",
       "      <td>0.4150</td>\n",
       "      <td>1</td>\n",
       "      <td>-12.441</td>\n",
       "      <td>0.160</td>\n",
       "      <td>7</td>\n",
       "      <td>0.000000</td>\n",
       "      <td>0.341</td>\n",
       "      <td>0.819</td>\n",
       "      <td>0.732</td>\n",
       "      <td>...</td>\n",
       "      <td>0</td>\n",
       "      <td>['Dennis Day']</td>\n",
       "      <td>Clancy Lowered the Boom</td>\n",
       "      <td>Dennis Day</td>\n",
       "      <td>[]</td>\n",
       "      <td>0</td>\n",
       "      <td>7xPhfUan2yNtyFG0cUWkt8</td>\n",
       "      <td>5</td>\n",
       "      <td>1921</td>\n",
       "      <td>180533</td>\n",
       "    </tr>\n",
       "    <tr>\n",
       "      <th>1</th>\n",
       "      <td>110.339</td>\n",
       "      <td>0.0339</td>\n",
       "      <td>1</td>\n",
       "      <td>-14.850</td>\n",
       "      <td>0.101</td>\n",
       "      <td>3</td>\n",
       "      <td>0.913000</td>\n",
       "      <td>0.166</td>\n",
       "      <td>0.328</td>\n",
       "      <td>0.961</td>\n",
       "      <td>...</td>\n",
       "      <td>0</td>\n",
       "      <td>['KHP Kridhamardawa Karaton Ngayogyakarta Hadi...</td>\n",
       "      <td>Gati Bali</td>\n",
       "      <td>KHP Kridhamardawa Karaton Ngayogyakarta Hadini...</td>\n",
       "      <td>[]</td>\n",
       "      <td>0</td>\n",
       "      <td>1o6I8BglA6ylDMrIELygv1</td>\n",
       "      <td>5</td>\n",
       "      <td>1921</td>\n",
       "      <td>500062</td>\n",
       "    </tr>\n",
       "    <tr>\n",
       "      <th>2</th>\n",
       "      <td>100.109</td>\n",
       "      <td>0.0354</td>\n",
       "      <td>1</td>\n",
       "      <td>-9.316</td>\n",
       "      <td>0.381</td>\n",
       "      <td>5</td>\n",
       "      <td>0.000028</td>\n",
       "      <td>0.309</td>\n",
       "      <td>0.275</td>\n",
       "      <td>0.967</td>\n",
       "      <td>...</td>\n",
       "      <td>0</td>\n",
       "      <td>['Frank Parker']</td>\n",
       "      <td>Danny Boy</td>\n",
       "      <td>Frank Parker</td>\n",
       "      <td>[]</td>\n",
       "      <td>0</td>\n",
       "      <td>3ftBPsC5vPBKxYSee08FDH</td>\n",
       "      <td>3</td>\n",
       "      <td>1921</td>\n",
       "      <td>210000</td>\n",
       "    </tr>\n",
       "    <tr>\n",
       "      <th>3</th>\n",
       "      <td>101.665</td>\n",
       "      <td>0.0380</td>\n",
       "      <td>1</td>\n",
       "      <td>-10.096</td>\n",
       "      <td>0.229</td>\n",
       "      <td>3</td>\n",
       "      <td>0.000002</td>\n",
       "      <td>0.193</td>\n",
       "      <td>0.418</td>\n",
       "      <td>0.957</td>\n",
       "      <td>...</td>\n",
       "      <td>0</td>\n",
       "      <td>['Phil Regan']</td>\n",
       "      <td>When Irish Eyes Are Smiling</td>\n",
       "      <td>Phil Regan</td>\n",
       "      <td>[]</td>\n",
       "      <td>0</td>\n",
       "      <td>4d6HGyGT8e121BsdKmw9v6</td>\n",
       "      <td>2</td>\n",
       "      <td>1921</td>\n",
       "      <td>166693</td>\n",
       "    </tr>\n",
       "    <tr>\n",
       "      <th>4</th>\n",
       "      <td>119.824</td>\n",
       "      <td>0.0700</td>\n",
       "      <td>1</td>\n",
       "      <td>-12.506</td>\n",
       "      <td>0.130</td>\n",
       "      <td>2</td>\n",
       "      <td>0.168000</td>\n",
       "      <td>0.346</td>\n",
       "      <td>0.697</td>\n",
       "      <td>0.579</td>\n",
       "      <td>...</td>\n",
       "      <td>0</td>\n",
       "      <td>['KHP Kridhamardawa Karaton Ngayogyakarta Hadi...</td>\n",
       "      <td>Gati Mardika</td>\n",
       "      <td>KHP Kridhamardawa Karaton Ngayogyakarta Hadini...</td>\n",
       "      <td>[]</td>\n",
       "      <td>0</td>\n",
       "      <td>4pyw9DVHGStUre4J6hPngr</td>\n",
       "      <td>6</td>\n",
       "      <td>1921</td>\n",
       "      <td>395076</td>\n",
       "    </tr>\n",
       "  </tbody>\n",
       "</table>\n",
       "<p>5 rows × 21 columns</p>\n",
       "</div>"
      ],
      "text/plain": [
       "     tempo  speechiness  mode  loudness  liveness  key  instrumentalness  \\\n",
       "0   60.936       0.4150     1   -12.441     0.160    7          0.000000   \n",
       "1  110.339       0.0339     1   -14.850     0.101    3          0.913000   \n",
       "2  100.109       0.0354     1    -9.316     0.381    5          0.000028   \n",
       "3  101.665       0.0380     1   -10.096     0.229    3          0.000002   \n",
       "4  119.824       0.0700     1   -12.506     0.130    2          0.168000   \n",
       "\n",
       "   energy  danceability  acousticness  ...  favourite  \\\n",
       "0   0.341         0.819         0.732  ...          0   \n",
       "1   0.166         0.328         0.961  ...          0   \n",
       "2   0.309         0.275         0.967  ...          0   \n",
       "3   0.193         0.418         0.957  ...          0   \n",
       "4   0.346         0.697         0.579  ...          0   \n",
       "\n",
       "                                             artists  \\\n",
       "0                                     ['Dennis Day']   \n",
       "1  ['KHP Kridhamardawa Karaton Ngayogyakarta Hadi...   \n",
       "2                                   ['Frank Parker']   \n",
       "3                                     ['Phil Regan']   \n",
       "4  ['KHP Kridhamardawa Karaton Ngayogyakarta Hadi...   \n",
       "\n",
       "                          name  \\\n",
       "0      Clancy Lowered the Boom   \n",
       "1                    Gati Bali   \n",
       "2                    Danny Boy   \n",
       "3  When Irish Eyes Are Smiling   \n",
       "4                 Gati Mardika   \n",
       "\n",
       "                                         main_artist feat_artist explicit  \\\n",
       "0                                         Dennis Day          []        0   \n",
       "1  KHP Kridhamardawa Karaton Ngayogyakarta Hadini...          []        0   \n",
       "2                                       Frank Parker          []        0   \n",
       "3                                         Phil Regan          []        0   \n",
       "4  KHP Kridhamardawa Karaton Ngayogyakarta Hadini...          []        0   \n",
       "\n",
       "                       id popularity  year  duration_ms  \n",
       "0  7xPhfUan2yNtyFG0cUWkt8          5  1921       180533  \n",
       "1  1o6I8BglA6ylDMrIELygv1          5  1921       500062  \n",
       "2  3ftBPsC5vPBKxYSee08FDH          3  1921       210000  \n",
       "3  4d6HGyGT8e121BsdKmw9v6          2  1921       166693  \n",
       "4  4pyw9DVHGStUre4J6hPngr          6  1921       395076  \n",
       "\n",
       "[5 rows x 21 columns]"
      ]
     },
     "execution_count": 107,
     "metadata": {},
     "output_type": "execute_result"
    }
   ],
   "source": [
    "recommendation_df.head()"
   ]
  },
  {
   "cell_type": "code",
   "execution_count": 108,
   "metadata": {
    "scrolled": true
   },
   "outputs": [],
   "source": [
    "best_recommendation_df = pd.concat([recommendation_df[recommendation_df.favourite == 1],train_df[train_df.favourite == 1]],axis=0)\n",
    "best_recommendation_df.reset_index(inplace = True, drop = True)"
   ]
  },
  {
   "cell_type": "code",
   "execution_count": 109,
   "metadata": {},
   "outputs": [
    {
     "data": {
      "text/plain": [
       "(24531, 24)"
      ]
     },
     "execution_count": 109,
     "metadata": {},
     "output_type": "execute_result"
    }
   ],
   "source": [
    "best_recommendation_df.shape"
   ]
  },
  {
   "cell_type": "code",
   "execution_count": 110,
   "metadata": {},
   "outputs": [
    {
     "data": {
      "text/html": [
       "<div>\n",
       "<style scoped>\n",
       "    .dataframe tbody tr th:only-of-type {\n",
       "        vertical-align: middle;\n",
       "    }\n",
       "\n",
       "    .dataframe tbody tr th {\n",
       "        vertical-align: top;\n",
       "    }\n",
       "\n",
       "    .dataframe thead th {\n",
       "        text-align: right;\n",
       "    }\n",
       "</style>\n",
       "<table border=\"1\" class=\"dataframe\">\n",
       "  <thead>\n",
       "    <tr style=\"text-align: right;\">\n",
       "      <th></th>\n",
       "      <th>tempo</th>\n",
       "      <th>speechiness</th>\n",
       "      <th>mode</th>\n",
       "      <th>loudness</th>\n",
       "      <th>liveness</th>\n",
       "      <th>key</th>\n",
       "      <th>instrumentalness</th>\n",
       "      <th>energy</th>\n",
       "      <th>danceability</th>\n",
       "      <th>acousticness</th>\n",
       "      <th>...</th>\n",
       "      <th>favourite</th>\n",
       "      <th>artists</th>\n",
       "      <th>name</th>\n",
       "      <th>main_artist</th>\n",
       "      <th>feat_artist</th>\n",
       "      <th>explicit</th>\n",
       "      <th>id</th>\n",
       "      <th>popularity</th>\n",
       "      <th>year</th>\n",
       "      <th>duration_ms</th>\n",
       "    </tr>\n",
       "  </thead>\n",
       "  <tbody>\n",
       "    <tr>\n",
       "      <th>5</th>\n",
       "      <td>66.221</td>\n",
       "      <td>0.0615</td>\n",
       "      <td>1</td>\n",
       "      <td>-10.589</td>\n",
       "      <td>0.1150</td>\n",
       "      <td>0</td>\n",
       "      <td>0.000000</td>\n",
       "      <td>0.203</td>\n",
       "      <td>0.518</td>\n",
       "      <td>0.9960</td>\n",
       "      <td>...</td>\n",
       "      <td>1</td>\n",
       "      <td>['John McCormack']</td>\n",
       "      <td>The Wearing of the Green</td>\n",
       "      <td>John McCormack</td>\n",
       "      <td>[]</td>\n",
       "      <td>0</td>\n",
       "      <td>5uNZnElqOS3W4fRmRYPk4T</td>\n",
       "      <td>4</td>\n",
       "      <td>1921</td>\n",
       "      <td>159507</td>\n",
       "    </tr>\n",
       "    <tr>\n",
       "      <th>6</th>\n",
       "      <td>92.867</td>\n",
       "      <td>0.0456</td>\n",
       "      <td>0</td>\n",
       "      <td>-21.091</td>\n",
       "      <td>0.3630</td>\n",
       "      <td>1</td>\n",
       "      <td>0.527000</td>\n",
       "      <td>0.088</td>\n",
       "      <td>0.389</td>\n",
       "      <td>0.9930</td>\n",
       "      <td>...</td>\n",
       "      <td>1</td>\n",
       "      <td>['Sergei Rachmaninoff']</td>\n",
       "      <td>Morceaux de fantaisie, Op. 3: No. 2, Prélude i...</td>\n",
       "      <td>Sergei Rachmaninoff</td>\n",
       "      <td>[]</td>\n",
       "      <td>0</td>\n",
       "      <td>02GDntOXexBFUvSgaXLPkd</td>\n",
       "      <td>2</td>\n",
       "      <td>1921</td>\n",
       "      <td>218773</td>\n",
       "    </tr>\n",
       "    <tr>\n",
       "      <th>35</th>\n",
       "      <td>92.707</td>\n",
       "      <td>0.0522</td>\n",
       "      <td>0</td>\n",
       "      <td>-12.194</td>\n",
       "      <td>0.3810</td>\n",
       "      <td>0</td>\n",
       "      <td>0.000000</td>\n",
       "      <td>0.290</td>\n",
       "      <td>0.522</td>\n",
       "      <td>0.9920</td>\n",
       "      <td>...</td>\n",
       "      <td>1</td>\n",
       "      <td>['Maurice Chevalier']</td>\n",
       "      <td>Je N'peux Pas Vivre Sans Amour</td>\n",
       "      <td>Maurice Chevalier</td>\n",
       "      <td>[]</td>\n",
       "      <td>0</td>\n",
       "      <td>1RgXfAX9PrSfTKTFvOQxPR</td>\n",
       "      <td>0</td>\n",
       "      <td>1921</td>\n",
       "      <td>170627</td>\n",
       "    </tr>\n",
       "    <tr>\n",
       "      <th>36</th>\n",
       "      <td>79.997</td>\n",
       "      <td>0.0575</td>\n",
       "      <td>1</td>\n",
       "      <td>-11.108</td>\n",
       "      <td>0.1780</td>\n",
       "      <td>1</td>\n",
       "      <td>0.034900</td>\n",
       "      <td>0.422</td>\n",
       "      <td>0.577</td>\n",
       "      <td>0.1850</td>\n",
       "      <td>...</td>\n",
       "      <td>1</td>\n",
       "      <td>['THE GUY']</td>\n",
       "      <td>Love for Guns</td>\n",
       "      <td>THE GUY</td>\n",
       "      <td>[]</td>\n",
       "      <td>1</td>\n",
       "      <td>1T2NGVgAoXjQPEjxTGFRZV</td>\n",
       "      <td>0</td>\n",
       "      <td>1921</td>\n",
       "      <td>404062</td>\n",
       "    </tr>\n",
       "    <tr>\n",
       "      <th>38</th>\n",
       "      <td>107.840</td>\n",
       "      <td>0.0282</td>\n",
       "      <td>0</td>\n",
       "      <td>-9.843</td>\n",
       "      <td>0.0468</td>\n",
       "      <td>1</td>\n",
       "      <td>0.000004</td>\n",
       "      <td>0.537</td>\n",
       "      <td>0.689</td>\n",
       "      <td>0.2580</td>\n",
       "      <td>...</td>\n",
       "      <td>1</td>\n",
       "      <td>['Mehmet Kemiksiz']</td>\n",
       "      <td>Ey Bülbül-i Ter Zebân-i İrf</td>\n",
       "      <td>Mehmet Kemiksiz</td>\n",
       "      <td>[]</td>\n",
       "      <td>0</td>\n",
       "      <td>1WOXWCjKZzJJRSMJcrLrK1</td>\n",
       "      <td>0</td>\n",
       "      <td>1921</td>\n",
       "      <td>145371</td>\n",
       "    </tr>\n",
       "    <tr>\n",
       "      <th>...</th>\n",
       "      <td>...</td>\n",
       "      <td>...</td>\n",
       "      <td>...</td>\n",
       "      <td>...</td>\n",
       "      <td>...</td>\n",
       "      <td>...</td>\n",
       "      <td>...</td>\n",
       "      <td>...</td>\n",
       "      <td>...</td>\n",
       "      <td>...</td>\n",
       "      <td>...</td>\n",
       "      <td>...</td>\n",
       "      <td>...</td>\n",
       "      <td>...</td>\n",
       "      <td>...</td>\n",
       "      <td>...</td>\n",
       "      <td>...</td>\n",
       "      <td>...</td>\n",
       "      <td>...</td>\n",
       "      <td>...</td>\n",
       "      <td>...</td>\n",
       "    </tr>\n",
       "    <tr>\n",
       "      <th>151162</th>\n",
       "      <td>76.474</td>\n",
       "      <td>0.1010</td>\n",
       "      <td>1</td>\n",
       "      <td>-6.520</td>\n",
       "      <td>0.1150</td>\n",
       "      <td>0</td>\n",
       "      <td>0.000018</td>\n",
       "      <td>0.304</td>\n",
       "      <td>0.840</td>\n",
       "      <td>0.0732</td>\n",
       "      <td>...</td>\n",
       "      <td>1</td>\n",
       "      <td>['KYLE']</td>\n",
       "      <td>What It Is</td>\n",
       "      <td>KYLE</td>\n",
       "      <td>[]</td>\n",
       "      <td>1</td>\n",
       "      <td>1AYNmdKudx7JArl2uDy1nv</td>\n",
       "      <td>65</td>\n",
       "      <td>2020</td>\n",
       "      <td>143476</td>\n",
       "    </tr>\n",
       "    <tr>\n",
       "      <th>151164</th>\n",
       "      <td>111.453</td>\n",
       "      <td>0.0350</td>\n",
       "      <td>1</td>\n",
       "      <td>-10.282</td>\n",
       "      <td>0.2340</td>\n",
       "      <td>1</td>\n",
       "      <td>0.019000</td>\n",
       "      <td>0.320</td>\n",
       "      <td>0.328</td>\n",
       "      <td>0.3240</td>\n",
       "      <td>...</td>\n",
       "      <td>1</td>\n",
       "      <td>['Phoebe Bridgers']</td>\n",
       "      <td>I Know The End</td>\n",
       "      <td>Phoebe Bridgers</td>\n",
       "      <td>[]</td>\n",
       "      <td>0</td>\n",
       "      <td>3cr3oAP4bQFNjZBV7ElKaB</td>\n",
       "      <td>66</td>\n",
       "      <td>2020</td>\n",
       "      <td>344693</td>\n",
       "    </tr>\n",
       "    <tr>\n",
       "      <th>151166</th>\n",
       "      <td>102.950</td>\n",
       "      <td>0.0315</td>\n",
       "      <td>1</td>\n",
       "      <td>-4.244</td>\n",
       "      <td>0.1420</td>\n",
       "      <td>0</td>\n",
       "      <td>0.000000</td>\n",
       "      <td>0.711</td>\n",
       "      <td>0.639</td>\n",
       "      <td>0.0242</td>\n",
       "      <td>...</td>\n",
       "      <td>1</td>\n",
       "      <td>['Alesso', 'Charlotte Lawrence']</td>\n",
       "      <td>THE END</td>\n",
       "      <td>Alesso</td>\n",
       "      <td>['Charlotte Lawrence']</td>\n",
       "      <td>0</td>\n",
       "      <td>4w7vZjpsnpKizj7NE0Nuld</td>\n",
       "      <td>70</td>\n",
       "      <td>2020</td>\n",
       "      <td>206308</td>\n",
       "    </tr>\n",
       "    <tr>\n",
       "      <th>151172</th>\n",
       "      <td>172.044</td>\n",
       "      <td>0.0883</td>\n",
       "      <td>1</td>\n",
       "      <td>-4.727</td>\n",
       "      <td>0.0598</td>\n",
       "      <td>0</td>\n",
       "      <td>0.000828</td>\n",
       "      <td>0.629</td>\n",
       "      <td>0.788</td>\n",
       "      <td>0.1600</td>\n",
       "      <td>...</td>\n",
       "      <td>1</td>\n",
       "      <td>['Rauw Alejandro', 'Dalex', 'Lenny Tavárez', '...</td>\n",
       "      <td>Elegí (feat. Farruko, Anuel AA, Sech, Dímelo F...</td>\n",
       "      <td>Rauw Alejandro</td>\n",
       "      <td>['Dalex', 'Lenny Tavárez', 'Farruko', 'Anuel A...</td>\n",
       "      <td>1</td>\n",
       "      <td>3oCghu20Kto5Xcu8Pg0cit</td>\n",
       "      <td>75</td>\n",
       "      <td>2020</td>\n",
       "      <td>325692</td>\n",
       "    </tr>\n",
       "    <tr>\n",
       "      <th>151174</th>\n",
       "      <td>87.542</td>\n",
       "      <td>0.4330</td>\n",
       "      <td>1</td>\n",
       "      <td>-6.994</td>\n",
       "      <td>0.0607</td>\n",
       "      <td>1</td>\n",
       "      <td>0.000000</td>\n",
       "      <td>0.612</td>\n",
       "      <td>0.796</td>\n",
       "      <td>0.0829</td>\n",
       "      <td>...</td>\n",
       "      <td>1</td>\n",
       "      <td>['Polo G']</td>\n",
       "      <td>Trials &amp; Tribulations</td>\n",
       "      <td>Polo G</td>\n",
       "      <td>[]</td>\n",
       "      <td>1</td>\n",
       "      <td>6V1Jx3o0S2MtBI9yIDXsJS</td>\n",
       "      <td>65</td>\n",
       "      <td>2020</td>\n",
       "      <td>176543</td>\n",
       "    </tr>\n",
       "  </tbody>\n",
       "</table>\n",
       "<p>24269 rows × 21 columns</p>\n",
       "</div>"
      ],
      "text/plain": [
       "          tempo  speechiness  mode  loudness  liveness  key  instrumentalness  \\\n",
       "5        66.221       0.0615     1   -10.589    0.1150    0          0.000000   \n",
       "6        92.867       0.0456     0   -21.091    0.3630    1          0.527000   \n",
       "35       92.707       0.0522     0   -12.194    0.3810    0          0.000000   \n",
       "36       79.997       0.0575     1   -11.108    0.1780    1          0.034900   \n",
       "38      107.840       0.0282     0    -9.843    0.0468    1          0.000004   \n",
       "...         ...          ...   ...       ...       ...  ...               ...   \n",
       "151162   76.474       0.1010     1    -6.520    0.1150    0          0.000018   \n",
       "151164  111.453       0.0350     1   -10.282    0.2340    1          0.019000   \n",
       "151166  102.950       0.0315     1    -4.244    0.1420    0          0.000000   \n",
       "151172  172.044       0.0883     1    -4.727    0.0598    0          0.000828   \n",
       "151174   87.542       0.4330     1    -6.994    0.0607    1          0.000000   \n",
       "\n",
       "        energy  danceability  acousticness  ...  favourite  \\\n",
       "5        0.203         0.518        0.9960  ...          1   \n",
       "6        0.088         0.389        0.9930  ...          1   \n",
       "35       0.290         0.522        0.9920  ...          1   \n",
       "36       0.422         0.577        0.1850  ...          1   \n",
       "38       0.537         0.689        0.2580  ...          1   \n",
       "...        ...           ...           ...  ...        ...   \n",
       "151162   0.304         0.840        0.0732  ...          1   \n",
       "151164   0.320         0.328        0.3240  ...          1   \n",
       "151166   0.711         0.639        0.0242  ...          1   \n",
       "151172   0.629         0.788        0.1600  ...          1   \n",
       "151174   0.612         0.796        0.0829  ...          1   \n",
       "\n",
       "                                                  artists  \\\n",
       "5                                      ['John McCormack']   \n",
       "6                                 ['Sergei Rachmaninoff']   \n",
       "35                                  ['Maurice Chevalier']   \n",
       "36                                            ['THE GUY']   \n",
       "38                                    ['Mehmet Kemiksiz']   \n",
       "...                                                   ...   \n",
       "151162                                           ['KYLE']   \n",
       "151164                                ['Phoebe Bridgers']   \n",
       "151166                   ['Alesso', 'Charlotte Lawrence']   \n",
       "151172  ['Rauw Alejandro', 'Dalex', 'Lenny Tavárez', '...   \n",
       "151174                                         ['Polo G']   \n",
       "\n",
       "                                                     name  \\\n",
       "5                                The Wearing of the Green   \n",
       "6       Morceaux de fantaisie, Op. 3: No. 2, Prélude i...   \n",
       "35                         Je N'peux Pas Vivre Sans Amour   \n",
       "36                                          Love for Guns   \n",
       "38                            Ey Bülbül-i Ter Zebân-i İrf   \n",
       "...                                                   ...   \n",
       "151162                                         What It Is   \n",
       "151164                                     I Know The End   \n",
       "151166                                            THE END   \n",
       "151172  Elegí (feat. Farruko, Anuel AA, Sech, Dímelo F...   \n",
       "151174                              Trials & Tribulations   \n",
       "\n",
       "                main_artist  \\\n",
       "5            John McCormack   \n",
       "6       Sergei Rachmaninoff   \n",
       "35        Maurice Chevalier   \n",
       "36                  THE GUY   \n",
       "38          Mehmet Kemiksiz   \n",
       "...                     ...   \n",
       "151162                 KYLE   \n",
       "151164      Phoebe Bridgers   \n",
       "151166               Alesso   \n",
       "151172       Rauw Alejandro   \n",
       "151174               Polo G   \n",
       "\n",
       "                                              feat_artist explicit  \\\n",
       "5                                                      []        0   \n",
       "6                                                      []        0   \n",
       "35                                                     []        0   \n",
       "36                                                     []        1   \n",
       "38                                                     []        0   \n",
       "...                                                   ...      ...   \n",
       "151162                                                 []        1   \n",
       "151164                                                 []        0   \n",
       "151166                             ['Charlotte Lawrence']        0   \n",
       "151172  ['Dalex', 'Lenny Tavárez', 'Farruko', 'Anuel A...        1   \n",
       "151174                                                 []        1   \n",
       "\n",
       "                            id popularity  year  duration_ms  \n",
       "5       5uNZnElqOS3W4fRmRYPk4T          4  1921       159507  \n",
       "6       02GDntOXexBFUvSgaXLPkd          2  1921       218773  \n",
       "35      1RgXfAX9PrSfTKTFvOQxPR          0  1921       170627  \n",
       "36      1T2NGVgAoXjQPEjxTGFRZV          0  1921       404062  \n",
       "38      1WOXWCjKZzJJRSMJcrLrK1          0  1921       145371  \n",
       "...                        ...        ...   ...          ...  \n",
       "151162  1AYNmdKudx7JArl2uDy1nv         65  2020       143476  \n",
       "151164  3cr3oAP4bQFNjZBV7ElKaB         66  2020       344693  \n",
       "151166  4w7vZjpsnpKizj7NE0Nuld         70  2020       206308  \n",
       "151172  3oCghu20Kto5Xcu8Pg0cit         75  2020       325692  \n",
       "151174  6V1Jx3o0S2MtBI9yIDXsJS         65  2020       176543  \n",
       "\n",
       "[24269 rows x 21 columns]"
      ]
     },
     "execution_count": 110,
     "metadata": {},
     "output_type": "execute_result"
    }
   ],
   "source": [
    "recommendation_df[recommendation_df.favourite == 1]"
   ]
  },
  {
   "cell_type": "code",
   "execution_count": 111,
   "metadata": {},
   "outputs": [
    {
     "name": "stdout",
     "output_type": "stream",
     "text": [
      "<class 'pandas.core.frame.DataFrame'>\n",
      "RangeIndex: 24531 entries, 0 to 24530\n",
      "Data columns (total 24 columns):\n",
      " #   Column            Non-Null Count  Dtype  \n",
      "---  ------            --------------  -----  \n",
      " 0   tempo             24531 non-null  float64\n",
      " 1   speechiness       24531 non-null  float64\n",
      " 2   mode              24531 non-null  int64  \n",
      " 3   loudness          24531 non-null  float64\n",
      " 4   liveness          24531 non-null  float64\n",
      " 5   key               24531 non-null  int64  \n",
      " 6   instrumentalness  24531 non-null  float64\n",
      " 7   energy            24531 non-null  float64\n",
      " 8   danceability      24531 non-null  float64\n",
      " 9   acousticness      24531 non-null  float64\n",
      " 10  valence           24531 non-null  float64\n",
      " 11  favourite         24531 non-null  int64  \n",
      " 12  artists           24531 non-null  object \n",
      " 13  name              24531 non-null  object \n",
      " 14  main_artist       24530 non-null  object \n",
      " 15  feat_artist       24531 non-null  object \n",
      " 16  explicit          24531 non-null  int64  \n",
      " 17  id                24531 non-null  object \n",
      " 18  popularity        24531 non-null  int64  \n",
      " 19  year              24531 non-null  int64  \n",
      " 20  duration_ms       24531 non-null  int64  \n",
      " 21  release_date      262 non-null    object \n",
      " 22  msPlayed          262 non-null    float64\n",
      " 23  times_played      262 non-null    float64\n",
      "dtypes: float64(11), int64(7), object(6)\n",
      "memory usage: 4.5+ MB\n"
     ]
    }
   ],
   "source": [
    "best_recommendation_df.info()"
   ]
  },
  {
   "cell_type": "markdown",
   "metadata": {},
   "source": [
    "## Putting the Personalised Recommender Togther"
   ]
  },
  {
   "cell_type": "markdown",
   "metadata": {},
   "source": [
    "Using the best_recommendation_df, where it is a dataframew ith only predicted songs that I may like as well as songs that I actually do like, this would significantly improve the accuracy of the recommendation. "
   ]
  },
  {
   "cell_type": "code",
   "execution_count": 112,
   "metadata": {},
   "outputs": [],
   "source": [
    "#create dataframe only used to apply cosine similarity calculation on\n",
    "# only take the numerical columns and drop the numerical ones that do not represent audio features\n",
    "data_df_cosim = best_recommendation_df.select_dtypes(include=['int64','float64']).drop(columns=['msPlayed','year','popularity','explicit','times_played','duration_ms','favourite'])\n",
    "\n",
    "#concat with id so that we can use the grouby function on it\n",
    "data_df_cosim = pd.concat([data_df_cosim,best_recommendation_df.id], axis =1)"
   ]
  },
  {
   "cell_type": "code",
   "execution_count": 113,
   "metadata": {},
   "outputs": [
    {
     "data": {
      "text/html": [
       "<div>\n",
       "<style scoped>\n",
       "    .dataframe tbody tr th:only-of-type {\n",
       "        vertical-align: middle;\n",
       "    }\n",
       "\n",
       "    .dataframe tbody tr th {\n",
       "        vertical-align: top;\n",
       "    }\n",
       "\n",
       "    .dataframe thead th {\n",
       "        text-align: right;\n",
       "    }\n",
       "</style>\n",
       "<table border=\"1\" class=\"dataframe\">\n",
       "  <thead>\n",
       "    <tr style=\"text-align: right;\">\n",
       "      <th></th>\n",
       "      <th>tempo</th>\n",
       "      <th>speechiness</th>\n",
       "      <th>mode</th>\n",
       "      <th>loudness</th>\n",
       "      <th>liveness</th>\n",
       "      <th>key</th>\n",
       "      <th>instrumentalness</th>\n",
       "      <th>energy</th>\n",
       "      <th>danceability</th>\n",
       "      <th>acousticness</th>\n",
       "      <th>valence</th>\n",
       "    </tr>\n",
       "    <tr>\n",
       "      <th>id</th>\n",
       "      <th></th>\n",
       "      <th></th>\n",
       "      <th></th>\n",
       "      <th></th>\n",
       "      <th></th>\n",
       "      <th></th>\n",
       "      <th></th>\n",
       "      <th></th>\n",
       "      <th></th>\n",
       "      <th></th>\n",
       "      <th></th>\n",
       "    </tr>\n",
       "  </thead>\n",
       "  <tbody>\n",
       "    <tr>\n",
       "      <th>000GyYHG4uWmlXieKLij8u</th>\n",
       "      <td>89.926</td>\n",
       "      <td>0.5200</td>\n",
       "      <td>0</td>\n",
       "      <td>-5.922</td>\n",
       "      <td>0.0824</td>\n",
       "      <td>1</td>\n",
       "      <td>0.000000</td>\n",
       "      <td>0.898</td>\n",
       "      <td>0.797</td>\n",
       "      <td>0.469</td>\n",
       "      <td>0.1460</td>\n",
       "    </tr>\n",
       "    <tr>\n",
       "      <th>000x2qE0ZI3hodeVrnJK8A</th>\n",
       "      <td>134.248</td>\n",
       "      <td>0.0306</td>\n",
       "      <td>1</td>\n",
       "      <td>-14.240</td>\n",
       "      <td>0.1800</td>\n",
       "      <td>0</td>\n",
       "      <td>0.000000</td>\n",
       "      <td>0.356</td>\n",
       "      <td>0.507</td>\n",
       "      <td>0.339</td>\n",
       "      <td>0.4720</td>\n",
       "    </tr>\n",
       "    <tr>\n",
       "      <th>0024tEymsoc9FyKUauQngQ</th>\n",
       "      <td>82.453</td>\n",
       "      <td>0.0259</td>\n",
       "      <td>1</td>\n",
       "      <td>-18.255</td>\n",
       "      <td>0.1320</td>\n",
       "      <td>1</td>\n",
       "      <td>0.929000</td>\n",
       "      <td>0.234</td>\n",
       "      <td>0.305</td>\n",
       "      <td>0.752</td>\n",
       "      <td>0.0780</td>\n",
       "    </tr>\n",
       "    <tr>\n",
       "      <th>0046quUYhSAFccrKIC3Iht</th>\n",
       "      <td>144.435</td>\n",
       "      <td>0.0305</td>\n",
       "      <td>1</td>\n",
       "      <td>-9.959</td>\n",
       "      <td>0.1960</td>\n",
       "      <td>1</td>\n",
       "      <td>0.000006</td>\n",
       "      <td>0.435</td>\n",
       "      <td>0.480</td>\n",
       "      <td>0.207</td>\n",
       "      <td>0.3280</td>\n",
       "    </tr>\n",
       "    <tr>\n",
       "      <th>007SutdC0rVG2CSkuQMtJw</th>\n",
       "      <td>92.584</td>\n",
       "      <td>0.0365</td>\n",
       "      <td>1</td>\n",
       "      <td>-30.130</td>\n",
       "      <td>0.0926</td>\n",
       "      <td>1</td>\n",
       "      <td>0.960000</td>\n",
       "      <td>0.034</td>\n",
       "      <td>0.140</td>\n",
       "      <td>0.632</td>\n",
       "      <td>0.0363</td>\n",
       "    </tr>\n",
       "  </tbody>\n",
       "</table>\n",
       "</div>"
      ],
      "text/plain": [
       "                          tempo  speechiness  mode  loudness  liveness  key  \\\n",
       "id                                                                            \n",
       "000GyYHG4uWmlXieKLij8u   89.926       0.5200     0    -5.922    0.0824    1   \n",
       "000x2qE0ZI3hodeVrnJK8A  134.248       0.0306     1   -14.240    0.1800    0   \n",
       "0024tEymsoc9FyKUauQngQ   82.453       0.0259     1   -18.255    0.1320    1   \n",
       "0046quUYhSAFccrKIC3Iht  144.435       0.0305     1    -9.959    0.1960    1   \n",
       "007SutdC0rVG2CSkuQMtJw   92.584       0.0365     1   -30.130    0.0926    1   \n",
       "\n",
       "                        instrumentalness  energy  danceability  acousticness  \\\n",
       "id                                                                             \n",
       "000GyYHG4uWmlXieKLij8u          0.000000   0.898         0.797         0.469   \n",
       "000x2qE0ZI3hodeVrnJK8A          0.000000   0.356         0.507         0.339   \n",
       "0024tEymsoc9FyKUauQngQ          0.929000   0.234         0.305         0.752   \n",
       "0046quUYhSAFccrKIC3Iht          0.000006   0.435         0.480         0.207   \n",
       "007SutdC0rVG2CSkuQMtJw          0.960000   0.034         0.140         0.632   \n",
       "\n",
       "                        valence  \n",
       "id                               \n",
       "000GyYHG4uWmlXieKLij8u   0.1460  \n",
       "000x2qE0ZI3hodeVrnJK8A   0.4720  \n",
       "0024tEymsoc9FyKUauQngQ   0.0780  \n",
       "0046quUYhSAFccrKIC3Iht   0.3280  \n",
       "007SutdC0rVG2CSkuQMtJw   0.0363  "
      ]
     },
     "execution_count": 113,
     "metadata": {},
     "output_type": "execute_result"
    }
   ],
   "source": [
    "#this puts the dataset into a matrix and indexed by the id\n",
    "song_sim_matrix = data_df_cosim.groupby('id').sum()\n",
    "\n",
    "song_sim_matrix.head()"
   ]
  },
  {
   "cell_type": "code",
   "execution_count": 114,
   "metadata": {},
   "outputs": [],
   "source": [
    "#scale our dataframe\n",
    "song_sim_matrix_scaled = scaler(song_sim_matrix)\n",
    "\n",
    "#convert our numpy matrix into dataframe\n",
    "song_sim_matrix_df = pd.DataFrame(song_sim_matrix_scaled, index=song_sim_matrix.index,columns=song_sim_matrix.columns)"
   ]
  },
  {
   "cell_type": "code",
   "execution_count": 115,
   "metadata": {},
   "outputs": [],
   "source": [
    "#repeat same process above for other songs as best recommendations matrix may not have them\n",
    "\n",
    "# only take the numerical columns and drop the numerical ones that do not represent audio features\n",
    "all_data_df_cosim = data_df.select_dtypes(include=['int64','float64']).drop(columns=['year','popularity','explicit','duration_ms'])\n",
    "\n",
    "#concat with id so that we can use the grouby function on it\n",
    "all_data_df_cosim = pd.concat([all_data_df_cosim,data_df.id], axis =1)"
   ]
  },
  {
   "cell_type": "code",
   "execution_count": 116,
   "metadata": {},
   "outputs": [],
   "source": [
    "#this puts the dataset into a matrix and indexed by the id\n",
    "all_song_sim_matrix = all_data_df_cosim.groupby('id').sum()\n",
    "\n",
    "#scale our dataframe\n",
    "all_song_sim_matrix_scaled = scaler(all_song_sim_matrix)\n",
    "\n",
    "#convert our numpy matrix into dataframe\n",
    "all_song_sim_matrix_df = pd.DataFrame(all_song_sim_matrix_scaled, index=all_song_sim_matrix.index,columns=all_song_sim_matrix.columns)"
   ]
  },
  {
   "cell_type": "code",
   "execution_count": 117,
   "metadata": {},
   "outputs": [
    {
     "data": {
      "text/html": [
       "<div>\n",
       "<style scoped>\n",
       "    .dataframe tbody tr th:only-of-type {\n",
       "        vertical-align: middle;\n",
       "    }\n",
       "\n",
       "    .dataframe tbody tr th {\n",
       "        vertical-align: top;\n",
       "    }\n",
       "\n",
       "    .dataframe thead th {\n",
       "        text-align: right;\n",
       "    }\n",
       "</style>\n",
       "<table border=\"1\" class=\"dataframe\">\n",
       "  <thead>\n",
       "    <tr style=\"text-align: right;\">\n",
       "      <th></th>\n",
       "      <th>valence</th>\n",
       "      <th>acousticness</th>\n",
       "      <th>danceability</th>\n",
       "      <th>energy</th>\n",
       "      <th>instrumentalness</th>\n",
       "      <th>key</th>\n",
       "      <th>liveness</th>\n",
       "      <th>loudness</th>\n",
       "      <th>mode</th>\n",
       "      <th>speechiness</th>\n",
       "      <th>tempo</th>\n",
       "    </tr>\n",
       "    <tr>\n",
       "      <th>id</th>\n",
       "      <th></th>\n",
       "      <th></th>\n",
       "      <th></th>\n",
       "      <th></th>\n",
       "      <th></th>\n",
       "      <th></th>\n",
       "      <th></th>\n",
       "      <th></th>\n",
       "      <th></th>\n",
       "      <th></th>\n",
       "      <th></th>\n",
       "    </tr>\n",
       "  </thead>\n",
       "  <tbody>\n",
       "    <tr>\n",
       "      <th>000G1xMMuwxNHmwVsBdtj1</th>\n",
       "      <td>0.093255</td>\n",
       "      <td>-1.297802</td>\n",
       "      <td>-1.616679</td>\n",
       "      <td>1.540470</td>\n",
       "      <td>-0.526461</td>\n",
       "      <td>-0.910407</td>\n",
       "      <td>-0.711547</td>\n",
       "      <td>1.160521</td>\n",
       "      <td>0.643933</td>\n",
       "      <td>-0.180412</td>\n",
       "      <td>2.416146</td>\n",
       "    </tr>\n",
       "    <tr>\n",
       "      <th>000GyYHG4uWmlXieKLij8u</th>\n",
       "      <td>-1.467362</td>\n",
       "      <td>-0.084203</td>\n",
       "      <td>1.469889</td>\n",
       "      <td>1.551683</td>\n",
       "      <td>-0.526802</td>\n",
       "      <td>-1.194807</td>\n",
       "      <td>-0.709823</td>\n",
       "      <td>0.973435</td>\n",
       "      <td>-1.552956</td>\n",
       "      <td>2.508301</td>\n",
       "      <td>-0.879370</td>\n",
       "    </tr>\n",
       "    <tr>\n",
       "      <th>000Npgk5e2SgwGaIsN3ztv</th>\n",
       "      <td>-0.139502</td>\n",
       "      <td>1.276071</td>\n",
       "      <td>-1.496868</td>\n",
       "      <td>-1.262732</td>\n",
       "      <td>2.300917</td>\n",
       "      <td>-0.626006</td>\n",
       "      <td>-0.545525</td>\n",
       "      <td>-1.488629</td>\n",
       "      <td>0.643933</td>\n",
       "      <td>-0.097830</td>\n",
       "      <td>-1.343625</td>\n",
       "    </tr>\n",
       "    <tr>\n",
       "      <th>000ZxLGm7jDlWCHtcXSeBe</th>\n",
       "      <td>1.234146</td>\n",
       "      <td>0.783604</td>\n",
       "      <td>0.830895</td>\n",
       "      <td>0.000578</td>\n",
       "      <td>2.297700</td>\n",
       "      <td>-0.910407</td>\n",
       "      <td>-0.534036</td>\n",
       "      <td>0.219455</td>\n",
       "      <td>-1.552956</td>\n",
       "      <td>-0.401828</td>\n",
       "      <td>-0.626862</td>\n",
       "    </tr>\n",
       "    <tr>\n",
       "      <th>000jBcNljWTnyjB4YO7ojf</th>\n",
       "      <td>1.672950</td>\n",
       "      <td>0.413588</td>\n",
       "      <td>1.418541</td>\n",
       "      <td>1.215299</td>\n",
       "      <td>-0.526802</td>\n",
       "      <td>-0.057205</td>\n",
       "      <td>-0.298504</td>\n",
       "      <td>0.855758</td>\n",
       "      <td>0.643933</td>\n",
       "      <td>-0.367120</td>\n",
       "      <td>-0.127826</td>\n",
       "    </tr>\n",
       "  </tbody>\n",
       "</table>\n",
       "</div>"
      ],
      "text/plain": [
       "                         valence  acousticness  danceability    energy  \\\n",
       "id                                                                       \n",
       "000G1xMMuwxNHmwVsBdtj1  0.093255     -1.297802     -1.616679  1.540470   \n",
       "000GyYHG4uWmlXieKLij8u -1.467362     -0.084203      1.469889  1.551683   \n",
       "000Npgk5e2SgwGaIsN3ztv -0.139502      1.276071     -1.496868 -1.262732   \n",
       "000ZxLGm7jDlWCHtcXSeBe  1.234146      0.783604      0.830895  0.000578   \n",
       "000jBcNljWTnyjB4YO7ojf  1.672950      0.413588      1.418541  1.215299   \n",
       "\n",
       "                        instrumentalness       key  liveness  loudness  \\\n",
       "id                                                                       \n",
       "000G1xMMuwxNHmwVsBdtj1         -0.526461 -0.910407 -0.711547  1.160521   \n",
       "000GyYHG4uWmlXieKLij8u         -0.526802 -1.194807 -0.709823  0.973435   \n",
       "000Npgk5e2SgwGaIsN3ztv          2.300917 -0.626006 -0.545525 -1.488629   \n",
       "000ZxLGm7jDlWCHtcXSeBe          2.297700 -0.910407 -0.534036  0.219455   \n",
       "000jBcNljWTnyjB4YO7ojf         -0.526802 -0.057205 -0.298504  0.855758   \n",
       "\n",
       "                            mode  speechiness     tempo  \n",
       "id                                                       \n",
       "000G1xMMuwxNHmwVsBdtj1  0.643933    -0.180412  2.416146  \n",
       "000GyYHG4uWmlXieKLij8u -1.552956     2.508301 -0.879370  \n",
       "000Npgk5e2SgwGaIsN3ztv  0.643933    -0.097830 -1.343625  \n",
       "000ZxLGm7jDlWCHtcXSeBe -1.552956    -0.401828 -0.626862  \n",
       "000jBcNljWTnyjB4YO7ojf  0.643933    -0.367120 -0.127826  "
      ]
     },
     "execution_count": 117,
     "metadata": {},
     "output_type": "execute_result"
    }
   ],
   "source": [
    "all_song_sim_matrix_df.head()"
   ]
  },
  {
   "cell_type": "code",
   "execution_count": 118,
   "metadata": {},
   "outputs": [],
   "source": [
    "#getting the score \n",
    "\n",
    "def sim_score_generator(song,artist,number_of_recommedations):\n",
    "    \n",
    "    \"\"\"takes in song and artist to return list of similar songs\"\"\"\n",
    "    \n",
    "    #takes artist and song name to find song id\n",
    "    song_id = data_df[(data_df.main_artist == artist)&(data_df.name == song)]['id'].values[0]\n",
    "    \n",
    "    song_array = all_song_sim_matrix_df.loc[song_id].to_numpy()\n",
    "    \n",
    "    #tuple of sim score with song_index\n",
    "    sim_score = []\n",
    "    #counting the index\n",
    "    song_index = -1\n",
    "    \n",
    "    #iterate through all songs in dataset\n",
    "    for song in range(len(best_recommendation_df)):\n",
    "        \n",
    "        song_index += 1\n",
    "\n",
    "        # convert in to array\n",
    "        other_song_array = song_sim_matrix_df.iloc[song].to_numpy()\n",
    "        # sim score calculation\n",
    "        score = dot(song_array,other_song_array)/(norm(song_array)*norm(other_song_array))\n",
    "        \n",
    "        #get other song id\n",
    "        other_song_id = song_sim_matrix_df.iloc[song].name\n",
    "        \n",
    "        # append to list\n",
    "        song_score_and_id = (score,song_index, other_song_id)\n",
    "    \n",
    "        # assign the position index of the song with the score\n",
    "        sim_score.append(song_score_and_id)\n",
    "    \n",
    "    \n",
    "    #list of N recommendations based on highest sim score and corresponding index\n",
    "    return(sorted(sim_score,reverse=True)[1:number_of_recommedations+1])"
   ]
  },
  {
   "cell_type": "code",
   "execution_count": 119,
   "metadata": {},
   "outputs": [],
   "source": [
    "def show_recommendations(top_recomendations):\n",
    "    #unpack tuples in list of recommendation\n",
    "    for score,song_idx,other_song_id in top_recomendations:\n",
    "        #find the id of the from the sim matrix \n",
    "        \n",
    "        sim_song_id = song_sim_matrix_df.iloc[song_idx].name\n",
    "        \n",
    "        \n",
    "        #print the corresponding artist and song to that matches the id from the data_df\n",
    "        print(f\"Artist: {data_df[data_df.id.str.match(sim_song_id)]['main_artist'].values[0]}\")\n",
    "        print(f\"Song: {data_df[data_df.id.str.match(sim_song_id)]['name'].values[0]}\")\n",
    "        print(f\"Year & Popularity: {data_df[data_df.id.str.match(sim_song_id)]['year'].values[0]}, {data_df[data_df.id.str.match(sim_song_id)]['popularity'].values[0]}\\n\") \n"
   ]
  },
  {
   "cell_type": "code",
   "execution_count": 120,
   "metadata": {},
   "outputs": [
    {
     "name": "stdout",
     "output_type": "stream",
     "text": [
      "Artist: The Format\n",
      "Song: On Your Porch\n",
      "Year & Popularity: 2003, 43\n",
      "\n",
      "Artist: The Supremes\n",
      "Song: Stop! In The Name Of Love - Single Version\n",
      "Year & Popularity: 1965, 64\n",
      "\n",
      "Artist: Keith Jarrett\n",
      "Song: The Rich (And The Poor)\n",
      "Year & Popularity: 1974, 38\n",
      "\n",
      "Artist: Buddy Holly\n",
      "Song: (Ummm, Oh Yeah) Dearest - Overdubbed Version 2\n",
      "Year & Popularity: 1964, 29\n",
      "\n",
      "Artist: Los Enanitos Verdes\n",
      "Song: Luz De Dia\n",
      "Year & Popularity: 1999, 64\n",
      "\n",
      "Artist: Les Paul & Mary Ford\n",
      "Song: Goodnight Irene\n",
      "Year & Popularity: 1958, 5\n",
      "\n",
      "Artist: Breaking Benjamin\n",
      "Song: Rain\n",
      "Year & Popularity: 2004, 51\n",
      "\n",
      "Artist: The Kinks\n",
      "Song: Mr. Songbird - Stereo Mix; 2018 Remaster\n",
      "Year & Popularity: 1968, 23\n",
      "\n",
      "Artist: David Bowie\n",
      "Song: Changes - 2015 Remaster\n",
      "Year & Popularity: 1971, 65\n",
      "\n",
      "Artist: Gregory Alan Isakov\n",
      "Song: Evelyn\n",
      "Year & Popularity: 2009, 44\n",
      "\n"
     ]
    }
   ],
   "source": [
    "song = 'Ice Ice Baby'\n",
    "artist = \"Vanilla Ice\"\n",
    "\n",
    "#return 10 similar song with raw similiarity scores and assign into list \n",
    "recommendations = sim_score_generator(song,artist,10)\n",
    "\n",
    "#print similar songs with corresponding artist and song name\n",
    "show_recommendations(recommendations)"
   ]
  },
  {
   "cell_type": "code",
   "execution_count": 121,
   "metadata": {},
   "outputs": [
    {
     "name": "stdout",
     "output_type": "stream",
     "text": [
      "Artist: A Tribe Called Quest\n",
      "Song: God Lives Through\n",
      "Year & Popularity: 1993, 45\n",
      "\n",
      "Artist: Brand Nubian\n",
      "Song: Punks Jump Up to Get Beat Down\n",
      "Year & Popularity: 1993, 38\n",
      "\n",
      "Artist: Cypress Hill\n",
      "Song: Siempre Peligroso (feat. Fermin IV Caballero)\n",
      "Year & Popularity: 1999, 52\n",
      "\n",
      "Artist: Khalid\n",
      "Song: Location\n",
      "Year & Popularity: 2017, 80\n",
      "\n",
      "Artist: Slum Village\n",
      "Song: Count The Ways\n",
      "Year & Popularity: 2004, 41\n",
      "\n",
      "Artist: Aesop Rock\n",
      "Song: Commencement At the Obedience Academy\n",
      "Year & Popularity: 2000, 35\n",
      "\n",
      "Artist: Father MC\n",
      "Song: Treat Them Like They Want To Be Treated\n",
      "Year & Popularity: 1990, 30\n",
      "\n",
      "Artist: Polo G\n",
      "Song: Neva Cared\n",
      "Year & Popularity: 2018, 69\n",
      "\n",
      "Artist: Jodeci\n",
      "Song: Ride & Slide\n",
      "Year & Popularity: 1993, 33\n",
      "\n",
      "Artist: Afroman\n",
      "Song: Tumbleweed\n",
      "Year & Popularity: 2001, 42\n",
      "\n"
     ]
    }
   ],
   "source": [
    "song = 'All of Me'\n",
    "artist = \"John Legend\"\n",
    "\n",
    "#return 10 similar song with raw similiarity scores and assign into list \n",
    "recommendations = sim_score_generator(song,artist,10)\n",
    "\n",
    "#print similar songs with corresponding artist and song name\n",
    "show_recommendations(recommendations)"
   ]
  },
  {
   "cell_type": "code",
   "execution_count": 122,
   "metadata": {},
   "outputs": [
    {
     "name": "stdout",
     "output_type": "stream",
     "text": [
      "Artist: Makano\n",
      "Song: Dejame Entrar\n",
      "Year & Popularity: 2008, 58\n",
      "\n",
      "Artist: LA INDIA\n",
      "Song: Sedúceme - Salsa Version\n",
      "Year & Popularity: 2002, 43\n",
      "\n",
      "Artist: Los Ángeles Azules\n",
      "Song: Mis Sentimientos\n",
      "Year & Popularity: 2015, 58\n",
      "\n",
      "Artist: El Gran Combo De Puerto Rico\n",
      "Song: Compañera Mía\n",
      "Year & Popularity: 1982, 42\n",
      "\n",
      "Artist: Anuel AA\n",
      "Song: Keii\n",
      "Year & Popularity: 2020, 73\n",
      "\n",
      "Artist: Eddie Money\n",
      "Song: Maybe I'm a Fool\n",
      "Year & Popularity: 1977, 27\n",
      "\n",
      "Artist: Landon Cube\n",
      "Song: Pretty\n",
      "Year & Popularity: 2019, 64\n",
      "\n",
      "Artist: Supertramp\n",
      "Song: Breakfast In America - Remastered\n",
      "Year & Popularity: 1979, 70\n",
      "\n",
      "Artist: \"Blackmores Night\"\n",
      "Song: Under A Violet Moon\n",
      "Year & Popularity: 1999, 44\n",
      "\n",
      "Artist: Amy Grant\n",
      "Song: Everywhere I Go\n",
      "Year & Popularity: 1985, 23\n",
      "\n"
     ]
    }
   ],
   "source": [
    "song = \"Mr. Brightside\"\n",
    "artist = \"The Killers\"\n",
    "\n",
    "#return 10 similar song with raw similiarity scores and assign into list \n",
    "recommendations = sim_score_generator(song,artist,10)\n",
    "\n",
    "#print similar songs with corresponding artist and song name\n",
    "show_recommendations(recommendations)"
   ]
  }
 ],
 "metadata": {
  "kernelspec": {
   "display_name": "Python 3",
   "language": "python",
   "name": "python3"
  },
  "language_info": {
   "codemirror_mode": {
    "name": "ipython",
    "version": 3
   },
   "file_extension": ".py",
   "mimetype": "text/x-python",
   "name": "python",
   "nbconvert_exporter": "python",
   "pygments_lexer": "ipython3",
   "version": "3.8.5"
  }
 },
 "nbformat": 4,
 "nbformat_minor": 4
}
